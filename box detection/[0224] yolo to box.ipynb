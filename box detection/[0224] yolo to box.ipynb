{
 "cells": [
  {
   "cell_type": "code",
   "execution_count": 1,
   "id": "43e3549e",
   "metadata": {},
   "outputs": [
    {
     "name": "stdout",
     "output_type": "stream",
     "text": [
      "/Users/monica_air/Documents/GitHub/Sign_recognition/py\n"
     ]
    }
   ],
   "source": [
    "%cd /Users/monica_air/Documents/GitHub/Sign_recognition/py\n",
    "\n",
    "from basic_preprocessing import *"
   ]
  },
  {
   "cell_type": "code",
   "execution_count": 2,
   "id": "e68551d4",
   "metadata": {},
   "outputs": [
    {
     "name": "stdout",
     "output_type": "stream",
     "text": [
      "/Users/monica_air/Documents/Sign recognition/box_detection\n"
     ]
    }
   ],
   "source": [
    "%cd /Users/monica_air/Documents/Sign recognition/box_detection"
   ]
  },
  {
   "cell_type": "code",
   "execution_count": 145,
   "id": "241119ec",
   "metadata": {
    "scrolled": true
   },
   "outputs": [],
   "source": [
    "data_list = os.listdir('/Users/monica_air/Documents/Sign recognition/box_detection/resized_box/train/images/')\n",
    "list_data = []\n",
    "\n",
    "for i in data_list:\n",
    "    if i[:4]=='2022':\n",
    "#         print(i)\n",
    "        img = cv2.imread('/Users/monica_air/Documents/Sign recognition/box_detection/resized_box/train/images/'+i)\n",
    "#         show(img)\n",
    "        list_data.append(i.split('.')[0])\n",
    "    \n",
    "#         show(cv2.imread(data_list+i))\n"
   ]
  },
  {
   "cell_type": "code",
   "execution_count": 146,
   "id": "16a05e19",
   "metadata": {},
   "outputs": [],
   "source": [
    "for i in list_data:\n",
    "    img_path = '/Users/monica_air/Documents/Sign recognition/box_detection/resized_box/train/images/'\n",
    "    label_path = '/Users/monica_air/Documents/Sign recognition/box_detection/resized_box/train/labels/'\n",
    "    try:\n",
    "#         print(img_path+i+'.jpg')\n",
    "        img = cv2.imread(img_path+i+'.jpg')\n",
    "\n",
    "        img = cv2.cvtColor(img,  cv2.COLOR_BGR2RGB)\n",
    "        dh, dw, _ = img.shape\n",
    "\n",
    "\n",
    "        fl = open(label_path+i+'.txt', 'r')\n",
    "        data = fl.readlines()\n",
    "        fl.close()\n",
    "        \n",
    "        for dt in data:\n",
    "             # Split string to float\n",
    "            _, x, y, w, h = map(float, dt.split(' '))\n",
    "\n",
    "            # Taken from https://github.com/pjreddie/darknet/blob/810d7f797bdb2f021dbe65d2524c2ff6b8ab5c8b/src/image.c#L283-L291\n",
    "            # via https://stackoverflow.com/questions/44544471/how-to-get-the-coordinates-of-the-bounding-box-in-yolo-object-detection#comment102178409_44592380\n",
    "            l = int((x - w / 2) * dw)\n",
    "            r = int((x + w / 2) * dw)\n",
    "            t = int((y - h / 2) * dh)\n",
    "            b = int((y + h / 2) * dh)\n",
    "\n",
    "            if l < 0:\n",
    "                l = 0\n",
    "            if r > dw - 1:\n",
    "                r = dw - 1\n",
    "            if t < 0:\n",
    "                t = 0\n",
    "            if b > dh - 1:\n",
    "                b = dh - 1\n",
    "\n",
    "\n",
    "        #     print(t, b, l, r)\n",
    "        #     show(img[t:b, l:r])\n",
    "\n",
    "        #     cv2.rectangle(img, (l, t), (r, b), (0, 0, 255), 1)\n",
    "            num = random.randint(101,1000)\n",
    "            crop = (img[t:b, l:r])\n",
    "            crop = cv2.cvtColor(crop, cv2.COLOR_BGR2RGB)\n",
    "            cv2.imwrite('post_box/limited_{}.jpg'.format(num), crop)\n",
    "    \n",
    "        \n",
    "        \n",
    "    except:\n",
    "        print('erorr', i)\n",
    "        print(len(i))"
   ]
  },
  {
   "cell_type": "code",
   "execution_count": 148,
   "id": "94093273",
   "metadata": {},
   "outputs": [
    {
     "name": "stderr",
     "output_type": "stream",
     "text": [
      "Copying files: 768 files [00:01, 596.89 files/s]\n"
     ]
    }
   ],
   "source": [
    "import splitfolders\n",
    "\n",
    "splitfolders.ratio('/Users/monica_air/Documents/Sign recognition/box_detection/post_box', output='post_dataset', seed= 1337, ratio = (0.8, 0.2))"
   ]
  },
  {
   "cell_type": "code",
   "execution_count": null,
   "id": "c6f6c902",
   "metadata": {},
   "outputs": [],
   "source": []
  }
 ],
 "metadata": {
  "kernelspec": {
   "display_name": "Python 3",
   "language": "python",
   "name": "python3"
  },
  "language_info": {
   "codemirror_mode": {
    "name": "ipython",
    "version": 3
   },
   "file_extension": ".py",
   "mimetype": "text/x-python",
   "name": "python",
   "nbconvert_exporter": "python",
   "pygments_lexer": "ipython3",
   "version": "3.8.8"
  },
  "toc": {
   "base_numbering": 1,
   "nav_menu": {},
   "number_sections": true,
   "sideBar": true,
   "skip_h1_title": false,
   "title_cell": "Table of Contents",
   "title_sidebar": "Contents",
   "toc_cell": false,
   "toc_position": {},
   "toc_section_display": true,
   "toc_window_display": false
  },
  "varInspector": {
   "cols": {
    "lenName": 16,
    "lenType": 16,
    "lenVar": 40
   },
   "kernels_config": {
    "python": {
     "delete_cmd_postfix": "",
     "delete_cmd_prefix": "del ",
     "library": "var_list.py",
     "varRefreshCmd": "print(var_dic_list())"
    },
    "r": {
     "delete_cmd_postfix": ") ",
     "delete_cmd_prefix": "rm(",
     "library": "var_list.r",
     "varRefreshCmd": "cat(var_dic_list()) "
    }
   },
   "types_to_exclude": [
    "module",
    "function",
    "builtin_function_or_method",
    "instance",
    "_Feature"
   ],
   "window_display": false
  }
 },
 "nbformat": 4,
 "nbformat_minor": 5
}
