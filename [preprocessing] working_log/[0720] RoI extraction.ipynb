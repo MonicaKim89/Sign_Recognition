{
 "cells": [
  {
   "cell_type": "code",
   "execution_count": 1,
   "id": "f0770512",
   "metadata": {},
   "outputs": [],
   "source": [
    "from basic_preprocessing import *"
   ]
  },
  {
   "cell_type": "code",
   "execution_count": 2,
   "id": "93bc477b",
   "metadata": {},
   "outputs": [
    {
     "name": "stdout",
     "output_type": "stream",
     "text": [
      "374\n"
     ]
    }
   ],
   "source": [
    "path = '/Users/monica_air/Documents/Sign recognition/BrandNew/output/val/fragile'\n",
    "img_list = get_img(path)\n",
    "print(len(img_list))"
   ]
  },
  {
   "cell_type": "code",
   "execution_count": 3,
   "id": "1fb91adc",
   "metadata": {},
   "outputs": [
    {
     "data": {
      "text/plain": [
       "'fragileadd_100_f_i270_f_t_f_8'"
      ]
     },
     "execution_count": 3,
     "metadata": {},
     "output_type": "execute_result"
    }
   ],
   "source": [
    "file_name =[]\n",
    "list_file = file_list(path)\n",
    "for i in list_file:\n",
    "    file_name.append(i.split('/')[-1].split('.jpg')[0])\n",
    "file_name[2]"
   ]
  },
  {
   "cell_type": "code",
   "execution_count": 4,
   "id": "de2e5997",
   "metadata": {},
   "outputs": [],
   "source": [
    "txt_save = '/Users/monica_air/Documents/Sign recognition/BrandNew/output/val/label/'"
   ]
  },
  {
   "cell_type": "code",
   "execution_count": 23,
   "id": "ac6b0dc8",
   "metadata": {},
   "outputs": [],
   "source": [
    "f = open(txt_save+'/{}}.txt'.format, 'w')\n",
    "f.write('{} {} {} {} {}'.format(0 0.495 0.495 0.99 0.99))\n",
    "\n",
    "f.close()"
   ]
  },
  {
   "cell_type": "code",
   "execution_count": 5,
   "id": "f832077e",
   "metadata": {},
   "outputs": [],
   "source": [
    "for i in range(len(file_name)):\n",
    "    f = open(txt_save+'/{}.txt'.format(file_name[i]),'w')\n",
    "    f.write('0 0.495 0.495 0.99 0.99')\n",
    "    \n",
    "    f.close()"
   ]
  },
  {
   "cell_type": "code",
   "execution_count": null,
   "id": "a32c30e5",
   "metadata": {},
   "outputs": [],
   "source": []
  }
 ],
 "metadata": {
  "kernelspec": {
   "display_name": "Python 3",
   "language": "python",
   "name": "python3"
  },
  "language_info": {
   "codemirror_mode": {
    "name": "ipython",
    "version": 3
   },
   "file_extension": ".py",
   "mimetype": "text/x-python",
   "name": "python",
   "nbconvert_exporter": "python",
   "pygments_lexer": "ipython3",
   "version": "3.8.8"
  },
  "toc": {
   "base_numbering": 1,
   "nav_menu": {},
   "number_sections": true,
   "sideBar": true,
   "skip_h1_title": false,
   "title_cell": "Table of Contents",
   "title_sidebar": "Contents",
   "toc_cell": false,
   "toc_position": {},
   "toc_section_display": true,
   "toc_window_display": false
  },
  "varInspector": {
   "cols": {
    "lenName": 16,
    "lenType": 16,
    "lenVar": 40
   },
   "kernels_config": {
    "python": {
     "delete_cmd_postfix": "",
     "delete_cmd_prefix": "del ",
     "library": "var_list.py",
     "varRefreshCmd": "print(var_dic_list())"
    },
    "r": {
     "delete_cmd_postfix": ") ",
     "delete_cmd_prefix": "rm(",
     "library": "var_list.r",
     "varRefreshCmd": "cat(var_dic_list()) "
    }
   },
   "types_to_exclude": [
    "module",
    "function",
    "builtin_function_or_method",
    "instance",
    "_Feature"
   ],
   "window_display": false
  }
 },
 "nbformat": 4,
 "nbformat_minor": 5
}
