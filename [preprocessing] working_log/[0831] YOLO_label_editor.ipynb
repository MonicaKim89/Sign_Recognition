{
 "cells": [
  {
   "cell_type": "code",
   "execution_count": 1,
   "id": "4f801bd5-57f1-4ecb-a7bf-bd6868964611",
   "metadata": {},
   "outputs": [
    {
     "name": "stdout",
     "output_type": "stream",
     "text": [
      "C:\\Users\\yukir\\Documents\\Monicas_workspace\\Datasets\\yolo_logistics\\labelimg\n"
     ]
    }
   ],
   "source": [
    "%cd C:\\Users\\yukir\\Documents\\Monicas_workspace\\Datasets\\yolo_logistics\\labelimg"
   ]
  },
  {
   "cell_type": "code",
   "execution_count": 5,
   "id": "99a984c4-0056-48a3-8a2f-77a70547087d",
   "metadata": {},
   "outputs": [],
   "source": [
    "path = 'C:\\\\Users\\\\yukir\\\\Documents\\\\Monicas_workspace\\\\Datasets\\\\yolo_logistics\\\\labelimg'"
   ]
  },
  {
   "cell_type": "code",
   "execution_count": 113,
   "id": "64201c6d-6d84-4bbc-bfab-f5d17811e8fa",
   "metadata": {},
   "outputs": [],
   "source": [
    "def get_text(path):\n",
    "    data_path = os.path.join(path, '*t')\n",
    "    files= glob.glob(data_path)\n",
    "#     img_list=[]\n",
    "#     for f1 in files:\n",
    "#         img = cv2.imread(f1)\n",
    "#         #img = cv2.cvtColor(img, cv2.COLOR_BGR2RGB)\n",
    "#         img_list.append(img)\n",
    "# #     print('이미지수',len(img_list))\n",
    "# #     print('show(get_img(list_file[1])[0]) 식으로 이미지 불러와서 img로 저장')\n",
    "    \n",
    "    return files"
   ]
  },
  {
   "cell_type": "code",
   "execution_count": 114,
   "id": "26b165b1-bb39-43c1-8f1a-566353bf2076",
   "metadata": {},
   "outputs": [
    {
     "data": {
      "text/plain": [
       "'C:\\\\Users\\\\yukir\\\\Documents\\\\Monicas_workspace\\\\Datasets\\\\yolo_logistics\\\\labelimg\\\\101_png.rf.581a4391682a36e41ef7d2fa5b460d37.txt'"
      ]
     },
     "execution_count": 114,
     "metadata": {},
     "output_type": "execute_result"
    }
   ],
   "source": [
    "import os\n",
    "import glob\n",
    "text_list = get_text(path)\n",
    "text_list[2]"
   ]
  },
  {
   "cell_type": "code",
   "execution_count": 117,
   "id": "24c67e34-970a-4c03-98c7-105d846503d7",
   "metadata": {},
   "outputs": [],
   "source": [
    "def label_editor(text_file):\n",
    "    edited_lines = []\n",
    "\n",
    "    with open(text_file) as f:\n",
    "        lines = f.readlines()\n",
    "        for line in lines:\n",
    "            # 조건에 따라 원하는 대로 line을 수정\n",
    "            before_label = line[0]+line[1]\n",
    "\n",
    "            if before_label == '15':\n",
    "                edited_lines.append(line.strip().replace(before_label,'0'))\n",
    "                edited_lines.append('\\n')\n",
    "            elif before_label == '16':\n",
    "                edited_lines.append(line.strip().replace(before_label,'1'))\n",
    "                edited_lines.append('\\n')\n",
    "            elif before_label == '17':\n",
    "                edited_lines.append(line.strip().replace(before_label,'2'))\n",
    "                edited_lines.append('\\n')\n",
    "            elif before_label == '18':\n",
    "                edited_lines.append(line.strip().replace(before_label,'3'))\n",
    "                edited_lines.append('\\n')\n",
    "            elif before_label == '19':\n",
    "                edited_lines.append(line.strip().replace(before_label,'4'))\n",
    "                edited_lines.append('\\n')\n",
    "            elif before_label == '20':\n",
    "                edited_lines.append(line.strip().replace(before_label,'5'))\n",
    "                edited_lines.append('\\n')\n",
    "            elif before_label == '21':\n",
    "                edited_lines.append(line.strip().replace(before_label,'6'))\n",
    "                edited_lines.append('\\n')\n",
    "            elif before_label == '22':\n",
    "                edited_lines.append(line.strip().replace(before_label,'5'))\n",
    "                edited_lines.append('\\n')\n",
    "            elif before_label == '23':\n",
    "                edited_lines.append(line.strip().replace(before_label,'4'))\n",
    "                edited_lines.append('\\n')\n",
    "    print(edited_lines)\n",
    "    print(type(edited_lines))\n",
    "\n",
    "\n",
    "    with open(text_file, 'w') as f:\n",
    "        f.writelines(edited_lines)"
   ]
  },
  {
   "cell_type": "code",
   "execution_count": null,
   "id": "90a24ad3-f527-4186-8811-998bcbbf51bd",
   "metadata": {},
   "outputs": [],
   "source": [
    "for i in text_list:\n",
    "    label_editor(i)"
   ]
  },
  {
   "cell_type": "code",
   "execution_count": null,
   "id": "3a2030d4-c4b3-4b81-83d6-219c43feb588",
   "metadata": {},
   "outputs": [],
   "source": []
  }
 ],
 "metadata": {
  "kernelspec": {
   "display_name": "Python 3 (ipykernel)",
   "language": "python",
   "name": "python3"
  },
  "language_info": {
   "codemirror_mode": {
    "name": "ipython",
    "version": 3
   },
   "file_extension": ".py",
   "mimetype": "text/x-python",
   "name": "python",
   "nbconvert_exporter": "python",
   "pygments_lexer": "ipython3",
   "version": "3.7.11"
  }
 },
 "nbformat": 4,
 "nbformat_minor": 5
}
