{
 "cells": [
  {
   "cell_type": "code",
   "execution_count": 1,
   "source": [
    "%cd C:\\Users\\yukir\\Documents\\GitHub\\Sign_Recognition\\py"
   ],
   "outputs": [
    {
     "output_type": "stream",
     "name": "stdout",
     "text": [
      "C:\\Users\\yukir\\Documents\\GitHub\\Sign_Recognition\\py\n"
     ]
    }
   ],
   "metadata": {}
  },
  {
   "cell_type": "code",
   "execution_count": 2,
   "source": [
    "from tensorflow.keras.utils import to_categorical\r\n",
    "from tensorflow.python.keras.callbacks import TensorBoard\r\n",
    "from time import time"
   ],
   "outputs": [],
   "metadata": {
    "executionInfo": {
     "elapsed": 2324,
     "status": "ok",
     "timestamp": 1632226187377,
     "user": {
      "displayName": "Kim Monica",
      "photoUrl": "https://lh3.googleusercontent.com/a-/AOh14GinEw8dCma8Lg9LB0KhiZRlFm5XtBc4YU9ntHM6DvM=s64",
      "userId": "16683880778828171566"
     },
     "user_tz": -540
    },
    "id": "6_0q7KnUhLrM"
   }
  },
  {
   "cell_type": "code",
   "execution_count": 3,
   "source": [
    "from basic_preprocessing import *\r\n",
    "from deeplearning_check import *\r\n",
    "from machine_learning import *\r\n",
    "\r\n",
    "gpu_check()\r\n",
    "set_global_determinism(seed=SEED)"
   ],
   "outputs": [
    {
     "output_type": "stream",
     "name": "stderr",
     "text": [
      "Using TensorFlow backend.\n"
     ]
    },
    {
     "output_type": "stream",
     "name": "stdout",
     "text": [
      "[name: \"/device:CPU:0\"\n",
      "device_type: \"CPU\"\n",
      "memory_limit: 268435456\n",
      "locality {\n",
      "}\n",
      "incarnation: 3250980316394363693\n",
      ", name: \"/device:XLA_CPU:0\"\n",
      "device_type: \"XLA_CPU\"\n",
      "memory_limit: 17179869184\n",
      "locality {\n",
      "}\n",
      "incarnation: 12469018260026152591\n",
      "physical_device_desc: \"device: XLA_CPU device\"\n",
      ", name: \"/device:GPU:0\"\n",
      "device_type: \"GPU\"\n",
      "memory_limit: 9883535296\n",
      "locality {\n",
      "  bus_id: 1\n",
      "  links {\n",
      "  }\n",
      "}\n",
      "incarnation: 12656133111907217664\n",
      "physical_device_desc: \"device: 0, name: NVIDIA GeForce RTX 2080 Ti, pci bus id: 0000:01:00.0, compute capability: 7.5\"\n",
      ", name: \"/device:XLA_GPU:0\"\n",
      "device_type: \"XLA_GPU\"\n",
      "memory_limit: 17179869184\n",
      "locality {\n",
      "}\n",
      "incarnation: 9515290143768395568\n",
      "physical_device_desc: \"device: XLA_GPU device\"\n",
      "]\n",
      "tf 2.2.0\n",
      "keras 2.3.0-tf\n",
      "set_global_determinism(seed=1337) 이거 꼭 해라\n",
      "set_global_determinism(seed=1337) 이거 꼭 해라\n",
      "set_global_determinism(seed=1337) 이거 꼭 해라\n"
     ]
    }
   ],
   "metadata": {
    "colab": {
     "base_uri": "https://localhost:8080/"
    },
    "executionInfo": {
     "elapsed": 7407,
     "status": "ok",
     "timestamp": 1632226218364,
     "user": {
      "displayName": "Kim Monica",
      "photoUrl": "https://lh3.googleusercontent.com/a-/AOh14GinEw8dCma8Lg9LB0KhiZRlFm5XtBc4YU9ntHM6DvM=s64",
      "userId": "16683880778828171566"
     },
     "user_tz": -540
    },
    "id": "01115e6c",
    "outputId": "179abbe9-1bb8-4ffb-fea9-e4939eec893b"
   }
  },
  {
   "cell_type": "code",
   "execution_count": 4,
   "source": [
    "from sklearn.model_selection import StratifiedKFold, StratifiedShuffleSplit"
   ],
   "outputs": [],
   "metadata": {
    "executionInfo": {
     "elapsed": 24,
     "status": "ok",
     "timestamp": 1632226218365,
     "user": {
      "displayName": "Kim Monica",
      "photoUrl": "https://lh3.googleusercontent.com/a-/AOh14GinEw8dCma8Lg9LB0KhiZRlFm5XtBc4YU9ntHM6DvM=s64",
      "userId": "16683880778828171566"
     },
     "user_tz": -540
    },
    "id": "17AkLE4DhBRq"
   }
  },
  {
   "cell_type": "markdown",
   "source": [
    "#### basic model"
   ],
   "metadata": {
    "id": "62bbf7e7"
   }
  },
  {
   "cell_type": "code",
   "execution_count": 5,
   "source": [
    "set_global_determinism(seed=1337)"
   ],
   "outputs": [],
   "metadata": {
    "executionInfo": {
     "elapsed": 21,
     "status": "ok",
     "timestamp": 1632226218366,
     "user": {
      "displayName": "Kim Monica",
      "photoUrl": "https://lh3.googleusercontent.com/a-/AOh14GinEw8dCma8Lg9LB0KhiZRlFm5XtBc4YU9ntHM6DvM=s64",
      "userId": "16683880778828171566"
     },
     "user_tz": -540
    },
    "id": "9e06b8bc"
   }
  },
  {
   "cell_type": "code",
   "execution_count": 33,
   "source": [
    "train_dir = 'C:\\\\Users\\\\yukir\\\\Documents\\\\Monicas_workspace\\\\Datasets\\\\Stratified\\\\train'\r\n",
    "test_dir = 'C:\\\\Users\\\\yukir\\\\Documents\\\\Monicas_workspace\\\\Datasets\\\\For test'\r\n",
    "val_dir ='C:\\\\Users\\\\yukir\\\\Documents\\\\Monicas_workspace\\\\Datasets\\\\Stratified\\\\test'"
   ],
   "outputs": [],
   "metadata": {
    "executionInfo": {
     "elapsed": 4,
     "status": "ok",
     "timestamp": 1632226219565,
     "user": {
      "displayName": "Kim Monica",
      "photoUrl": "https://lh3.googleusercontent.com/a-/AOh14GinEw8dCma8Lg9LB0KhiZRlFm5XtBc4YU9ntHM6DvM=s64",
      "userId": "16683880778828171566"
     },
     "user_tz": -540
    },
    "id": "d0e06e60"
   }
  },
  {
   "cell_type": "code",
   "execution_count": 34,
   "source": [
    "train_datagen = ImageDataGenerator(rescale=1./255)\r\n",
    "val_datagen = ImageDataGenerator(rescale=1./255)\r\n",
    "test_datagen = ImageDataGenerator(rescale=1./255)"
   ],
   "outputs": [],
   "metadata": {
    "executionInfo": {
     "elapsed": 223,
     "status": "ok",
     "timestamp": 1632226221492,
     "user": {
      "displayName": "Kim Monica",
      "photoUrl": "https://lh3.googleusercontent.com/a-/AOh14GinEw8dCma8Lg9LB0KhiZRlFm5XtBc4YU9ntHM6DvM=s64",
      "userId": "16683880778828171566"
     },
     "user_tz": -540
    },
    "id": "015625bc"
   }
  },
  {
   "cell_type": "code",
   "execution_count": 35,
   "source": [
    "from keras import Input\r\n",
    "train_generator = train_datagen.flow_from_directory(train_dir, batch_size=16, target_size=(200,200), color_mode='rgb')\r\n",
    "val_generator = val_datagen.flow_from_directory(val_dir, batch_size=16, target_size=(200, 200), color_mode='rgb')\r\n",
    "test_generator = test_datagen.flow_from_directory(test_dir,batch_size=16, target_size=(200, 200), color_mode='rgb')\r\n",
    "\r\n",
    "input_tensor = Input(shape=(200, 200, 3), dtype='float32', name='input')"
   ],
   "outputs": [
    {
     "output_type": "stream",
     "name": "stdout",
     "text": [
      "Found 440 images belonging to 4 classes.\n",
      "Found 111 images belonging to 4 classes.\n",
      "Found 185 images belonging to 4 classes.\n"
     ]
    }
   ],
   "metadata": {
    "colab": {
     "base_uri": "https://localhost:8080/"
    },
    "executionInfo": {
     "elapsed": 3734,
     "status": "ok",
     "timestamp": 1632226226306,
     "user": {
      "displayName": "Kim Monica",
      "photoUrl": "https://lh3.googleusercontent.com/a-/AOh14GinEw8dCma8Lg9LB0KhiZRlFm5XtBc4YU9ntHM6DvM=s64",
      "userId": "16683880778828171566"
     },
     "user_tz": -540
    },
    "id": "b59db018",
    "outputId": "8c6afcf1-909f-4251-c57c-4920af4fc498"
   }
  },
  {
   "cell_type": "markdown",
   "source": [
    "#### model creating"
   ],
   "metadata": {
    "id": "72da593f"
   }
  },
  {
   "cell_type": "code",
   "execution_count": 9,
   "source": [
    "def create_model():\r\n",
    "    optimizer = Adam()\r\n",
    "    \r\n",
    "    pre_trained_vgg = VGG16(weights='imagenet', include_top=False, input_shape=(200, 200, 3))\r\n",
    "    #include_top FC 레이어 포함유무 결정\r\n",
    "    #feature extraction 파라미터들은 이미지넷으로 학습된 값들을 그대로 사용할 것이기 때문에 trainable의 속성을 False\r\n",
    "    pre_trained_vgg.trainable = False\r\n",
    "    additional_model = tf.keras.Sequential()\r\n",
    "    additional_model.add(pre_trained_vgg)\r\n",
    "    additional_model.add(Flatten())\r\n",
    "    additional_model.add(tf.keras.layers.Dense(4096, activation='relu'))\r\n",
    "    additional_model.add(tf.keras.layers.Dense(2048, activation='relu'))\r\n",
    "    additional_model.add(tf.keras.layers.Dense(1024, activation='relu'))\r\n",
    "    additional_model.add(tf.keras.layers.Dense(4, activation='softmax'))\r\n",
    "    \r\n",
    "\r\n",
    "    additional_model.compile(optimizer = optimizer, loss = keras.losses.categorical_crossentropy, metrics=['acc'])\r\n",
    "\r\n",
    "    \r\n",
    "    return additional_model"
   ],
   "outputs": [],
   "metadata": {
    "executionInfo": {
     "elapsed": 235,
     "status": "ok",
     "timestamp": 1632226248805,
     "user": {
      "displayName": "Kim Monica",
      "photoUrl": "https://lh3.googleusercontent.com/a-/AOh14GinEw8dCma8Lg9LB0KhiZRlFm5XtBc4YU9ntHM6DvM=s64",
      "userId": "16683880778828171566"
     },
     "user_tz": -540
    },
    "id": "kgqr7WzJQ-2v"
   }
  },
  {
   "cell_type": "code",
   "execution_count": 10,
   "source": [
    "from tensorflow.keras.applications import VGG16"
   ],
   "outputs": [],
   "metadata": {}
  },
  {
   "cell_type": "code",
   "execution_count": 11,
   "source": [
    "tf.__version__"
   ],
   "outputs": [
    {
     "output_type": "execute_result",
     "data": {
      "text/plain": [
       "'2.2.0'"
      ]
     },
     "metadata": {},
     "execution_count": 11
    }
   ],
   "metadata": {
    "colab": {
     "base_uri": "https://localhost:8080/",
     "height": 35
    },
    "executionInfo": {
     "elapsed": 265,
     "status": "ok",
     "timestamp": 1632226254541,
     "user": {
      "displayName": "Kim Monica",
      "photoUrl": "https://lh3.googleusercontent.com/a-/AOh14GinEw8dCma8Lg9LB0KhiZRlFm5XtBc4YU9ntHM6DvM=s64",
      "userId": "16683880778828171566"
     },
     "user_tz": -540
    },
    "id": "7a2f9107",
    "outputId": "ee5d42a4-05e2-46db-da22-e0189abd1a6e"
   }
  },
  {
   "cell_type": "code",
   "execution_count": 12,
   "source": [
    "keras.__version__"
   ],
   "outputs": [
    {
     "output_type": "execute_result",
     "data": {
      "text/plain": [
       "'2.3.0-tf'"
      ]
     },
     "metadata": {},
     "execution_count": 12
    }
   ],
   "metadata": {
    "colab": {
     "base_uri": "https://localhost:8080/",
     "height": 35
    },
    "executionInfo": {
     "elapsed": 17,
     "status": "ok",
     "timestamp": 1632226255480,
     "user": {
      "displayName": "Kim Monica",
      "photoUrl": "https://lh3.googleusercontent.com/a-/AOh14GinEw8dCma8Lg9LB0KhiZRlFm5XtBc4YU9ntHM6DvM=s64",
      "userId": "16683880778828171566"
     },
     "user_tz": -540
    },
    "id": "c58a4160",
    "outputId": "cddf76bb-91ae-4afe-93e4-a8964f00ef61"
   }
  },
  {
   "cell_type": "code",
   "execution_count": 14,
   "source": [
    "# 모델 실행 옵션 \r\n",
    "model = create_model()\r\n",
    "model.summary()\r\n"
   ],
   "outputs": [
    {
     "output_type": "stream",
     "name": "stdout",
     "text": [
      "Model: \"sequential\"\n",
      "_________________________________________________________________\n",
      "Layer (type)                 Output Shape              Param #   \n",
      "=================================================================\n",
      "vgg16 (Model)                (None, 6, 6, 512)         14714688  \n",
      "_________________________________________________________________\n",
      "flatten (Flatten)            (None, 18432)             0         \n",
      "_________________________________________________________________\n",
      "dense (Dense)                (None, 4096)              75501568  \n",
      "_________________________________________________________________\n",
      "dense_1 (Dense)              (None, 2048)              8390656   \n",
      "_________________________________________________________________\n",
      "dense_2 (Dense)              (None, 1024)              2098176   \n",
      "_________________________________________________________________\n",
      "dense_3 (Dense)              (None, 4)                 4100      \n",
      "=================================================================\n",
      "Total params: 100,709,188\n",
      "Trainable params: 85,994,500\n",
      "Non-trainable params: 14,714,688\n",
      "_________________________________________________________________\n"
     ]
    }
   ],
   "metadata": {
    "colab": {
     "base_uri": "https://localhost:8080/"
    },
    "executionInfo": {
     "elapsed": 561,
     "status": "ok",
     "timestamp": 1632226258169,
     "user": {
      "displayName": "Kim Monica",
      "photoUrl": "https://lh3.googleusercontent.com/a-/AOh14GinEw8dCma8Lg9LB0KhiZRlFm5XtBc4YU9ntHM6DvM=s64",
      "userId": "16683880778828171566"
     },
     "user_tz": -540
    },
    "id": "6e3c25cc",
    "outputId": "ec4f59db-b360-4af0-d1b1-19dd59c31478"
   }
  },
  {
   "cell_type": "code",
   "execution_count": 15,
   "source": [
    "%cd C:\\Users\\yukir\\Documents\\Monicas_workspace\\Sign detection\\VGG"
   ],
   "outputs": [
    {
     "output_type": "stream",
     "name": "stdout",
     "text": [
      "C:\\Users\\yukir\\Documents\\Monicas_workspace\\Sign detection\\VGG\n"
     ]
    }
   ],
   "metadata": {}
  },
  {
   "cell_type": "code",
   "execution_count": 16,
   "source": [
    "checkpoint_path = \"check_point/cp.ckpt\"\r\n",
    "checkpoint_dir = os.path.dirname(checkpoint_path)"
   ],
   "outputs": [],
   "metadata": {
    "executionInfo": {
     "elapsed": 4,
     "status": "ok",
     "timestamp": 1632226260369,
     "user": {
      "displayName": "Kim Monica",
      "photoUrl": "https://lh3.googleusercontent.com/a-/AOh14GinEw8dCma8Lg9LB0KhiZRlFm5XtBc4YU9ntHM6DvM=s64",
      "userId": "16683880778828171566"
     },
     "user_tz": -540
    },
    "id": "c1e652aa"
   }
  },
  {
   "cell_type": "code",
   "execution_count": 17,
   "source": [
    "#모델의 가중치 저장\r\n",
    "checkpoint = ModelCheckpoint(filepath=checkpoint_path,\r\n",
    "            monitor='loss', \r\n",
    "            mode='min',\r\n",
    "            save_best_only=True,\r\n",
    "            save_weights_only=True,\r\n",
    "            verbose=1)\r\n",
    "\r\n",
    "#새로운 콜백으로 모델 훈련하기\r\n",
    "history = model.fit_generator(train_generator, \r\n",
    "            steps_per_epoch=math.ceil(train_generator.n / train_generator.batch_size), \r\n",
    "            epochs=50, \r\n",
    "            validation_data=val_generator, \r\n",
    "            validation_steps=math.ceil(val_generator.n / val_generator.batch_size), \r\n",
    "            callbacks=[checkpoint],\r\n",
    "            shuffle=False)"
   ],
   "outputs": [
    {
     "output_type": "stream",
     "name": "stdout",
     "text": [
      "WARNING:tensorflow:From C:\\Users\\yukir\\AppData\\Local\\Temp/ipykernel_3468/583284706.py:16: Model.fit_generator (from tensorflow.python.keras.engine.training) is deprecated and will be removed in a future version.\n",
      "Instructions for updating:\n",
      "Please use Model.fit, which supports generators.\n",
      "Epoch 1/50\n",
      "28/28 [==============================] - ETA: 0s - loss: 4.2767 - acc: 0.6227\n",
      "Epoch 00001: loss improved from inf to 4.27671, saving model to check_point/cp.ckpt\n",
      "28/28 [==============================] - 8s 287ms/step - loss: 4.2767 - acc: 0.6227 - val_loss: 0.3731 - val_acc: 0.9009\n",
      "Epoch 2/50\n",
      "27/28 [===========================>..] - ETA: 0s - loss: 0.1893 - acc: 0.9398\n",
      "Epoch 00002: loss improved from 4.27671 to 0.18895, saving model to check_point/cp.ckpt\n",
      "28/28 [==============================] - 7s 232ms/step - loss: 0.1889 - acc: 0.9386 - val_loss: 0.3278 - val_acc: 0.9279\n",
      "Epoch 3/50\n",
      "27/28 [===========================>..] - ETA: 0s - loss: 0.0822 - acc: 0.9769\n",
      "Epoch 00003: loss improved from 0.18895 to 0.08069, saving model to check_point/cp.ckpt\n",
      "28/28 [==============================] - 6s 229ms/step - loss: 0.0807 - acc: 0.9773 - val_loss: 0.0505 - val_acc: 0.9910\n",
      "Epoch 4/50\n",
      "27/28 [===========================>..] - ETA: 0s - loss: 0.0301 - acc: 0.9838\n",
      "Epoch 00004: loss improved from 0.08069 to 0.02956, saving model to check_point/cp.ckpt\n",
      "28/28 [==============================] - 7s 234ms/step - loss: 0.0296 - acc: 0.9841 - val_loss: 0.0528 - val_acc: 0.9730\n",
      "Epoch 5/50\n",
      "27/28 [===========================>..] - ETA: 0s - loss: 0.0258 - acc: 0.9907\n",
      "Epoch 00005: loss improved from 0.02956 to 0.02638, saving model to check_point/cp.ckpt\n",
      "28/28 [==============================] - 7s 233ms/step - loss: 0.0264 - acc: 0.9909 - val_loss: 0.1080 - val_acc: 0.9730\n",
      "Epoch 6/50\n",
      "27/28 [===========================>..] - ETA: 0s - loss: 0.0113 - acc: 0.9954\n",
      "Epoch 00006: loss improved from 0.02638 to 0.01112, saving model to check_point/cp.ckpt\n",
      "28/28 [==============================] - 7s 237ms/step - loss: 0.0111 - acc: 0.9955 - val_loss: 0.1034 - val_acc: 0.9820\n",
      "Epoch 7/50\n",
      "27/28 [===========================>..] - ETA: 0s - loss: 0.0023 - acc: 1.0000\n",
      "Epoch 00007: loss improved from 0.01112 to 0.00223, saving model to check_point/cp.ckpt\n",
      "28/28 [==============================] - 7s 243ms/step - loss: 0.0022 - acc: 1.0000 - val_loss: 0.1575 - val_acc: 0.9730\n",
      "Epoch 8/50\n",
      "27/28 [===========================>..] - ETA: 0s - loss: 2.7818e-04 - acc: 1.0000\n",
      "Epoch 00008: loss improved from 0.00223 to 0.00027, saving model to check_point/cp.ckpt\n",
      "28/28 [==============================] - 7s 236ms/step - loss: 2.7313e-04 - acc: 1.0000 - val_loss: 0.1325 - val_acc: 0.9730\n",
      "Epoch 9/50\n",
      "27/28 [===========================>..] - ETA: 0s - loss: 0.0013 - acc: 1.0000\n",
      "Epoch 00009: loss did not improve from 0.00027\n",
      "28/28 [==============================] - 2s 86ms/step - loss: 0.0027 - acc: 1.0000 - val_loss: 0.0886 - val_acc: 0.9820\n",
      "Epoch 10/50\n",
      "27/28 [===========================>..] - ETA: 0s - loss: 0.2695 - acc: 0.9583\n",
      "Epoch 00010: loss did not improve from 0.00027\n",
      "28/28 [==============================] - 2s 84ms/step - loss: 0.2646 - acc: 0.9591 - val_loss: 0.0345 - val_acc: 0.9910\n",
      "Epoch 11/50\n",
      "27/28 [===========================>..] - ETA: 0s - loss: 0.2852 - acc: 0.9468\n",
      "Epoch 00011: loss did not improve from 0.00027\n",
      "28/28 [==============================] - 2s 84ms/step - loss: 0.2803 - acc: 0.9477 - val_loss: 0.7077 - val_acc: 0.8559\n",
      "Epoch 12/50\n",
      "27/28 [===========================>..] - ETA: 0s - loss: 0.1744 - acc: 0.9606\n",
      "Epoch 00012: loss did not improve from 0.00027\n",
      "28/28 [==============================] - 2s 84ms/step - loss: 0.1712 - acc: 0.9614 - val_loss: 0.0536 - val_acc: 0.9820\n",
      "Epoch 13/50\n",
      "27/28 [===========================>..] - ETA: 0s - loss: 0.0189 - acc: 0.9931\n",
      "Epoch 00013: loss did not improve from 0.00027\n",
      "28/28 [==============================] - 2s 84ms/step - loss: 0.0185 - acc: 0.9932 - val_loss: 0.0371 - val_acc: 0.9910\n",
      "Epoch 14/50\n",
      "27/28 [===========================>..] - ETA: 0s - loss: 0.0310 - acc: 0.9907\n",
      "Epoch 00014: loss did not improve from 0.00027\n",
      "28/28 [==============================] - 2s 85ms/step - loss: 0.0304 - acc: 0.9909 - val_loss: 0.0608 - val_acc: 0.9910\n",
      "Epoch 15/50\n",
      "27/28 [===========================>..] - ETA: 0s - loss: 0.0094 - acc: 0.9954\n",
      "Epoch 00015: loss did not improve from 0.00027\n",
      "28/28 [==============================] - 2s 85ms/step - loss: 0.0092 - acc: 0.9955 - val_loss: 0.1034 - val_acc: 0.9730\n",
      "Epoch 16/50\n",
      "27/28 [===========================>..] - ETA: 0s - loss: 0.0032 - acc: 0.9977\n",
      "Epoch 00016: loss did not improve from 0.00027\n",
      "28/28 [==============================] - 2s 84ms/step - loss: 0.0032 - acc: 0.9977 - val_loss: 0.0640 - val_acc: 0.9820\n",
      "Epoch 17/50\n",
      "27/28 [===========================>..] - ETA: 0s - loss: 0.0239 - acc: 0.9931\n",
      "Epoch 00017: loss did not improve from 0.00027\n",
      "28/28 [==============================] - 2s 85ms/step - loss: 0.0279 - acc: 0.9909 - val_loss: 0.4074 - val_acc: 0.9369\n",
      "Epoch 18/50\n",
      "27/28 [===========================>..] - ETA: 0s - loss: 0.0104 - acc: 0.9954\n",
      "Epoch 00018: loss did not improve from 0.00027\n",
      "28/28 [==============================] - 2s 85ms/step - loss: 0.0102 - acc: 0.9955 - val_loss: 0.0525 - val_acc: 0.9730\n",
      "Epoch 19/50\n",
      "27/28 [===========================>..] - ETA: 0s - loss: 0.0038 - acc: 0.9977\n",
      "Epoch 00019: loss did not improve from 0.00027\n",
      "28/28 [==============================] - 2s 84ms/step - loss: 0.0038 - acc: 0.9977 - val_loss: 0.0227 - val_acc: 0.9910\n",
      "Epoch 20/50\n",
      "27/28 [===========================>..] - ETA: 0s - loss: 1.6584e-05 - acc: 1.0000\n",
      "Epoch 00020: loss improved from 0.00027 to 0.00002, saving model to check_point/cp.ckpt\n",
      "28/28 [==============================] - 7s 237ms/step - loss: 1.6282e-05 - acc: 1.0000 - val_loss: 0.0201 - val_acc: 0.9910\n",
      "Epoch 21/50\n",
      "27/28 [===========================>..] - ETA: 0s - loss: 3.9671e-06 - acc: 1.0000\n",
      "Epoch 00021: loss improved from 0.00002 to 0.00001, saving model to check_point/cp.ckpt\n",
      "28/28 [==============================] - 7s 239ms/step - loss: 5.1918e-06 - acc: 1.0000 - val_loss: 0.0195 - val_acc: 0.9910\n",
      "Epoch 22/50\n",
      "27/28 [===========================>..] - ETA: 0s - loss: 2.2094e-06 - acc: 1.0000\n",
      "Epoch 00022: loss improved from 0.00001 to 0.00000, saving model to check_point/cp.ckpt\n",
      "28/28 [==============================] - 7s 240ms/step - loss: 3.2399e-06 - acc: 1.0000 - val_loss: 0.0193 - val_acc: 0.9910\n",
      "Epoch 23/50\n",
      "27/28 [===========================>..] - ETA: 0s - loss: 2.4289e-06 - acc: 1.0000\n",
      "Epoch 00023: loss improved from 0.00000 to 0.00000, saving model to check_point/cp.ckpt\n",
      "28/28 [==============================] - 7s 242ms/step - loss: 2.3847e-06 - acc: 1.0000 - val_loss: 0.0192 - val_acc: 0.9910\n",
      "Epoch 24/50\n",
      "27/28 [===========================>..] - ETA: 0s - loss: 1.8972e-06 - acc: 1.0000\n",
      "Epoch 00024: loss improved from 0.00000 to 0.00000, saving model to check_point/cp.ckpt\n",
      "28/28 [==============================] - 7s 238ms/step - loss: 1.8736e-06 - acc: 1.0000 - val_loss: 0.0191 - val_acc: 0.9910\n",
      "Epoch 25/50\n",
      "27/28 [===========================>..] - ETA: 0s - loss: 1.4354e-06 - acc: 1.0000\n",
      "Epoch 00025: loss improved from 0.00000 to 0.00000, saving model to check_point/cp.ckpt\n",
      "28/28 [==============================] - 7s 239ms/step - loss: 1.5995e-06 - acc: 1.0000 - val_loss: 0.0192 - val_acc: 0.9910\n",
      "Epoch 26/50\n",
      "27/28 [===========================>..] - ETA: 0s - loss: 1.3496e-06 - acc: 1.0000\n",
      "Epoch 00026: loss improved from 0.00000 to 0.00000, saving model to check_point/cp.ckpt\n",
      "28/28 [==============================] - 7s 238ms/step - loss: 1.3250e-06 - acc: 1.0000 - val_loss: 0.0192 - val_acc: 0.9910\n",
      "Epoch 27/50\n",
      "27/28 [===========================>..] - ETA: 0s - loss: 1.1860e-06 - acc: 1.0000\n",
      "Epoch 00027: loss improved from 0.00000 to 0.00000, saving model to check_point/cp.ckpt\n",
      "28/28 [==============================] - 7s 239ms/step - loss: 1.1644e-06 - acc: 1.0000 - val_loss: 0.0192 - val_acc: 0.9910\n",
      "Epoch 28/50\n",
      "27/28 [===========================>..] - ETA: 0s - loss: 1.0204e-06 - acc: 1.0000\n",
      "Epoch 00028: loss improved from 0.00000 to 0.00000, saving model to check_point/cp.ckpt\n",
      "28/28 [==============================] - 7s 239ms/step - loss: 1.0019e-06 - acc: 1.0000 - val_loss: 0.0194 - val_acc: 0.9910\n",
      "Epoch 29/50\n",
      "27/28 [===========================>..] - ETA: 0s - loss: 8.9734e-07 - acc: 1.0000\n",
      "Epoch 00029: loss improved from 0.00000 to 0.00000, saving model to check_point/cp.ckpt\n",
      "28/28 [==============================] - 7s 237ms/step - loss: 8.8834e-07 - acc: 1.0000 - val_loss: 0.0195 - val_acc: 0.9910\n",
      "Epoch 30/50\n",
      "27/28 [===========================>..] - ETA: 0s - loss: 7.9360e-07 - acc: 1.0000\n",
      "Epoch 00030: loss improved from 0.00000 to 0.00000, saving model to check_point/cp.ckpt\n",
      "28/28 [==============================] - 7s 237ms/step - loss: 7.7917e-07 - acc: 1.0000 - val_loss: 0.0197 - val_acc: 0.9910\n",
      "Epoch 31/50\n",
      "27/28 [===========================>..] - ETA: 0s - loss: 7.2158e-07 - acc: 1.0000\n",
      "Epoch 00031: loss improved from 0.00000 to 0.00000, saving model to check_point/cp.ckpt\n",
      "28/28 [==============================] - 7s 238ms/step - loss: 7.0846e-07 - acc: 1.0000 - val_loss: 0.0198 - val_acc: 0.9910\n",
      "Epoch 32/50\n",
      "27/28 [===========================>..] - ETA: 0s - loss: 6.3852e-07 - acc: 1.0000\n",
      "Epoch 00032: loss improved from 0.00000 to 0.00000, saving model to check_point/cp.ckpt\n",
      "28/28 [==============================] - 7s 236ms/step - loss: 6.2691e-07 - acc: 1.0000 - val_loss: 0.0199 - val_acc: 0.9910\n",
      "Epoch 33/50\n",
      "27/28 [===========================>..] - ETA: 0s - loss: 5.7589e-07 - acc: 1.0000\n",
      "Epoch 00033: loss improved from 0.00000 to 0.00000, saving model to check_point/cp.ckpt\n",
      "28/28 [==============================] - 7s 237ms/step - loss: 5.7165e-07 - acc: 1.0000 - val_loss: 0.0201 - val_acc: 0.9910\n",
      "Epoch 34/50\n",
      "27/28 [===========================>..] - ETA: 0s - loss: 5.2153e-07 - acc: 1.0000\n",
      "Epoch 00034: loss improved from 0.00000 to 0.00000, saving model to check_point/cp.ckpt\n",
      "28/28 [==============================] - 7s 234ms/step - loss: 5.1205e-07 - acc: 1.0000 - val_loss: 0.0203 - val_acc: 0.9910\n",
      "Epoch 35/50\n",
      "27/28 [===========================>..] - ETA: 0s - loss: 4.7683e-07 - acc: 1.0000\n",
      "Epoch 00035: loss improved from 0.00000 to 0.00000, saving model to check_point/cp.ckpt\n",
      "28/28 [==============================] - 6s 232ms/step - loss: 4.6816e-07 - acc: 1.0000 - val_loss: 0.0204 - val_acc: 0.9910\n",
      "Epoch 36/50\n",
      "27/28 [===========================>..] - ETA: 0s - loss: 4.3378e-07 - acc: 1.0000\n",
      "Epoch 00036: loss improved from 0.00000 to 0.00000, saving model to check_point/cp.ckpt\n",
      "28/28 [==============================] - 7s 233ms/step - loss: 4.2589e-07 - acc: 1.0000 - val_loss: 0.0206 - val_acc: 0.9910\n",
      "Epoch 37/50\n",
      "27/28 [===========================>..] - ETA: 0s - loss: 3.9377e-07 - acc: 1.0000\n",
      "Epoch 00037: loss improved from 0.00000 to 0.00000, saving model to check_point/cp.ckpt\n",
      "28/28 [==============================] - 7s 237ms/step - loss: 3.8715e-07 - acc: 1.0000 - val_loss: 0.0208 - val_acc: 0.9910\n",
      "Epoch 38/50\n",
      "27/28 [===========================>..] - ETA: 0s - loss: 3.3003e-07 - acc: 1.0000\n",
      "Epoch 00038: loss improved from 0.00000 to 0.00000, saving model to check_point/cp.ckpt\n",
      "28/28 [==============================] - 7s 241ms/step - loss: 3.5545e-07 - acc: 1.0000 - val_loss: 0.0209 - val_acc: 0.9910\n",
      "Epoch 39/50\n",
      "27/28 [===========================>..] - ETA: 0s - loss: 3.3334e-07 - acc: 1.0000\n",
      "Epoch 00039: loss improved from 0.00000 to 0.00000, saving model to check_point/cp.ckpt\n",
      "28/28 [==============================] - 7s 242ms/step - loss: 3.2728e-07 - acc: 1.0000 - val_loss: 0.0211 - val_acc: 0.9910\n",
      "Epoch 40/50\n",
      "27/28 [===========================>..] - ETA: 0s - loss: 3.0906e-07 - acc: 1.0000\n",
      "Epoch 00040: loss improved from 0.00000 to 0.00000, saving model to check_point/cp.ckpt\n",
      "28/28 [==============================] - 7s 240ms/step - loss: 3.0452e-07 - acc: 1.0000 - val_loss: 0.0212 - val_acc: 0.9910\n",
      "Epoch 41/50\n",
      "27/28 [===========================>..] - ETA: 0s - loss: 2.8560e-07 - acc: 1.0000\n",
      "Epoch 00041: loss improved from 0.00000 to 0.00000, saving model to check_point/cp.ckpt\n",
      "28/28 [==============================] - 7s 237ms/step - loss: 2.8041e-07 - acc: 1.0000 - val_loss: 0.0214 - val_acc: 0.9910\n",
      "Epoch 42/50\n",
      "27/28 [===========================>..] - ETA: 0s - loss: 2.6132e-07 - acc: 1.0000\n",
      "Epoch 00042: loss improved from 0.00000 to 0.00000, saving model to check_point/cp.ckpt\n",
      "28/28 [==============================] - 7s 241ms/step - loss: 2.5657e-07 - acc: 1.0000 - val_loss: 0.0216 - val_acc: 0.9910\n",
      "Epoch 43/50\n",
      "27/28 [===========================>..] - ETA: 0s - loss: 2.4531e-07 - acc: 1.0000\n",
      "Epoch 00043: loss improved from 0.00000 to 0.00000, saving model to check_point/cp.ckpt\n",
      "28/28 [==============================] - 7s 238ms/step - loss: 2.4085e-07 - acc: 1.0000 - val_loss: 0.0217 - val_acc: 0.9910\n",
      "Epoch 44/50\n",
      "27/28 [===========================>..] - ETA: 0s - loss: 2.2490e-07 - acc: 1.0000\n",
      "Epoch 00044: loss improved from 0.00000 to 0.00000, saving model to check_point/cp.ckpt\n",
      "28/28 [==============================] - 7s 240ms/step - loss: 2.2081e-07 - acc: 1.0000 - val_loss: 0.0219 - val_acc: 0.9910\n",
      "Epoch 45/50\n",
      "27/28 [===========================>..] - ETA: 0s - loss: 2.0779e-07 - acc: 1.0000\n",
      "Epoch 00045: loss improved from 0.00000 to 0.00000, saving model to check_point/cp.ckpt\n",
      "28/28 [==============================] - 7s 240ms/step - loss: 2.0401e-07 - acc: 1.0000 - val_loss: 0.0221 - val_acc: 0.9910\n",
      "Epoch 46/50\n",
      "27/28 [===========================>..] - ETA: 0s - loss: 1.9316e-07 - acc: 1.0000\n",
      "Epoch 00046: loss improved from 0.00000 to 0.00000, saving model to check_point/cp.ckpt\n",
      "28/28 [==============================] - 7s 238ms/step - loss: 1.8965e-07 - acc: 1.0000 - val_loss: 0.0222 - val_acc: 0.9910\n",
      "Epoch 47/50\n",
      "27/28 [===========================>..] - ETA: 0s - loss: 1.8019e-07 - acc: 1.0000\n",
      "Epoch 00047: loss improved from 0.00000 to 0.00000, saving model to check_point/cp.ckpt\n",
      "28/28 [==============================] - 7s 238ms/step - loss: 1.7692e-07 - acc: 1.0000 - val_loss: 0.0225 - val_acc: 0.9910\n",
      "Epoch 48/50\n",
      "27/28 [===========================>..] - ETA: 0s - loss: 1.6529e-07 - acc: 1.0000\n",
      "Epoch 00048: loss improved from 0.00000 to 0.00000, saving model to check_point/cp.ckpt\n",
      "28/28 [==============================] - 7s 237ms/step - loss: 1.6229e-07 - acc: 1.0000 - val_loss: 0.0227 - val_acc: 0.9910\n",
      "Epoch 49/50\n",
      "27/28 [===========================>..] - ETA: 0s - loss: 1.0458e-07 - acc: 1.0000\n",
      "Epoch 00049: loss improved from 0.00000 to 0.00000, saving model to check_point/cp.ckpt\n",
      "28/28 [==============================] - 7s 239ms/step - loss: 1.5172e-07 - acc: 1.0000 - val_loss: 0.0229 - val_acc: 0.9910\n",
      "Epoch 50/50\n",
      "27/28 [===========================>..] - ETA: 0s - loss: 1.4322e-07 - acc: 1.0000\n",
      "Epoch 00050: loss improved from 0.00000 to 0.00000, saving model to check_point/cp.ckpt\n",
      "28/28 [==============================] - 7s 240ms/step - loss: 1.4061e-07 - acc: 1.0000 - val_loss: 0.0233 - val_acc: 0.9910\n"
     ]
    }
   ],
   "metadata": {
    "colab": {
     "base_uri": "https://localhost:8080/"
    },
    "id": "5b524386",
    "outputId": "5815a6a0-ada3-4780-bf7e-ff7f06a35a31"
   }
  },
  {
   "cell_type": "code",
   "execution_count": 18,
   "source": [
    "acc = history.history['acc']\r\n",
    "val_acc = history.history['val_acc']\r\n",
    "\r\n",
    "loss = history.history['loss']\r\n",
    "val_loss = history.history['val_loss']\r\n",
    "\r\n",
    "epochs = range(1, len(acc) +1)\r\n",
    "    \r\n",
    "    \r\n",
    "\r\n",
    "fig = plt.figure()\r\n",
    "fig.set_size_inches(15, 5)\r\n",
    "\r\n",
    "fig.add_subplot(1, 2, 1)\r\n",
    "plt.plot(epochs, acc, 'b', label ='Training acc')\r\n",
    "plt.plot(epochs, val_acc, 'r', label = 'Validation acc')\r\n",
    "plt.title('Training and validation accuracy')\r\n",
    "plt.legend()\r\n",
    "\r\n",
    "# plt.figure()\r\n",
    "fig.add_subplot(1, 2, 2) \r\n",
    "plt.plot(epochs, loss, 'b', label = \"Training loss\")\r\n",
    "plt.plot(epochs, val_loss, 'r', label ='Validation loss')\r\n",
    "plt.title('Training and validation lose')\r\n",
    "plt.legend()\r\n",
    "\r\n",
    "plt.show()"
   ],
   "outputs": [
    {
     "output_type": "display_data",
     "data": {
      "image/png": "[encoded data removed]",
      "text/plain": [
       "<Figure size 1080x360 with 2 Axes>"
      ]
     },
     "metadata": {}
    }
   ],
   "metadata": {
    "colab": {
     "base_uri": "https://localhost:8080/",
     "height": 372
    },
    "executionInfo": {
     "elapsed": 1873,
     "status": "ok",
     "timestamp": 1632227619931,
     "user": {
      "displayName": "Kim Monica",
      "photoUrl": "https://lh3.googleusercontent.com/a-/AOh14GinEw8dCma8Lg9LB0KhiZRlFm5XtBc4YU9ntHM6DvM=s64",
      "userId": "16683880778828171566"
     },
     "user_tz": -540
    },
    "id": "f4e780f8",
    "outputId": "92bb3c88-aee5-4b0b-f2dd-16582222ddae"
   }
  },
  {
   "cell_type": "code",
   "execution_count": 36,
   "source": [
    "#맥에서는 !ls\r\n",
    "#저장된 checkpoint확인하기\r\n",
    "!dir {checkpoint_dir}"
   ],
   "outputs": [
    {
     "output_type": "stream",
     "name": "stdout",
     "text": [
      " C ����̺��� �������� �̸��� �����ϴ�.\n",
      " ���� �Ϸ� ��ȣ: 5848-7E5C\n",
      "\n",
      " C:\\Users\\yukir\\Documents\\Monicas_workspace\\Sign detection\\VGG\\check_point ���͸�\n",
      "\n",
      "2021-10-01  ���� 01:25    <DIR>          .\n",
      "2021-10-01  ���� 01:25    <DIR>          ..\n",
      "2021-10-01  ���� 01:25                71 checkpoint\n",
      "2021-10-01  ���� 01:25             7,593 cp.ckpt.data-00000-of-00002\n",
      "2021-10-01  ���� 01:25     1,090,792,776 cp.ckpt.data-00001-of-00002\n",
      "2021-10-01  ���� 01:25             4,030 cp.ckpt.index\n",
      "               4�� ����       1,090,804,470 ����Ʈ\n",
      "               2�� ���͸�  341,428,277,248 ����Ʈ ����\n"
     ]
    }
   ],
   "metadata": {
    "colab": {
     "base_uri": "https://localhost:8080/"
    },
    "executionInfo": {
     "elapsed": 257,
     "status": "ok",
     "timestamp": 1632227627597,
     "user": {
      "displayName": "Kim Monica",
      "photoUrl": "https://lh3.googleusercontent.com/a-/AOh14GinEw8dCma8Lg9LB0KhiZRlFm5XtBc4YU9ntHM6DvM=s64",
      "userId": "16683880778828171566"
     },
     "user_tz": -540
    },
    "id": "d39f5777",
    "outputId": "7975e1e9-c81f-4d45-fb48-a15e6fed8463"
   }
  },
  {
   "cell_type": "code",
   "execution_count": 20,
   "source": [
    "#가장 마지막에 만들어진 체크포인트 확인\r\n",
    "latest = tf.train.latest_checkpoint(checkpoint_dir)\r\n",
    "latest"
   ],
   "outputs": [
    {
     "output_type": "execute_result",
     "data": {
      "text/plain": [
       "'check_point\\\\cp.ckpt'"
      ]
     },
     "metadata": {},
     "execution_count": 20
    }
   ],
   "metadata": {
    "colab": {
     "base_uri": "https://localhost:8080/",
     "height": 35
    },
    "executionInfo": {
     "elapsed": 9,
     "status": "ok",
     "timestamp": 1632227629909,
     "user": {
      "displayName": "Kim Monica",
      "photoUrl": "https://lh3.googleusercontent.com/a-/AOh14GinEw8dCma8Lg9LB0KhiZRlFm5XtBc4YU9ntHM6DvM=s64",
      "userId": "16683880778828171566"
     },
     "user_tz": -540
    },
    "id": "7693c4b4",
    "outputId": "51b9c4de-1af6-4e71-e238-4f220904e0a6"
   }
  },
  {
   "cell_type": "code",
   "execution_count": 21,
   "source": [
    "#모델 평가\r\n",
    "model = create_model()\r\n",
    "loss, acc = model.evaluate(test_generator)\r\n",
    "print(\"훈련 안 한 모델의 정확도: {:5.2f}%\".format(100*acc))"
   ],
   "outputs": [
    {
     "output_type": "stream",
     "name": "stdout",
     "text": [
      "12/12 [==============================] - 1s 114ms/step - loss: 1.5929 - acc: 0.1081\n",
      "훈련 안 한 모델의 정확도: 10.81%\n"
     ]
    }
   ],
   "metadata": {}
  },
  {
   "cell_type": "code",
   "execution_count": 23,
   "source": [
    "# 가중치 로드\r\n",
    "model.load_weights(latest)\r\n",
    "\r\n",
    "# # 모델 재평가\r\n",
    "loss,acc = model.evaluate(val_generator)\r\n",
    "print(\"복원된 모델의 정확도: {:5.2f}%\".format(100*acc))"
   ],
   "outputs": [
    {
     "output_type": "stream",
     "name": "stdout",
     "text": [
      "7/7 [==============================] - 0s 51ms/step - loss: 0.0233 - acc: 0.9910\n",
      "복원된 모델의 정확도: 99.10%\n"
     ]
    }
   ],
   "metadata": {}
  },
  {
   "cell_type": "code",
   "execution_count": 24,
   "source": [
    "# 가중치 로드\r\n",
    "model.load_weights(latest)\r\n",
    "\r\n",
    "# # 모델 재평가\r\n",
    "loss,acc = model.evaluate(test_generator)\r\n",
    "print(\"복원된 모델의 정확도: {:5.2f}%\".format(100*acc))"
   ],
   "outputs": [
    {
     "output_type": "stream",
     "name": "stdout",
     "text": [
      "12/12 [==============================] - 1s 54ms/step - loss: 1.4562 - acc: 0.8541\n",
      "복원된 모델의 정확도: 85.41%\n"
     ]
    }
   ],
   "metadata": {}
  },
  {
   "cell_type": "code",
   "execution_count": 25,
   "source": [
    "past_test_dir = 'C:\\\\Users\\\\yukir\\\\Documents\\Monicas_workspace\\\\Datasets\\\\For past test'\r\n",
    "test_datagen = ImageDataGenerator(rescale=1./255)\r\n",
    "past_test_generator = test_datagen.flow_from_directory(past_test_dir,batch_size=16, target_size=(200, 200), color_mode='rgb')\r\n",
    "\r\n",
    "# # 모델 재평가\r\n",
    "loss,acc = model.evaluate(past_test_generator)\r\n",
    "print(\"복원된 모델의 정확도: {:5.2f}%\".format(100*acc))"
   ],
   "outputs": [
    {
     "output_type": "stream",
     "name": "stdout",
     "text": [
      "Found 97 images belonging to 4 classes.\n",
      "7/7 [==============================] - 1s 135ms/step - loss: 1.2547 - acc: 0.9175\n",
      "복원된 모델의 정확도: 91.75%\n"
     ]
    }
   ],
   "metadata": {}
  },
  {
   "cell_type": "markdown",
   "source": [
    "#### final model save"
   ],
   "metadata": {
    "id": "cd33b009"
   }
  },
  {
   "cell_type": "code",
   "execution_count": null,
   "source": [
    "/pwd"
   ],
   "outputs": [
    {
     "output_type": "execute_result",
     "data": {
      "text/plain": [
       "'C:\\\\Users\\\\yukir\\\\Documents\\\\GitHub\\\\Sign_Recognition\\\\py'"
      ]
     },
     "metadata": {},
     "execution_count": 19
    }
   ],
   "metadata": {}
  },
  {
   "cell_type": "code",
   "execution_count": 26,
   "source": [
    "model.save('[1001]new_stratified_4class_85.h5')\r\n",
    "\r\n",
    "model_json = model.to_json()\r\n",
    "with open(\"[1001]new_stratified_4class_85.json\", \"w\") as json_file : \r\n",
    "    json_file.write(model_json)\r\n",
    "\r\n",
    "model.save_weights(\"[1001]new_stratified_4class_85_weight.h5\")\r\n",
    "print(\"Saved model to disk\")"
   ],
   "outputs": [
    {
     "output_type": "stream",
     "name": "stdout",
     "text": [
      "Saved model to disk\n"
     ]
    }
   ],
   "metadata": {
    "colab": {
     "base_uri": "https://localhost:8080/"
    },
    "executionInfo": {
     "elapsed": 4686,
     "status": "ok",
     "timestamp": 1632224248692,
     "user": {
      "displayName": "Kim Monica",
      "photoUrl": "https://lh3.googleusercontent.com/a-/AOh14GinEw8dCma8Lg9LB0KhiZRlFm5XtBc4YU9ntHM6DvM=s64",
      "userId": "16683880778828171566"
     },
     "user_tz": -540
    },
    "id": "84e67928",
    "outputId": "f6207d72-2792-4e2a-fad6-c73a72d8c1d7"
   }
  },
  {
   "cell_type": "code",
   "execution_count": 27,
   "source": [
    "label_dict = get_label_dict(train_generator)\r\n",
    "label_dict"
   ],
   "outputs": [
    {
     "output_type": "execute_result",
     "data": {
      "text/plain": [
       "{0: 'fragile', 1: 'handle', 2: 'up', 3: 'wet'}"
      ]
     },
     "metadata": {},
     "execution_count": 27
    }
   ],
   "metadata": {
    "colab": {
     "base_uri": "https://localhost:8080/"
    },
    "executionInfo": {
     "elapsed": 13,
     "status": "ok",
     "timestamp": 1632224249722,
     "user": {
      "displayName": "Kim Monica",
      "photoUrl": "https://lh3.googleusercontent.com/a-/AOh14GinEw8dCma8Lg9LB0KhiZRlFm5XtBc4YU9ntHM6DvM=s64",
      "userId": "16683880778828171566"
     },
     "user_tz": -540
    },
    "id": "GEkJxX95GGoN",
    "outputId": "b4455678-6e00-4c8b-cf13-0cb1a91c1192"
   }
  },
  {
   "cell_type": "markdown",
   "source": [
    "### Test"
   ],
   "metadata": {
    "id": "cdQV6WVGahO_"
   }
  },
  {
   "cell_type": "markdown",
   "source": [
    "#### test set"
   ],
   "metadata": {
    "id": "vau93mQPdg_R"
   }
  },
  {
   "cell_type": "code",
   "execution_count": 37,
   "source": [
    "test_generator.classes"
   ],
   "outputs": [
    {
     "output_type": "execute_result",
     "data": {
      "text/plain": [
       "array([0, 0, 0, 0, 0, 0, 0, 0, 0, 0, 0, 0, 0, 0, 0, 0, 0, 0, 0, 0, 0, 0,\n",
       "       0, 0, 0, 0, 0, 0, 0, 0, 0, 0, 0, 0, 0, 0, 0, 0, 0, 0, 0, 0, 0, 0,\n",
       "       0, 0, 0, 0, 0, 0, 0, 0, 0, 0, 0, 0, 0, 1, 1, 1, 1, 1, 1, 1, 1, 1,\n",
       "       1, 1, 1, 1, 1, 1, 1, 1, 1, 1, 1, 2, 2, 2, 2, 2, 2, 2, 2, 2, 2, 2,\n",
       "       2, 2, 2, 2, 2, 2, 2, 2, 2, 2, 2, 2, 2, 2, 2, 2, 2, 2, 2, 2, 2, 2,\n",
       "       2, 2, 2, 2, 2, 2, 2, 2, 2, 2, 2, 2, 2, 2, 2, 2, 2, 2, 2, 2, 2, 2,\n",
       "       2, 2, 3, 3, 3, 3, 3, 3, 3, 3, 3, 3, 3, 3, 3, 3, 3, 3, 3, 3, 3, 3,\n",
       "       3, 3, 3, 3, 3, 3, 3, 3, 3, 3, 3, 3, 3, 3, 3, 3, 3, 3, 3, 3, 3, 3,\n",
       "       3, 3, 3, 3, 3, 3, 3, 3, 3])"
      ]
     },
     "metadata": {},
     "execution_count": 37
    }
   ],
   "metadata": {
    "colab": {
     "base_uri": "https://localhost:8080/"
    },
    "executionInfo": {
     "elapsed": 276,
     "status": "ok",
     "timestamp": 1632224465449,
     "user": {
      "displayName": "Kim Monica",
      "photoUrl": "https://lh3.googleusercontent.com/a-/AOh14GinEw8dCma8Lg9LB0KhiZRlFm5XtBc4YU9ntHM6DvM=s64",
      "userId": "16683880778828171566"
     },
     "user_tz": -540
    },
    "id": "JIM8etArKMt6",
    "outputId": "1f758d01-1133-402c-9ed2-afebe43f2cd3"
   }
  },
  {
   "cell_type": "code",
   "execution_count": 38,
   "source": [
    "#confusion matrix\r\n",
    "from sklearn.metrics import confusion_matrix\r\n",
    "\r\n",
    "# 1.Predict classes\r\n",
    "test_steps_per_epoch = np.math.ceil(test_generator.samples / test_generator.batch_size)\r\n",
    "\r\n",
    "\r\n",
    "predictions = model.predict_generator(test_generator, steps=test_steps_per_epoch)\r\n",
    "# print(predictions)\r\n",
    "# # Get most likely class axis=1(열로 가장 큰 수의 위치를 보겠다는 소리), \r\n",
    "predicted_classes = np.argmax(predictions, axis=1)\r\n",
    "\r\n",
    "# print(predicted_classes)\r\n",
    "# # 2.Get ground-truth classes and class-labels\r\n",
    "true_classes = test_generator.classes\r\n",
    "# print(true_classes)\r\n",
    "class_labels = list(test_generator.class_indices.keys())   \r\n",
    "# 3. Use scikit-learn to get statistics\r\n",
    "report = classification_report(true_classes, predicted_classes, target_names=class_labels)\r\n",
    "\r\n",
    "\r\n",
    "print('Confusion Matrix')\r\n",
    "print(confusion_matrix(test_generator.classes, predicted_classes))\r\n",
    "print(report)\r\n",
    "\r\n",
    "plt.figure(figsize=(6,6))\r\n",
    "con_test = confusion_matrix(test_generator.classes, predicted_classes)\r\n",
    "confusion_plot(con_test, 6)\r\n"
   ],
   "outputs": [
    {
     "output_type": "stream",
     "name": "stdout",
     "text": [
      "Confusion Matrix\n",
      "[[22  6 12 17]\n",
      " [ 2  6  6  6]\n",
      " [17  8 16 16]\n",
      " [21  6 15  9]]\n",
      "              precision    recall  f1-score   support\n",
      "\n",
      "     fragile       0.35      0.39      0.37        57\n",
      "      handle       0.23      0.30      0.26        20\n",
      "          up       0.33      0.28      0.30        57\n",
      "         wet       0.19      0.18      0.18        51\n",
      "\n",
      "    accuracy                           0.29       185\n",
      "   macro avg       0.27      0.29      0.28       185\n",
      "weighted avg       0.29      0.29      0.29       185\n",
      "\n",
      "WARNING:tensorflow:Unresolved object in checkpoint: (root).optimizer.iter\n",
      "WARNING:tensorflow:Unresolved object in checkpoint: (root).optimizer.beta_1\n",
      "WARNING:tensorflow:Unresolved object in checkpoint: (root).optimizer.beta_2\n",
      "WARNING:tensorflow:Unresolved object in checkpoint: (root).optimizer.decay\n",
      "WARNING:tensorflow:Unresolved object in checkpoint: (root).optimizer.learning_rate\n",
      "WARNING:tensorflow:A checkpoint was restored (e.g. tf.train.Checkpoint.restore or tf.keras.Model.load_weights) but not all checkpointed values were used. See above for specific issues. Use expect_partial() on the load status object, e.g. tf.train.Checkpoint.restore(...).expect_partial(), to silence these warnings, or use assert_consumed() to make the check explicit. See https://www.tensorflow.org/guide/checkpoint#loading_mechanics for details.\n",
      "WARNING:tensorflow:Unresolved object in checkpoint: (root).optimizer.iter\n",
      "WARNING:tensorflow:Unresolved object in checkpoint: (root).optimizer.beta_1\n",
      "WARNING:tensorflow:Unresolved object in checkpoint: (root).optimizer.beta_2\n",
      "WARNING:tensorflow:Unresolved object in checkpoint: (root).optimizer.decay\n",
      "WARNING:tensorflow:Unresolved object in checkpoint: (root).optimizer.learning_rate\n",
      "WARNING:tensorflow:A checkpoint was restored (e.g. tf.train.Checkpoint.restore or tf.keras.Model.load_weights) but not all checkpointed values were used. See above for specific issues. Use expect_partial() on the load status object, e.g. tf.train.Checkpoint.restore(...).expect_partial(), to silence these warnings, or use assert_consumed() to make the check explicit. See https://www.tensorflow.org/guide/checkpoint#loading_mechanics for details.\n"
     ]
    },
    {
     "output_type": "display_data",
     "data": {
      "text/plain": [
       "<Figure size 432x432 with 0 Axes>"
      ]
     },
     "metadata": {}
    },
    {
     "output_type": "display_data",
     "data": {
      "image/png": "[encoded data removed]",
      "text/plain": [
       "<Figure size 432x432 with 2 Axes>"
      ]
     },
     "metadata": {}
    }
   ],
   "metadata": {
    "colab": {
     "base_uri": "https://localhost:8080/"
    },
    "executionInfo": {
     "elapsed": 1392,
     "status": "ok",
     "timestamp": 1632224450560,
     "user": {
      "displayName": "Kim Monica",
      "photoUrl": "https://lh3.googleusercontent.com/a-/AOh14GinEw8dCma8Lg9LB0KhiZRlFm5XtBc4YU9ntHM6DvM=s64",
      "userId": "16683880778828171566"
     },
     "user_tz": -540
    },
    "id": "bAh7UWyjdcOu",
    "outputId": "5304ff26-7346-4a89-a09f-be4390fc7338"
   }
  },
  {
   "cell_type": "markdown",
   "source": [
    "#### past test set"
   ],
   "metadata": {}
  },
  {
   "cell_type": "code",
   "execution_count": 32,
   "source": [
    "#confusion matrix\r\n",
    "from sklearn.metrics import confusion_matrix\r\n",
    "\r\n",
    "# 0. model loading\r\n",
    "model = create_model()\r\n",
    "model.load_weights(latest)\r\n",
    "\r\n",
    "# 1.Predict classes\r\n",
    "test_steps_per_epoch = np.math.ceil(past_test_generator.samples / past_test_generator.batch_size)\r\n",
    "\r\n",
    "\r\n",
    "predictions = model.predict_generator(past_test_generator, steps=test_steps_per_epoch)\r\n",
    "# print(predictions)\r\n",
    "# # Get most likely class axis=1(열로 가장 큰 수의 위치를 보겠다는 소리), \r\n",
    "predicted_classes = np.argmax(predictions, axis=1)\r\n",
    "\r\n",
    "# print(predicted_classes)\r\n",
    "# # 2.Get ground-truth classes and class-labels\r\n",
    "true_classes = past_test_generator.classes\r\n",
    "# print(true_classes)\r\n",
    "class_labels = list(past_test_generator.class_indices.keys())   \r\n",
    "# 3. Use scikit-learn to get statistics\r\n",
    "report = classification_report(true_classes, predicted_classes, target_names=class_labels)\r\n",
    "\r\n",
    "\r\n",
    "print('Confusion Matrix')\r\n",
    "print(confusion_matrix(past_test_generator.classes, predicted_classes))\r\n",
    "print(report)\r\n",
    "\r\n",
    "plt.figure(figsize=(6,6))\r\n",
    "con_test = confusion_matrix(past_test_generator.classes, predicted_classes)\r\n",
    "confusion_plot(con_test, 6)"
   ],
   "outputs": [
    {
     "output_type": "stream",
     "name": "stdout",
     "text": [
      "Confusion Matrix\n",
      "[[21  9  4  6]\n",
      " [ 7  3  3  2]\n",
      " [13  2  5  5]\n",
      " [ 7  0  6  4]]\n",
      "              precision    recall  f1-score   support\n",
      "\n",
      "     fragile       0.44      0.53      0.48        40\n",
      "      handle       0.21      0.20      0.21        15\n",
      "          up       0.28      0.20      0.23        25\n",
      "         wet       0.24      0.24      0.24        17\n",
      "\n",
      "    accuracy                           0.34        97\n",
      "   macro avg       0.29      0.29      0.29        97\n",
      "weighted avg       0.33      0.34      0.33        97\n",
      "\n"
     ]
    },
    {
     "output_type": "display_data",
     "data": {
      "text/plain": [
       "<Figure size 432x432 with 0 Axes>"
      ]
     },
     "metadata": {}
    },
    {
     "output_type": "display_data",
     "data": {
      "image/png": "[encoded data removed]",
      "text/plain": [
       "<Figure size 432x432 with 2 Axes>"
      ]
     },
     "metadata": {}
    }
   ],
   "metadata": {}
  },
  {
   "cell_type": "code",
   "execution_count": null,
   "source": [],
   "outputs": [],
   "metadata": {}
  }
 ],
 "metadata": {
  "accelerator": "GPU",
  "colab": {
   "collapsed_sections": [],
   "machine_shape": "hm",
   "name": "★[0921] (adam, stratified) 4_class_prevgg.ipynb의 사본",
   "provenance": [
    {
     "file_id": "19Rwgy1GTnV0hUBpdslOKrmwgS4-TiXxO",
     "timestamp": 1632226133611
    }
   ]
  },
  "kernelspec": {
   "name": "python3",
   "display_name": "Python 3.7.11 64-bit ('tensorflow37': conda)"
  },
  "language_info": {
   "codemirror_mode": {
    "name": "ipython",
    "version": 3
   },
   "file_extension": ".py",
   "mimetype": "text/x-python",
   "name": "python",
   "nbconvert_exporter": "python",
   "pygments_lexer": "ipython3",
   "version": "3.7.11"
  },
  "toc": {
   "base_numbering": 1,
   "nav_menu": {},
   "number_sections": true,
   "sideBar": true,
   "skip_h1_title": false,
   "title_cell": "Table of Contents",
   "title_sidebar": "Contents",
   "toc_cell": false,
   "toc_position": {},
   "toc_section_display": true,
   "toc_window_display": false
  },
  "varInspector": {
   "cols": {
    "lenName": 16,
    "lenType": 16,
    "lenVar": 40
   },
   "kernels_config": {
    "python": {
     "delete_cmd_postfix": "",
     "delete_cmd_prefix": "del ",
     "library": "var_list.py",
     "varRefreshCmd": "print(var_dic_list())"
    },
    "r": {
     "delete_cmd_postfix": ") ",
     "delete_cmd_prefix": "rm(",
     "library": "var_list.r",
     "varRefreshCmd": "cat(var_dic_list()) "
    }
   },
   "types_to_exclude": [
    "module",
    "function",
    "builtin_function_or_method",
    "instance",
    "_Feature"
   ],
   "window_display": false
  },
  "interpreter": {
   "hash": "2d93d6df27dcc797823232b994e4f43d959f011089850837812bf48ca3e70a46"
  }
 },
 "nbformat": 4,
 "nbformat_minor": 5
}