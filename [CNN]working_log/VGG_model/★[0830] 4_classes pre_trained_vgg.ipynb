{
 "cells": [
  {
   "cell_type": "code",
   "execution_count": 1,
   "id": "43573af9",
   "metadata": {},
   "outputs": [
    {
     "name": "stdout",
     "output_type": "stream",
     "text": [
      "C:\\Users\\yukir\\Documents\\GitHub\\sign_detection\\py\n"
     ]
    }
   ],
   "source": [
    "%cd C:\\Users\\yukir\\Documents\\GitHub\\sign_detection\\py"
   ]
  },
  {
   "cell_type": "code",
   "execution_count": 2,
   "id": "01115e6c",
   "metadata": {},
   "outputs": [
    {
     "name": "stderr",
     "output_type": "stream",
     "text": [
      "Using TensorFlow backend.\n"
     ]
    },
    {
     "name": "stdout",
     "output_type": "stream",
     "text": [
      "[name: \"/device:CPU:0\"\n",
      "device_type: \"CPU\"\n",
      "memory_limit: 268435456\n",
      "locality {\n",
      "}\n",
      "incarnation: 5844812274062018109\n",
      ", name: \"/device:XLA_CPU:0\"\n",
      "device_type: \"XLA_CPU\"\n",
      "memory_limit: 17179869184\n",
      "locality {\n",
      "}\n",
      "incarnation: 14239873924512170224\n",
      "physical_device_desc: \"device: XLA_CPU device\"\n",
      ", name: \"/device:GPU:0\"\n",
      "device_type: \"GPU\"\n",
      "memory_limit: 9883535296\n",
      "locality {\n",
      "  bus_id: 1\n",
      "  links {\n",
      "  }\n",
      "}\n",
      "incarnation: 912331307379667822\n",
      "physical_device_desc: \"device: 0, name: NVIDIA GeForce RTX 2080 Ti, pci bus id: 0000:01:00.0, compute capability: 7.5\"\n",
      ", name: \"/device:XLA_GPU:0\"\n",
      "device_type: \"XLA_GPU\"\n",
      "memory_limit: 17179869184\n",
      "locality {\n",
      "}\n",
      "incarnation: 16392458733925887635\n",
      "physical_device_desc: \"device: XLA_GPU device\"\n",
      "]\n",
      "tf 2.2.0\n",
      "keras 2.3.0-tf\n",
      "set_global_determinism(seed=1337) 이거 꼭 해라\n",
      "set_global_determinism(seed=1337) 이거 꼭 해라\n",
      "set_global_determinism(seed=1337) 이거 꼭 해라\n"
     ]
    }
   ],
   "source": [
    "from basic_preprocessing import *\n",
    "from up_deeplearning_check import *\n",
    "    \n",
    "gpu_check()\n",
    "set_global_determinism(seed=1337)"
   ]
  },
  {
   "cell_type": "markdown",
   "id": "62bbf7e7",
   "metadata": {},
   "source": [
    "#### basic model"
   ]
  },
  {
   "cell_type": "code",
   "execution_count": 3,
   "id": "9e06b8bc",
   "metadata": {},
   "outputs": [
    {
     "name": "stdout",
     "output_type": "stream",
     "text": [
      "C:\\Users\\yukir\\Documents\\Monicas_workspace\\Datasets\\[0823]output\n"
     ]
    }
   ],
   "source": [
    "%cd C:\\Users\\yukir\\Documents\\Monicas_workspace\\Datasets\\[0823]output"
   ]
  },
  {
   "cell_type": "code",
   "execution_count": 4,
   "id": "d0e06e60",
   "metadata": {},
   "outputs": [],
   "source": [
    "train_dir = \"train\"\n",
    "test_dir = \"test\"\n",
    "val_dir = \"val\""
   ]
  },
  {
   "cell_type": "code",
   "execution_count": 5,
   "id": "015625bc",
   "metadata": {},
   "outputs": [],
   "source": [
    "train_datagen = ImageDataGenerator(rescale=1./255)\n",
    "val_datagen = ImageDataGenerator(rescale=1./255)\n",
    "test_datagen = ImageDataGenerator(rescale=1./255)"
   ]
  },
  {
   "cell_type": "code",
   "execution_count": 74,
   "id": "b59db018",
   "metadata": {},
   "outputs": [
    {
     "name": "stdout",
     "output_type": "stream",
     "text": [
      "Found 548 images belonging to 4 classes.\n",
      "Found 68 images belonging to 4 classes.\n",
      "Found 72 images belonging to 4 classes.\n"
     ]
    }
   ],
   "source": [
    "from keras import Input\n",
    "train_generator = train_datagen.flow_from_directory(train_dir, batch_size=16, target_size=(200,200), color_mode='rgb')\n",
    "val_generator = val_datagen.flow_from_directory(val_dir, batch_size=16, target_size=(200, 200), color_mode='rgb')\n",
    "test_generator = test_datagen.flow_from_directory(test_dir,batch_size=16, target_size=(200, 200), color_mode='rgb')\n",
    "\n",
    "input_tensor = Input(shape=(200, 200, 3), dtype='float32', name='input')"
   ]
  },
  {
   "cell_type": "code",
   "execution_count": 110,
   "id": "bdd3025f",
   "metadata": {},
   "outputs": [],
   "source": [
    "def test_file_name(test_generator):\n",
    "    test_file_name = []\n",
    "\n",
    "    for file in test_generator.filenames:\n",
    "        test_file_name.append(file)\n",
    "        \n",
    "    return test_file_name"
   ]
  },
  {
   "cell_type": "markdown",
   "id": "72da593f",
   "metadata": {},
   "source": [
    "#### model creating"
   ]
  },
  {
   "cell_type": "code",
   "execution_count": 7,
   "id": "42f0b255",
   "metadata": {},
   "outputs": [],
   "source": [
    "def create_model():\n",
    "    optimizer = Adam()\n",
    "    \n",
    "    pre_trained_vgg = VGG16(weights='imagenet', include_top=False, input_shape=(200, 200, 3))\n",
    "    #include_top FC 레이어 포함유무 결정\n",
    "    #feature extraction 파라미터들은 이미지넷으로 학습된 값들을 그대로 사용할 것이기 때문에 trainable의 속성을 False\n",
    "    pre_trained_vgg.trainable = False\n",
    "    additional_model = tf.keras.Sequential()\n",
    "    additional_model.add(pre_trained_vgg)\n",
    "    additional_model.add(Flatten())\n",
    "    additional_model.add(tf.keras.layers.Dense(4096, activation='relu'))\n",
    "    additional_model.add(tf.keras.layers.Dense(2048, activation='relu'))\n",
    "    additional_model.add(tf.keras.layers.Dense(1024, activation='relu'))\n",
    "    additional_model.add(tf.keras.layers.Dense(4, activation='softmax'))\n",
    "    \n",
    "\n",
    "    additional_model.compile(optimizer = optimizer, loss = keras.losses.categorical_crossentropy, metrics=['acc'])\n",
    "\n",
    "    \n",
    "    return additional_model"
   ]
  },
  {
   "cell_type": "code",
   "execution_count": 8,
   "id": "7a2f9107",
   "metadata": {},
   "outputs": [
    {
     "data": {
      "text/plain": [
       "'2.2.0'"
      ]
     },
     "execution_count": 8,
     "metadata": {},
     "output_type": "execute_result"
    }
   ],
   "source": [
    "tf.__version__"
   ]
  },
  {
   "cell_type": "code",
   "execution_count": 9,
   "id": "c58a4160",
   "metadata": {},
   "outputs": [
    {
     "data": {
      "text/plain": [
       "'2.3.0-tf'"
      ]
     },
     "execution_count": 9,
     "metadata": {},
     "output_type": "execute_result"
    }
   ],
   "source": [
    "keras.__version__"
   ]
  },
  {
   "cell_type": "code",
   "execution_count": 10,
   "id": "6e3c25cc",
   "metadata": {},
   "outputs": [
    {
     "name": "stdout",
     "output_type": "stream",
     "text": [
      "Model: \"sequential\"\n",
      "_________________________________________________________________\n",
      "Layer (type)                 Output Shape              Param #   \n",
      "=================================================================\n",
      "vgg16 (Model)                (None, 6, 6, 512)         14714688  \n",
      "_________________________________________________________________\n",
      "flatten (Flatten)            (None, 18432)             0         \n",
      "_________________________________________________________________\n",
      "dense (Dense)                (None, 4096)              75501568  \n",
      "_________________________________________________________________\n",
      "dense_1 (Dense)              (None, 2048)              8390656   \n",
      "_________________________________________________________________\n",
      "dense_2 (Dense)              (None, 1024)              2098176   \n",
      "_________________________________________________________________\n",
      "dense_3 (Dense)              (None, 4)                 4100      \n",
      "=================================================================\n",
      "Total params: 100,709,188\n",
      "Trainable params: 85,994,500\n",
      "Non-trainable params: 14,714,688\n",
      "_________________________________________________________________\n"
     ]
    }
   ],
   "source": [
    "# 모델 실행 옵션 \n",
    "model = create_model()\n",
    "model.summary()"
   ]
  },
  {
   "cell_type": "raw",
   "id": "f6f4188b",
   "metadata": {},
   "source": [
    "콜백 checkpoint를 사용하여 모델과 파라미터를 저장한다.\n",
    "나는 save_best_only를 통해 가장 최선의 결과가 나온 웨이트 값만 over write되어 저장할 수 있게 하였다.\n",
    "best 값의 판단 기준은 monitor와 mode를 통해 이전보다 loss가 가장 적을 때만 저장하도록 하였다.\n",
    "또한 steps_per_epoch, validation_steps은 train, validation data의 개수와 batch_size에 따라 설정되도록 수정하였다."
   ]
  },
  {
   "cell_type": "code",
   "execution_count": 11,
   "id": "c1e652aa",
   "metadata": {},
   "outputs": [],
   "source": [
    "checkpoint_path = \"training/cp.ckpt\"\n",
    "checkpoint_dir = os.path.dirname(checkpoint_path)"
   ]
  },
  {
   "cell_type": "code",
   "execution_count": 12,
   "id": "5b524386",
   "metadata": {},
   "outputs": [
    {
     "name": "stdout",
     "output_type": "stream",
     "text": [
      "WARNING:tensorflow:From C:\\Users\\yukir\\AppData\\Local\\Temp/ipykernel_15948/4251962695.py:16: Model.fit_generator (from tensorflow.python.keras.engine.training) is deprecated and will be removed in a future version.\n",
      "Instructions for updating:\n",
      "Please use Model.fit, which supports generators.\n",
      "Epoch 1/50\n",
      "35/35 [==============================] - ETA: 0s - loss: 3.3778 - acc: 0.57127 ETA: 1s - loss: 11.3836 - acc: 0. - ETA: 1s - loss: 9.6089 - acc: 0.2688 - ETA: 1s - loss: 8.9193 - acc: 0.27 - ETA: 1s - loss: 7.8792 - acc: 0.264 - ETA: 1s - loss: 7.4111 - ac - ETA: 0s - loss: 4.8598 -\n",
      "Epoch 00001: loss improved from inf to 3.37778, saving model to training/cp.ckpt\n",
      "35/35 [==============================] - 7s 203ms/step - loss: 3.3778 - acc: 0.5712 - val_loss: 0.6856 - val_acc: 0.7794\n",
      "Epoch 2/50\n",
      "34/35 [============================>.] - ETA: 0s - loss: 0.2371 - acc: 0.9228- ETA: 1s - loss: 0.2311 - ac - ETA: 0s - loss: 0.2490 - acc: 0. - ETA: 0s - loss: 0.2366 - acc: 0. - ETA: 0s - loss: 0.2248 - acc: 0.92 - ETA: 0s - loss: 0.2338 - acc: 0.924\n",
      "Epoch 00002: loss improved from 3.37778 to 0.23539, saving model to training/cp.ckpt\n",
      "35/35 [==============================] - 7s 190ms/step - loss: 0.2354 - acc: 0.9234 - val_loss: 0.2708 - val_acc: 0.9118\n",
      "Epoch 3/50\n",
      "34/35 [============================>.] - ETA: 0s - loss: 0.1506 - acc: 0.9432- ETA: 1s - loss: 0.0552 - acc: 0.9 - ETA: 1s - los - ETA: 0s - loss: 0.1478 - acc: 0.9449\n",
      "Epoch 00003: loss improved from 0.23539 to 0.14671, saving model to training/cp.ckpt\n",
      "35/35 [==============================] - 7s 201ms/step - loss: 0.1467 - acc: 0.9453 - val_loss: 0.4412 - val_acc: 0.8382\n",
      "Epoch 4/50\n",
      "34/35 [============================>.] - ETA: 0s - loss: 0.0827 - acc: 0.9724- ETA: 1s - loss: 0.0738 - acc: - ETA: 0s - loss: 0.0783 - acc: 0.97 - ETA: 0s - loss: 0.0795 - acc: - ETA: 0s - loss: 0.0865 - acc: 0.9\n",
      "Epoch 00004: loss improved from 0.14671 to 0.08205, saving model to training/cp.ckpt\n",
      "35/35 [==============================] - 7s 191ms/step - loss: 0.0821 - acc: 0.9726 - val_loss: 0.3689 - val_acc: 0.8676\n",
      "Epoch 5/50\n",
      "34/35 [============================>.] - ETA: 0s - loss: 0.0507 - acc: 0.9816- ETA: 1s - loss: 0.0267 - acc: 1.000 - ETA: 1s - loss: 0.0250 - ac - ETA: 1s - loss: 0.0527 - acc: 0.9 - ETA: 1s - loss: 0.0449 - acc: 0. - ETA: 0s - loss: 0.0487 - acc: 0 - ETA: 0s - loss: 0.0584 - acc:\n",
      "Epoch 00005: loss improved from 0.08205 to 0.05036, saving model to training/cp.ckpt\n",
      "35/35 [==============================] - 7s 189ms/step - loss: 0.0504 - acc: 0.9818 - val_loss: 0.6303 - val_acc: 0.8529\n",
      "Epoch 6/50\n",
      "34/35 [============================>.] - ETA: 0s - loss: 0.0776 - acc: 0.9743- ETA: 1s - loss: 0.0476  - ETA: 0s - loss: 0.0515 - acc: 0.97 - ETA: 0s - loss: 0.0480 - acc: 0.978 - ETA: 0s - loss: 0.0462 - acc: 0.97 - ETA: 0s - loss: 0.0564 - acc: 0. - ETA: 0s - loss: 0.0799 - acc: 0.973\n",
      "Epoch 00006: loss did not improve from 0.05036\n",
      "35/35 [==============================] - 2s 71ms/step - loss: 0.0770 - acc: 0.9745 - val_loss: 0.6271 - val_acc: 0.8235\n",
      "Epoch 7/50\n",
      "34/35 [============================>.] - ETA: 0s - loss: 0.1030 - acc: 0.9669- ETA: 1s - loss: 0.1284 - acc - ETA: 1s - loss: 0.0421 - acc: 0 - ETA: 1s - loss: 0.0366 - acc: - ETA: 0s - loss: 0.0430 - acc: 0 - ETA: 0s - loss: 0.0466 - acc: 0.98 - ETA: 0s - loss: 0.0569 - acc: 0.\n",
      "Epoch 00007: loss did not improve from 0.05036\n",
      "35/35 [==============================] - 2s 69ms/step - loss: 0.1031 - acc: 0.9672 - val_loss: 0.3554 - val_acc: 0.8382\n",
      "Epoch 8/50\n",
      "34/35 [============================>.] - ETA: 0s - loss: 0.1110 - acc: 0.9659- ETA: 1s - loss: 0.3182 - acc:  - ETA: 1s - loss: - ETA: 0s - loss: 0.1012 - acc: 0.96 - ETA: 0s - loss: 0.1078 - acc: 0.9669\n",
      "Epoch 00008: loss did not improve from 0.05036\n",
      "35/35 [==============================] - 2s 69ms/step - loss: 0.1070 - acc: 0.9672 - val_loss: 0.9530 - val_acc: 0.8382\n",
      "Epoch 9/50\n",
      "34/35 [============================>.] - ETA: 0s - loss: 0.0633 - acc: 0.9798- ETA: 1s - loss: 0.0785 - acc:  - ETA: 0s - loss: 0.0803 - acc: - ETA: 0s - loss: 0.0687 - acc: 0.977 - ETA: 0s - loss: 0.0669 - acc: 0\n",
      "Epoch 00009: loss did not improve from 0.05036\n",
      "35/35 [==============================] - 2s 69ms/step - loss: 0.0628 - acc: 0.9799 - val_loss: 0.4150 - val_acc: 0.8676\n",
      "Epoch 10/50\n",
      "34/35 [============================>.] - ETA: 0s - loss: 0.0462 - acc: 0.9816- ETA: 1s - loss: 0.0678 - acc: 0.96 - ETA: 1s - loss: 0.0573 - acc: 0.97 - ETA: 1s - loss: 0.0523 - - ETA: 0s - loss: 0.0396 \n",
      "Epoch 00010: loss improved from 0.05036 to 0.04585, saving model to training/cp.ckpt\n",
      "35/35 [==============================] - 6s 183ms/step - loss: 0.0459 - acc: 0.9818 - val_loss: 0.8573 - val_acc: 0.7941\n",
      "Epoch 11/50\n",
      "34/35 [============================>.] - ETA: 0s - loss: 0.1259 - acc: 0.9669- ETA: 1s - loss: 0.1067 - acc: 0.965 - ETA: 1s - loss: 0.0978 - acc: 0. - ETA: 1s - loss: 0.1702 - acc: 0.960 - ETA: 1s - loss: 0.1605 - ETA: 0s - loss: 0.1354 - acc: 0.9\n",
      "Epoch 00011: loss did not improve from 0.04585\n",
      "35/35 [==============================] - 2s 70ms/step - loss: 0.1252 - acc: 0.9672 - val_loss: 0.4314 - val_acc: 0.8824\n",
      "Epoch 12/50\n",
      "34/35 [============================>.] - ETA: 0s - loss: 0.0122 - acc: 0.9963- ETA: 1s - loss: 0.0319 - acc: 0. - ETA: 1s - loss: 0.0246 - acc: 0 - ETA: 1s - loss: 0.01\n",
      "Epoch 00012: loss improved from 0.04585 to 0.01210, saving model to training/cp.ckpt\n",
      "35/35 [==============================] - 7s 187ms/step - loss: 0.0121 - acc: 0.9964 - val_loss: 0.4325 - val_acc: 0.8971\n",
      "Epoch 13/50\n",
      "34/35 [============================>.] - ETA: 0s - loss: 0.0252 - acc: 0.9926- ETA: 1s - loss: 0.0410 -  - ETA: 0s - loss: 0.0336 -\n",
      "Epoch 00013: loss did not improve from 0.01210\n",
      "35/35 [==============================] - 2s 69ms/step - loss: 0.0250 - acc: 0.9927 - val_loss: 0.6383 - val_acc: 0.8529\n",
      "Epoch 14/50\n",
      "34/35 [============================>.] - ETA: 0s - loss: 0.0582 - acc: 0.9945- ETA: 1s - loss: 0.2063 - acc: 0.984 - ETA: 1s - loss: 0.1842 - acc: 0. - ETA: 1s - loss: 0.1356 - acc: 0.99 - ETA: 1s - loss: 0.1181 - acc: - ETA: 0s - loss: 0.0866 - a - ETA: 0s - loss: 0.0618 - acc: 0.99\n",
      "Epoch 00014: loss did not improve from 0.01210\n",
      "35/35 [==============================] - 2s 69ms/step - loss: 0.0578 - acc: 0.9945 - val_loss: 0.4091 - val_acc: 0.8971\n",
      "Epoch 15/50\n",
      "34/35 [============================>.] - ETA: 0s - loss: 0.0018 - acc: 1.00000000- ETA: 1s - loss: 0.0013 - acc: 1.000 - ETA: 1s - loss: 6.6986e-04 - acc: 1.000 - ETA: 1s - loss: 6.1236e-04 - acc: 1.000 - ETA: 1s - loss: 0.0011 - acc: 1.0000 - ETA: 1s - loss: 8.2103e-04 - acc: 1. - ETA: 0s - loss: 6.8436e-04 - acc: 1.000 - ETA: 0s - loss: 6.5425e-04 - acc - ETA: 0s - loss: 5.0917e-04 - acc: 1. - ETA: 0s - loss: 0.0018 - acc: 1.0000   \n",
      "Epoch 00015: loss improved from 0.01210 to 0.00176, saving model to training/cp.ckpt\n",
      "35/35 [==============================] - 7s 186ms/step - loss: 0.0018 - acc: 1.0000 - val_loss: 0.5514 - val_acc: 0.9118\n",
      "Epoch 16/50\n",
      "34/35 [============================>.] - ETA: 0s - loss: 1.2497e-04 - acc: 1.0000- ETA: 1s - loss: 5.8924e-04 - acc: 1. - ETA: 1s - loss: 3.6098e-04 - acc: 1.000 - ETA: 1s - loss: 3.2962e-04 - acc: 1.00 - ETA: 1s - loss: 2.7915e-04 - acc: 1.000 - ETA: 1s - loss: 2.5922e-04 - acc: 1. - ETA: 1s - loss: 2.0367e-04 - acc: 1.0 - ETA: 0s - loss: 1.7561e-04 - ac - ETA: 0s - loss: 1.3810e-04 - acc: 1.\n",
      "Epoch 00016: loss improved from 0.00176 to 0.00012, saving model to training/cp.ckpt\n",
      "35/35 [==============================] - 6s 186ms/step - loss: 1.2405e-04 - acc: 1.0000 - val_loss: 0.6021 - val_acc: 0.9118\n",
      "Epoch 17/50\n",
      "34/35 [============================>.] - ETA: 0s - loss: 1.4941e-05 - acc: 1.0000- ETA: 1s - loss: 6.3897e-06 - acc: 1.0 - ETA: 1s - loss: 5.7733e-06 - acc:  - ETA: 1s - loss: 5.2701e-06 - ETA: 0s - loss: 1.5629e-05 - acc:  - ETA: 0s - loss: 0.0048 - acc: 0.9982    \n",
      "Epoch 00017: loss did not improve from 0.00012\n",
      "35/35 [==============================] - 2s 69ms/step - loss: 0.0048 - acc: 0.9982 - val_loss: 0.6590 - val_acc: 0.8971\n",
      "Epoch 18/50\n",
      "34/35 [============================>.] - ETA: 0s - loss: 8.3249e-04 - acc: 1.0000- ETA: 1s - loss: 0.0047 - acc: 1 - ETA: 1s - loss: 0.0023 - - ETA: 0s - loss: 0.0011 - acc: 1.000 - ETA: 0s - loss: 0.0011 - acc: 1.00 - ETA: 0s - loss: 0.0010 - acc: 1.00 - ETA: 0s - loss: 0.0010 - acc: - ETA: 0s - loss: 8.0839e-04 - acc: 1.0000\n",
      "Epoch 00018: loss did not improve from 0.00012\n",
      "35/35 [==============================] - 2s 70ms/step - loss: 8.0261e-04 - acc: 1.0000 - val_loss: 0.7223 - val_acc: 0.8824\n",
      "Epoch 19/50\n",
      "34/35 [============================>.] - ETA: 0s - loss: 0.0045 - acc: 0.9982    - ETA: 1s - loss: 6.3749e-05 - acc: 1.0 - ETA: 1s - loss: 4.6725e-05 - acc: 1.000 - ETA: 1s - loss: 4\n",
      "Epoch 00019: loss did not improve from 0.00012\n",
      "35/35 [==============================] - 2s 69ms/step - loss: 0.0045 - acc: 0.9982 - val_loss: 0.6108 - val_acc: 0.9118\n",
      "Epoch 20/50\n",
      "34/35 [============================>.] - ETA: 0s - loss: 0.0030 - acc: 0.9981    - ETA: 1s - loss: - ETA: 0s - loss: 0.0029 - acc: 0.9982\n",
      "Epoch 00020: loss did not improve from 0.00012\n",
      "35/35 [==============================] - 2s 69ms/step - loss: 0.0029 - acc: 0.9982 - val_loss: 0.6274 - val_acc: 0.9118\n",
      "Epoch 21/50\n",
      "34/35 [============================>.] - ETA: 0s - loss: 0.0017 - acc: 1.0000- ETA: 1s - loss: 0.0043 - acc:  - ETA: 0s - loss: 0.003\n",
      "Epoch 00021: loss did not improve from 0.00012\n",
      "35/35 [==============================] - 2s 71ms/step - loss: 0.0016 - acc: 1.0000 - val_loss: 0.6564 - val_acc: 0.9118\n",
      "Epoch 22/50\n",
      "34/35 [============================>.] - ETA: 0s - loss: 2.7461e-04 - acc: 1.0000- ETA: 1s - loss: 1.4527e-05 - acc - ETA: 1s - loss: 2.0711e-04 - acc: 1.00 - ETA: 0s - loss: 1.8675e-04\n",
      "Epoch 00022: loss did not improve from 0.00012\n",
      "35/35 [==============================] - 2s 69ms/step - loss: 2.7261e-04 - acc: 1.0000 - val_loss: 0.6747 - val_acc: 0.9118\n",
      "Epoch 23/50\n",
      "34/35 [============================>.] - ETA: 0s - loss: 4.2445e-05 - acc: 1.0000- ETA: 1s - loss: 1.7716e-05 - acc: 1.000 - ETA: 1s - loss: 1.4771e-05 - ac - ETA: 1s - loss: 9.3997e-05 - acc: 1. - ETA: 0s - loss: 7.4820e-0\n",
      "Epoch 00023: loss improved from 0.00012 to 0.00004, saving model to training/cp.ckpt\n",
      "35/35 [==============================] - 6s 178ms/step - loss: 4.2135e-05 - acc: 1.0000 - val_loss: 0.6899 - val_acc: 0.9118\n",
      "Epoch 24/50\n",
      "34/35 [============================>.] - ETA: 0s - loss: 2.1928e-05 - acc: 1.0000- ETA: 1s - loss: 6.9669e-06 - acc: 1. - ETA: 1s - loss: 6.4968e-06 - acc:  - ETA: 0s - loss: 1.2584e-05 - acc: 1.0 - ETA: 0s - loss: 1.1256e-05 - acc:  - ETA: 0s - loss: 2.4708e-05 - acc: 1.\n",
      "Epoch 00024: loss improved from 0.00004 to 0.00002, saving model to training/cp.ckpt\n",
      "35/35 [==============================] - 7s 190ms/step - loss: 2.1769e-05 - acc: 1.0000 - val_loss: 0.7007 - val_acc: 0.9118\n",
      "Epoch 25/50\n",
      "34/35 [============================>.] - ETA: 0s - loss: 1.3099e-05 - acc: 1.0000- ETA: 1s - loss: 1.9444e-06  - ETA: 0s - loss: 8.9325e-06 - ac\n",
      "Epoch 00025: loss improved from 0.00002 to 0.00001, saving model to training/cp.ckpt\n",
      "35/35 [==============================] - 7s 191ms/step - loss: 1.3003e-05 - acc: 1.0000 - val_loss: 0.7090 - val_acc: 0.9118\n",
      "Epoch 26/50\n",
      "34/35 [============================>.] - ETA: 0s - loss: 1.0200e-05 - acc: 1.0000- ETA: 1s - loss: 1.9709e-06 - acc: 1.000 - ETA: 1s - loss: 2.3043e-06 - acc: 1 - ETA: 1s - loss: 1.1821e-05 - acc: 1.0 - ETA: 1s - loss: 1.0042e-05 - a - ETA: 0s - loss: 7.0004e-06 - acc: 1.00 - ETA: 0s - loss: 1.0379e-05 - acc: 1.\n",
      "Epoch 00026: loss improved from 0.00001 to 0.00001, saving model to training/cp.ckpt\n",
      "35/35 [==============================] - 7s 189ms/step - loss: 1.0126e-05 - acc: 1.0000 - val_loss: 0.7155 - val_acc: 0.9118\n",
      "Epoch 27/50\n",
      "34/35 [============================>.] - ETA: 0s - loss: 7.9793e-06 - acc: 1.0000- ETA: 1s - loss: 2.7408e-05 - acc: 1 - ETA: 1s - loss: 1.7657e-05 - ETA: 0s - loss: 8.8586e-06 - acc:\n",
      "Epoch 00027: loss improved from 0.00001 to 0.00001, saving model to training/cp.ckpt\n",
      "35/35 [==============================] - 7s 191ms/step - loss: 7.9210e-06 - acc: 1.0000 - val_loss: 0.7240 - val_acc: 0.9118\n",
      "Epoch 28/50\n",
      "34/35 [============================>.] - ETA: 0s - loss: 6.4966e-06 - acc: 1.0000- ETA: 1s - loss: 1.2579e-05 - acc: 1.0 - ETA: 1s - loss: 1.2519e-05 - acc: - ETA: 1s - loss: 7.4975e-06 - acc: 1.000 - ETA: 1s - loss: 7.1530e- - ETA: 0s - loss: 6.3778e-06 - acc: 1.0000\n",
      "Epoch 00028: loss improved from 0.00001 to 0.00001, saving model to training/cp.ckpt\n",
      "35/35 [==============================] - 7s 189ms/step - loss: 6.3313e-06 - acc: 1.0000 - val_loss: 0.7336 - val_acc: 0.8971\n",
      "Epoch 29/50\n",
      "34/35 [============================>.] - ETA: 0s - loss: 5.3911e-06 - acc: 1.0000- ETA: 1s - loss: 2.4546e-06 - acc: 1.00 - ETA: 1s - loss: 6.4000e-06 - acc: 1.000 - ETA: 1s - loss: 5.9908e-06 - acc: 1.00 - ETA: 1s - loss: 6.3027e-06 - acc: 1.0 - ETA: 0s - loss: 5.4199e-06\n",
      "Epoch 00029: loss improved from 0.00001 to 0.00001, saving model to training/cp.ckpt\n",
      "35/35 [==============================] - 7s 190ms/step - loss: 5.3518e-06 - acc: 1.0000 - val_loss: 0.7403 - val_acc: 0.8971\n",
      "Epoch 30/50\n",
      "34/35 [============================>.] - ETA: 0s - loss: 4.5858e-06 - acc: 1.0000- ETA: 1s - loss: 8.4302e-06 - acc: 1 - ETA: 0s - loss: 7.0893e-06 - acc: 1. - ETA: 0s - loss: 5.9696e-06 - ac\n",
      "Epoch 00030: loss improved from 0.00001 to 0.00000, saving model to training/cp.ckpt\n",
      "35/35 [==============================] - 7s 189ms/step - loss: 4.5523e-06 - acc: 1.0000 - val_loss: 0.7456 - val_acc: 0.8971\n",
      "Epoch 31/50\n",
      "34/35 [============================>.] - ETA: 0s - loss: 3.9373e-06 - acc: 1.0000- ETA: 1s - loss: 1.5570e-06 - acc: 1.000 - ETA: 1s - loss: 1.4584e-06 - acc: 1 - ETA: 1s - loss: 1.0670e-06 - acc - ETA: 0s - loss: 4.8107e-06 - acc: 1.00 - ETA: 0s - loss: 4.5261e-06 - acc: 1.000 - ETA: 0s - loss: 4.4106e-06 - acc: 1\n",
      "Epoch 00031: loss improved from 0.00000 to 0.00000, saving model to training/cp.ckpt\n",
      "35/35 [==============================] - 7s 187ms/step - loss: 3.9090e-06 - acc: 1.0000 - val_loss: 0.7503 - val_acc: 0.8971\n",
      "Epoch 32/50\n",
      "34/35 [============================>.] - ETA: 0s - loss: 3.4817e-06 - acc: 1.0000- ETA: 1s - loss: 8.5350e-06 - acc: 1.00 - ETA: 1s - loss: 7.0083e-06 -  - ETA: 0s - loss: 3.8970e-06 -\n",
      "Epoch 00032: loss improved from 0.00000 to 0.00000, saving model to training/cp.ckpt\n",
      "35/35 [==============================] - 6s 184ms/step - loss: 3.4563e-06 - acc: 1.0000 - val_loss: 0.7540 - val_acc: 0.9118\n",
      "Epoch 33/50\n",
      "34/35 [============================>.] - ETA: 0s - loss: 3.0393e-06 - acc: 1.0000- ETA: 1s - loss: 4.9918e-07 - acc: 1.0 - ETA: 1s - loss: 3.7252 - ETA: 0s - loss: 3.1827e-06 - acc: \n",
      "Epoch 00033: loss improved from 0.00000 to 0.00000, saving model to training/cp.ckpt\n",
      "35/35 [==============================] - 6s 179ms/step - loss: 3.0175e-06 - acc: 1.0000 - val_loss: 0.7580 - val_acc: 0.9118\n",
      "Epoch 34/50\n",
      "34/35 [============================>.] - ETA: 0s - loss: 2.7646e-06 - acc: 1.0000- ETA: 1s - loss: 3.2256e-06 - acc: 1.00 - ETA: 1s - loss: 4.4363e-06 - acc: 1 - ETA: 0s - loss: 3.5432e-06 - acc: 1.00 - ETA: 0s - loss: 3.2544e-06 - acc: 1.00 - ETA: 0s - loss: 3.0072e-06 - acc: 1 - ETA: 0s - loss: 2.9115e-06 - acc: 1.000 - ETA: 0s - loss: 2.8294e-06 - acc: 1.00 - ETA: 0s - loss: 2.6833e-06 - acc: 1.0000\n",
      "Epoch 00034: loss improved from 0.00000 to 0.00000, saving model to training/cp.ckpt\n",
      "35/35 [==============================] - 7s 191ms/step - loss: 2.6637e-06 - acc: 1.0000 - val_loss: 0.7646 - val_acc: 0.9118\n",
      "Epoch 35/50\n",
      "34/35 [============================>.] - ETA: 0s - loss: 2.3166e-06 - acc: 1.0000- ETA: 1s - loss: 1.9203e-06 - acc: 1.000 - ETA: 1s - loss: 1.8230e-06 - ac - ETA: 0s - loss: 1.1619e-06 - acc: 1.000 - ETA: 0s - loss: 1.1120e-06 - acc: 1.000 - ETA: 0s - loss: 1.0958e-06 - acc: 1. - ETA: 0s - loss: 1.9154e-06 - acc: 1 - ETA: 0s - loss: 2.3830e-06 - acc: 1.000\n",
      "Epoch 00035: loss improved from 0.00000 to 0.00000, saving model to training/cp.ckpt\n",
      "35/35 [==============================] - 7s 188ms/step - loss: 2.2997e-06 - acc: 1.0000 - val_loss: 0.7684 - val_acc: 0.9118\n",
      "Epoch 36/50\n",
      "34/35 [============================>.] - ETA: 0s - loss: 1.9961e-06 - acc: 1.0000- ETA: 1s - loss: 9.2235e-07 - acc: 1.00 - ETA: 1s - loss: 1.7110e-06 - acc: 1 - ETA: 1s - loss: 1.3450e-06 - acc: 1 - ETA: 0s - loss: 1.1453e-06 - acc: 1.00 - ETA: 0s - loss: 1.7734e-06 - acc: 1. - ETA: 0s - loss: 2.2887e-06 - acc: 1. - ETA: 0s - loss: 2.1176e-06 - acc: 1.00\n",
      "Epoch 00036: loss improved from 0.00000 to 0.00000, saving model to training/cp.ckpt\n",
      "35/35 [==============================] - 7s 188ms/step - loss: 1.9815e-06 - acc: 1.0000 - val_loss: 0.7743 - val_acc: 0.9118\n",
      "Epoch 37/50\n",
      "34/35 [============================>.] - ETA: 0s - loss: 1.7501e-06 - acc: 1.0000- ETA: 1s - loss: 5.5985e-07 - acc: - ETA: 1s - loss: 1.5060e-06 - acc: 1.00 - ETA: 1s - loss: 1.3848e-06 - acc: 1.0 - ETA: 1s - loss: 1.1755e-06 -  - ETA: 0s - loss: 1.6136e-06 - acc: 1.\n",
      "Epoch 00037: loss improved from 0.00000 to 0.00000, saving model to training/cp.ckpt\n",
      "35/35 [==============================] - 7s 191ms/step - loss: 1.7373e-06 - acc: 1.0000 - val_loss: 0.7771 - val_acc: 0.9118\n",
      "Epoch 38/50\n",
      "34/35 [============================>.] - ETA: 0s - loss: 1.4950e-06 - acc: 1.0000- ETA: 1s - loss: 1.3991e-0 - ETA: 0s - loss: 1.9975e-06 - ac\n",
      "Epoch 00038: loss improved from 0.00000 to 0.00000, saving model to training/cp.ckpt\n",
      "35/35 [==============================] - 7s 189ms/step - loss: 1.5013e-06 - acc: 1.0000 - val_loss: 0.7842 - val_acc: 0.9118\n",
      "Epoch 39/50\n",
      "34/35 [============================>.] - ETA: 0s - loss: 1.3062e-06 - acc: 1.0000- ETA: 1s - loss: 2.5651e-07 - acc: 1.00 - ETA: 1s - loss: 2.8312e-07 - acc: - ETA: 1s - loss: 4.9033e-07 - acc: 1.0 - ETA: 1s - loss: 4.4585e-0\n",
      "Epoch 00039: loss improved from 0.00000 to 0.00000, saving model to training/cp.ckpt\n",
      "35/35 [==============================] - 7s 189ms/step - loss: 1.2966e-06 - acc: 1.0000 - val_loss: 0.7887 - val_acc: 0.9118\n",
      "Epoch 40/50\n",
      "34/35 [============================>.] - ETA: 0s - loss: 1.1817e-06 - acc: 1.0000- ETA: 1s - loss: 3.3348e-06 - - ETA: 0s - loss: 1.5530e-06 - acc: - ETA: 0s - loss: 1.4696e-06 - acc: 1.000 - ETA: 0s - loss: 1.4248e-06 - acc: \n",
      "Epoch 00040: loss improved from 0.00000 to 0.00000, saving model to training/cp.ckpt\n",
      "35/35 [==============================] - 7s 186ms/step - loss: 1.1731e-06 - acc: 1.0000 - val_loss: 0.7949 - val_acc: 0.9118\n",
      "Epoch 41/50\n",
      "34/35 [============================>.] - ETA: 0s - loss: 1.0248e-06 - acc: 1.0000- ETA: 1s - loss: 7.3237e-07 - acc: 1.000 - ETA: 1s - loss: 6.6783e-07 - acc:  - ETA: 1s - loss: 1.2455e-06 -  - ETA: 0s - loss: 1.2359e-06 - acc: \n",
      "Epoch 00041: loss improved from 0.00000 to 0.00000, saving model to training/cp.ckpt\n",
      "35/35 [==============================] - 6s 185ms/step - loss: 1.0174e-06 - acc: 1.0000 - val_loss: 0.7993 - val_acc: 0.9118\n",
      "Epoch 42/50\n",
      "34/35 [============================>.] - ETA: 0s - loss: 9.3938e-07 - acc: 1.0000- ETA: 1s - loss: 6.0646e-07 - ac - ETA: 0s - loss: 7.7142e-07 - acc: 1 - ETA: 0s - loss: 1.0191e-06 - acc: 1\n",
      "Epoch 00042: loss improved from 0.00000 to 0.00000, saving model to training/cp.ckpt\n",
      "35/35 [==============================] - 6s 181ms/step - loss: 9.3253e-07 - acc: 1.0000 - val_loss: 0.8043 - val_acc: 0.9118\n",
      "Epoch 43/50\n",
      "34/35 [============================>.] - ETA: 0s - loss: 6.8136e-07 - acc: 1.0000- ETA: 1s - loss: 1.4687e-06 - acc: 1 - ETA: 1s - loss: 1.4031e-06 - acc - ETA: 0s - loss: 9.8827e-07 - acc: 1.00 - ETA: 0s - loss: 9.0317e-07 - acc: 1.000 - ETA: 0s - loss: 8.7751e-07 - acc: 1.000 - ETA: 0s - loss: 8.5336e-07 - acc: - ETA: 0s - loss: 7.0152e-07 - acc: 1.0 - ETA: 0s - loss: 8.5700e-07 - acc: 1.0000\n",
      "Epoch 00043: loss improved from 0.00000 to 0.00000, saving model to training/cp.ckpt\n",
      "35/35 [==============================] - 7s 189ms/step - loss: 8.5205e-07 - acc: 1.0000 - val_loss: 0.8063 - val_acc: 0.9118\n",
      "Epoch 44/50\n",
      "34/35 [============================>.] - ETA: 0s - loss: 7.6541e-07 - acc: 1.0000- ETA: 1s - loss: 7.0035e-08 - acc:  - ETA: 1s - loss: 2.7635e-07 - acc - ETA: 0s - loss: 6.7562e-07 - - ETA: 0s - loss: 6.4337e-07 - acc: 1.0\n",
      "Epoch 00044: loss improved from 0.00000 to 0.00000, saving model to training/cp.ckpt\n",
      "35/35 [==============================] - 7s 190ms/step - loss: 7.6700e-07 - acc: 1.0000 - val_loss: 0.8112 - val_acc: 0.9118\n",
      "Epoch 45/50\n",
      "34/35 [============================>.] - ETA: 0s - loss: 7.1107e-07 - acc: 1.0000- ETA: 1s - loss: 3.8399e-07 - acc: 1.000 - ETA: 1s - loss: 3.5975e-07 - acc: 1. - ETA: 1s - loss: 3.0588e-07 - acc: 1 - ETA: 0s - loss: 4.3893e-07 - acc: 1.0 - ETA: 0s - loss: 6.2039e-07 - acc\n",
      "Epoch 00045: loss improved from 0.00000 to 0.00000, saving model to training/cp.ckpt\n",
      "35/35 [==============================] - 7s 188ms/step - loss: 7.0588e-07 - acc: 1.0000 - val_loss: 0.8173 - val_acc: 0.9118\n",
      "Epoch 46/50\n",
      "34/35 [============================>.] - ETA: 0s - loss: 6.5650e-07 - acc: 1.0000- ETA: 0s - loss: 8.9186e-07 - acc - ETA: 0s - loss: 6.7542e-07 - acc: 1.00\n",
      "Epoch 00046: loss improved from 0.00000 to 0.00000, saving model to training/cp.ckpt\n",
      "35/35 [==============================] - 7s 187ms/step - loss: 6.5171e-07 - acc: 1.0000 - val_loss: 0.8210 - val_acc: 0.9118\n",
      "Epoch 47/50\n",
      "34/35 [============================>.] - ETA: 0s - loss: 6.0523e-07 - acc: 1.0000- ETA: 1s - loss: 1.6391e-08 - acc: 1.0 - ETA: 1s - loss: 1.6205e-07 - acc: 1.0 - ETA: 1s - loss: 5.7232e- - ETA: 0s - loss: 6.8598e-07 - acc:\n",
      "Epoch 00047: loss improved from 0.00000 to 0.00000, saving model to training/cp.ckpt\n",
      "35/35 [==============================] - 7s 188ms/step - loss: 6.0103e-07 - acc: 1.0000 - val_loss: 0.8250 - val_acc: 0.9118\n",
      "Epoch 48/50\n",
      "34/35 [============================>.] - ETA: 0s - loss: 5.6710e-07 - acc: 1.0000- ETA: 1s - loss: 1.0281e-06 - acc: 1. - ETA: 1s - loss: 9.5020e-07 - acc: 1.00 - ETA: 1s - loss: 8.2401e-07 - acc: 1.000 - ETA: 1s - loss: 7.9765e-07 - acc: 1.00 - ETA: 1s - loss: 7.2393e-07 - acc: 1. - ETA: 0s - loss: 6.1601e-07 -\n",
      "Epoch 00048: loss improved from 0.00000 to 0.00000, saving model to training/cp.ckpt\n",
      "35/35 [==============================] - 7s 189ms/step - loss: 5.6296e-07 - acc: 1.0000 - val_loss: 0.8277 - val_acc: 0.9118\n",
      "Epoch 49/50\n",
      "34/35 [============================>.] - ETA: 0s - loss: 3.5170e-07 - acc: 1.0000- ETA: 0s - loss: 3.4719e-07 - acc: 1. - ETA: 0s - loss: 4.8273e-07 - acc - ETA: 0s - loss: 3.7136e-07 - acc: 1.00\n",
      "Epoch 00049: loss improved from 0.00000 to 0.00000, saving model to training/cp.ckpt\n",
      "35/35 [==============================] - 7s 188ms/step - loss: 5.1902e-07 - acc: 1.0000 - val_loss: 0.8332 - val_acc: 0.9118\n",
      "Epoch 50/50\n",
      "34/35 [============================>.] - ETA: 0s - loss: 4.6599e-07 - acc: 1.0000- ETA: 1s - loss: 1.4156e-07 - ETA: 0s - loss: 4.2574e-07 - acc: 1.000 - ETA: 0s - loss: 4.0673e-07 - acc:  - ETA: 0s - loss: 5.2738e-07 - acc:  - ETA: 0s - loss: 4.5228e-07 - acc: 1.0000\n",
      "Epoch 00050: loss improved from 0.00000 to 0.00000, saving model to training/cp.ckpt\n",
      "35/35 [==============================] - 7s 189ms/step - loss: 4.4898e-07 - acc: 1.0000 - val_loss: 0.8374 - val_acc: 0.9118\n"
     ]
    }
   ],
   "source": [
    "#모델의 가중치 저장\n",
    "checkpoint = ModelCheckpoint(filepath=checkpoint_path,\n",
    "            monitor='loss', \n",
    "            mode='min',\n",
    "            save_best_only=True,\n",
    "            save_weights_only=True,\n",
    "            verbose=1)\n",
    "\n",
    "#새로운 콜백으로 모델 훈련하기\n",
    "history = model.fit_generator(train_generator, \n",
    "            steps_per_epoch=math.ceil(train_generator.n / train_generator.batch_size), \n",
    "            epochs=50, \n",
    "            validation_data=val_generator, \n",
    "            validation_steps=math.ceil(val_generator.n / val_generator.batch_size), \n",
    "            callbacks=[checkpoint],\n",
    "            shuffle=False)"
   ]
  },
  {
   "cell_type": "code",
   "execution_count": 13,
   "id": "f4e780f8",
   "metadata": {},
   "outputs": [
    {
     "data": {
      "image/png": "[encoded data removed]",
      "text/plain": [
       "<Figure size 1080x360 with 2 Axes>"
      ]
     },
     "metadata": {},
     "output_type": "display_data"
    }
   ],
   "source": [
    "acc = history.history['acc']\n",
    "val_acc = history.history['val_acc']\n",
    "\n",
    "loss = history.history['loss']\n",
    "val_loss = history.history['val_loss']\n",
    "\n",
    "epochs = range(1, len(acc) +1)\n",
    "    \n",
    "    \n",
    "\n",
    "fig = plt.figure()\n",
    "fig.set_size_inches(15, 5)\n",
    "\n",
    "fig.add_subplot(1, 2, 1)\n",
    "plt.plot(epochs, acc, 'b', label ='Training acc')\n",
    "plt.plot(epochs, val_acc, 'r', label = 'Validation acc')\n",
    "plt.title('Training and validation accuracy')\n",
    "plt.legend()\n",
    "\n",
    "# plt.figure()\n",
    "fig.add_subplot(1, 2, 2) \n",
    "plt.plot(epochs, loss, 'b', label = \"Training loss\")\n",
    "plt.plot(epochs, val_loss, 'r', label ='Validation loss')\n",
    "plt.title('Training and validation lose')\n",
    "plt.legend()\n",
    "\n",
    "plt.show()"
   ]
  },
  {
   "cell_type": "code",
   "execution_count": 14,
   "id": "d39f5777",
   "metadata": {},
   "outputs": [
    {
     "name": "stdout",
     "output_type": "stream",
     "text": [
      " C 드라이브의 볼륨에는 이름이 없습니다.\n",
      " 볼륨 일련 번호: 5848-7E5C\n",
      "\n",
      " C:\\Users\\yukir\\Documents\\Monicas_workspace\\Datasets\\[0823]output\\training 디렉터리\n",
      "\n",
      "2021-08-30  오후 01:51    <DIR>          .\n",
      "2021-08-30  오후 01:51    <DIR>          ..\n",
      "2021-08-30  오후 01:51                71 checkpoint\n",
      "2021-08-30  오후 01:51             7,593 cp.ckpt.data-00000-of-00002\n",
      "2021-08-30  오후 01:51     1,090,792,776 cp.ckpt.data-00001-of-00002\n",
      "2021-08-30  오후 01:51             4,030 cp.ckpt.index\n",
      "               4개 파일       1,090,804,470 바이트\n",
      "               2개 디렉터리  335,198,797,824 바이트 남음\n"
     ]
    }
   ],
   "source": [
    "#맥에서는 !ls\n",
    "#저장된 checkpoint확인하기\n",
    "!dir {checkpoint_dir}"
   ]
  },
  {
   "cell_type": "code",
   "execution_count": 15,
   "id": "7693c4b4",
   "metadata": {},
   "outputs": [
    {
     "data": {
      "text/plain": [
       "'training\\\\cp.ckpt'"
      ]
     },
     "execution_count": 15,
     "metadata": {},
     "output_type": "execute_result"
    }
   ],
   "source": [
    "#가장 마지막에 만들어진 체크포인트 확인\n",
    "latest = tf.train.latest_checkpoint(checkpoint_dir)\n",
    "latest"
   ]
  },
  {
   "cell_type": "code",
   "execution_count": 16,
   "id": "f29a66f3",
   "metadata": {},
   "outputs": [
    {
     "name": "stdout",
     "output_type": "stream",
     "text": [
      "5/5 - 1s - loss: 1.5150 - acc: 0.1528\n",
      "훈련되지 않은 모델의 정확도: 15.28%\n"
     ]
    }
   ],
   "source": [
    "# 기본 모델 객체를 만듭니다\n",
    "model = create_model()\n",
    "\n",
    "# 모델을 평가합니다\n",
    "loss, acc = model.evaluate(test_generator, verbose=2)\n",
    "print(\"훈련되지 않은 모델의 정확도: {:5.2f}%\".format(100*acc))"
   ]
  },
  {
   "cell_type": "code",
   "execution_count": 17,
   "id": "b96c5d56",
   "metadata": {},
   "outputs": [
    {
     "name": "stdout",
     "output_type": "stream",
     "text": [
      "5/5 [==============================] - 0s 37ms/step - loss: 0.6804 - acc: 0.8889\n",
      "복원된 모델의 정확도: 88.89%\n"
     ]
    }
   ],
   "source": [
    "# 가중치 로드\n",
    "model.load_weights(latest)\n",
    "\n",
    "# 모델 재평가\n",
    "loss,acc = model.evaluate(test_generator)\n",
    "print(\"복원된 모델의 정확도: {:5.2f}%\".format(100*acc))"
   ]
  },
  {
   "cell_type": "markdown",
   "id": "cd33b009",
   "metadata": {},
   "source": [
    "#### final model save"
   ]
  },
  {
   "cell_type": "code",
   "execution_count": null,
   "id": "84e67928",
   "metadata": {},
   "outputs": [],
   "source": [
    "model.save('0830_4class_prevgg.h5')\n",
    "\n",
    "model_json = model.to_json() \n",
    "with open(\"0830_4class_prevgg.json\", \"w\") as json_file : \n",
    "    json_file.write(model_json)\n",
    "\n",
    "model.save_weights(\"0830_4class_prevgg_weight.h5\")\n",
    "print(\"Saved model to disk\")"
   ]
  },
  {
   "cell_type": "markdown",
   "id": "3a255edf",
   "metadata": {},
   "source": [
    "#### confusion matrix"
   ]
  },
  {
   "cell_type": "raw",
   "id": "8723f916",
   "metadata": {},
   "source": [
    "https://datascienceschool.net/03%20machine%20learning/09.04%20%EB%B6%84%EB%A5%98%20%EC%84%B1%EB%8A%A5%ED%8F%89%EA%B0%80.html"
   ]
  },
  {
   "cell_type": "raw",
   "id": "59e2fdb0",
   "metadata": {},
   "source": [
    "https://gist.github.com/RyanAkilos/3808c17f79e77c4117de35aa68447045\n",
    "https://stackoverflow.com/questions/50825936/confusion-matrix-on-images-in-cnn-keras"
   ]
  },
  {
   "cell_type": "raw",
   "id": "c79de250",
   "metadata": {},
   "source": [
    "keras 에서 predict와 predict_generator가 다른 값을 내는 경우\n",
    "Image data generator는 pil library로 이미지를 불러오는데 이때는 RGB, opencv 는 BGR로 불러옴, opencv로 불러오는 경우는 색상변형필요\n",
    "test_generator.reset()꼭 해줘야함"
   ]
  },
  {
   "cell_type": "code",
   "execution_count": null,
   "id": "5c1908e6",
   "metadata": {},
   "outputs": [
    {
     "name": "stdout",
     "output_type": "stream",
     "text": [
      "WARNING:tensorflow:From C:\\Users\\yukir\\AppData\\Local\\Temp/ipykernel_15948/1279687461.py:8: Model.predict_generator (from tensorflow.python.keras.engine.training) is deprecated and will be removed in a future version.\n",
      "Instructions for updating:\n",
      "Please use Model.predict, which supports generators.\n",
      "[2 3 1 0 2 2 0 0 3 3 0 1 0 2 1 0 0 2 2 0 1 0 0 0 0 3 2 0 0 0 0 2 2 3 0 3 2\n",
      " 1 1 0 3 3 0 0 1 1 2 1 3 0 1 2 0 2 0 3 3 2 0 3 0 0 2 0 1 0 0 3 2 0 0 0]\n",
      "Confusion Matrix\n",
      "[[16  4  7  4]\n",
      " [ 2  2  3  4]\n",
      " [ 6  4  4  4]\n",
      " [ 8  1  2  1]]\n",
      "              precision    recall  f1-score   support\n",
      "\n",
      "     fragile       0.50      0.52      0.51        31\n",
      "      handle       0.18      0.18      0.18        11\n",
      "          up       0.25      0.22      0.24        18\n",
      "         wet       0.08      0.08      0.08        12\n",
      "\n",
      "    accuracy                           0.32        72\n",
      "   macro avg       0.25      0.25      0.25        72\n",
      "weighted avg       0.32      0.32      0.32        72\n",
      "\n"
     ]
    }
   ],
   "source": [
    "#confusion matrix\n",
    "from sklearn.metrics import confusion_matrix\n",
    "\n",
    "# 1.Predict classes\n",
    "test_steps_per_epoch = np.math.ceil(test_generator.samples / test_generator.batch_size)\n",
    "\n",
    "\n",
    "predictions = model.predict_generator(test_generator, steps=test_steps_per_epoch)\n",
    "\n",
    "# Get most likely class axis=1(열로 가장 큰 수의 위치를 보겠다는 소리), \n",
    "predicted_classes = np.argmax(predictions, axis=1)\n",
    "\n",
    "print(predicted_classes)\n",
    "# 2.Get ground-truth classes and class-labels\n",
    "true_classes = test_generator.classes\n",
    "class_labels = list(test_generator.class_indices.keys())   \n",
    "# 3. Use scikit-learn to get statistics\n",
    "report = classification_report(true_classes, predicted_classes, target_names=class_labels)\n",
    "\n",
    "\n",
    "print('Confusion Matrix')\n",
    "print(confusion_matrix(test_generator.classes, predicted_classes))\n",
    "print(report)    "
   ]
  },
  {
   "cell_type": "code",
   "execution_count": 28,
   "id": "1e537967-916d-45d5-99dd-b1c1bc4bc388",
   "metadata": {},
   "outputs": [
    {
     "data": {
      "text/plain": [
       "{0: 'fragile', 1: 'handle', 2: 'up', 3: 'wet'}"
      ]
     },
     "execution_count": 28,
     "metadata": {},
     "output_type": "execute_result"
    }
   ],
   "source": [
    "get_label_dict(train_generator)"
   ]
  },
  {
   "cell_type": "code",
   "execution_count": 93,
   "id": "e18fbffd-02ba-460c-a056-f0e93fdd9c0b",
   "metadata": {},
   "outputs": [
    {
     "data": {
      "text/plain": [
       "0.675"
      ]
     },
     "execution_count": 93,
     "metadata": {},
     "output_type": "execute_result"
    }
   ],
   "source": [
    "array_prd = predictions.round(3)\n",
    "array_prd[0][2]"
   ]
  },
  {
   "cell_type": "code",
   "execution_count": 97,
   "id": "7aa931f5-36c2-485c-9211-26d6204ddc29",
   "metadata": {},
   "outputs": [],
   "source": [
    "fragile_prd = []\n",
    "handle_prd = []\n",
    "up_prd = []\n",
    "wet_prd = []\n",
    "for i in array_prd:\n",
    "    fragile_prd.append(i[0])\n",
    "    handle_prd.append(i[1])\n",
    "    up_prd.append(i[2])\n",
    "    wet_prd.append(i[3])"
   ]
  },
  {
   "cell_type": "code",
   "execution_count": 108,
   "id": "c649d651-7e5a-4d68-9079-7c68a5df984a",
   "metadata": {},
   "outputs": [
    {
     "data": {
      "text/plain": [
       "array([[3.24533671e-01, 4.19811549e-05, 6.75407112e-01, 1.72477557e-05],\n",
       "       [5.39075504e-21, 4.83007200e-19, 7.91813217e-25, 1.00000000e+00],\n",
       "       [1.19902239e-16, 1.00000000e+00, 3.08348080e-14, 4.82206857e-17],\n",
       "       [1.00000000e+00, 9.01220626e-11, 3.54815621e-11, 1.78817568e-11],\n",
       "       [2.86785744e-05, 1.89880375e-05, 9.99949336e-01, 3.03900720e-06],\n",
       "       [2.17251163e-05, 3.19199535e-06, 9.99974251e-01, 8.38708502e-07],\n",
       "       [9.99992967e-01, 2.20628813e-08, 7.01856789e-06, 4.31459775e-08],\n",
       "       [1.00000000e+00, 9.94790481e-25, 4.88341945e-23, 9.82444058e-24],\n",
       "       [5.24600571e-11, 2.98646996e-10, 1.83689746e-15, 1.00000000e+00],\n",
       "       [3.55268917e-08, 1.01625592e-05, 1.73396735e-12, 9.99989748e-01],\n",
       "       [1.00000000e+00, 2.05555191e-12, 1.11693276e-11, 2.89614578e-12],\n",
       "       [0.00000000e+00, 1.00000000e+00, 8.60245363e-35, 0.00000000e+00],\n",
       "       [1.00000000e+00, 3.76385562e-10, 2.26272845e-09, 6.89134305e-10],\n",
       "       [2.74027046e-02, 1.35702025e-02, 9.57813263e-01, 1.21385243e-03],\n",
       "       [2.01497038e-28, 1.00000000e+00, 4.81337681e-24, 1.82284779e-28],\n",
       "       [1.00000000e+00, 7.14295810e-12, 7.20788403e-12, 1.91734497e-12],\n",
       "       [1.00000000e+00, 2.49437526e-10, 6.97605793e-11, 3.30527133e-11],\n",
       "       [5.38527304e-19, 3.12319874e-17, 1.00000000e+00, 8.55196768e-20],\n",
       "       [1.82999213e-10, 5.81593884e-09, 1.00000000e+00, 1.55135321e-10],\n",
       "       [9.99777615e-01, 3.39426560e-06, 2.15356122e-04, 3.66107452e-06],\n",
       "       [1.04989084e-24, 1.00000000e+00, 1.39324535e-20, 2.12184138e-24],\n",
       "       [1.00000000e+00, 7.23411731e-17, 2.76206542e-17, 2.40809502e-18],\n",
       "       [1.00000000e+00, 2.72472961e-22, 1.39158808e-20, 8.63179933e-22],\n",
       "       [1.00000000e+00, 3.49919775e-21, 9.76680790e-19, 1.83415491e-20],\n",
       "       [9.67469990e-01, 2.19737589e-02, 1.01652602e-02, 3.91044741e-04],\n",
       "       [1.86920633e-17, 1.24641576e-15, 6.55469186e-21, 1.00000000e+00],\n",
       "       [2.15256186e-15, 1.15336302e-13, 1.00000000e+00, 9.19007243e-16],\n",
       "       [9.44458723e-01, 4.02985097e-05, 5.54590747e-02, 4.18707896e-05],\n",
       "       [1.00000000e+00, 4.00295901e-18, 3.04700019e-17, 4.64760692e-18],\n",
       "       [1.00000000e+00, 7.65736683e-21, 2.29431468e-20, 1.74856712e-21],\n",
       "       [7.47490704e-01, 2.25504767e-03, 2.47047901e-01, 3.20634525e-03],\n",
       "       [6.13289187e-04, 7.88866382e-05, 9.99286592e-01, 2.12005452e-05],\n",
       "       [4.57489796e-06, 4.90399714e-07, 9.99994874e-01, 8.58387565e-08],\n",
       "       [1.40045822e-01, 2.23531417e-04, 5.58871352e-06, 8.59725058e-01],\n",
       "       [1.00000000e+00, 5.19277058e-13, 9.32920299e-13, 5.55759323e-13],\n",
       "       [2.64227420e-18, 9.92361302e-17, 2.83749961e-22, 1.00000000e+00],\n",
       "       [2.04383899e-02, 1.27147596e-05, 9.79542255e-01, 6.59793477e-06],\n",
       "       [1.56451971e-03, 9.73295033e-01, 2.50592344e-02, 8.12547005e-05],\n",
       "       [1.10589201e-06, 9.99979734e-01, 1.91202871e-05, 1.15933460e-07],\n",
       "       [1.00000000e+00, 4.97388110e-26, 4.90352152e-24, 8.33308348e-26],\n",
       "       [8.46022852e-22, 1.14258251e-19, 7.48970181e-26, 1.00000000e+00],\n",
       "       [9.25332027e-24, 3.43167388e-21, 3.27892703e-28, 1.00000000e+00],\n",
       "       [1.00000000e+00, 4.30719537e-19, 1.42830186e-17, 7.05675380e-19],\n",
       "       [1.00000000e+00, 6.83782613e-23, 2.07051890e-21, 1.15662268e-22],\n",
       "       [0.00000000e+00, 1.00000000e+00, 2.93316642e-33, 0.00000000e+00],\n",
       "       [6.16271698e-26, 1.00000000e+00, 3.99161914e-23, 1.82988536e-27],\n",
       "       [6.21808648e-13, 2.52249211e-11, 1.00000000e+00, 4.47107195e-13],\n",
       "       [1.23915482e-08, 1.00000000e+00, 2.21367502e-09, 5.08755260e-11],\n",
       "       [5.29638726e-07, 1.26058083e-07, 1.28190550e-07, 9.99999166e-01],\n",
       "       [1.00000000e+00, 1.45636034e-26, 1.83832690e-23, 2.99620342e-25],\n",
       "       [0.00000000e+00, 1.00000000e+00, 1.83039660e-33, 0.00000000e+00],\n",
       "       [8.49346264e-08, 3.95501530e-07, 9.99999523e-01, 3.86541501e-08],\n",
       "       [1.00000000e+00, 1.12841070e-10, 1.95824335e-09, 7.69211361e-11],\n",
       "       [1.16086752e-12, 3.30200103e-11, 1.00000000e+00, 8.13647001e-13],\n",
       "       [9.98467624e-01, 1.24884522e-04, 1.40057644e-03, 6.93307129e-06],\n",
       "       [3.93131545e-20, 2.21637617e-19, 2.34839405e-25, 1.00000000e+00],\n",
       "       [1.34835126e-28, 5.61665459e-27, 2.46803103e-35, 1.00000000e+00],\n",
       "       [9.14050489e-08, 9.06967955e-07, 9.99998808e-01, 2.24898102e-07],\n",
       "       [9.99919653e-01, 3.93095618e-08, 8.01883216e-05, 9.56528154e-08],\n",
       "       [1.22515365e-18, 1.76221007e-18, 4.50571662e-25, 1.00000000e+00],\n",
       "       [1.00000000e+00, 6.98312371e-12, 2.68720672e-08, 2.29157856e-11],\n",
       "       [9.99999642e-01, 3.56305119e-09, 3.03666411e-07, 3.75528009e-09],\n",
       "       [2.97726910e-09, 2.76900405e-08, 1.00000000e+00, 2.85362711e-09],\n",
       "       [1.00000000e+00, 1.26791871e-12, 1.64696763e-11, 1.29281275e-12],\n",
       "       [3.52967308e-12, 1.00000000e+00, 6.32556160e-11, 8.57116949e-13],\n",
       "       [1.00000000e+00, 9.51666246e-11, 9.59609302e-12, 8.20988329e-12],\n",
       "       [1.00000000e+00, 4.33990968e-15, 1.19380539e-13, 1.96831145e-14],\n",
       "       [8.18029345e-27, 2.08371632e-24, 4.58066969e-33, 1.00000000e+00],\n",
       "       [1.33525933e-11, 2.63371103e-10, 1.00000000e+00, 7.56080268e-12],\n",
       "       [1.00000000e+00, 5.65754922e-14, 5.28062511e-13, 2.67193240e-14],\n",
       "       [1.00000000e+00, 1.86649169e-17, 9.59737245e-16, 2.29217488e-17],\n",
       "       [9.35174406e-01, 2.79635651e-06, 6.48181364e-02, 4.64209006e-06]],\n",
       "      dtype=float32)"
      ]
     },
     "execution_count": 108,
     "metadata": {},
     "output_type": "execute_result"
    }
   ],
   "source": [
    "predictions"
   ]
  },
  {
   "cell_type": "code",
   "execution_count": null,
   "id": "7bf2a3fb-2c7c-46dc-ac20-faa825916676",
   "metadata": {},
   "outputs": [],
   "source": []
  },
  {
   "cell_type": "code",
   "execution_count": 102,
   "id": "dd189d95-6e9b-47db-b9c3-ae0c1b0750ec",
   "metadata": {},
   "outputs": [],
   "source": [
    "test_thr_df = pd.DataFrame({'file_name':test_file_name, 'thr_fragile':fragile_prd, 'thr_handle' : handle_prd\n",
    "                       , 'thr_up':up_prd, 'thr_wet':wet_prd})"
   ]
  },
  {
   "cell_type": "code",
   "execution_count": 103,
   "id": "78bf3bc6-b442-40a4-9f79-41bbddb624e0",
   "metadata": {},
   "outputs": [
    {
     "data": {
      "text/html": [
       "<div>\n",
       "<style scoped>\n",
       "    .dataframe tbody tr th:only-of-type {\n",
       "        vertical-align: middle;\n",
       "    }\n",
       "\n",
       "    .dataframe tbody tr th {\n",
       "        vertical-align: top;\n",
       "    }\n",
       "\n",
       "    .dataframe thead th {\n",
       "        text-align: right;\n",
       "    }\n",
       "</style>\n",
       "<table border=\"1\" class=\"dataframe\">\n",
       "  <thead>\n",
       "    <tr style=\"text-align: right;\">\n",
       "      <th></th>\n",
       "      <th>file_name</th>\n",
       "      <th>thr_fragile</th>\n",
       "      <th>thr_handle</th>\n",
       "      <th>thr_up</th>\n",
       "      <th>thr_wet</th>\n",
       "    </tr>\n",
       "  </thead>\n",
       "  <tbody>\n",
       "    <tr>\n",
       "      <th>0</th>\n",
       "      <td>fragile\\fragile_resized_100.jpg</td>\n",
       "      <td>0.325</td>\n",
       "      <td>0.0</td>\n",
       "      <td>0.675</td>\n",
       "      <td>0.0</td>\n",
       "    </tr>\n",
       "    <tr>\n",
       "      <th>1</th>\n",
       "      <td>fragile\\fragile_resized_105.jpg</td>\n",
       "      <td>0.000</td>\n",
       "      <td>0.0</td>\n",
       "      <td>0.000</td>\n",
       "      <td>1.0</td>\n",
       "    </tr>\n",
       "    <tr>\n",
       "      <th>2</th>\n",
       "      <td>fragile\\fragile_resized_109.jpg</td>\n",
       "      <td>0.000</td>\n",
       "      <td>1.0</td>\n",
       "      <td>0.000</td>\n",
       "      <td>0.0</td>\n",
       "    </tr>\n",
       "    <tr>\n",
       "      <th>3</th>\n",
       "      <td>fragile\\fragile_resized_110.jpg</td>\n",
       "      <td>1.000</td>\n",
       "      <td>0.0</td>\n",
       "      <td>0.000</td>\n",
       "      <td>0.0</td>\n",
       "    </tr>\n",
       "    <tr>\n",
       "      <th>4</th>\n",
       "      <td>fragile\\fragile_resized_112.jpg</td>\n",
       "      <td>0.000</td>\n",
       "      <td>0.0</td>\n",
       "      <td>1.000</td>\n",
       "      <td>0.0</td>\n",
       "    </tr>\n",
       "  </tbody>\n",
       "</table>\n",
       "</div>"
      ],
      "text/plain": [
       "                         file_name  thr_fragile  thr_handle  thr_up  thr_wet\n",
       "0  fragile\\fragile_resized_100.jpg        0.325         0.0   0.675      0.0\n",
       "1  fragile\\fragile_resized_105.jpg        0.000         0.0   0.000      1.0\n",
       "2  fragile\\fragile_resized_109.jpg        0.000         1.0   0.000      0.0\n",
       "3  fragile\\fragile_resized_110.jpg        1.000         0.0   0.000      0.0\n",
       "4  fragile\\fragile_resized_112.jpg        0.000         0.0   1.000      0.0"
      ]
     },
     "execution_count": 103,
     "metadata": {},
     "output_type": "execute_result"
    }
   ],
   "source": [
    "test_thr_df.head()"
   ]
  },
  {
   "cell_type": "code",
   "execution_count": 107,
   "id": "df88b89b-08b8-4611-af57-8f400eefe92c",
   "metadata": {},
   "outputs": [],
   "source": [
    "\n",
    "test_thr_df.to_excel('0830_test_threshold.xlsx')"
   ]
  },
  {
   "cell_type": "code",
   "execution_count": 105,
   "id": "932f278d-7b0e-4a8d-bba1-2d861493c99e",
   "metadata": {},
   "outputs": [
    {
     "name": "stdout",
     "output_type": "stream",
     "text": [
      "Collecting openpyxl\n",
      "  Downloading openpyxl-3.0.7-py2.py3-none-any.whl (243 kB)\n",
      "Collecting et-xmlfile\n",
      "  Downloading et_xmlfile-1.1.0-py3-none-any.whl (4.7 kB)\n",
      "Installing collected packages: et-xmlfile, openpyxl\n",
      "Successfully installed et-xmlfile-1.1.0 openpyxl-3.0.7\n"
     ]
    }
   ],
   "source": [
    "!pip install openpyxl"
   ]
  },
  {
   "cell_type": "code",
   "execution_count": null,
   "id": "15baaa50-53bd-4012-83b2-732678f355fb",
   "metadata": {},
   "outputs": [],
   "source": []
  },
  {
   "cell_type": "code",
   "execution_count": null,
   "id": "62619c18-7734-4bd9-b263-e9afb4ceda02",
   "metadata": {},
   "outputs": [],
   "source": []
  },
  {
   "cell_type": "code",
   "execution_count": null,
   "id": "58a1c1f8-c2e2-4c6c-9483-f00c12210774",
   "metadata": {},
   "outputs": [],
   "source": []
  },
  {
   "cell_type": "markdown",
   "id": "9b713671",
   "metadata": {},
   "source": [
    "#### Real pic test - need to correct file_name as label"
   ]
  },
  {
   "cell_type": "code",
   "execution_count": null,
   "id": "992ef323",
   "metadata": {},
   "outputs": [],
   "source": [
    "get_label_dict(train_generator)"
   ]
  },
  {
   "cell_type": "code",
   "execution_count": null,
   "id": "2ed5fb2b",
   "metadata": {},
   "outputs": [],
   "source": [
    "def file_list(path):\n",
    "    file_list = os.listdir(path)\n",
    "    file_list.sort()\n",
    "    file_list = file_list[1:]\n",
    "    list_file = []\n",
    "    for i in file_list:\n",
    "        list_file.append(path+i)\n",
    "    return list_file\n",
    "\n",
    "path ='C:\\\\Users\\\\yukir\\\\Documents\\\\Monicas_workspace\\\\Datasets\\\\Real_test\\\\real_test_set\\\\'\n",
    "\n",
    "file_list = file_list(path)\n",
    "\n",
    "results={\n",
    "   0:'fragile',\n",
    "   1:'handle',\n",
    "   2:'up',\n",
    "   3:'wet'\n",
    "}\n",
    "columns =['file_name', 'label', 'class']\n",
    "answer = []\n",
    "for i in file_list:\n",
    "    im=Image.open(i)\n",
    "    # the input image is required to be in the shape of dataset, i.e (32,32,3)\n",
    "    i= i.split('\\\\')[-1]\n",
    "    im=im.resize((200,200))\n",
    "    im=np.expand_dims(im,axis=0) #차원으로 분리\n",
    "    im=np.array(im)\n",
    "    pred=model.predict_classes([im])[0]\n",
    "    answer.append([i, pred, results[pred]])\n",
    "    answer_df = pd.DataFrame(answer, columns = columns )\n",
    "answer_df.head()"
   ]
  },
  {
   "cell_type": "code",
   "execution_count": null,
   "id": "a1cdae0c",
   "metadata": {},
   "outputs": [],
   "source": [
    "answer_df[\"class\"].value_counts()"
   ]
  },
  {
   "cell_type": "code",
   "execution_count": null,
   "id": "c80ad991",
   "metadata": {},
   "outputs": [],
   "source": [
    "File_Name = answer_df.file_name.tolist()\n",
    "# f_n=[]\n",
    "# for i in File_Name:\n",
    "#     i = i.split(' ')[0]\n",
    "#     f_n.append(i)"
   ]
  },
  {
   "cell_type": "code",
   "execution_count": null,
   "id": "a170394d",
   "metadata": {},
   "outputs": [],
   "source": [
    "from IPython.display import Image\n",
    "Image(\"C:\\\\Users\\\\yukir\\\\Documents\\\\Monicas_workspace\\\\Datasets\\\\Real_test\\\\Inked(0824)88.89 non_damaged_LI.JPG\")"
   ]
  },
  {
   "cell_type": "code",
   "execution_count": null,
   "id": "c4ff376e",
   "metadata": {},
   "outputs": [],
   "source": [
    "answer_df['file_name']=File_Name\n",
    "answer_df"
   ]
  },
  {
   "cell_type": "code",
   "execution_count": null,
   "id": "4065db22-f28b-42e8-b34f-e4c53212c762",
   "metadata": {},
   "outputs": [],
   "source": []
  },
  {
   "cell_type": "code",
   "execution_count": null,
   "id": "8ec37a41-0ed2-4283-8a76-036071ad33c5",
   "metadata": {},
   "outputs": [],
   "source": []
  },
  {
   "cell_type": "code",
   "execution_count": null,
   "id": "5843dab5-23f6-488f-9153-648b0a2f6ae4",
   "metadata": {},
   "outputs": [],
   "source": []
  },
  {
   "cell_type": "code",
   "execution_count": 51,
   "id": "0924219e-6abd-48dc-9e5c-023b7a2513e2",
   "metadata": {},
   "outputs": [
    {
     "name": "stdout",
     "output_type": "stream",
     "text": [
      "1\n",
      "2\n",
      "3\n",
      "4\n",
      "5\n",
      "6\n",
      "7\n",
      "8\n",
      "9\n",
      "10\n",
      "11\n",
      "12\n",
      "13\n",
      "14\n",
      "15\n",
      "16\n",
      "17\n",
      "18\n",
      "19\n",
      "20\n",
      "21\n",
      "22\n",
      "23\n",
      "24\n",
      "25\n",
      "26\n",
      "27\n",
      "28\n",
      "29\n",
      "30\n",
      "31\n"
     ]
    }
   ],
   "source": [
    "path ='C:\\\\Users\\\\yukir\\\\Documents\\\\Monicas_workspace\\\\Datasets\\\\[0823]output\\\\test\\\\'\n",
    "\n",
    "fragile_path = path +'fragile\\\\'\n",
    "up_path = path +'up\\\\'\n",
    "handle_path = path +'handle\\\\'\n",
    "wet_path = path +'wet\\\\'\n",
    "\n",
    "path_list = [fragile_path, up_path, handle_path, wet_path]\n",
    "\n",
    "test_list = []\n",
    "for i in path_list:\n",
    "    j = get_file_list(i)\n",
    "    test_list.append(j)\n",
    "\n",
    "list_test= []\n",
    "\n",
    "for i in test_list[0]:\n",
    "    list_test.append(i)\n",
    "    print(len(list_test))\n",
    "for i  in test_list[1]:\n",
    "    list_test.append(i)\n",
    "for i in test_list[2]:\n",
    "    list_test.append(i)\n",
    "for i in test_list[3]:\n",
    "    list_test.append(i)"
   ]
  },
  {
   "cell_type": "code",
   "execution_count": 53,
   "id": "21dc0950-dff8-4ff5-96fa-3ed0105598e2",
   "metadata": {},
   "outputs": [
    {
     "data": {
      "text/plain": [
       "72"
      ]
     },
     "execution_count": 53,
     "metadata": {},
     "output_type": "execute_result"
    }
   ],
   "source": [
    "len(list_test)"
   ]
  },
  {
   "cell_type": "code",
   "execution_count": 54,
   "id": "78caaf0c-7f1e-4929-84a4-b9edc40df307",
   "metadata": {},
   "outputs": [
    {
     "name": "stdout",
     "output_type": "stream",
     "text": [
      "WARNING:tensorflow:From C:\\Users\\yukir\\AppData\\Local\\Temp/ipykernel_15948/1659551949.py:16: Sequential.predict_classes (from tensorflow.python.keras.engine.sequential) is deprecated and will be removed after 2021-01-01.\n",
      "Instructions for updating:\n",
      "Please use instead:* `np.argmax(model.predict(x), axis=-1)`,   if your model does multi-class classification   (e.g. if it uses a `softmax` last-layer activation).* `(model.predict(x) > 0.5).astype(\"int32\")`,   if your model does binary classification   (e.g. if it uses a `sigmoid` last-layer activation).\n"
     ]
    },
    {
     "data": {
      "text/html": [
       "<div>\n",
       "<style scoped>\n",
       "    .dataframe tbody tr th:only-of-type {\n",
       "        vertical-align: middle;\n",
       "    }\n",
       "\n",
       "    .dataframe tbody tr th {\n",
       "        vertical-align: top;\n",
       "    }\n",
       "\n",
       "    .dataframe thead th {\n",
       "        text-align: right;\n",
       "    }\n",
       "</style>\n",
       "<table border=\"1\" class=\"dataframe\">\n",
       "  <thead>\n",
       "    <tr style=\"text-align: right;\">\n",
       "      <th></th>\n",
       "      <th>file_name</th>\n",
       "      <th>label</th>\n",
       "      <th>class</th>\n",
       "    </tr>\n",
       "  </thead>\n",
       "  <tbody>\n",
       "    <tr>\n",
       "      <th>0</th>\n",
       "      <td>fragile_resized_100.jpg</td>\n",
       "      <td>0</td>\n",
       "      <td>fragile</td>\n",
       "    </tr>\n",
       "    <tr>\n",
       "      <th>1</th>\n",
       "      <td>fragile_resized_105.jpg</td>\n",
       "      <td>0</td>\n",
       "      <td>fragile</td>\n",
       "    </tr>\n",
       "    <tr>\n",
       "      <th>2</th>\n",
       "      <td>fragile_resized_109.jpg</td>\n",
       "      <td>0</td>\n",
       "      <td>fragile</td>\n",
       "    </tr>\n",
       "    <tr>\n",
       "      <th>3</th>\n",
       "      <td>fragile_resized_110.jpg</td>\n",
       "      <td>1</td>\n",
       "      <td>handle</td>\n",
       "    </tr>\n",
       "    <tr>\n",
       "      <th>4</th>\n",
       "      <td>fragile_resized_112.jpg</td>\n",
       "      <td>1</td>\n",
       "      <td>handle</td>\n",
       "    </tr>\n",
       "  </tbody>\n",
       "</table>\n",
       "</div>"
      ],
      "text/plain": [
       "                 file_name  label    class\n",
       "0  fragile_resized_100.jpg      0  fragile\n",
       "1  fragile_resized_105.jpg      0  fragile\n",
       "2  fragile_resized_109.jpg      0  fragile\n",
       "3  fragile_resized_110.jpg      1   handle\n",
       "4  fragile_resized_112.jpg      1   handle"
      ]
     },
     "execution_count": 54,
     "metadata": {},
     "output_type": "execute_result"
    }
   ],
   "source": [
    "\n",
    "\n",
    "results={\n",
    "   0:'fragile',\n",
    "   1:'handle',\n",
    "   2:'up',\n",
    "   3:'wet'\n",
    "}\n",
    "columns =['file_name', 'label', 'class']\n",
    "answer = []\n",
    "for i in list_test:\n",
    "    im=Image.open(i)\n",
    "    # the input image is required to be in the shape of dataset, i.e (32,32,3)\n",
    "    i= i.split('\\\\')[-1]\n",
    "    im=im.resize((200,200))\n",
    "    im=np.expand_dims(im,axis=0) #차원으로 분리\n",
    "    im=np.array(im)\n",
    "    pred=model.predict_classes([im])[0]\n",
    "    answer.append([i, pred, results[pred]])\n",
    "    answer_df = pd.DataFrame(answer, columns = columns )\n",
    "answer_df.head()"
   ]
  },
  {
   "cell_type": "code",
   "execution_count": 67,
   "id": "77b9b03c-2e8a-426c-b0ca-44d123084deb",
   "metadata": {},
   "outputs": [
    {
     "ename": "TypeError",
     "evalue": "unhashable type: 'numpy.ndarray'",
     "output_type": "error",
     "traceback": [
      "\u001b[1;31m---------------------------------------------------------------------------\u001b[0m",
      "\u001b[1;31mTypeError\u001b[0m                                 Traceback (most recent call last)",
      "\u001b[1;32m~\\AppData\\Local\\Temp/ipykernel_15948/3154051332.py\u001b[0m in \u001b[0;36m<module>\u001b[1;34m\u001b[0m\n\u001b[0;32m      7\u001b[0m     \u001b[0mim\u001b[0m\u001b[1;33m=\u001b[0m\u001b[0mnp\u001b[0m\u001b[1;33m.\u001b[0m\u001b[0marray\u001b[0m\u001b[1;33m(\u001b[0m\u001b[0mim\u001b[0m\u001b[1;33m)\u001b[0m\u001b[1;33m\u001b[0m\u001b[1;33m\u001b[0m\u001b[0m\n\u001b[0;32m      8\u001b[0m     \u001b[0mpred\u001b[0m\u001b[1;33m=\u001b[0m\u001b[0mmodel\u001b[0m\u001b[1;33m.\u001b[0m\u001b[0mpredict_generator\u001b[0m\u001b[1;33m(\u001b[0m\u001b[1;33m[\u001b[0m\u001b[0mim\u001b[0m\u001b[1;33m]\u001b[0m\u001b[1;33m)\u001b[0m\u001b[1;33m[\u001b[0m\u001b[1;36m0\u001b[0m\u001b[1;33m]\u001b[0m\u001b[1;33m\u001b[0m\u001b[1;33m\u001b[0m\u001b[0m\n\u001b[1;32m----> 9\u001b[1;33m     \u001b[0manswer\u001b[0m\u001b[1;33m.\u001b[0m\u001b[0mappend\u001b[0m\u001b[1;33m(\u001b[0m\u001b[1;33m[\u001b[0m\u001b[0mi\u001b[0m\u001b[1;33m,\u001b[0m \u001b[0mpred\u001b[0m\u001b[1;33m,\u001b[0m \u001b[0mresults\u001b[0m\u001b[1;33m[\u001b[0m\u001b[0mpred\u001b[0m\u001b[1;33m]\u001b[0m\u001b[1;33m]\u001b[0m\u001b[1;33m)\u001b[0m\u001b[1;33m\u001b[0m\u001b[1;33m\u001b[0m\u001b[0m\n\u001b[0m\u001b[0;32m     10\u001b[0m     \u001b[0manswer_df1\u001b[0m \u001b[1;33m=\u001b[0m \u001b[0mpd\u001b[0m\u001b[1;33m.\u001b[0m\u001b[0mDataFrame\u001b[0m\u001b[1;33m(\u001b[0m\u001b[0manswer\u001b[0m\u001b[1;33m,\u001b[0m \u001b[0mcolumns\u001b[0m \u001b[1;33m=\u001b[0m \u001b[0mcolumns\u001b[0m \u001b[1;33m)\u001b[0m\u001b[1;33m\u001b[0m\u001b[1;33m\u001b[0m\u001b[0m\n",
      "\u001b[1;31mTypeError\u001b[0m: unhashable type: 'numpy.ndarray'"
     ]
    }
   ],
   "source": [
    "for i in list_test:\n",
    "    im=Image.open(i)\n",
    "    # the input image is required to be in the shape of dataset, i.e (32,32,3)\n",
    "    i= i.split('\\\\')[-1]\n",
    "    im=im.resize((200,200))\n",
    "    im=np.expand_dims(im,axis=0) #차원으로 분리\n",
    "    im=np.array(im)\n",
    "    pred=model.predict_generator([im])[0]\n",
    "    answer.append([i, pred, results[pred]])\n",
    "    answer_df1 = pd.DataFrame(answer, columns = columns )"
   ]
  },
  {
   "cell_type": "code",
   "execution_count": 68,
   "id": "753fe6b4-7c80-4a3f-bcee-9042c9277c4b",
   "metadata": {},
   "outputs": [
    {
     "ename": "NameError",
     "evalue": "name 'answer_df1' is not defined",
     "output_type": "error",
     "traceback": [
      "\u001b[1;31m---------------------------------------------------------------------------\u001b[0m",
      "\u001b[1;31mNameError\u001b[0m                                 Traceback (most recent call last)",
      "\u001b[1;32m~\\AppData\\Local\\Temp/ipykernel_15948/1470324297.py\u001b[0m in \u001b[0;36m<module>\u001b[1;34m\u001b[0m\n\u001b[1;32m----> 1\u001b[1;33m \u001b[0manswer_df1\u001b[0m\u001b[1;33m\u001b[0m\u001b[1;33m\u001b[0m\u001b[0m\n\u001b[0m",
      "\u001b[1;31mNameError\u001b[0m: name 'answer_df1' is not defined"
     ]
    }
   ],
   "source": [
    "answer_df1"
   ]
  },
  {
   "cell_type": "code",
   "execution_count": null,
   "id": "d1f8d7cc-48cf-47a5-9ec7-0ec59cd5c184",
   "metadata": {},
   "outputs": [],
   "source": []
  }
 ],
 "metadata": {
  "kernelspec": {
   "display_name": "Python 3 (ipykernel)",
   "language": "python",
   "name": "python3"
  },
  "language_info": {
   "codemirror_mode": {
    "name": "ipython",
    "version": 3
   },
   "file_extension": ".py",
   "mimetype": "text/x-python",
   "name": "python",
   "nbconvert_exporter": "python",
   "pygments_lexer": "ipython3",
   "version": "3.7.11"
  },
  "toc": {
   "base_numbering": 1,
   "nav_menu": {},
   "number_sections": true,
   "sideBar": true,
   "skip_h1_title": false,
   "title_cell": "Table of Contents",
   "title_sidebar": "Contents",
   "toc_cell": false,
   "toc_position": {},
   "toc_section_display": true,
   "toc_window_display": false
  },
  "varInspector": {
   "cols": {
    "lenName": 16,
    "lenType": 16,
    "lenVar": 40
   },
   "kernels_config": {
    "python": {
     "delete_cmd_postfix": "",
     "delete_cmd_prefix": "del ",
     "library": "var_list.py",
     "varRefreshCmd": "print(var_dic_list())"
    },
    "r": {
     "delete_cmd_postfix": ") ",
     "delete_cmd_prefix": "rm(",
     "library": "var_list.r",
     "varRefreshCmd": "cat(var_dic_list()) "
    }
   },
   "types_to_exclude": [
    "module",
    "function",
    "builtin_function_or_method",
    "instance",
    "_Feature"
   ],
   "window_display": false
  }
 },
 "nbformat": 4,
 "nbformat_minor": 5
}
