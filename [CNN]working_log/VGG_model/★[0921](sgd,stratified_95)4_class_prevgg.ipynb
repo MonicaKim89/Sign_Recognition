{
  "nbformat": 4,
  "nbformat_minor": 5,
  "metadata": {
    "accelerator": "GPU",
    "colab": {
      "name": "★[0921] (sgd, stratified) 4_class_prevgg.ipynb",
      "provenance": [],
      "collapsed_sections": [
        "vau93mQPdg_R"
      ],
      "machine_shape": "hm",
      "include_colab_link": true
    },
    "kernelspec": {
      "display_name": "Python 3 (ipykernel)",
      "language": "python",
      "name": "python3"
    },
    "language_info": {
      "codemirror_mode": {
        "name": "ipython",
        "version": 3
      },
      "file_extension": ".py",
      "mimetype": "text/x-python",
      "name": "python",
      "nbconvert_exporter": "python",
      "pygments_lexer": "ipython3",
      "version": "3.7.0"
    },
    "toc": {
      "base_numbering": 1,
      "nav_menu": {},
      "number_sections": true,
      "sideBar": true,
      "skip_h1_title": false,
      "title_cell": "Table of Contents",
      "title_sidebar": "Contents",
      "toc_cell": false,
      "toc_position": {},
      "toc_section_display": true,
      "toc_window_display": false
    },
    "varInspector": {
      "cols": {
        "lenName": 16,
        "lenType": 16,
        "lenVar": 40
      },
      "kernels_config": {
        "python": {
          "delete_cmd_postfix": "",
          "delete_cmd_prefix": "del ",
          "library": "var_list.py",
          "varRefreshCmd": "print(var_dic_list())"
        },
        "r": {
          "delete_cmd_postfix": ") ",
          "delete_cmd_prefix": "rm(",
          "library": "var_list.r",
          "varRefreshCmd": "cat(var_dic_list()) "
        }
      },
      "types_to_exclude": [
        "module",
        "function",
        "builtin_function_or_method",
        "instance",
        "_Feature"
      ],
      "window_display": false
    }
  },
  "cells": [
    {
      "cell_type": "markdown",
      "metadata": {
        "id": "view-in-github",
        "colab_type": "text"
      },
      "source": [
        "<a href=\"https://colab.research.google.com/github/MonicaKim89/Sign_recognition/blob/main/%E2%98%85%5B0921%5D(sgd%2Cstratified_95)4_class_prevgg.ipynb\" target=\"_parent\"><img src=\"https://colab.research.google.com/assets/colab-badge.svg\" alt=\"Open In Colab\"/></a>"
      ]
    },
    {
      "cell_type": "code",
      "metadata": {
        "colab": {
          "base_uri": "https://localhost:8080/"
        },
        "id": "vyUINkd69FAt",
        "outputId": "7e376876-d914-4c06-ad32-6d212de84e15"
      },
      "source": [
        "from google.colab import drive\n",
        "drive.mount('/content/drive')"
      ],
      "id": "vyUINkd69FAt",
      "execution_count": 1,
      "outputs": [
        {
          "output_type": "stream",
          "name": "stdout",
          "text": [
            "Drive already mounted at /content/drive; to attempt to forcibly remount, call drive.mount(\"/content/drive\", force_remount=True).\n"
          ]
        }
      ]
    },
    {
      "cell_type": "code",
      "metadata": {
        "id": "6_0q7KnUhLrM"
      },
      "source": [
        "from tensorflow.keras.utils import to_categorical\n",
        "from tensorflow.python.keras.callbacks import TensorBoard\n",
        "from time import time"
      ],
      "id": "6_0q7KnUhLrM",
      "execution_count": 2,
      "outputs": []
    },
    {
      "cell_type": "code",
      "metadata": {
        "colab": {
          "resources": {
            "http://localhost:8080/nbextensions/google.colab/files.js": {
              "data": "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",
              "ok": true,
              "headers": [
                [
                  "content-type",
                  "application/javascript"
                ]
              ],
              "status": 200,
              "status_text": ""
            }
          },
          "base_uri": "https://localhost:8080/",
          "height": 90
        },
        "id": "1LmW2YLS9SxO",
        "outputId": "6c57a94c-b7a8-4dd1-84c6-8cc132027004"
      },
      "source": [
        "from google.colab import files \n",
        "src = list(files.upload().values())[0] \n",
        "open('deeplearning_check.py','wb').write(src)\n",
        "\n"
      ],
      "id": "1LmW2YLS9SxO",
      "execution_count": 3,
      "outputs": [
        {
          "output_type": "display_data",
          "data": {
            "text/html": [
              "\n",
              "     <input type=\"file\" id=\"files-0bbe230e-e64e-4933-b1cf-97fe29da61cc\" name=\"files[]\" multiple disabled\n",
              "        style=\"border:none\" />\n",
              "     <output id=\"result-0bbe230e-e64e-4933-b1cf-97fe29da61cc\">\n",
              "      Upload widget is only available when the cell has been executed in the\n",
              "      current browser session. Please rerun this cell to enable.\n",
              "      </output>\n",
              "      <script src=\"/nbextensions/google.colab/files.js\"></script> "
            ],
            "text/plain": [
              "<IPython.core.display.HTML object>"
            ]
          },
          "metadata": {}
        },
        {
          "output_type": "stream",
          "name": "stdout",
          "text": [
            "Saving deeplearning_check.py to deeplearning_check (2).py\n"
          ]
        },
        {
          "output_type": "execute_result",
          "data": {
            "text/plain": [
              "7670"
            ]
          },
          "metadata": {},
          "execution_count": 3
        }
      ]
    },
    {
      "cell_type": "code",
      "metadata": {
        "colab": {
          "resources": {
            "http://localhost:8080/nbextensions/google.colab/files.js": {
              "data": "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",
              "ok": true,
              "headers": [
                [
                  "content-type",
                  "application/javascript"
                ]
              ],
              "status": 200,
              "status_text": ""
            }
          },
          "base_uri": "https://localhost:8080/",
          "height": 90
        },
        "id": "T5i5fa9g9mEZ",
        "outputId": "e34d85ee-8d60-4f98-e482-ab8775664f55"
      },
      "source": [
        "from google.colab import files \n",
        "src = list(files.upload().values())[0] \n",
        "open('basic_preprocessing.py','wb').write(src)"
      ],
      "id": "T5i5fa9g9mEZ",
      "execution_count": 4,
      "outputs": [
        {
          "output_type": "display_data",
          "data": {
            "text/html": [
              "\n",
              "     <input type=\"file\" id=\"files-71e0b60c-fe07-405d-8385-f267b606e767\" name=\"files[]\" multiple disabled\n",
              "        style=\"border:none\" />\n",
              "     <output id=\"result-71e0b60c-fe07-405d-8385-f267b606e767\">\n",
              "      Upload widget is only available when the cell has been executed in the\n",
              "      current browser session. Please rerun this cell to enable.\n",
              "      </output>\n",
              "      <script src=\"/nbextensions/google.colab/files.js\"></script> "
            ],
            "text/plain": [
              "<IPython.core.display.HTML object>"
            ]
          },
          "metadata": {}
        },
        {
          "output_type": "stream",
          "name": "stdout",
          "text": [
            "Saving basic_preprocessing.py to basic_preprocessing (2).py\n"
          ]
        },
        {
          "output_type": "execute_result",
          "data": {
            "text/plain": [
              "5023"
            ]
          },
          "metadata": {},
          "execution_count": 4
        }
      ]
    },
    {
      "cell_type": "code",
      "metadata": {
        "colab": {
          "resources": {
            "http://localhost:8080/nbextensions/google.colab/files.js": {
              "data": "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",
              "ok": true,
              "headers": [
                [
                  "content-type",
                  "application/javascript"
                ]
              ],
              "status": 200,
              "status_text": ""
            }
          },
          "base_uri": "https://localhost:8080/",
          "height": 90
        },
        "id": "taNbJx1BYFmO",
        "outputId": "83c54db9-1659-4c2f-cdbe-a8c738990334"
      },
      "source": [
        "from google.colab import files \n",
        "src = list(files.upload().values())[0] \n",
        "open('machine_learning.py','wb').write(src)"
      ],
      "id": "taNbJx1BYFmO",
      "execution_count": 5,
      "outputs": [
        {
          "output_type": "display_data",
          "data": {
            "text/html": [
              "\n",
              "     <input type=\"file\" id=\"files-1c9f56c7-a799-4564-aa32-756a319d660b\" name=\"files[]\" multiple disabled\n",
              "        style=\"border:none\" />\n",
              "     <output id=\"result-1c9f56c7-a799-4564-aa32-756a319d660b\">\n",
              "      Upload widget is only available when the cell has been executed in the\n",
              "      current browser session. Please rerun this cell to enable.\n",
              "      </output>\n",
              "      <script src=\"/nbextensions/google.colab/files.js\"></script> "
            ],
            "text/plain": [
              "<IPython.core.display.HTML object>"
            ]
          },
          "metadata": {}
        },
        {
          "output_type": "stream",
          "name": "stdout",
          "text": [
            "Saving machine_learning.py to machine_learning (2).py\n"
          ]
        },
        {
          "output_type": "execute_result",
          "data": {
            "text/plain": [
              "5283"
            ]
          },
          "metadata": {},
          "execution_count": 5
        }
      ]
    },
    {
      "cell_type": "code",
      "metadata": {
        "colab": {
          "base_uri": "https://localhost:8080/"
        },
        "id": "w2wA1qVl9tnu",
        "outputId": "cddc8bc3-7172-4881-958c-1b07224d302b"
      },
      "source": [
        "!pip install split_folders"
      ],
      "id": "w2wA1qVl9tnu",
      "execution_count": 6,
      "outputs": [
        {
          "output_type": "stream",
          "name": "stdout",
          "text": [
            "Requirement already satisfied: split_folders in /usr/local/lib/python3.7/dist-packages (0.4.3)\n"
          ]
        }
      ]
    },
    {
      "cell_type": "code",
      "metadata": {
        "colab": {
          "base_uri": "https://localhost:8080/"
        },
        "id": "01115e6c",
        "outputId": "914b9b6f-ed93-4d76-b449-8b3daf6ddc26"
      },
      "source": [
        "from basic_preprocessing import *\n",
        "from deeplearning_check import *\n",
        "from machine_learning import *\n",
        "\n",
        "gpu_check()\n",
        "set_global_determinism(seed=SEED)"
      ],
      "id": "01115e6c",
      "execution_count": 7,
      "outputs": [
        {
          "output_type": "stream",
          "name": "stdout",
          "text": [
            "[name: \"/device:CPU:0\"\n",
            "device_type: \"CPU\"\n",
            "memory_limit: 268435456\n",
            "locality {\n",
            "}\n",
            "incarnation: 14844021654936517324\n",
            ", name: \"/device:GPU:0\"\n",
            "device_type: \"GPU\"\n",
            "memory_limit: 11345264640\n",
            "locality {\n",
            "  bus_id: 1\n",
            "  links {\n",
            "  }\n",
            "}\n",
            "incarnation: 15524654268006655302\n",
            "physical_device_desc: \"device: 0, name: Tesla K80, pci bus id: 0000:00:04.0, compute capability: 3.7\"\n",
            "]\n",
            "tf 2.6.0\n",
            "keras 2.6.0\n",
            "set_global_determinism(seed=1337) 이거 꼭 해라\n",
            "set_global_determinism(seed=1337) 이거 꼭 해라\n",
            "set_global_determinism(seed=1337) 이거 꼭 해라\n"
          ]
        }
      ]
    },
    {
      "cell_type": "code",
      "metadata": {
        "id": "17AkLE4DhBRq"
      },
      "source": [
        "from sklearn.model_selection import StratifiedKFold, StratifiedShuffleSplit"
      ],
      "id": "17AkLE4DhBRq",
      "execution_count": 8,
      "outputs": []
    },
    {
      "cell_type": "markdown",
      "metadata": {
        "id": "62bbf7e7"
      },
      "source": [
        "#### basic model"
      ],
      "id": "62bbf7e7"
    },
    {
      "cell_type": "code",
      "metadata": {
        "id": "9e06b8bc"
      },
      "source": [
        "set_global_determinism(seed=1337)"
      ],
      "id": "9e06b8bc",
      "execution_count": 9,
      "outputs": []
    },
    {
      "cell_type": "code",
      "metadata": {
        "id": "d0e06e60"
      },
      "source": [
        "train_dir = '/content/drive/MyDrive/Sign Detection/Datasets/Stratified_tt/train'\n",
        "# test_dir = \"/content/drive/MyDrive/Sign Detection/Datasets/Stratified/test\"\n",
        "val_dir = '/content/drive/MyDrive/Sign Detection/Datasets/Stratified_tt/test'"
      ],
      "id": "d0e06e60",
      "execution_count": 10,
      "outputs": []
    },
    {
      "cell_type": "code",
      "metadata": {
        "id": "015625bc"
      },
      "source": [
        "train_datagen = ImageDataGenerator(rescale=1./255)\n",
        "val_datagen = ImageDataGenerator(rescale=1./255)\n",
        "# test_datagen = ImageDataGenerator(rescale=1./255)"
      ],
      "id": "015625bc",
      "execution_count": 11,
      "outputs": []
    },
    {
      "cell_type": "code",
      "metadata": {
        "colab": {
          "base_uri": "https://localhost:8080/"
        },
        "id": "b59db018",
        "outputId": "69e1adfa-9312-455f-aadb-857027c13357"
      },
      "source": [
        "from keras import Input\n",
        "train_generator = train_datagen.flow_from_directory(train_dir, batch_size=16, target_size=(200,200), color_mode='rgb')\n",
        "val_generator = val_datagen.flow_from_directory(val_dir, batch_size=16, target_size=(200, 200), color_mode='rgb')\n",
        "# test_generator = test_datagen.flow_from_directory(test_dir,batch_size=16, target_size=(200, 200), color_mode='rgb')\n",
        "\n",
        "input_tensor = Input(shape=(200, 200, 3), dtype='float32', name='input')"
      ],
      "id": "b59db018",
      "execution_count": 12,
      "outputs": [
        {
          "output_type": "stream",
          "name": "stdout",
          "text": [
            "Found 549 images belonging to 4 classes.\n",
            "Found 138 images belonging to 4 classes.\n"
          ]
        }
      ]
    },
    {
      "cell_type": "markdown",
      "metadata": {
        "id": "72da593f"
      },
      "source": [
        "#### model creating"
      ],
      "id": "72da593f"
    },
    {
      "cell_type": "code",
      "metadata": {
        "id": "42f0b255"
      },
      "source": [
        "def create_model():\n",
        "    optimizer = optimizers.SGD(lr= 0.001, decay = 1e-6, momentum= 0.9, nesterov=True)\n",
        "    \n",
        "    pre_trained_vgg = VGG16(weights='imagenet', include_top=False, input_shape=(200, 200, 3))\n",
        "    #include_top FC 레이어 포함유무 결정\n",
        "    #feature extraction 파라미터들은 이미지넷으로 학습된 값들을 그대로 사용할 것이기 때문에 trainable의 속성을 False\n",
        "    pre_trained_vgg.trainable = False\n",
        "    additional_model = tf.keras.Sequential()\n",
        "    additional_model.add(pre_trained_vgg)\n",
        "    additional_model.add(Flatten())\n",
        "    additional_model.add(tf.keras.layers.Dense(4096, activation='relu'))\n",
        "    additional_model.add(tf.keras.layers.Dense(2048, activation='relu'))\n",
        "    additional_model.add(tf.keras.layers.Dense(1024, activation='relu'))\n",
        "    additional_model.add(tf.keras.layers.Dense(4, activation='softmax'))\n",
        "    \n",
        "\n",
        "    additional_model.compile(optimizer = optimizer, loss = keras.losses.categorical_crossentropy, metrics=['acc'])\n",
        "\n",
        "    \n",
        "    return additional_model"
      ],
      "id": "42f0b255",
      "execution_count": 13,
      "outputs": []
    },
    {
      "cell_type": "code",
      "metadata": {
        "colab": {
          "base_uri": "https://localhost:8080/"
        },
        "id": "6e3c25cc",
        "outputId": "dc781efd-ae39-464e-caf7-dbe3c0dc3655"
      },
      "source": [
        "# 모델 실행 옵션 \n",
        "model = create_model()\n",
        "model.summary()\n"
      ],
      "id": "6e3c25cc",
      "execution_count": 14,
      "outputs": [
        {
          "output_type": "stream",
          "name": "stdout",
          "text": [
            "Model: \"sequential\"\n",
            "_________________________________________________________________\n",
            "Layer (type)                 Output Shape              Param #   \n",
            "=================================================================\n",
            "vgg16 (Functional)           (None, 6, 6, 512)         14714688  \n",
            "_________________________________________________________________\n",
            "flatten (Flatten)            (None, 18432)             0         \n",
            "_________________________________________________________________\n",
            "dense (Dense)                (None, 4096)              75501568  \n",
            "_________________________________________________________________\n",
            "dense_1 (Dense)              (None, 2048)              8390656   \n",
            "_________________________________________________________________\n",
            "dense_2 (Dense)              (None, 1024)              2098176   \n",
            "_________________________________________________________________\n",
            "dense_3 (Dense)              (None, 4)                 4100      \n",
            "=================================================================\n",
            "Total params: 100,709,188\n",
            "Trainable params: 85,994,500\n",
            "Non-trainable params: 14,714,688\n",
            "_________________________________________________________________\n"
          ]
        }
      ]
    },
    {
      "cell_type": "code",
      "metadata": {
        "id": "c1e652aa"
      },
      "source": [
        "checkpoint_path = \"check_point/cp.ckpt\"\n",
        "checkpoint_dir = os.path.dirname(checkpoint_path)"
      ],
      "id": "c1e652aa",
      "execution_count": 15,
      "outputs": []
    },
    {
      "cell_type": "code",
      "metadata": {
        "colab": {
          "base_uri": "https://localhost:8080/"
        },
        "id": "5b524386",
        "outputId": "65137ea9-1c6c-4f1a-931d-436ee119bf38"
      },
      "source": [
        "#모델의 가중치 저장\n",
        "checkpoint = ModelCheckpoint(filepath=checkpoint_path,\n",
        "            monitor='loss', \n",
        "            mode='min',\n",
        "            save_best_only=True,\n",
        "            save_weights_only=True,\n",
        "            verbose=1)\n",
        "\n",
        "#새로운 콜백으로 모델 훈련하기\n",
        "history = model.fit_generator(train_generator, \n",
        "            steps_per_epoch=math.ceil(train_generator.n / train_generator.batch_size), \n",
        "            epochs=100, \n",
        "            validation_data=val_generator, \n",
        "            validation_steps=math.ceil(val_generator.n / val_generator.batch_size), \n",
        "            callbacks=[checkpoint],\n",
        "            shuffle=False)"
      ],
      "id": "5b524386",
      "execution_count": 16,
      "outputs": [
        {
          "output_type": "stream",
          "name": "stdout",
          "text": [
            "Epoch 1/100\n",
            "35/35 [==============================] - 19s 297ms/step - loss: 0.8192 - acc: 0.6685 - val_loss: 1.4231 - val_acc: 0.5000\n",
            "\n",
            "Epoch 00001: loss improved from inf to 0.81918, saving model to check_point/cp.ckpt\n",
            "Epoch 2/100\n",
            "35/35 [==============================] - 7s 208ms/step - loss: 0.3783 - acc: 0.8798 - val_loss: 0.2907 - val_acc: 0.8623\n",
            "\n",
            "Epoch 00002: loss improved from 0.81918 to 0.37828, saving model to check_point/cp.ckpt\n",
            "Epoch 3/100\n",
            "35/35 [==============================] - 7s 208ms/step - loss: 0.2237 - acc: 0.9362 - val_loss: 0.3090 - val_acc: 0.8478\n",
            "\n",
            "Epoch 00003: loss improved from 0.37828 to 0.22367, saving model to check_point/cp.ckpt\n",
            "Epoch 4/100\n",
            "35/35 [==============================] - 8s 227ms/step - loss: 0.1519 - acc: 0.9617 - val_loss: 0.2312 - val_acc: 0.9130\n",
            "\n",
            "Epoch 00004: loss improved from 0.22367 to 0.15193, saving model to check_point/cp.ckpt\n",
            "Epoch 5/100\n",
            "35/35 [==============================] - 7s 207ms/step - loss: 0.1343 - acc: 0.9490 - val_loss: 0.2777 - val_acc: 0.8768\n",
            "\n",
            "Epoch 00005: loss improved from 0.15193 to 0.13434, saving model to check_point/cp.ckpt\n",
            "Epoch 6/100\n",
            "35/35 [==============================] - 7s 209ms/step - loss: 0.1232 - acc: 0.9636 - val_loss: 0.2031 - val_acc: 0.9130\n",
            "\n",
            "Epoch 00006: loss improved from 0.13434 to 0.12316, saving model to check_point/cp.ckpt\n",
            "Epoch 7/100\n",
            "35/35 [==============================] - 7s 208ms/step - loss: 0.0897 - acc: 0.9709 - val_loss: 0.1532 - val_acc: 0.9565\n",
            "\n",
            "Epoch 00007: loss improved from 0.12316 to 0.08965, saving model to check_point/cp.ckpt\n",
            "Epoch 8/100\n",
            "35/35 [==============================] - 8s 223ms/step - loss: 0.0799 - acc: 0.9781 - val_loss: 0.1672 - val_acc: 0.9420\n",
            "\n",
            "Epoch 00008: loss improved from 0.08965 to 0.07990, saving model to check_point/cp.ckpt\n",
            "Epoch 9/100\n",
            "35/35 [==============================] - 7s 207ms/step - loss: 0.0853 - acc: 0.9763 - val_loss: 0.1958 - val_acc: 0.9275\n",
            "\n",
            "Epoch 00009: loss did not improve from 0.07990\n",
            "Epoch 10/100\n",
            "35/35 [==============================] - 7s 208ms/step - loss: 0.0740 - acc: 0.9763 - val_loss: 0.2512 - val_acc: 0.8913\n",
            "\n",
            "Epoch 00010: loss improved from 0.07990 to 0.07397, saving model to check_point/cp.ckpt\n",
            "Epoch 11/100\n",
            "35/35 [==============================] - 7s 207ms/step - loss: 0.0726 - acc: 0.9872 - val_loss: 0.1667 - val_acc: 0.9130\n",
            "\n",
            "Epoch 00011: loss improved from 0.07397 to 0.07262, saving model to check_point/cp.ckpt\n",
            "Epoch 12/100\n",
            "35/35 [==============================] - 7s 208ms/step - loss: 0.0623 - acc: 0.9836 - val_loss: 0.1847 - val_acc: 0.9275\n",
            "\n",
            "Epoch 00012: loss improved from 0.07262 to 0.06226, saving model to check_point/cp.ckpt\n",
            "Epoch 13/100\n",
            "35/35 [==============================] - 7s 209ms/step - loss: 0.0433 - acc: 0.9909 - val_loss: 0.2510 - val_acc: 0.9058\n",
            "\n",
            "Epoch 00013: loss improved from 0.06226 to 0.04326, saving model to check_point/cp.ckpt\n",
            "Epoch 14/100\n",
            "35/35 [==============================] - 7s 207ms/step - loss: 0.0453 - acc: 0.9927 - val_loss: 0.2845 - val_acc: 0.8986\n",
            "\n",
            "Epoch 00014: loss did not improve from 0.04326\n",
            "Epoch 15/100\n",
            "35/35 [==============================] - 7s 206ms/step - loss: 0.0367 - acc: 0.9872 - val_loss: 0.1650 - val_acc: 0.9420\n",
            "\n",
            "Epoch 00015: loss improved from 0.04326 to 0.03668, saving model to check_point/cp.ckpt\n",
            "Epoch 16/100\n",
            "35/35 [==============================] - 7s 208ms/step - loss: 0.0313 - acc: 0.9909 - val_loss: 0.1487 - val_acc: 0.9348\n",
            "\n",
            "Epoch 00016: loss improved from 0.03668 to 0.03135, saving model to check_point/cp.ckpt\n",
            "Epoch 17/100\n",
            "35/35 [==============================] - 7s 207ms/step - loss: 0.0356 - acc: 0.9945 - val_loss: 0.2281 - val_acc: 0.9130\n",
            "\n",
            "Epoch 00017: loss did not improve from 0.03135\n",
            "Epoch 18/100\n",
            "35/35 [==============================] - 7s 207ms/step - loss: 0.0316 - acc: 0.9927 - val_loss: 0.1716 - val_acc: 0.9275\n",
            "\n",
            "Epoch 00018: loss did not improve from 0.03135\n",
            "Epoch 19/100\n",
            "35/35 [==============================] - 7s 206ms/step - loss: 0.0202 - acc: 0.9982 - val_loss: 0.2458 - val_acc: 0.9348\n",
            "\n",
            "Epoch 00019: loss improved from 0.03135 to 0.02020, saving model to check_point/cp.ckpt\n",
            "Epoch 20/100\n",
            "35/35 [==============================] - 7s 206ms/step - loss: 0.0212 - acc: 0.9964 - val_loss: 0.2056 - val_acc: 0.9348\n",
            "\n",
            "Epoch 00020: loss did not improve from 0.02020\n",
            "Epoch 21/100\n",
            "35/35 [==============================] - 7s 206ms/step - loss: 0.0325 - acc: 0.9909 - val_loss: 0.1272 - val_acc: 0.9493\n",
            "\n",
            "Epoch 00021: loss did not improve from 0.02020\n",
            "Epoch 22/100\n",
            "35/35 [==============================] - 7s 207ms/step - loss: 0.0243 - acc: 0.9982 - val_loss: 0.1803 - val_acc: 0.9493\n",
            "\n",
            "Epoch 00022: loss did not improve from 0.02020\n",
            "Epoch 23/100\n",
            "35/35 [==============================] - 7s 206ms/step - loss: 0.0140 - acc: 1.0000 - val_loss: 0.1380 - val_acc: 0.9565\n",
            "\n",
            "Epoch 00023: loss improved from 0.02020 to 0.01399, saving model to check_point/cp.ckpt\n",
            "Epoch 24/100\n",
            "35/35 [==============================] - 7s 209ms/step - loss: 0.0187 - acc: 0.9945 - val_loss: 0.1567 - val_acc: 0.9348\n",
            "\n",
            "Epoch 00024: loss did not improve from 0.01399\n",
            "Epoch 25/100\n",
            "35/35 [==============================] - 7s 207ms/step - loss: 0.0182 - acc: 0.9964 - val_loss: 0.2333 - val_acc: 0.9203\n",
            "\n",
            "Epoch 00025: loss did not improve from 0.01399\n",
            "Epoch 26/100\n",
            "35/35 [==============================] - 7s 208ms/step - loss: 0.0179 - acc: 0.9964 - val_loss: 0.2184 - val_acc: 0.9203\n",
            "\n",
            "Epoch 00026: loss did not improve from 0.01399\n",
            "Epoch 27/100\n",
            "35/35 [==============================] - 7s 207ms/step - loss: 0.0252 - acc: 0.9927 - val_loss: 0.1999 - val_acc: 0.9275\n",
            "\n",
            "Epoch 00027: loss did not improve from 0.01399\n",
            "Epoch 28/100\n",
            "35/35 [==============================] - 7s 206ms/step - loss: 0.0206 - acc: 0.9927 - val_loss: 0.2690 - val_acc: 0.9203\n",
            "\n",
            "Epoch 00028: loss did not improve from 0.01399\n",
            "Epoch 29/100\n",
            "35/35 [==============================] - 7s 208ms/step - loss: 0.0180 - acc: 0.9964 - val_loss: 0.2026 - val_acc: 0.9203\n",
            "\n",
            "Epoch 00029: loss did not improve from 0.01399\n",
            "Epoch 30/100\n",
            "35/35 [==============================] - 7s 207ms/step - loss: 0.0224 - acc: 0.9927 - val_loss: 0.2167 - val_acc: 0.9275\n",
            "\n",
            "Epoch 00030: loss did not improve from 0.01399\n",
            "Epoch 31/100\n",
            "35/35 [==============================] - 7s 207ms/step - loss: 0.0252 - acc: 0.9964 - val_loss: 0.1713 - val_acc: 0.9493\n",
            "\n",
            "Epoch 00031: loss did not improve from 0.01399\n",
            "Epoch 32/100\n",
            "35/35 [==============================] - 7s 207ms/step - loss: 0.0131 - acc: 0.9964 - val_loss: 0.1865 - val_acc: 0.9275\n",
            "\n",
            "Epoch 00032: loss improved from 0.01399 to 0.01315, saving model to check_point/cp.ckpt\n",
            "Epoch 33/100\n",
            "35/35 [==============================] - 7s 208ms/step - loss: 0.0264 - acc: 0.9945 - val_loss: 0.2343 - val_acc: 0.9203\n",
            "\n",
            "Epoch 00033: loss did not improve from 0.01315\n",
            "Epoch 34/100\n",
            "35/35 [==============================] - 7s 208ms/step - loss: 0.0103 - acc: 1.0000 - val_loss: 0.2997 - val_acc: 0.8986\n",
            "\n",
            "Epoch 00034: loss improved from 0.01315 to 0.01029, saving model to check_point/cp.ckpt\n",
            "Epoch 35/100\n",
            "35/35 [==============================] - 7s 210ms/step - loss: 0.0073 - acc: 1.0000 - val_loss: 0.1860 - val_acc: 0.9565\n",
            "\n",
            "Epoch 00035: loss improved from 0.01029 to 0.00729, saving model to check_point/cp.ckpt\n",
            "Epoch 36/100\n",
            "35/35 [==============================] - 7s 209ms/step - loss: 0.0068 - acc: 1.0000 - val_loss: 0.1623 - val_acc: 0.9420\n",
            "\n",
            "Epoch 00036: loss improved from 0.00729 to 0.00681, saving model to check_point/cp.ckpt\n",
            "Epoch 37/100\n",
            "35/35 [==============================] - 7s 210ms/step - loss: 0.0082 - acc: 0.9982 - val_loss: 0.1610 - val_acc: 0.9275\n",
            "\n",
            "Epoch 00037: loss did not improve from 0.00681\n",
            "Epoch 38/100\n",
            "35/35 [==============================] - 7s 208ms/step - loss: 0.0087 - acc: 0.9982 - val_loss: 0.1975 - val_acc: 0.9275\n",
            "\n",
            "Epoch 00038: loss did not improve from 0.00681\n",
            "Epoch 39/100\n",
            "35/35 [==============================] - 7s 209ms/step - loss: 0.0072 - acc: 0.9982 - val_loss: 0.1772 - val_acc: 0.9420\n",
            "\n",
            "Epoch 00039: loss did not improve from 0.00681\n",
            "Epoch 40/100\n",
            "35/35 [==============================] - 7s 208ms/step - loss: 0.0048 - acc: 1.0000 - val_loss: 0.2000 - val_acc: 0.9203\n",
            "\n",
            "Epoch 00040: loss improved from 0.00681 to 0.00479, saving model to check_point/cp.ckpt\n",
            "Epoch 41/100\n",
            "35/35 [==============================] - 7s 208ms/step - loss: 0.0047 - acc: 1.0000 - val_loss: 0.1845 - val_acc: 0.9275\n",
            "\n",
            "Epoch 00041: loss improved from 0.00479 to 0.00470, saving model to check_point/cp.ckpt\n",
            "Epoch 42/100\n",
            "35/35 [==============================] - 7s 208ms/step - loss: 0.0054 - acc: 0.9982 - val_loss: 0.1691 - val_acc: 0.9420\n",
            "\n",
            "Epoch 00042: loss did not improve from 0.00470\n",
            "Epoch 43/100\n",
            "35/35 [==============================] - 7s 208ms/step - loss: 0.0047 - acc: 1.0000 - val_loss: 0.1831 - val_acc: 0.9493\n",
            "\n",
            "Epoch 00043: loss did not improve from 0.00470\n",
            "Epoch 44/100\n",
            "35/35 [==============================] - 7s 208ms/step - loss: 0.0050 - acc: 1.0000 - val_loss: 0.1616 - val_acc: 0.9565\n",
            "\n",
            "Epoch 00044: loss did not improve from 0.00470\n",
            "Epoch 45/100\n",
            "35/35 [==============================] - 7s 208ms/step - loss: 0.0051 - acc: 1.0000 - val_loss: 0.1780 - val_acc: 0.9420\n",
            "\n",
            "Epoch 00045: loss did not improve from 0.00470\n",
            "Epoch 46/100\n",
            "35/35 [==============================] - 7s 208ms/step - loss: 0.0035 - acc: 1.0000 - val_loss: 0.1685 - val_acc: 0.9493\n",
            "\n",
            "Epoch 00046: loss improved from 0.00470 to 0.00348, saving model to check_point/cp.ckpt\n",
            "Epoch 47/100\n",
            "35/35 [==============================] - 7s 208ms/step - loss: 0.0042 - acc: 1.0000 - val_loss: 0.1826 - val_acc: 0.9493\n",
            "\n",
            "Epoch 00047: loss did not improve from 0.00348\n",
            "Epoch 48/100\n",
            "35/35 [==============================] - 7s 207ms/step - loss: 0.0034 - acc: 1.0000 - val_loss: 0.1623 - val_acc: 0.9565\n",
            "\n",
            "Epoch 00048: loss improved from 0.00348 to 0.00337, saving model to check_point/cp.ckpt\n",
            "Epoch 49/100\n",
            "35/35 [==============================] - 7s 209ms/step - loss: 0.0033 - acc: 1.0000 - val_loss: 0.1646 - val_acc: 0.9493\n",
            "\n",
            "Epoch 00049: loss improved from 0.00337 to 0.00329, saving model to check_point/cp.ckpt\n",
            "Epoch 50/100\n",
            "35/35 [==============================] - 7s 207ms/step - loss: 0.0032 - acc: 1.0000 - val_loss: 0.1747 - val_acc: 0.9565\n",
            "\n",
            "Epoch 00050: loss improved from 0.00329 to 0.00315, saving model to check_point/cp.ckpt\n",
            "Epoch 51/100\n",
            "35/35 [==============================] - 7s 210ms/step - loss: 0.0030 - acc: 1.0000 - val_loss: 0.1892 - val_acc: 0.9420\n",
            "\n",
            "Epoch 00051: loss improved from 0.00315 to 0.00296, saving model to check_point/cp.ckpt\n",
            "Epoch 52/100\n",
            "35/35 [==============================] - 7s 209ms/step - loss: 0.0039 - acc: 1.0000 - val_loss: 0.1677 - val_acc: 0.9565\n",
            "\n",
            "Epoch 00052: loss did not improve from 0.00296\n",
            "Epoch 53/100\n",
            "35/35 [==============================] - 7s 208ms/step - loss: 0.0031 - acc: 1.0000 - val_loss: 0.1556 - val_acc: 0.9420\n",
            "\n",
            "Epoch 00053: loss did not improve from 0.00296\n",
            "Epoch 54/100\n",
            "35/35 [==============================] - 7s 209ms/step - loss: 0.0023 - acc: 1.0000 - val_loss: 0.1670 - val_acc: 0.9565\n",
            "\n",
            "Epoch 00054: loss improved from 0.00296 to 0.00226, saving model to check_point/cp.ckpt\n",
            "Epoch 55/100\n",
            "35/35 [==============================] - 7s 208ms/step - loss: 0.0024 - acc: 1.0000 - val_loss: 0.1639 - val_acc: 0.9565\n",
            "\n",
            "Epoch 00055: loss did not improve from 0.00226\n",
            "Epoch 56/100\n",
            "35/35 [==============================] - 7s 209ms/step - loss: 0.0024 - acc: 1.0000 - val_loss: 0.1676 - val_acc: 0.9420\n",
            "\n",
            "Epoch 00056: loss did not improve from 0.00226\n",
            "Epoch 57/100\n",
            "35/35 [==============================] - 7s 209ms/step - loss: 0.0030 - acc: 1.0000 - val_loss: 0.1614 - val_acc: 0.9420\n",
            "\n",
            "Epoch 00057: loss did not improve from 0.00226\n",
            "Epoch 58/100\n",
            "35/35 [==============================] - 7s 210ms/step - loss: 0.0024 - acc: 1.0000 - val_loss: 0.1638 - val_acc: 0.9565\n",
            "\n",
            "Epoch 00058: loss did not improve from 0.00226\n",
            "Epoch 59/100\n",
            "35/35 [==============================] - 7s 210ms/step - loss: 0.0028 - acc: 1.0000 - val_loss: 0.1703 - val_acc: 0.9565\n",
            "\n",
            "Epoch 00059: loss did not improve from 0.00226\n",
            "Epoch 60/100\n",
            "35/35 [==============================] - 7s 211ms/step - loss: 0.0018 - acc: 1.0000 - val_loss: 0.1606 - val_acc: 0.9565\n",
            "\n",
            "Epoch 00060: loss improved from 0.00226 to 0.00183, saving model to check_point/cp.ckpt\n",
            "Epoch 61/100\n",
            "35/35 [==============================] - 7s 209ms/step - loss: 0.0129 - acc: 0.9945 - val_loss: 0.2628 - val_acc: 0.9058\n",
            "\n",
            "Epoch 00061: loss did not improve from 0.00183\n",
            "Epoch 62/100\n",
            "35/35 [==============================] - 7s 209ms/step - loss: 0.0037 - acc: 1.0000 - val_loss: 0.1497 - val_acc: 0.9420\n",
            "\n",
            "Epoch 00062: loss did not improve from 0.00183\n",
            "Epoch 63/100\n",
            "35/35 [==============================] - 7s 209ms/step - loss: 0.0122 - acc: 0.9945 - val_loss: 0.2876 - val_acc: 0.9203\n",
            "\n",
            "Epoch 00063: loss did not improve from 0.00183\n",
            "Epoch 64/100\n",
            "35/35 [==============================] - 7s 209ms/step - loss: 0.0037 - acc: 1.0000 - val_loss: 0.1673 - val_acc: 0.9565\n",
            "\n",
            "Epoch 00064: loss did not improve from 0.00183\n",
            "Epoch 65/100\n",
            "35/35 [==============================] - 7s 209ms/step - loss: 0.0038 - acc: 1.0000 - val_loss: 0.1944 - val_acc: 0.9348\n",
            "\n",
            "Epoch 00065: loss did not improve from 0.00183\n",
            "Epoch 66/100\n",
            "35/35 [==============================] - 7s 208ms/step - loss: 0.0018 - acc: 1.0000 - val_loss: 0.1703 - val_acc: 0.9565\n",
            "\n",
            "Epoch 00066: loss improved from 0.00183 to 0.00181, saving model to check_point/cp.ckpt\n",
            "Epoch 67/100\n",
            "35/35 [==============================] - 7s 211ms/step - loss: 0.0020 - acc: 1.0000 - val_loss: 0.1799 - val_acc: 0.9420\n",
            "\n",
            "Epoch 00067: loss did not improve from 0.00181\n",
            "Epoch 68/100\n",
            "35/35 [==============================] - 7s 209ms/step - loss: 0.0016 - acc: 1.0000 - val_loss: 0.1895 - val_acc: 0.9493\n",
            "\n",
            "Epoch 00068: loss improved from 0.00181 to 0.00160, saving model to check_point/cp.ckpt\n",
            "Epoch 69/100\n",
            "35/35 [==============================] - 9s 244ms/step - loss: 0.0019 - acc: 1.0000 - val_loss: 0.1673 - val_acc: 0.9565\n",
            "\n",
            "Epoch 00069: loss did not improve from 0.00160\n",
            "Epoch 70/100\n",
            "35/35 [==============================] - 7s 208ms/step - loss: 0.0018 - acc: 1.0000 - val_loss: 0.1815 - val_acc: 0.9565\n",
            "\n",
            "Epoch 00070: loss did not improve from 0.00160\n",
            "Epoch 71/100\n",
            "35/35 [==============================] - 7s 209ms/step - loss: 0.0020 - acc: 1.0000 - val_loss: 0.1713 - val_acc: 0.9565\n",
            "\n",
            "Epoch 00071: loss did not improve from 0.00160\n",
            "Epoch 72/100\n",
            "35/35 [==============================] - 7s 209ms/step - loss: 0.0015 - acc: 1.0000 - val_loss: 0.1741 - val_acc: 0.9565\n",
            "\n",
            "Epoch 00072: loss improved from 0.00160 to 0.00148, saving model to check_point/cp.ckpt\n",
            "Epoch 73/100\n",
            "35/35 [==============================] - 7s 209ms/step - loss: 0.0016 - acc: 1.0000 - val_loss: 0.1862 - val_acc: 0.9493\n",
            "\n",
            "Epoch 00073: loss did not improve from 0.00148\n",
            "Epoch 74/100\n",
            "35/35 [==============================] - 7s 208ms/step - loss: 0.0015 - acc: 1.0000 - val_loss: 0.1697 - val_acc: 0.9565\n",
            "\n",
            "Epoch 00074: loss improved from 0.00148 to 0.00147, saving model to check_point/cp.ckpt\n",
            "Epoch 75/100\n",
            "35/35 [==============================] - 7s 210ms/step - loss: 0.0014 - acc: 1.0000 - val_loss: 0.1837 - val_acc: 0.9493\n",
            "\n",
            "Epoch 00075: loss improved from 0.00147 to 0.00143, saving model to check_point/cp.ckpt\n",
            "Epoch 76/100\n",
            "35/35 [==============================] - 7s 209ms/step - loss: 0.0014 - acc: 1.0000 - val_loss: 0.1661 - val_acc: 0.9565\n",
            "\n",
            "Epoch 00076: loss improved from 0.00143 to 0.00142, saving model to check_point/cp.ckpt\n",
            "Epoch 77/100\n",
            "35/35 [==============================] - 7s 209ms/step - loss: 0.0014 - acc: 1.0000 - val_loss: 0.1824 - val_acc: 0.9493\n",
            "\n",
            "Epoch 00077: loss improved from 0.00142 to 0.00139, saving model to check_point/cp.ckpt\n",
            "Epoch 78/100\n",
            "35/35 [==============================] - 9s 261ms/step - loss: 0.0013 - acc: 1.0000 - val_loss: 0.1711 - val_acc: 0.9565\n",
            "\n",
            "Epoch 00078: loss improved from 0.00139 to 0.00130, saving model to check_point/cp.ckpt\n",
            "Epoch 79/100\n",
            "35/35 [==============================] - 7s 209ms/step - loss: 0.0013 - acc: 1.0000 - val_loss: 0.1861 - val_acc: 0.9493\n",
            "\n",
            "Epoch 00079: loss did not improve from 0.00130\n",
            "Epoch 80/100\n",
            "35/35 [==============================] - 7s 209ms/step - loss: 0.0012 - acc: 1.0000 - val_loss: 0.1711 - val_acc: 0.9565\n",
            "\n",
            "Epoch 00080: loss improved from 0.00130 to 0.00123, saving model to check_point/cp.ckpt\n",
            "Epoch 81/100\n",
            "35/35 [==============================] - 7s 209ms/step - loss: 0.0014 - acc: 1.0000 - val_loss: 0.1748 - val_acc: 0.9565\n",
            "\n",
            "Epoch 00081: loss did not improve from 0.00123\n",
            "Epoch 82/100\n",
            "35/35 [==============================] - 7s 210ms/step - loss: 0.0012 - acc: 1.0000 - val_loss: 0.1719 - val_acc: 0.9565\n",
            "\n",
            "Epoch 00082: loss improved from 0.00123 to 0.00120, saving model to check_point/cp.ckpt\n",
            "Epoch 83/100\n",
            "35/35 [==============================] - 7s 209ms/step - loss: 0.0012 - acc: 1.0000 - val_loss: 0.1759 - val_acc: 0.9565\n",
            "\n",
            "Epoch 00083: loss improved from 0.00120 to 0.00119, saving model to check_point/cp.ckpt\n",
            "Epoch 84/100\n",
            "35/35 [==============================] - 7s 209ms/step - loss: 0.0012 - acc: 1.0000 - val_loss: 0.1734 - val_acc: 0.9420\n",
            "\n",
            "Epoch 00084: loss did not improve from 0.00119\n",
            "Epoch 85/100\n",
            "35/35 [==============================] - 7s 208ms/step - loss: 0.0012 - acc: 1.0000 - val_loss: 0.1796 - val_acc: 0.9493\n",
            "\n",
            "Epoch 00085: loss did not improve from 0.00119\n",
            "Epoch 86/100\n",
            "35/35 [==============================] - 7s 209ms/step - loss: 0.0012 - acc: 1.0000 - val_loss: 0.1754 - val_acc: 0.9565\n",
            "\n",
            "Epoch 00086: loss improved from 0.00119 to 0.00118, saving model to check_point/cp.ckpt\n",
            "Epoch 87/100\n",
            "35/35 [==============================] - 10s 283ms/step - loss: 0.0014 - acc: 1.0000 - val_loss: 0.1728 - val_acc: 0.9565\n",
            "\n",
            "Epoch 00087: loss did not improve from 0.00118\n",
            "Epoch 88/100\n",
            "35/35 [==============================] - 7s 209ms/step - loss: 0.0011 - acc: 1.0000 - val_loss: 0.1866 - val_acc: 0.9493\n",
            "\n",
            "Epoch 00088: loss improved from 0.00118 to 0.00110, saving model to check_point/cp.ckpt\n",
            "Epoch 89/100\n",
            "35/35 [==============================] - 7s 210ms/step - loss: 0.0011 - acc: 1.0000 - val_loss: 0.1688 - val_acc: 0.9565\n",
            "\n",
            "Epoch 00089: loss improved from 0.00110 to 0.00107, saving model to check_point/cp.ckpt\n",
            "Epoch 90/100\n",
            "35/35 [==============================] - 7s 208ms/step - loss: 0.0011 - acc: 1.0000 - val_loss: 0.1752 - val_acc: 0.9565\n",
            "\n",
            "Epoch 00090: loss did not improve from 0.00107\n",
            "Epoch 91/100\n",
            "35/35 [==============================] - 7s 208ms/step - loss: 0.0011 - acc: 1.0000 - val_loss: 0.1702 - val_acc: 0.9565\n",
            "\n",
            "Epoch 00091: loss did not improve from 0.00107\n",
            "Epoch 92/100\n",
            "35/35 [==============================] - 7s 209ms/step - loss: 0.0012 - acc: 1.0000 - val_loss: 0.1779 - val_acc: 0.9420\n",
            "\n",
            "Epoch 00092: loss did not improve from 0.00107\n",
            "Epoch 93/100\n",
            "35/35 [==============================] - 7s 208ms/step - loss: 0.0010 - acc: 1.0000 - val_loss: 0.1739 - val_acc: 0.9565\n",
            "\n",
            "Epoch 00093: loss improved from 0.00107 to 0.00100, saving model to check_point/cp.ckpt\n",
            "Epoch 94/100\n",
            "35/35 [==============================] - 7s 208ms/step - loss: 0.0011 - acc: 1.0000 - val_loss: 0.1725 - val_acc: 0.9565\n",
            "\n",
            "Epoch 00094: loss did not improve from 0.00100\n",
            "Epoch 95/100\n",
            "35/35 [==============================] - 7s 208ms/step - loss: 0.0010 - acc: 1.0000 - val_loss: 0.1732 - val_acc: 0.9565\n",
            "\n",
            "Epoch 00095: loss did not improve from 0.00100\n",
            "Epoch 96/100\n",
            "35/35 [==============================] - 7s 207ms/step - loss: 0.0011 - acc: 1.0000 - val_loss: 0.1794 - val_acc: 0.9565\n",
            "\n",
            "Epoch 00096: loss did not improve from 0.00100\n",
            "Epoch 97/100\n",
            "35/35 [==============================] - 7s 207ms/step - loss: 9.1318e-04 - acc: 1.0000 - val_loss: 0.1725 - val_acc: 0.9565\n",
            "\n",
            "Epoch 00097: loss improved from 0.00100 to 0.00091, saving model to check_point/cp.ckpt\n",
            "Epoch 98/100\n",
            "35/35 [==============================] - 7s 210ms/step - loss: 9.7597e-04 - acc: 1.0000 - val_loss: 0.1838 - val_acc: 0.9565\n",
            "\n",
            "Epoch 00098: loss did not improve from 0.00091\n",
            "Epoch 99/100\n",
            "35/35 [==============================] - 7s 208ms/step - loss: 9.8530e-04 - acc: 1.0000 - val_loss: 0.1806 - val_acc: 0.9565\n",
            "\n",
            "Epoch 00099: loss did not improve from 0.00091\n",
            "Epoch 100/100\n",
            "35/35 [==============================] - 7s 208ms/step - loss: 0.0012 - acc: 1.0000 - val_loss: 0.1750 - val_acc: 0.9565\n",
            "\n",
            "Epoch 00100: loss did not improve from 0.00091\n"
          ]
        }
      ]
    },
    {
      "cell_type": "code",
      "metadata": {
        "colab": {
          "base_uri": "https://localhost:8080/",
          "height": 314
        },
        "id": "f4e780f8",
        "outputId": "7bdf6c87-b971-42b2-ac9b-7d71ecc9e6e5"
      },
      "source": [
        "acc = history.history['acc']\n",
        "val_acc = history.history['val_acc']\n",
        "\n",
        "loss = history.history['loss']\n",
        "val_loss = history.history['val_loss']\n",
        "\n",
        "epochs = range(1, len(acc) +1)\n",
        "    \n",
        "    \n",
        "\n",
        "fig = plt.figure()\n",
        "fig.set_size_inches(15, 5)\n",
        "\n",
        "fig.add_subplot(1, 2, 1)\n",
        "plt.plot(epochs, acc, 'b', label ='Training acc')\n",
        "plt.plot(epochs, val_acc, 'r', label = 'Validation acc')\n",
        "plt.title('Training and validation accuracy')\n",
        "plt.legend()\n",
        "\n",
        "# plt.figure()\n",
        "fig.add_subplot(1, 2, 2) \n",
        "plt.plot(epochs, loss, 'b', label = \"Training loss\")\n",
        "plt.plot(epochs, val_loss, 'r', label ='Validation loss')\n",
        "plt.title('Training and validation lose')\n",
        "plt.legend()\n",
        "\n",
        "plt.show()"
      ],
      "id": "f4e780f8",
      "execution_count": 17,
      "outputs": [
        {
          "output_type": "stream",
          "name": "stderr",
          "text": [
            "findfont: Font family ['AppleGothic'] not found. Falling back to DejaVu Sans.\n",
            "findfont: Font family ['AppleGothic'] not found. Falling back to DejaVu Sans.\n"
          ]
        },
        {
          "output_type": "display_data",
          "data": {
            "image/png": "[encoded data removed]",
            "text/plain": [
              "<Figure size 1080x360 with 2 Axes>"
            ]
          },
          "metadata": {}
        }
      ]
    },
    {
      "cell_type": "code",
      "metadata": {
        "colab": {
          "base_uri": "https://localhost:8080/"
        },
        "id": "d39f5777",
        "outputId": "36d56c75-0087-4a39-ef1d-bffb03628c0d"
      },
      "source": [
        "#맥에서는 !ls\n",
        "#저장된 checkpoint확인하기\n",
        "!dir {checkpoint_dir}"
      ],
      "id": "d39f5777",
      "execution_count": 18,
      "outputs": [
        {
          "output_type": "stream",
          "name": "stdout",
          "text": [
            "checkpoint  cp.ckpt.data-00000-of-00001  cp.ckpt.index\n"
          ]
        }
      ]
    },
    {
      "cell_type": "code",
      "metadata": {
        "colab": {
          "base_uri": "https://localhost:8080/",
          "height": 35
        },
        "id": "7693c4b4",
        "outputId": "e768371a-a4b9-47a9-f6fe-3219f259995a"
      },
      "source": [
        "#가장 마지막에 만들어진 체크포인트 확인\n",
        "latest = tf.train.latest_checkpoint(checkpoint_dir)\n",
        "latest"
      ],
      "id": "7693c4b4",
      "execution_count": 19,
      "outputs": [
        {
          "output_type": "execute_result",
          "data": {
            "application/vnd.google.colaboratory.intrinsic+json": {
              "type": "string"
            },
            "text/plain": [
              "'check_point/cp.ckpt'"
            ]
          },
          "metadata": {},
          "execution_count": 19
        }
      ]
    },
    {
      "cell_type": "code",
      "metadata": {
        "colab": {
          "base_uri": "https://localhost:8080/"
        },
        "id": "f29a66f3",
        "outputId": "854d8004-bd93-4209-b836-6bd5cb4ecd79"
      },
      "source": [
        "# 기본 모델 객체를 만듭니다\n",
        "model = create_model()\n",
        "\n",
        "# 모델을 평가합니다\n",
        "loss, acc = model.evaluate(val_generator, verbose=2)\n",
        "print(\"훈련되지 않은 모델의 정확도: {:5.2f}%\".format(100*acc))"
      ],
      "id": "f29a66f3",
      "execution_count": 20,
      "outputs": [
        {
          "output_type": "stream",
          "name": "stdout",
          "text": [
            "9/9 - 2s - loss: 1.5503 - acc: 0.1522\n",
            "훈련되지 않은 모델의 정확도: 15.22%\n"
          ]
        }
      ]
    },
    {
      "cell_type": "code",
      "metadata": {
        "colab": {
          "base_uri": "https://localhost:8080/"
        },
        "id": "b96c5d56",
        "outputId": "15c07096-4dbf-4c7c-b5ba-7acf41340497"
      },
      "source": [
        "# 가중치 로드\n",
        "model.load_weights(latest)\n",
        "\n",
        "# # 모델 재평가\n",
        "loss,acc = model.evaluate(val_generator)\n",
        "print(\"복원된 모델의 정확도: {:5.2f}%\".format(100*acc))"
      ],
      "id": "b96c5d56",
      "execution_count": 27,
      "outputs": [
        {
          "output_type": "stream",
          "name": "stdout",
          "text": [
            "9/9 [==============================] - 1s 150ms/step - loss: 0.1725 - acc: 0.9565\n",
            "복원된 모델의 정확도: 95.65%\n"
          ]
        }
      ]
    },
    {
      "cell_type": "markdown",
      "metadata": {
        "id": "cd33b009"
      },
      "source": [
        "#### final model save"
      ],
      "id": "cd33b009"
    },
    {
      "cell_type": "code",
      "metadata": {
        "colab": {
          "base_uri": "https://localhost:8080/"
        },
        "id": "84e67928",
        "outputId": "496e7f5c-f6b2-4197-def7-a9f260c49a1e"
      },
      "source": [
        "model.save('[0921]stratified_4class.h5')\n",
        "\n",
        "model_json = model.to_json()\n",
        "with open(\"[0921]stratified_4class.json\", \"w\") as json_file : \n",
        "    json_file.write(model_json)\n",
        "\n",
        "model.save_weights(\"[0921]stratified_4class_weight.h5\")\n",
        "print(\"Saved model to disk\")"
      ],
      "id": "84e67928",
      "execution_count": 30,
      "outputs": [
        {
          "output_type": "stream",
          "name": "stdout",
          "text": [
            "Saved model to disk\n"
          ]
        }
      ]
    },
    {
      "cell_type": "code",
      "metadata": {
        "colab": {
          "base_uri": "https://localhost:8080/"
        },
        "id": "GEkJxX95GGoN",
        "outputId": "65ac34f7-9bb6-492a-d7f1-f5990e8da6e6"
      },
      "source": [
        "label_dict = get_label_dict(train_generator)\n",
        "label_dict"
      ],
      "id": "GEkJxX95GGoN",
      "execution_count": 28,
      "outputs": [
        {
          "output_type": "execute_result",
          "data": {
            "text/plain": [
              "{0: 'fragile', 1: 'handle', 2: 'up', 3: 'wet'}"
            ]
          },
          "metadata": {},
          "execution_count": 28
        }
      ]
    },
    {
      "cell_type": "markdown",
      "metadata": {
        "id": "cdQV6WVGahO_"
      },
      "source": [
        "### Test"
      ],
      "id": "cdQV6WVGahO_"
    },
    {
      "cell_type": "markdown",
      "metadata": {
        "id": "8jzHQWQcdctr"
      },
      "source": [
        "#### validation set"
      ],
      "id": "8jzHQWQcdctr"
    },
    {
      "cell_type": "code",
      "metadata": {
        "id": "4LKkrIpIgNVG"
      },
      "source": [
        "def multi_get_clf_eval(y_test , pred):\n",
        "    confusion = confusion_matrix( y_test, pred)\n",
        "    accuracy = accuracy_score(y_test , pred)\n",
        "    precision = precision_score(y_test , pred, average = 'micro')\n",
        "    recall = recall_score(y_test , pred, average = 'micro')\n",
        "    f1 = f1_score(y_test,pred, average = 'micro')\n",
        "    # ROC-AUC 추가 \n",
        "    roc_auc = roc_auc_score(y_test, pred, multi_class='ovr')\n",
        "    print('오차 행렬')\n",
        "    print(confusion)\n",
        "    # ROC-AUC print 추가\n",
        "    print('정확도: {0:.4f}, 정밀도: {1:.4f}, 재현율: {2:.4f},\\\n",
        "    F1: {3:.4f}, AUC:{4:.4f}'.format(accuracy, precision, recall, f1, roc_auc))\n",
        "    \n",
        "    return confusion"
      ],
      "id": "4LKkrIpIgNVG",
      "execution_count": 29,
      "outputs": []
    },
    {
      "cell_type": "code",
      "metadata": {
        "colab": {
          "base_uri": "https://localhost:8080/",
          "height": 767
        },
        "id": "N1g_JWsLdcQh",
        "outputId": "5cb2c694-4f6b-42bb-e153-79a85f4eac17"
      },
      "source": [
        "#confusion matrix\n",
        "from sklearn.metrics import confusion_matrix\n",
        "\n",
        "# 1.Predict classes\n",
        "test_steps_per_epoch = np.math.ceil(val_generator.samples / val_generator.batch_size)\n",
        "\n",
        "\n",
        "predictions = model.predict_generator(val_generator, steps=test_steps_per_epoch)\n",
        "\n",
        "# Get most likely class axis=1(열로 가장 큰 수의 위치를 보겠다는 소리), \n",
        "predicted_classes = np.argmax(predictions, axis=1)\n",
        "\n",
        "print(predicted_classes)\n",
        "# 2.Get ground-truth classes and class-labels\n",
        "true_classes = val_generator.classes\n",
        "class_labels = list(val_generator.class_indices.keys())   \n",
        "# 3. Use scikit-learn to get statistics\n",
        "report = classification_report(true_classes, predicted_classes, target_names=class_labels)\n",
        "\n",
        "\n",
        "print('Confusion Matrix')\n",
        "print(confusion_matrix(val_generator.classes, predicted_classes))\n",
        "print(report)\n",
        "\n",
        "plt.figure(figsize=(6,6))\n",
        "con_test = confusion_matrix(val_generator.classes, predicted_classes)\n",
        "confusion_plot(con_test, 6)\n"
      ],
      "id": "N1g_JWsLdcQh",
      "execution_count": 25,
      "outputs": [
        {
          "output_type": "stream",
          "name": "stdout",
          "text": [
            "[0 0 0 0 0 2 2 0 1 2 3 0 0 0 0 2 2 1 3 0 2 1 2 0 3 3 2 0 0 0 3 0 0 0 2 2 0\n",
            " 2 2 0 1 0 1 3 0 2 2 2 0 0 0 3 0 2 3 0 0 3 2 2 0 0 2 0 0 3 1 1 1 0 0 0 3 2\n",
            " 0 0 0 0 2 0 2 0 1 3 1 3 0 0 1 1 3 2 0 3 2 3 2 2 1 0 0 0 3 1 0 2 0 0 2 3 0\n",
            " 2 3 1 0 1 1 1 0 0 0 1 1 0 2 3 0 1 0 0 2 3 3 0 3 2 0 0]\n",
            "Confusion Matrix\n",
            "[[29  5 18  9]\n",
            " [11  3  4  2]\n",
            " [12  7  7  8]\n",
            " [10  6  3  4]]\n",
            "              precision    recall  f1-score   support\n",
            "\n",
            "     fragile       0.47      0.48      0.47        61\n",
            "      handle       0.14      0.15      0.15        20\n",
            "          up       0.22      0.21      0.21        34\n",
            "         wet       0.17      0.17      0.17        23\n",
            "\n",
            "    accuracy                           0.31       138\n",
            "   macro avg       0.25      0.25      0.25       138\n",
            "weighted avg       0.31      0.31      0.31       138\n",
            "\n"
          ]
        },
        {
          "output_type": "display_data",
          "data": {
            "text/plain": [
              "<Figure size 432x432 with 0 Axes>"
            ]
          },
          "metadata": {}
        },
        {
          "output_type": "display_data",
          "data": {
            "image/png": "[encoded data removed]",
            "text/plain": [
              "<Figure size 432x432 with 2 Axes>"
            ]
          },
          "metadata": {}
        }
      ]
    },
    {
      "cell_type": "markdown",
      "metadata": {
        "id": "vau93mQPdg_R"
      },
      "source": [
        "#### test set"
      ],
      "id": "vau93mQPdg_R"
    },
    {
      "cell_type": "code",
      "metadata": {
        "id": "r68ob753Jvbz"
      },
      "source": [
        ""
      ],
      "id": "r68ob753Jvbz",
      "execution_count": 25,
      "outputs": []
    },
    {
      "cell_type": "code",
      "metadata": {
        "colab": {
          "base_uri": "https://localhost:8080/",
          "height": 164
        },
        "id": "JIM8etArKMt6",
        "outputId": "9fb0c5c4-c714-425e-d541-6e947a35217a"
      },
      "source": [
        "test_generator.classes"
      ],
      "id": "JIM8etArKMt6",
      "execution_count": 26,
      "outputs": [
        {
          "output_type": "error",
          "ename": "NameError",
          "evalue": "ignored",
          "traceback": [
            "\u001b[0;31m---------------------------------------------------------------------------\u001b[0m",
            "\u001b[0;31mNameError\u001b[0m                                 Traceback (most recent call last)",
            "\u001b[0;32m<ipython-input-26-ec8663ce7c32>\u001b[0m in \u001b[0;36m<module>\u001b[0;34m()\u001b[0m\n\u001b[0;32m----> 1\u001b[0;31m \u001b[0mtest_generator\u001b[0m\u001b[0;34m.\u001b[0m\u001b[0mclasses\u001b[0m\u001b[0;34m\u001b[0m\u001b[0;34m\u001b[0m\u001b[0m\n\u001b[0m",
            "\u001b[0;31mNameError\u001b[0m: name 'test_generator' is not defined"
          ]
        }
      ]
    },
    {
      "cell_type": "code",
      "metadata": {
        "id": "bAh7UWyjdcOu"
      },
      "source": [
        "#confusion matrix\n",
        "from sklearn.metrics import confusion_matrix\n",
        "\n",
        "# 1.Predict classes\n",
        "test_steps_per_epoch = np.math.ceil(test_generator.samples / test_generator.batch_size)\n",
        "\n",
        "\n",
        "predictions = model.predict_generator(test_generator, steps=test_steps_per_epoch)\n",
        "# print(predictions)\n",
        "# # Get most likely class axis=1(열로 가장 큰 수의 위치를 보겠다는 소리), \n",
        "predicted_classes = np.argmax(predictions, axis=1)\n",
        "\n",
        "# print(predicted_classes)\n",
        "# # 2.Get ground-truth classes and class-labels\n",
        "true_classes = test_generator.classes\n",
        "print(true_classes)\n",
        "# class_labels = list(test_generator.class_indices.keys())   \n",
        "# # 3. Use scikit-learn to get statistics\n",
        "# report = classification_report(true_classes, predicted_classes, target_names=class_labels)\n",
        "\n",
        "\n",
        "# print('Confusion Matrix')\n",
        "# print(confusion_matrix(test_generator.classes, predicted_classes))\n",
        "# print(report)\n",
        "\n",
        "# plt.figure(figsize=(6,6))\n",
        "# con_test = confusion_matrix(test_generator.classes, predicted_classes)\n",
        "# confusion_plot(con_test, 6)\n"
      ],
      "id": "bAh7UWyjdcOu",
      "execution_count": null,
      "outputs": []
    },
    {
      "cell_type": "code",
      "metadata": {
        "id": "MAZcrZ5QGrF6"
      },
      "source": [
        "results = model.evaluate(test_generator, batch_size=16)\n",
        "print('test loss, test acc: ', results)"
      ],
      "id": "MAZcrZ5QGrF6",
      "execution_count": null,
      "outputs": []
    },
    {
      "cell_type": "code",
      "metadata": {
        "id": "eMwp957tKYGP"
      },
      "source": [
        "def prepare_image_for_prediction( img):\n",
        "   \n",
        "    # convert 3D tensor to 4D tensor with shape (1, 224, 224, 3) and return 4D tensor\n",
        "    # The below function inserts an additional dimension at the axis position provided\n",
        "    img = np.expand_dims(img, axis=0)\n",
        "    # perform pre-processing that was done when resnet model was trained.\n",
        "    return preprocess_input(img)"
      ],
      "id": "eMwp957tKYGP",
      "execution_count": null,
      "outputs": []
    },
    {
      "cell_type": "code",
      "metadata": {
        "id": "pwCEc9BPMR46"
      },
      "source": [
        "file_list = get_file_list('/content/drive/MyDrive/Sign Detection/ML/test/')\n",
        "print(len(file_list))"
      ],
      "id": "pwCEc9BPMR46",
      "execution_count": null,
      "outputs": []
    },
    {
      "cell_type": "code",
      "metadata": {
        "id": "eHHqljrojkRV"
      },
      "source": [
        "file_list = file_list[1:]"
      ],
      "id": "eHHqljrojkRV",
      "execution_count": null,
      "outputs": []
    },
    {
      "cell_type": "code",
      "metadata": {
        "id": "oXjIP41uMf9J"
      },
      "source": [
        "img_list=[]\n",
        "for i in file_list:\n",
        "    img = cv2.imread(i, cv2.IMREAD_COLOR)\n",
        "    input_img = prepare_image_for_prediction(img)\n",
        "    img_list.append(input_img)\n"
      ],
      "id": "oXjIP41uMf9J",
      "execution_count": null,
      "outputs": []
    },
    {
      "cell_type": "code",
      "metadata": {
        "id": "DjwQOowJGGfO"
      },
      "source": [
        "predicted_class = []\n",
        "\n",
        "for i in img_list:\n",
        "    pred_vec = model.predict(i)\n",
        "    confidence = np.round(pred_vec.max(),2)\n",
        "    pc = pred_vec.argmax()\n",
        "    predicted_class.append(pc)"
      ],
      "id": "DjwQOowJGGfO",
      "execution_count": null,
      "outputs": []
    },
    {
      "cell_type": "code",
      "metadata": {
        "id": "H1H04PfeGGco"
      },
      "source": [
        "answer_test = []\n",
        "\n",
        "for i in file_list:\n",
        "    if 'fragile' in i:\n",
        "        answer_test.append('0')\n",
        "    elif 'up_resized' in i:\n",
        "        answer_test.append('2')\n",
        "    elif 'handle_resized' in i :\n",
        "        answer_test.append('1')\n",
        "    elif 'wet_resized' in i :\n",
        "        answer_test.append('3')\n",
        "    else :\n",
        "        answer_test.append(i)"
      ],
      "id": "H1H04PfeGGco",
      "execution_count": null,
      "outputs": []
    },
    {
      "cell_type": "code",
      "metadata": {
        "id": "Ep6teIudGGUB"
      },
      "source": [
        "print(len(file_list))\n",
        "print(len(answer_test))\n",
        "print(len(predicted_class))"
      ],
      "id": "Ep6teIudGGUB",
      "execution_count": null,
      "outputs": []
    },
    {
      "cell_type": "code",
      "metadata": {
        "id": "ucd-8BZeSZdL"
      },
      "source": [
        "\n",
        "answer = []\n",
        "for i in answer_test:\n",
        "    i = int(i)\n",
        "    answer.append(i)"
      ],
      "id": "ucd-8BZeSZdL",
      "execution_count": null,
      "outputs": []
    },
    {
      "cell_type": "code",
      "metadata": {
        "id": "Eyj5JMA3SYCy"
      },
      "source": [
        "prediction = []\n",
        "for i in predicted_class:\n",
        "    i = int(i)\n",
        "    prediction.append(i)"
      ],
      "id": "Eyj5JMA3SYCy",
      "execution_count": null,
      "outputs": []
    },
    {
      "cell_type": "code",
      "metadata": {
        "id": "PlVA_-HfkcFJ"
      },
      "source": [
        "print(accuracy_score(answer, prediction))\n",
        "print(recall_score(answer, prediction, average='weighted'))\n",
        "print(precision_score(answer, prediction, average='micro'))\n",
        "print(f1_score(answer, prediction, average='macro'))"
      ],
      "id": "PlVA_-HfkcFJ",
      "execution_count": null,
      "outputs": []
    },
    {
      "cell_type": "code",
      "metadata": {
        "id": "U3oG4kbHk4cN"
      },
      "source": [
        "conf= confusion_matrix(answer, prediction)\n",
        "confusion_plot(conf,6)"
      ],
      "id": "U3oG4kbHk4cN",
      "execution_count": null,
      "outputs": []
    }
  ]
}