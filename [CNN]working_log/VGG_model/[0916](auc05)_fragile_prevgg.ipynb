{
  "nbformat": 4,
  "nbformat_minor": 5,
  "metadata": {
    "kernelspec": {
      "display_name": "Python 3 (ipykernel)",
      "language": "python",
      "name": "python3"
    },
    "language_info": {
      "codemirror_mode": {
        "name": "ipython",
        "version": 3
      },
      "file_extension": ".py",
      "mimetype": "text/x-python",
      "name": "python",
      "nbconvert_exporter": "python",
      "pygments_lexer": "ipython3",
      "version": "3.7.0"
    },
    "toc": {
      "base_numbering": 1,
      "nav_menu": {},
      "number_sections": true,
      "sideBar": true,
      "skip_h1_title": false,
      "title_cell": "Table of Contents",
      "title_sidebar": "Contents",
      "toc_cell": false,
      "toc_position": {},
      "toc_section_display": true,
      "toc_window_display": false
    },
    "varInspector": {
      "cols": {
        "lenName": 16,
        "lenType": 16,
        "lenVar": 40
      },
      "kernels_config": {
        "python": {
          "delete_cmd_postfix": "",
          "delete_cmd_prefix": "del ",
          "library": "var_list.py",
          "varRefreshCmd": "print(var_dic_list())"
        },
        "r": {
          "delete_cmd_postfix": ") ",
          "delete_cmd_prefix": "rm(",
          "library": "var_list.r",
          "varRefreshCmd": "cat(var_dic_list()) "
        }
      },
      "types_to_exclude": [
        "module",
        "function",
        "builtin_function_or_method",
        "instance",
        "_Feature"
      ],
      "window_display": false
    },
    "colab": {
      "name": "[0916](auc05) fragile_prevgg.ipynb",
      "provenance": [],
      "collapsed_sections": [],
      "machine_shape": "hm",
      "include_colab_link": true
    },
    "accelerator": "GPU"
  },
  "cells": [
    {
      "cell_type": "markdown",
      "metadata": {
        "id": "view-in-github",
        "colab_type": "text"
      },
      "source": [
        "<a href=\"https://colab.research.google.com/github/MonicaKim89/Sign_recognition/blob/main/%5B0916%5D(auc05)_fragile_prevgg.ipynb\" target=\"_parent\"><img src=\"https://colab.research.google.com/assets/colab-badge.svg\" alt=\"Open In Colab\"/></a>"
      ]
    },
    {
      "cell_type": "code",
      "metadata": {
        "colab": {
          "base_uri": "https://localhost:8080/"
        },
        "id": "vyUINkd69FAt",
        "outputId": "81445c99-36e6-44c2-acbb-b567fcfff971"
      },
      "source": [
        "from google.colab import drive\n",
        "drive.mount('/content/drive')"
      ],
      "id": "vyUINkd69FAt",
      "execution_count": 6,
      "outputs": [
        {
          "output_type": "stream",
          "name": "stdout",
          "text": [
            "Drive already mounted at /content/drive; to attempt to forcibly remount, call drive.mount(\"/content/drive\", force_remount=True).\n"
          ]
        }
      ]
    },
    {
      "cell_type": "code",
      "metadata": {
        "id": "6_0q7KnUhLrM"
      },
      "source": [
        "from tensorflow.keras.utils import to_categorical\n",
        "from tensorflow.python.keras.callbacks import TensorBoard\n",
        "from time import time"
      ],
      "id": "6_0q7KnUhLrM",
      "execution_count": 7,
      "outputs": []
    },
    {
      "cell_type": "code",
      "metadata": {
        "colab": {
          "resources": {
            "http://localhost:8080/nbextensions/google.colab/files.js": {
              "data": "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",
              "ok": true,
              "headers": [
                [
                  "content-type",
                  "application/javascript"
                ]
              ],
              "status": 200,
              "status_text": ""
            }
          },
          "base_uri": "https://localhost:8080/",
          "height": 94
        },
        "id": "1LmW2YLS9SxO",
        "outputId": "48125929-c094-40a0-cd44-86b5067d82f9"
      },
      "source": [
        "from google.colab import files \n",
        "src = list(files.upload().values())[0] \n",
        "open('deeplearning_check.py','wb').write(src)\n",
        "\n"
      ],
      "id": "1LmW2YLS9SxO",
      "execution_count": 8,
      "outputs": [
        {
          "output_type": "display_data",
          "data": {
            "text/html": [
              "\n",
              "     <input type=\"file\" id=\"files-1855c684-30f6-45c6-987d-5405b9b18aff\" name=\"files[]\" multiple disabled\n",
              "        style=\"border:none\" />\n",
              "     <output id=\"result-1855c684-30f6-45c6-987d-5405b9b18aff\">\n",
              "      Upload widget is only available when the cell has been executed in the\n",
              "      current browser session. Please rerun this cell to enable.\n",
              "      </output>\n",
              "      <script src=\"/nbextensions/google.colab/files.js\"></script> "
            ],
            "text/plain": [
              "<IPython.core.display.HTML object>"
            ]
          },
          "metadata": {}
        },
        {
          "output_type": "stream",
          "name": "stdout",
          "text": [
            "Saving deeplearning_check.py to deeplearning_check.py\n"
          ]
        },
        {
          "output_type": "execute_result",
          "data": {
            "text/plain": [
              "7903"
            ]
          },
          "metadata": {},
          "execution_count": 8
        }
      ]
    },
    {
      "cell_type": "code",
      "metadata": {
        "colab": {
          "resources": {
            "http://localhost:8080/nbextensions/google.colab/files.js": {
              "data": "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",
              "ok": true,
              "headers": [
                [
                  "content-type",
                  "application/javascript"
                ]
              ],
              "status": 200,
              "status_text": ""
            }
          },
          "base_uri": "https://localhost:8080/",
          "height": 94
        },
        "id": "T5i5fa9g9mEZ",
        "outputId": "cd675417-46b9-4ca7-d956-a9549c69d1bd"
      },
      "source": [
        "from google.colab import files \n",
        "src = list(files.upload().values())[0] \n",
        "open('basic_preprocessing.py','wb').write(src)"
      ],
      "id": "T5i5fa9g9mEZ",
      "execution_count": 9,
      "outputs": [
        {
          "output_type": "display_data",
          "data": {
            "text/html": [
              "\n",
              "     <input type=\"file\" id=\"files-5b151e6d-72fd-492f-a170-e894a6c87ad3\" name=\"files[]\" multiple disabled\n",
              "        style=\"border:none\" />\n",
              "     <output id=\"result-5b151e6d-72fd-492f-a170-e894a6c87ad3\">\n",
              "      Upload widget is only available when the cell has been executed in the\n",
              "      current browser session. Please rerun this cell to enable.\n",
              "      </output>\n",
              "      <script src=\"/nbextensions/google.colab/files.js\"></script> "
            ],
            "text/plain": [
              "<IPython.core.display.HTML object>"
            ]
          },
          "metadata": {}
        },
        {
          "output_type": "stream",
          "name": "stdout",
          "text": [
            "Saving basic_preprocessing.py to basic_preprocessing.py\n"
          ]
        },
        {
          "output_type": "execute_result",
          "data": {
            "text/plain": [
              "5233"
            ]
          },
          "metadata": {},
          "execution_count": 9
        }
      ]
    },
    {
      "cell_type": "code",
      "metadata": {
        "colab": {
          "resources": {
            "http://localhost:8080/nbextensions/google.colab/files.js": {
              "data": "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",
              "ok": true,
              "headers": [
                [
                  "content-type",
                  "application/javascript"
                ]
              ],
              "status": 200,
              "status_text": ""
            }
          },
          "base_uri": "https://localhost:8080/",
          "height": 94
        },
        "id": "taNbJx1BYFmO",
        "outputId": "bb12f03f-92b0-418a-cd83-8cff88cdc2a0"
      },
      "source": [
        "from google.colab import files \n",
        "src = list(files.upload().values())[0] \n",
        "open('machine_learning.py','wb').write(src)"
      ],
      "id": "taNbJx1BYFmO",
      "execution_count": 10,
      "outputs": [
        {
          "output_type": "display_data",
          "data": {
            "text/html": [
              "\n",
              "     <input type=\"file\" id=\"files-79420c9a-e04f-421d-81a3-5ea09c30f495\" name=\"files[]\" multiple disabled\n",
              "        style=\"border:none\" />\n",
              "     <output id=\"result-79420c9a-e04f-421d-81a3-5ea09c30f495\">\n",
              "      Upload widget is only available when the cell has been executed in the\n",
              "      current browser session. Please rerun this cell to enable.\n",
              "      </output>\n",
              "      <script src=\"/nbextensions/google.colab/files.js\"></script> "
            ],
            "text/plain": [
              "<IPython.core.display.HTML object>"
            ]
          },
          "metadata": {}
        },
        {
          "output_type": "stream",
          "name": "stdout",
          "text": [
            "Saving machine_learning.py to machine_learning.py\n"
          ]
        },
        {
          "output_type": "execute_result",
          "data": {
            "text/plain": [
              "5310"
            ]
          },
          "metadata": {},
          "execution_count": 10
        }
      ]
    },
    {
      "cell_type": "code",
      "metadata": {
        "colab": {
          "base_uri": "https://localhost:8080/"
        },
        "id": "w2wA1qVl9tnu",
        "outputId": "0e9180bf-1cc8-43c9-f10c-64b149cc3f49"
      },
      "source": [
        "!pip install split_folders"
      ],
      "id": "w2wA1qVl9tnu",
      "execution_count": 11,
      "outputs": [
        {
          "output_type": "stream",
          "name": "stdout",
          "text": [
            "Collecting split_folders\n",
            "  Downloading split_folders-0.4.3-py3-none-any.whl (7.4 kB)\n",
            "Installing collected packages: split-folders\n",
            "Successfully installed split-folders-0.4.3\n"
          ]
        }
      ]
    },
    {
      "cell_type": "code",
      "metadata": {
        "colab": {
          "base_uri": "https://localhost:8080/"
        },
        "id": "01115e6c",
        "outputId": "6a91dd80-5cc2-4ee7-def6-624a38fa7c7a"
      },
      "source": [
        "from basic_preprocessing import *\n",
        "from deeplearning_check import *\n",
        "from machine_learning import *\n",
        "\n",
        "gpu_check()\n",
        "set_global_determinism(seed=SEED)"
      ],
      "id": "01115e6c",
      "execution_count": 12,
      "outputs": [
        {
          "output_type": "stream",
          "name": "stdout",
          "text": [
            "[name: \"/device:CPU:0\"\n",
            "device_type: \"CPU\"\n",
            "memory_limit: 268435456\n",
            "locality {\n",
            "}\n",
            "incarnation: 5727720355397607650\n",
            ", name: \"/device:GPU:0\"\n",
            "device_type: \"GPU\"\n",
            "memory_limit: 11345264640\n",
            "locality {\n",
            "  bus_id: 1\n",
            "  links {\n",
            "  }\n",
            "}\n",
            "incarnation: 2366639589865586330\n",
            "physical_device_desc: \"device: 0, name: Tesla K80, pci bus id: 0000:00:04.0, compute capability: 3.7\"\n",
            "]\n",
            "tf 2.6.0\n",
            "keras 2.6.0\n",
            "set_global_determinism(seed=1337) 이거 꼭 해라\n",
            "set_global_determinism(seed=1337) 이거 꼭 해라\n",
            "set_global_determinism(seed=1337) 이거 꼭 해라\n"
          ]
        }
      ]
    },
    {
      "cell_type": "markdown",
      "metadata": {
        "id": "62bbf7e7"
      },
      "source": [
        "#### basic model"
      ],
      "id": "62bbf7e7"
    },
    {
      "cell_type": "code",
      "metadata": {
        "id": "9e06b8bc"
      },
      "source": [
        "set_global_determinism(seed=1337)"
      ],
      "id": "9e06b8bc",
      "execution_count": 13,
      "outputs": []
    },
    {
      "cell_type": "code",
      "metadata": {
        "id": "d0e06e60"
      },
      "source": [
        "train_dir = '/content/drive/MyDrive/Sign Detection/Binary_dataset/Fragile_non/train'\n",
        "test_dir = '/content/drive/MyDrive/Sign Detection/Binary_dataset/Fragile_non/test'\n",
        "val_dir = '/content/drive/MyDrive/Sign Detection/Binary_dataset/Fragile_non/val'"
      ],
      "id": "d0e06e60",
      "execution_count": 14,
      "outputs": []
    },
    {
      "cell_type": "code",
      "metadata": {
        "id": "015625bc"
      },
      "source": [
        "train_datagen = ImageDataGenerator(rescale=1./255)\n",
        "val_datagen = ImageDataGenerator(rescale=1./255)\n",
        "test_datagen = ImageDataGenerator(rescale=1./255)"
      ],
      "id": "015625bc",
      "execution_count": 15,
      "outputs": []
    },
    {
      "cell_type": "code",
      "metadata": {
        "id": "b59db018",
        "colab": {
          "base_uri": "https://localhost:8080/"
        },
        "outputId": "9a0a37cd-5aac-433c-827b-c641b36fdbd4"
      },
      "source": [
        "from keras import Input\n",
        "train_generator = train_datagen.flow_from_directory(train_dir, batch_size=16, target_size=(200,200), color_mode='rgb')\n",
        "val_generator = val_datagen.flow_from_directory(val_dir, batch_size=16, target_size=(200, 200), color_mode='rgb')\n",
        "test_generator = test_datagen.flow_from_directory(test_dir,batch_size=16, target_size=(200, 200), color_mode='rgb')\n",
        "\n",
        "input_tensor = Input(shape=(200, 200, 3), dtype='float32', name='input')"
      ],
      "id": "b59db018",
      "execution_count": 16,
      "outputs": [
        {
          "output_type": "stream",
          "name": "stdout",
          "text": [
            "Found 548 images belonging to 2 classes.\n",
            "Found 68 images belonging to 2 classes.\n",
            "Found 72 images belonging to 2 classes.\n"
          ]
        }
      ]
    },
    {
      "cell_type": "markdown",
      "metadata": {
        "id": "72da593f"
      },
      "source": [
        "#### model creating"
      ],
      "id": "72da593f"
    },
    {
      "cell_type": "code",
      "metadata": {
        "id": "42f0b255"
      },
      "source": [
        "def create_model():\n",
        "    optimizer = optimizers.SGD(lr= 0.01, decay = 1e-6, momentum= 0.9, nesterov=True)\n",
        "    \n",
        "    pre_trained_vgg = VGG16(weights='imagenet', include_top=False, input_shape=(200, 200, 3))\n",
        "    #include_top FC 레이어 포함유무 결정\n",
        "    #feature extraction 파라미터들은 이미지넷으로 학습된 값들을 그대로 사용할 것이기 때문에 trainable의 속성을 False\n",
        "    pre_trained_vgg.trainable = False\n",
        "    additional_model = tf.keras.Sequential()\n",
        "    additional_model.add(pre_trained_vgg)\n",
        "    additional_model.add(Flatten())\n",
        "    additional_model.add(tf.keras.layers.Dense(4096, activation='relu'))\n",
        "    additional_model.add(tf.keras.layers.Dense(2048, activation='relu'))\n",
        "    additional_model.add(tf.keras.layers.Dense(1024, activation='relu'))\n",
        "    additional_model.add(tf.keras.layers.Dense(2, activation='softmax'))\n",
        "    \n",
        "\n",
        "    additional_model.compile(optimizer = optimizer, loss = keras.losses.categorical_crossentropy, metrics=['acc'])\n",
        "\n",
        "    #adam보다 빠르고 loss잘 떨어짐\n",
        "\n",
        "    \n",
        "    return additional_model"
      ],
      "id": "42f0b255",
      "execution_count": 55,
      "outputs": []
    },
    {
      "cell_type": "code",
      "metadata": {
        "id": "7a2f9107",
        "colab": {
          "base_uri": "https://localhost:8080/",
          "height": 35
        },
        "outputId": "63891200-1d62-4d96-9369-ca6d22197f52"
      },
      "source": [
        "tf.__version__"
      ],
      "id": "7a2f9107",
      "execution_count": 56,
      "outputs": [
        {
          "output_type": "execute_result",
          "data": {
            "application/vnd.google.colaboratory.intrinsic+json": {
              "type": "string"
            },
            "text/plain": [
              "'2.6.0'"
            ]
          },
          "metadata": {},
          "execution_count": 56
        }
      ]
    },
    {
      "cell_type": "code",
      "metadata": {
        "id": "c58a4160",
        "colab": {
          "base_uri": "https://localhost:8080/",
          "height": 35
        },
        "outputId": "89903a89-286a-487c-b845-f2231fba2206"
      },
      "source": [
        "keras.__version__"
      ],
      "id": "c58a4160",
      "execution_count": 57,
      "outputs": [
        {
          "output_type": "execute_result",
          "data": {
            "application/vnd.google.colaboratory.intrinsic+json": {
              "type": "string"
            },
            "text/plain": [
              "'2.6.0'"
            ]
          },
          "metadata": {},
          "execution_count": 57
        }
      ]
    },
    {
      "cell_type": "code",
      "metadata": {
        "id": "6e3c25cc",
        "colab": {
          "base_uri": "https://localhost:8080/"
        },
        "outputId": "49e83dbb-786c-4986-a377-6a718d31eb25"
      },
      "source": [
        "# 모델 실행 옵션 \n",
        "model = create_model()\n",
        "model.summary()\n"
      ],
      "id": "6e3c25cc",
      "execution_count": 58,
      "outputs": [
        {
          "output_type": "stream",
          "name": "stdout",
          "text": [
            "Model: \"sequential_4\"\n",
            "_________________________________________________________________\n",
            "Layer (type)                 Output Shape              Param #   \n",
            "=================================================================\n",
            "vgg16 (Functional)           (None, 6, 6, 512)         14714688  \n",
            "_________________________________________________________________\n",
            "flatten_4 (Flatten)          (None, 18432)             0         \n",
            "_________________________________________________________________\n",
            "dense_16 (Dense)             (None, 4096)              75501568  \n",
            "_________________________________________________________________\n",
            "dense_17 (Dense)             (None, 2048)              8390656   \n",
            "_________________________________________________________________\n",
            "dense_18 (Dense)             (None, 1024)              2098176   \n",
            "_________________________________________________________________\n",
            "dense_19 (Dense)             (None, 2)                 2050      \n",
            "=================================================================\n",
            "Total params: 100,707,138\n",
            "Trainable params: 85,992,450\n",
            "Non-trainable params: 14,714,688\n",
            "_________________________________________________________________\n"
          ]
        }
      ]
    },
    {
      "cell_type": "code",
      "metadata": {
        "id": "c1e652aa"
      },
      "source": [
        "checkpoint_path = \"check_point/cp.ckpt\"\n",
        "checkpoint_dir = os.path.dirname(checkpoint_path)"
      ],
      "id": "c1e652aa",
      "execution_count": 59,
      "outputs": []
    },
    {
      "cell_type": "code",
      "metadata": {
        "id": "5b524386",
        "colab": {
          "base_uri": "https://localhost:8080/"
        },
        "outputId": "48289aab-4740-47f4-8b84-631bdb7af608"
      },
      "source": [
        "#모델의 가중치 저장\n",
        "checkpoint = ModelCheckpoint(filepath=checkpoint_path,\n",
        "            monitor='loss', \n",
        "            mode='min',\n",
        "            save_best_only=True,\n",
        "            save_weights_only=True,\n",
        "            verbose=1)\n",
        "\n",
        "#새로운 콜백으로 모델 훈련하기\n",
        "history = model.fit_generator(train_generator, \n",
        "            steps_per_epoch=math.ceil(train_generator.n / train_generator.batch_size), \n",
        "            epochs=100, \n",
        "            validation_data=val_generator, \n",
        "            validation_steps=math.ceil(val_generator.n / val_generator.batch_size), \n",
        "            callbacks=[checkpoint],\n",
        "            shuffle=False)"
      ],
      "id": "5b524386",
      "execution_count": 62,
      "outputs": [
        {
          "output_type": "stream",
          "name": "stdout",
          "text": [
            "Epoch 1/100\n",
            "35/35 [==============================] - 7s 192ms/step - loss: 0.0382 - acc: 0.9891 - val_loss: 0.1271 - val_acc: 0.9412\n",
            "\n",
            "Epoch 00001: loss improved from inf to 0.03824, saving model to check_point/cp.ckpt\n",
            "Epoch 2/100\n",
            "35/35 [==============================] - 7s 191ms/step - loss: 0.0238 - acc: 0.9909 - val_loss: 0.3221 - val_acc: 0.9412\n",
            "\n",
            "Epoch 00002: loss improved from 0.03824 to 0.02383, saving model to check_point/cp.ckpt\n",
            "Epoch 3/100\n",
            "35/35 [==============================] - 7s 191ms/step - loss: 0.0443 - acc: 0.9891 - val_loss: 0.2213 - val_acc: 0.9265\n",
            "\n",
            "Epoch 00003: loss did not improve from 0.02383\n",
            "Epoch 4/100\n",
            "35/35 [==============================] - 7s 191ms/step - loss: 0.1887 - acc: 0.9507 - val_loss: 0.2975 - val_acc: 0.9412\n",
            "\n",
            "Epoch 00004: loss did not improve from 0.02383\n",
            "Epoch 5/100\n",
            "35/35 [==============================] - 7s 191ms/step - loss: 0.0854 - acc: 0.9872 - val_loss: 0.2352 - val_acc: 0.9265\n",
            "\n",
            "Epoch 00005: loss did not improve from 0.02383\n",
            "Epoch 6/100\n",
            "35/35 [==============================] - 7s 191ms/step - loss: 0.3132 - acc: 0.9380 - val_loss: 0.1730 - val_acc: 0.9118\n",
            "\n",
            "Epoch 00006: loss did not improve from 0.02383\n",
            "Epoch 7/100\n",
            "35/35 [==============================] - 7s 191ms/step - loss: 0.0524 - acc: 0.9854 - val_loss: 0.1327 - val_acc: 0.9559\n",
            "\n",
            "Epoch 00007: loss did not improve from 0.02383\n",
            "Epoch 8/100\n",
            "35/35 [==============================] - 7s 207ms/step - loss: 0.0222 - acc: 0.9964 - val_loss: 0.1910 - val_acc: 0.9412\n",
            "\n",
            "Epoch 00008: loss improved from 0.02383 to 0.02219, saving model to check_point/cp.ckpt\n",
            "Epoch 9/100\n",
            "35/35 [==============================] - 7s 191ms/step - loss: 0.0316 - acc: 0.9891 - val_loss: 0.1451 - val_acc: 0.9412\n",
            "\n",
            "Epoch 00009: loss did not improve from 0.02219\n",
            "Epoch 10/100\n",
            "35/35 [==============================] - 7s 190ms/step - loss: 0.0145 - acc: 0.9945 - val_loss: 0.2327 - val_acc: 0.9118\n",
            "\n",
            "Epoch 00010: loss improved from 0.02219 to 0.01446, saving model to check_point/cp.ckpt\n",
            "Epoch 11/100\n",
            "35/35 [==============================] - 7s 190ms/step - loss: 0.0117 - acc: 0.9964 - val_loss: 0.6253 - val_acc: 0.8529\n",
            "\n",
            "Epoch 00011: loss improved from 0.01446 to 0.01171, saving model to check_point/cp.ckpt\n",
            "Epoch 12/100\n",
            "35/35 [==============================] - 7s 191ms/step - loss: 0.1613 - acc: 0.9653 - val_loss: 0.2099 - val_acc: 0.9265\n",
            "\n",
            "Epoch 00012: loss did not improve from 0.01171\n",
            "Epoch 13/100\n",
            "35/35 [==============================] - 7s 190ms/step - loss: 0.0256 - acc: 0.9909 - val_loss: 0.1464 - val_acc: 0.9412\n",
            "\n",
            "Epoch 00013: loss did not improve from 0.01171\n",
            "Epoch 14/100\n",
            "35/35 [==============================] - 7s 191ms/step - loss: 0.0134 - acc: 0.9945 - val_loss: 0.9582 - val_acc: 0.7647\n",
            "\n",
            "Epoch 00014: loss did not improve from 0.01171\n",
            "Epoch 15/100\n",
            "35/35 [==============================] - 7s 190ms/step - loss: 0.0944 - acc: 0.9690 - val_loss: 0.1526 - val_acc: 0.9559\n",
            "\n",
            "Epoch 00015: loss did not improve from 0.01171\n",
            "Epoch 16/100\n",
            "35/35 [==============================] - 7s 190ms/step - loss: 0.0156 - acc: 0.9927 - val_loss: 0.1582 - val_acc: 0.9412\n",
            "\n",
            "Epoch 00016: loss did not improve from 0.01171\n",
            "Epoch 17/100\n",
            "35/35 [==============================] - 7s 190ms/step - loss: 0.0152 - acc: 0.9964 - val_loss: 0.2631 - val_acc: 0.9118\n",
            "\n",
            "Epoch 00017: loss did not improve from 0.01171\n",
            "Epoch 18/100\n",
            "35/35 [==============================] - 7s 190ms/step - loss: 0.0237 - acc: 0.9945 - val_loss: 0.2741 - val_acc: 0.9265\n",
            "\n",
            "Epoch 00018: loss did not improve from 0.01171\n",
            "Epoch 19/100\n",
            "35/35 [==============================] - 7s 190ms/step - loss: 0.0195 - acc: 0.9945 - val_loss: 0.1611 - val_acc: 0.9412\n",
            "\n",
            "Epoch 00019: loss did not improve from 0.01171\n",
            "Epoch 20/100\n",
            "35/35 [==============================] - 7s 189ms/step - loss: 0.0127 - acc: 0.9964 - val_loss: 0.1908 - val_acc: 0.9412\n",
            "\n",
            "Epoch 00020: loss did not improve from 0.01171\n",
            "Epoch 21/100\n",
            "35/35 [==============================] - 7s 190ms/step - loss: 0.0108 - acc: 0.9964 - val_loss: 0.2143 - val_acc: 0.9412\n",
            "\n",
            "Epoch 00021: loss improved from 0.01171 to 0.01077, saving model to check_point/cp.ckpt\n",
            "Epoch 22/100\n",
            "35/35 [==============================] - 7s 190ms/step - loss: 0.0106 - acc: 0.9964 - val_loss: 0.5821 - val_acc: 0.8824\n",
            "\n",
            "Epoch 00022: loss improved from 0.01077 to 0.01060, saving model to check_point/cp.ckpt\n",
            "Epoch 23/100\n",
            "35/35 [==============================] - 7s 191ms/step - loss: 0.0274 - acc: 0.9872 - val_loss: 0.2580 - val_acc: 0.9118\n",
            "\n",
            "Epoch 00023: loss did not improve from 0.01060\n",
            "Epoch 24/100\n",
            "35/35 [==============================] - 7s 191ms/step - loss: 0.0115 - acc: 0.9945 - val_loss: 0.1827 - val_acc: 0.9412\n",
            "\n",
            "Epoch 00024: loss did not improve from 0.01060\n",
            "Epoch 25/100\n",
            "35/35 [==============================] - 7s 191ms/step - loss: 0.0166 - acc: 0.9945 - val_loss: 0.2013 - val_acc: 0.9118\n",
            "\n",
            "Epoch 00025: loss did not improve from 0.01060\n",
            "Epoch 26/100\n",
            "35/35 [==============================] - 7s 191ms/step - loss: 0.0118 - acc: 0.9982 - val_loss: 0.1712 - val_acc: 0.9559\n",
            "\n",
            "Epoch 00026: loss did not improve from 0.01060\n",
            "Epoch 27/100\n",
            "35/35 [==============================] - 7s 190ms/step - loss: 0.0075 - acc: 0.9982 - val_loss: 0.2189 - val_acc: 0.9412\n",
            "\n",
            "Epoch 00027: loss improved from 0.01060 to 0.00750, saving model to check_point/cp.ckpt\n",
            "Epoch 28/100\n",
            "35/35 [==============================] - 7s 191ms/step - loss: 0.0692 - acc: 0.9763 - val_loss: 0.1681 - val_acc: 0.9265\n",
            "\n",
            "Epoch 00028: loss did not improve from 0.00750\n",
            "Epoch 29/100\n",
            "35/35 [==============================] - 7s 190ms/step - loss: 0.0114 - acc: 0.9982 - val_loss: 0.1502 - val_acc: 0.9559\n",
            "\n",
            "Epoch 00029: loss did not improve from 0.00750\n",
            "Epoch 30/100\n",
            "35/35 [==============================] - 7s 190ms/step - loss: 0.0118 - acc: 0.9927 - val_loss: 0.1863 - val_acc: 0.9265\n",
            "\n",
            "Epoch 00030: loss did not improve from 0.00750\n",
            "Epoch 31/100\n",
            "35/35 [==============================] - 7s 191ms/step - loss: 0.0033 - acc: 1.0000 - val_loss: 0.1857 - val_acc: 0.9559\n",
            "\n",
            "Epoch 00031: loss improved from 0.00750 to 0.00335, saving model to check_point/cp.ckpt\n",
            "Epoch 32/100\n",
            "35/35 [==============================] - 7s 190ms/step - loss: 0.0093 - acc: 0.9945 - val_loss: 0.2626 - val_acc: 0.9265\n",
            "\n",
            "Epoch 00032: loss did not improve from 0.00335\n",
            "Epoch 33/100\n",
            "35/35 [==============================] - 7s 191ms/step - loss: 0.0059 - acc: 0.9964 - val_loss: 0.4124 - val_acc: 0.8971\n",
            "\n",
            "Epoch 00033: loss did not improve from 0.00335\n",
            "Epoch 34/100\n",
            "35/35 [==============================] - 7s 191ms/step - loss: 0.0123 - acc: 0.9945 - val_loss: 2.4329 - val_acc: 0.6324\n",
            "\n",
            "Epoch 00034: loss did not improve from 0.00335\n",
            "Epoch 35/100\n",
            "35/35 [==============================] - 7s 191ms/step - loss: 0.0516 - acc: 0.9909 - val_loss: 0.2452 - val_acc: 0.9265\n",
            "\n",
            "Epoch 00035: loss did not improve from 0.00335\n",
            "Epoch 36/100\n",
            "35/35 [==============================] - 7s 190ms/step - loss: 0.0047 - acc: 0.9982 - val_loss: 0.2314 - val_acc: 0.9118\n",
            "\n",
            "Epoch 00036: loss did not improve from 0.00335\n",
            "Epoch 37/100\n",
            "35/35 [==============================] - 7s 190ms/step - loss: 0.0110 - acc: 0.9964 - val_loss: 0.1610 - val_acc: 0.9559\n",
            "\n",
            "Epoch 00037: loss did not improve from 0.00335\n",
            "Epoch 38/100\n",
            "35/35 [==============================] - 7s 191ms/step - loss: 0.0013 - acc: 1.0000 - val_loss: 0.1743 - val_acc: 0.9559\n",
            "\n",
            "Epoch 00038: loss improved from 0.00335 to 0.00130, saving model to check_point/cp.ckpt\n",
            "Epoch 39/100\n",
            "35/35 [==============================] - 7s 190ms/step - loss: 0.0063 - acc: 0.9964 - val_loss: 0.2639 - val_acc: 0.9265\n",
            "\n",
            "Epoch 00039: loss did not improve from 0.00130\n",
            "Epoch 40/100\n",
            "35/35 [==============================] - 7s 191ms/step - loss: 0.0113 - acc: 0.9945 - val_loss: 0.3580 - val_acc: 0.9265\n",
            "\n",
            "Epoch 00040: loss did not improve from 0.00130\n",
            "Epoch 41/100\n",
            "35/35 [==============================] - 7s 191ms/step - loss: 0.0022 - acc: 1.0000 - val_loss: 0.2553 - val_acc: 0.9118\n",
            "\n",
            "Epoch 00041: loss did not improve from 0.00130\n",
            "Epoch 42/100\n",
            "35/35 [==============================] - 7s 191ms/step - loss: 5.3574e-04 - acc: 1.0000 - val_loss: 0.1870 - val_acc: 0.9412\n",
            "\n",
            "Epoch 00042: loss improved from 0.00130 to 0.00054, saving model to check_point/cp.ckpt\n",
            "Epoch 43/100\n",
            "35/35 [==============================] - 7s 190ms/step - loss: 3.0325e-04 - acc: 1.0000 - val_loss: 0.2125 - val_acc: 0.9559\n",
            "\n",
            "Epoch 00043: loss improved from 0.00054 to 0.00030, saving model to check_point/cp.ckpt\n",
            "Epoch 44/100\n",
            "35/35 [==============================] - 7s 190ms/step - loss: 2.5733e-04 - acc: 1.0000 - val_loss: 0.1996 - val_acc: 0.9559\n",
            "\n",
            "Epoch 00044: loss improved from 0.00030 to 0.00026, saving model to check_point/cp.ckpt\n",
            "Epoch 45/100\n",
            "35/35 [==============================] - 7s 192ms/step - loss: 3.1558e-04 - acc: 1.0000 - val_loss: 0.2265 - val_acc: 0.9559\n",
            "\n",
            "Epoch 00045: loss did not improve from 0.00026\n",
            "Epoch 46/100\n",
            "35/35 [==============================] - 7s 190ms/step - loss: 2.9110e-04 - acc: 1.0000 - val_loss: 0.2320 - val_acc: 0.9559\n",
            "\n",
            "Epoch 00046: loss did not improve from 0.00026\n",
            "Epoch 47/100\n",
            "35/35 [==============================] - 7s 191ms/step - loss: 1.9242e-04 - acc: 1.0000 - val_loss: 0.2139 - val_acc: 0.9559\n",
            "\n",
            "Epoch 00047: loss improved from 0.00026 to 0.00019, saving model to check_point/cp.ckpt\n",
            "Epoch 48/100\n",
            "35/35 [==============================] - 7s 191ms/step - loss: 1.4331e-04 - acc: 1.0000 - val_loss: 0.2450 - val_acc: 0.9412\n",
            "\n",
            "Epoch 00048: loss improved from 0.00019 to 0.00014, saving model to check_point/cp.ckpt\n",
            "Epoch 49/100\n",
            "35/35 [==============================] - 10s 286ms/step - loss: 1.5920e-04 - acc: 1.0000 - val_loss: 0.2153 - val_acc: 0.9559\n",
            "\n",
            "Epoch 00049: loss did not improve from 0.00014\n",
            "Epoch 50/100\n",
            "35/35 [==============================] - 7s 192ms/step - loss: 1.5188e-04 - acc: 1.0000 - val_loss: 0.2382 - val_acc: 0.9559\n",
            "\n",
            "Epoch 00050: loss did not improve from 0.00014\n",
            "Epoch 51/100\n",
            "35/35 [==============================] - 7s 192ms/step - loss: 1.4380e-04 - acc: 1.0000 - val_loss: 0.2181 - val_acc: 0.9559\n",
            "\n",
            "Epoch 00051: loss did not improve from 0.00014\n",
            "Epoch 52/100\n",
            "35/35 [==============================] - 7s 191ms/step - loss: 1.2724e-04 - acc: 1.0000 - val_loss: 0.2242 - val_acc: 0.9559\n",
            "\n",
            "Epoch 00052: loss improved from 0.00014 to 0.00013, saving model to check_point/cp.ckpt\n",
            "Epoch 53/100\n",
            "35/35 [==============================] - 7s 192ms/step - loss: 1.0481e-04 - acc: 1.0000 - val_loss: 0.2469 - val_acc: 0.9559\n",
            "\n",
            "Epoch 00053: loss improved from 0.00013 to 0.00010, saving model to check_point/cp.ckpt\n",
            "Epoch 54/100\n",
            "35/35 [==============================] - 7s 191ms/step - loss: 1.0838e-04 - acc: 1.0000 - val_loss: 0.2226 - val_acc: 0.9559\n",
            "\n",
            "Epoch 00054: loss did not improve from 0.00010\n",
            "Epoch 55/100\n",
            "35/35 [==============================] - 7s 191ms/step - loss: 1.0691e-04 - acc: 1.0000 - val_loss: 0.2550 - val_acc: 0.9412\n",
            "\n",
            "Epoch 00055: loss did not improve from 0.00010\n",
            "Epoch 56/100\n",
            "35/35 [==============================] - 7s 191ms/step - loss: 1.0436e-04 - acc: 1.0000 - val_loss: 0.2361 - val_acc: 0.9559\n",
            "\n",
            "Epoch 00056: loss improved from 0.00010 to 0.00010, saving model to check_point/cp.ckpt\n",
            "Epoch 57/100\n",
            "35/35 [==============================] - 7s 191ms/step - loss: 8.8233e-05 - acc: 1.0000 - val_loss: 0.2310 - val_acc: 0.9559\n",
            "\n",
            "Epoch 00057: loss improved from 0.00010 to 0.00009, saving model to check_point/cp.ckpt\n",
            "Epoch 58/100\n",
            "35/35 [==============================] - 7s 191ms/step - loss: 8.0559e-05 - acc: 1.0000 - val_loss: 0.2472 - val_acc: 0.9559\n",
            "\n",
            "Epoch 00058: loss improved from 0.00009 to 0.00008, saving model to check_point/cp.ckpt\n",
            "Epoch 59/100\n",
            "35/35 [==============================] - 7s 192ms/step - loss: 7.6737e-05 - acc: 1.0000 - val_loss: 0.2336 - val_acc: 0.9559\n",
            "\n",
            "Epoch 00059: loss improved from 0.00008 to 0.00008, saving model to check_point/cp.ckpt\n",
            "Epoch 60/100\n",
            "35/35 [==============================] - 7s 192ms/step - loss: 7.6783e-05 - acc: 1.0000 - val_loss: 0.2443 - val_acc: 0.9559\n",
            "\n",
            "Epoch 00060: loss did not improve from 0.00008\n",
            "Epoch 61/100\n",
            "35/35 [==============================] - 7s 192ms/step - loss: 6.7637e-05 - acc: 1.0000 - val_loss: 0.2405 - val_acc: 0.9559\n",
            "\n",
            "Epoch 00061: loss improved from 0.00008 to 0.00007, saving model to check_point/cp.ckpt\n",
            "Epoch 62/100\n",
            "35/35 [==============================] - 7s 192ms/step - loss: 6.6543e-05 - acc: 1.0000 - val_loss: 0.2437 - val_acc: 0.9559\n",
            "\n",
            "Epoch 00062: loss improved from 0.00007 to 0.00007, saving model to check_point/cp.ckpt\n",
            "Epoch 63/100\n",
            "35/35 [==============================] - 7s 192ms/step - loss: 6.2419e-05 - acc: 1.0000 - val_loss: 0.2486 - val_acc: 0.9559\n",
            "\n",
            "Epoch 00063: loss improved from 0.00007 to 0.00006, saving model to check_point/cp.ckpt\n",
            "Epoch 64/100\n",
            "35/35 [==============================] - 7s 192ms/step - loss: 6.3147e-05 - acc: 1.0000 - val_loss: 0.2430 - val_acc: 0.9559\n",
            "\n",
            "Epoch 00064: loss did not improve from 0.00006\n",
            "Epoch 65/100\n",
            "35/35 [==============================] - 7s 193ms/step - loss: 5.9010e-05 - acc: 1.0000 - val_loss: 0.2470 - val_acc: 0.9559\n",
            "\n",
            "Epoch 00065: loss improved from 0.00006 to 0.00006, saving model to check_point/cp.ckpt\n",
            "Epoch 66/100\n",
            "35/35 [==============================] - 7s 193ms/step - loss: 5.6979e-05 - acc: 1.0000 - val_loss: 0.2468 - val_acc: 0.9559\n",
            "\n",
            "Epoch 00066: loss improved from 0.00006 to 0.00006, saving model to check_point/cp.ckpt\n",
            "Epoch 67/100\n",
            "35/35 [==============================] - 7s 190ms/step - loss: 5.3620e-05 - acc: 1.0000 - val_loss: 0.2491 - val_acc: 0.9559\n",
            "\n",
            "Epoch 00067: loss improved from 0.00006 to 0.00005, saving model to check_point/cp.ckpt\n",
            "Epoch 68/100\n",
            "35/35 [==============================] - 7s 190ms/step - loss: 5.7677e-05 - acc: 1.0000 - val_loss: 0.2461 - val_acc: 0.9559\n",
            "\n",
            "Epoch 00068: loss did not improve from 0.00005\n",
            "Epoch 69/100\n",
            "35/35 [==============================] - 7s 191ms/step - loss: 5.4689e-05 - acc: 1.0000 - val_loss: 0.2496 - val_acc: 0.9559\n",
            "\n",
            "Epoch 00069: loss did not improve from 0.00005\n",
            "Epoch 70/100\n",
            "35/35 [==============================] - 7s 190ms/step - loss: 5.0951e-05 - acc: 1.0000 - val_loss: 0.2506 - val_acc: 0.9559\n",
            "\n",
            "Epoch 00070: loss improved from 0.00005 to 0.00005, saving model to check_point/cp.ckpt\n",
            "Epoch 71/100\n",
            "35/35 [==============================] - 7s 191ms/step - loss: 4.8731e-05 - acc: 1.0000 - val_loss: 0.2568 - val_acc: 0.9559\n",
            "\n",
            "Epoch 00071: loss improved from 0.00005 to 0.00005, saving model to check_point/cp.ckpt\n",
            "Epoch 72/100\n",
            "35/35 [==============================] - 7s 191ms/step - loss: 4.7653e-05 - acc: 1.0000 - val_loss: 0.2491 - val_acc: 0.9559\n",
            "\n",
            "Epoch 00072: loss improved from 0.00005 to 0.00005, saving model to check_point/cp.ckpt\n",
            "Epoch 73/100\n",
            "35/35 [==============================] - 7s 197ms/step - loss: 4.6178e-05 - acc: 1.0000 - val_loss: 0.2522 - val_acc: 0.9559\n",
            "\n",
            "Epoch 00073: loss improved from 0.00005 to 0.00005, saving model to check_point/cp.ckpt\n",
            "Epoch 74/100\n",
            "35/35 [==============================] - 7s 191ms/step - loss: 4.2845e-05 - acc: 1.0000 - val_loss: 0.2606 - val_acc: 0.9559\n",
            "\n",
            "Epoch 00074: loss improved from 0.00005 to 0.00004, saving model to check_point/cp.ckpt\n",
            "Epoch 75/100\n",
            "35/35 [==============================] - 7s 191ms/step - loss: 4.8813e-05 - acc: 1.0000 - val_loss: 0.2541 - val_acc: 0.9559\n",
            "\n",
            "Epoch 00075: loss did not improve from 0.00004\n",
            "Epoch 76/100\n",
            "35/35 [==============================] - 7s 190ms/step - loss: 4.5282e-05 - acc: 1.0000 - val_loss: 0.2548 - val_acc: 0.9559\n",
            "\n",
            "Epoch 00076: loss did not improve from 0.00004\n",
            "Epoch 77/100\n",
            "35/35 [==============================] - 7s 191ms/step - loss: 4.1882e-05 - acc: 1.0000 - val_loss: 0.2573 - val_acc: 0.9559\n",
            "\n",
            "Epoch 00077: loss improved from 0.00004 to 0.00004, saving model to check_point/cp.ckpt\n",
            "Epoch 78/100\n",
            "35/35 [==============================] - 7s 191ms/step - loss: 4.3187e-05 - acc: 1.0000 - val_loss: 0.2593 - val_acc: 0.9559\n",
            "\n",
            "Epoch 00078: loss did not improve from 0.00004\n",
            "Epoch 79/100\n",
            "35/35 [==============================] - 7s 190ms/step - loss: 4.0389e-05 - acc: 1.0000 - val_loss: 0.2598 - val_acc: 0.9559\n",
            "\n",
            "Epoch 00079: loss improved from 0.00004 to 0.00004, saving model to check_point/cp.ckpt\n",
            "Epoch 80/100\n",
            "35/35 [==============================] - 7s 190ms/step - loss: 3.7071e-05 - acc: 1.0000 - val_loss: 0.2600 - val_acc: 0.9559\n",
            "\n",
            "Epoch 00080: loss improved from 0.00004 to 0.00004, saving model to check_point/cp.ckpt\n",
            "Epoch 81/100\n",
            "35/35 [==============================] - 7s 190ms/step - loss: 3.8670e-05 - acc: 1.0000 - val_loss: 0.2620 - val_acc: 0.9559\n",
            "\n",
            "Epoch 00081: loss did not improve from 0.00004\n",
            "Epoch 82/100\n",
            "35/35 [==============================] - 7s 190ms/step - loss: 3.6376e-05 - acc: 1.0000 - val_loss: 0.2660 - val_acc: 0.9559\n",
            "\n",
            "Epoch 00082: loss improved from 0.00004 to 0.00004, saving model to check_point/cp.ckpt\n",
            "Epoch 83/100\n",
            "35/35 [==============================] - 7s 190ms/step - loss: 3.5284e-05 - acc: 1.0000 - val_loss: 0.2623 - val_acc: 0.9559\n",
            "\n",
            "Epoch 00083: loss improved from 0.00004 to 0.00004, saving model to check_point/cp.ckpt\n",
            "Epoch 84/100\n",
            "35/35 [==============================] - 7s 191ms/step - loss: 3.5278e-05 - acc: 1.0000 - val_loss: 0.2624 - val_acc: 0.9559\n",
            "\n",
            "Epoch 00084: loss improved from 0.00004 to 0.00004, saving model to check_point/cp.ckpt\n",
            "Epoch 85/100\n",
            "35/35 [==============================] - 7s 192ms/step - loss: 3.5677e-05 - acc: 1.0000 - val_loss: 0.2661 - val_acc: 0.9559\n",
            "\n",
            "Epoch 00085: loss did not improve from 0.00004\n",
            "Epoch 86/100\n",
            "35/35 [==============================] - 7s 190ms/step - loss: 3.4246e-05 - acc: 1.0000 - val_loss: 0.2657 - val_acc: 0.9559\n",
            "\n",
            "Epoch 00086: loss improved from 0.00004 to 0.00003, saving model to check_point/cp.ckpt\n",
            "Epoch 87/100\n",
            "35/35 [==============================] - 7s 191ms/step - loss: 3.5063e-05 - acc: 1.0000 - val_loss: 0.2657 - val_acc: 0.9559\n",
            "\n",
            "Epoch 00087: loss did not improve from 0.00003\n",
            "Epoch 88/100\n",
            "35/35 [==============================] - 7s 190ms/step - loss: 3.3366e-05 - acc: 1.0000 - val_loss: 0.2649 - val_acc: 0.9559\n",
            "\n",
            "Epoch 00088: loss improved from 0.00003 to 0.00003, saving model to check_point/cp.ckpt\n",
            "Epoch 89/100\n",
            "35/35 [==============================] - 8s 226ms/step - loss: 3.0273e-05 - acc: 1.0000 - val_loss: 0.2662 - val_acc: 0.9559\n",
            "\n",
            "Epoch 00089: loss improved from 0.00003 to 0.00003, saving model to check_point/cp.ckpt\n",
            "Epoch 90/100\n",
            "35/35 [==============================] - 7s 191ms/step - loss: 3.0670e-05 - acc: 1.0000 - val_loss: 0.2648 - val_acc: 0.9559\n",
            "\n",
            "Epoch 00090: loss did not improve from 0.00003\n",
            "Epoch 91/100\n",
            "35/35 [==============================] - 7s 191ms/step - loss: 3.0837e-05 - acc: 1.0000 - val_loss: 0.2645 - val_acc: 0.9559\n",
            "\n",
            "Epoch 00091: loss did not improve from 0.00003\n",
            "Epoch 92/100\n",
            "35/35 [==============================] - 7s 190ms/step - loss: 2.9640e-05 - acc: 1.0000 - val_loss: 0.2703 - val_acc: 0.9559\n",
            "\n",
            "Epoch 00092: loss improved from 0.00003 to 0.00003, saving model to check_point/cp.ckpt\n",
            "Epoch 93/100\n",
            "35/35 [==============================] - 7s 191ms/step - loss: 2.9182e-05 - acc: 1.0000 - val_loss: 0.2657 - val_acc: 0.9559\n",
            "\n",
            "Epoch 00093: loss improved from 0.00003 to 0.00003, saving model to check_point/cp.ckpt\n",
            "Epoch 94/100\n",
            "35/35 [==============================] - 7s 191ms/step - loss: 4.0866e-05 - acc: 1.0000 - val_loss: 0.2633 - val_acc: 0.9559\n",
            "\n",
            "Epoch 00094: loss did not improve from 0.00003\n",
            "Epoch 95/100\n",
            "35/35 [==============================] - 7s 191ms/step - loss: 2.7193e-05 - acc: 1.0000 - val_loss: 0.2713 - val_acc: 0.9559\n",
            "\n",
            "Epoch 00095: loss improved from 0.00003 to 0.00003, saving model to check_point/cp.ckpt\n",
            "Epoch 96/100\n",
            "35/35 [==============================] - 7s 189ms/step - loss: 2.7354e-05 - acc: 1.0000 - val_loss: 0.2715 - val_acc: 0.9559\n",
            "\n",
            "Epoch 00096: loss did not improve from 0.00003\n",
            "Epoch 97/100\n",
            "35/35 [==============================] - 7s 190ms/step - loss: 2.8476e-05 - acc: 1.0000 - val_loss: 0.2696 - val_acc: 0.9559\n",
            "\n",
            "Epoch 00097: loss did not improve from 0.00003\n",
            "Epoch 98/100\n",
            "35/35 [==============================] - 7s 189ms/step - loss: 2.6630e-05 - acc: 1.0000 - val_loss: 0.2705 - val_acc: 0.9559\n",
            "\n",
            "Epoch 00098: loss improved from 0.00003 to 0.00003, saving model to check_point/cp.ckpt\n",
            "Epoch 99/100\n",
            "35/35 [==============================] - 7s 190ms/step - loss: 2.4713e-05 - acc: 1.0000 - val_loss: 0.2722 - val_acc: 0.9559\n",
            "\n",
            "Epoch 00099: loss improved from 0.00003 to 0.00002, saving model to check_point/cp.ckpt\n",
            "Epoch 100/100\n",
            "35/35 [==============================] - 7s 191ms/step - loss: 2.5474e-05 - acc: 1.0000 - val_loss: 0.2746 - val_acc: 0.9559\n",
            "\n",
            "Epoch 00100: loss did not improve from 0.00002\n"
          ]
        }
      ]
    },
    {
      "cell_type": "code",
      "metadata": {
        "id": "f4e780f8",
        "colab": {
          "base_uri": "https://localhost:8080/",
          "height": 321
        },
        "outputId": "8c3d46d3-2b2e-44c3-b258-664d281e7248"
      },
      "source": [
        "acc = history.history['acc']\n",
        "val_acc = history.history['val_acc']\n",
        "\n",
        "loss = history.history['loss']\n",
        "val_loss = history.history['val_loss']\n",
        "\n",
        "epochs = range(1, len(acc) +1)\n",
        "    \n",
        "    \n",
        "\n",
        "fig = plt.figure()\n",
        "fig.set_size_inches(15, 5)\n",
        "\n",
        "fig.add_subplot(1, 2, 1)\n",
        "plt.plot(epochs, acc, 'b', label ='Training acc')\n",
        "plt.plot(epochs, val_acc, 'r', label = 'Validation acc')\n",
        "plt.title('Training and validation accuracy')\n",
        "plt.legend()\n",
        "\n",
        "# plt.figure()\n",
        "fig.add_subplot(1, 2, 2) \n",
        "plt.plot(epochs, loss, 'b', label = \"Training loss\")\n",
        "plt.plot(epochs, val_loss, 'r', label ='Validation loss')\n",
        "plt.title('Training and validation lose')\n",
        "plt.legend()\n",
        "\n",
        "plt.show()"
      ],
      "id": "f4e780f8",
      "execution_count": 63,
      "outputs": [
        {
          "output_type": "display_data",
          "data": {
            "image/png": "[encoded data removed]",
            "text/plain": [
              "<Figure size 1080x360 with 2 Axes>"
            ]
          },
          "metadata": {}
        }
      ]
    },
    {
      "cell_type": "code",
      "metadata": {
        "id": "d39f5777",
        "colab": {
          "base_uri": "https://localhost:8080/"
        },
        "outputId": "51f34bbf-1acc-4bef-bc42-86282d8c73a4"
      },
      "source": [
        "#맥에서는 !ls\n",
        "#저장된 checkpoint확인하기\n",
        "!dir {checkpoint_dir}"
      ],
      "id": "d39f5777",
      "execution_count": 64,
      "outputs": [
        {
          "output_type": "stream",
          "name": "stdout",
          "text": [
            "checkpoint  cp.ckpt.data-00000-of-00001  cp.ckpt.index\n"
          ]
        }
      ]
    },
    {
      "cell_type": "code",
      "metadata": {
        "id": "7693c4b4",
        "colab": {
          "base_uri": "https://localhost:8080/",
          "height": 35
        },
        "outputId": "acabb714-c2b7-41a6-91c2-cc27f9fed684"
      },
      "source": [
        "#가장 마지막에 만들어진 체크포인트 확인\n",
        "latest = tf.train.latest_checkpoint(checkpoint_dir)\n",
        "latest"
      ],
      "id": "7693c4b4",
      "execution_count": 65,
      "outputs": [
        {
          "output_type": "execute_result",
          "data": {
            "application/vnd.google.colaboratory.intrinsic+json": {
              "type": "string"
            },
            "text/plain": [
              "'check_point/cp.ckpt'"
            ]
          },
          "metadata": {},
          "execution_count": 65
        }
      ]
    },
    {
      "cell_type": "code",
      "metadata": {
        "id": "f29a66f3",
        "colab": {
          "base_uri": "https://localhost:8080/"
        },
        "outputId": "73d469a6-900c-4f0f-a29d-3e9903b679db"
      },
      "source": [
        "# 기본 모델 객체를 만듭니다\n",
        "model = create_model()\n",
        "\n",
        "# 모델을 평가합니다\n",
        "loss, acc = model.evaluate(val_generator, verbose=2)\n",
        "print(\"훈련되지 않은 모델의 정확도: {:5.2f}%\".format(100*acc))"
      ],
      "id": "f29a66f3",
      "execution_count": 66,
      "outputs": [
        {
          "output_type": "stream",
          "name": "stdout",
          "text": [
            "5/5 - 1s - loss: 0.7691 - acc: 0.4412\n",
            "훈련되지 않은 모델의 정확도: 44.12%\n"
          ]
        }
      ]
    },
    {
      "cell_type": "code",
      "metadata": {
        "id": "b96c5d56",
        "colab": {
          "base_uri": "https://localhost:8080/"
        },
        "outputId": "f0f1886f-f0c9-4f33-df9a-2b452c0b55a9"
      },
      "source": [
        "# 가중치 로드\n",
        "model.load_weights(latest)\n",
        "\n",
        "# # 모델 재평가\n",
        "loss,acc = model.evaluate(val_generator)\n",
        "print(\"복원된 모델의 정확도: {:5.2f}%\".format(100*acc))"
      ],
      "id": "b96c5d56",
      "execution_count": 67,
      "outputs": [
        {
          "output_type": "stream",
          "name": "stdout",
          "text": [
            "5/5 [==============================] - 1s 142ms/step - loss: 0.2722 - acc: 0.9559\n",
            "복원된 모델의 정확도: 95.59%\n"
          ]
        }
      ]
    },
    {
      "cell_type": "markdown",
      "metadata": {
        "id": "kCVz8cJwS_Fc"
      },
      "source": [
        "accuracy가 높게 나올 수 있음, 데이터가 불균형일 경우 더 높게 나올 수 있음  \n",
        "\n",
        "(아닌걸 아니라고 분류하면되니까) 따라서 좋은 지표는 아님 auc등을 살펴봐야함"
      ],
      "id": "kCVz8cJwS_Fc"
    },
    {
      "cell_type": "markdown",
      "metadata": {
        "id": "cd33b009"
      },
      "source": [
        "#### final model save"
      ],
      "id": "cd33b009"
    },
    {
      "cell_type": "code",
      "metadata": {
        "id": "84e67928",
        "colab": {
          "base_uri": "https://localhost:8080/"
        },
        "outputId": "90047db5-68d4-4db6-ff9c-4caba4f42fec"
      },
      "source": [
        "model.save('[0916]colab_fragile.h5')\n",
        "\n",
        "model_json = model.to_json()\n",
        "with open(\"[0916]colab_fragile.json\", \"w\") as json_file : \n",
        "    json_file.write(model_json)\n",
        "\n",
        "model.save_weights(\"[0916]colab_fragile_weight.h5\")\n",
        "print(\"Saved model to disk\")"
      ],
      "id": "84e67928",
      "execution_count": 68,
      "outputs": [
        {
          "output_type": "stream",
          "name": "stdout",
          "text": [
            "Saved model to disk\n"
          ]
        }
      ]
    },
    {
      "cell_type": "code",
      "metadata": {
        "colab": {
          "base_uri": "https://localhost:8080/",
          "height": 35
        },
        "id": "o6sLQmHnoGDQ",
        "outputId": "ebd62abc-762b-4289-acbb-dd32f5880605"
      },
      "source": [
        "/pwd"
      ],
      "id": "o6sLQmHnoGDQ",
      "execution_count": 69,
      "outputs": [
        {
          "output_type": "execute_result",
          "data": {
            "application/vnd.google.colaboratory.intrinsic+json": {
              "type": "string"
            },
            "text/plain": [
              "'/content'"
            ]
          },
          "metadata": {},
          "execution_count": 69
        }
      ]
    },
    {
      "cell_type": "code",
      "metadata": {
        "colab": {
          "base_uri": "https://localhost:8080/"
        },
        "id": "GEkJxX95GGoN",
        "outputId": "d4bd456c-1804-4f07-b9de-22c8a25caa64"
      },
      "source": [
        "label_dict = get_label_dict(train_generator)\n",
        "label_dict"
      ],
      "id": "GEkJxX95GGoN",
      "execution_count": 70,
      "outputs": [
        {
          "output_type": "execute_result",
          "data": {
            "text/plain": [
              "{0: 'fragile', 1: 'non_fragile'}"
            ]
          },
          "metadata": {},
          "execution_count": 70
        }
      ]
    },
    {
      "cell_type": "code",
      "metadata": {
        "id": "cDvmaTx0GGl8"
      },
      "source": [
        "def predict (model, real_path):\n",
        "    img_list = get_img(real_path)\n",
        "    try:\n",
        "        for num, i in enumerate (img_list):\n",
        "            resized_frame = cv2.resize(i, (200,200))\n",
        "            frame_for_pred = prepare_image_for_prediction( resized_frame )\n",
        "            pred_vec = model.predict(frame_for_pred)\n",
        "            pred_class =[]\n",
        "            confidence = np.round(pred_vec.max(),2)\n",
        "            pc = pred_vec.argmax()\n",
        "            pred_class.append( (pc, confidence) )\n",
        "            txt = get_display_string(pred_class, label_dict)\n",
        "            i = cv2.cvtColor(i, cv2.COLOR_BGR2RGB)\n",
        "            # show(i)\n",
        "            print(txt)\n",
        "    except TypeError:\n",
        "        print('error')\n",
        "        pass\n",
        "    else:\n",
        "        pass"
      ],
      "id": "cDvmaTx0GGl8",
      "execution_count": 71,
      "outputs": []
    },
    {
      "cell_type": "code",
      "metadata": {
        "id": "HYZPofbkGGjj"
      },
      "source": [
        "real_path = '/content/drive/MyDrive/Sign Detection/ML/test/'"
      ],
      "id": "HYZPofbkGGjj",
      "execution_count": 39,
      "outputs": []
    },
    {
      "cell_type": "code",
      "metadata": {
        "id": "KN-ohym0GGhj"
      },
      "source": [
        "get_file_list(real_path)"
      ],
      "id": "KN-ohym0GGhj",
      "execution_count": null,
      "outputs": []
    },
    {
      "cell_type": "code",
      "metadata": {
        "id": "8Ke65HYhIGmK"
      },
      "source": [
        ""
      ],
      "id": "8Ke65HYhIGmK",
      "execution_count": null,
      "outputs": []
    },
    {
      "cell_type": "markdown",
      "metadata": {
        "id": "cdQV6WVGahO_"
      },
      "source": [
        "### Real Test (test_set 겹침)"
      ],
      "id": "cdQV6WVGahO_"
    },
    {
      "cell_type": "code",
      "metadata": {
        "id": "eMwp957tKYGP"
      },
      "source": [
        "def prepare_image_for_prediction( img):\n",
        "   \n",
        "    # convert 3D tensor to 4D tensor with shape (1, 224, 224, 3) and return 4D tensor\n",
        "    # The below function inserts an additional dimension at the axis position provided\n",
        "    img = np.expand_dims(img, axis=0)\n",
        "    # perform pre-processing that was done when resnet model was trained.\n",
        "    return preprocess_input(img)"
      ],
      "id": "eMwp957tKYGP",
      "execution_count": 321,
      "outputs": []
    },
    {
      "cell_type": "code",
      "metadata": {
        "colab": {
          "base_uri": "https://localhost:8080/"
        },
        "id": "pwCEc9BPMR46",
        "outputId": "836215d6-3254-4d21-b65d-490d88523a53"
      },
      "source": [
        "file_list = get_file_list('/content/drive/MyDrive/Sign Detection/ML/test/')\n",
        "print(len(file_list))"
      ],
      "id": "pwCEc9BPMR46",
      "execution_count": 366,
      "outputs": [
        {
          "output_type": "stream",
          "name": "stdout",
          "text": [
            "73\n"
          ]
        }
      ]
    },
    {
      "cell_type": "code",
      "metadata": {
        "id": "NkTJ08DuOSG_"
      },
      "source": [
        "file_list = file_list[1:]"
      ],
      "id": "NkTJ08DuOSG_",
      "execution_count": 368,
      "outputs": []
    },
    {
      "cell_type": "code",
      "metadata": {
        "id": "oXjIP41uMf9J"
      },
      "source": [
        "img_list=[]\n",
        "for i in file_list:\n",
        "    img = cv2.imread(i, cv2.IMREAD_COLOR)\n",
        "    input_img = prepare_image_for_prediction(img)\n",
        "    img_list.append(input_img)\n",
        "\n",
        "\n",
        "img_list[0]"
      ],
      "id": "oXjIP41uMf9J",
      "execution_count": null,
      "outputs": []
    },
    {
      "cell_type": "code",
      "metadata": {
        "id": "DjwQOowJGGfO"
      },
      "source": [
        "predicted_class = []\n",
        "\n",
        "for i in img_list:\n",
        "    pred_vec = model.predict(i)\n",
        "    confidence = np.round(pred_vec.max(),2)\n",
        "    pc = pred_vec.argmax()\n",
        "    predicted_class.append(pc)"
      ],
      "id": "DjwQOowJGGfO",
      "execution_count": 370,
      "outputs": []
    },
    {
      "cell_type": "code",
      "metadata": {
        "colab": {
          "base_uri": "https://localhost:8080/"
        },
        "id": "cmmFPXxMN2yI",
        "outputId": "d8e59621-53b4-49f9-d749-9f7602316fe1"
      },
      "source": [
        "len(file_list)"
      ],
      "id": "cmmFPXxMN2yI",
      "execution_count": 371,
      "outputs": [
        {
          "output_type": "execute_result",
          "data": {
            "text/plain": [
              "72"
            ]
          },
          "metadata": {},
          "execution_count": 371
        }
      ]
    },
    {
      "cell_type": "code",
      "metadata": {
        "id": "H1H04PfeGGco"
      },
      "source": [
        "answer_test = []\n",
        "\n",
        "for i in file_list:\n",
        "    if 'fragile' in i:\n",
        "        answer_test.append('0')\n",
        "    else :\n",
        "        answer_test.append('1')"
      ],
      "id": "H1H04PfeGGco",
      "execution_count": 372,
      "outputs": []
    },
    {
      "cell_type": "code",
      "metadata": {
        "colab": {
          "base_uri": "https://localhost:8080/"
        },
        "id": "Ep6teIudGGUB",
        "outputId": "064e3990-9575-49a1-fbda-70fa9738682c"
      },
      "source": [
        "print(len(predicted_class))\n",
        "print(len(answer_test))"
      ],
      "id": "Ep6teIudGGUB",
      "execution_count": 373,
      "outputs": [
        {
          "output_type": "stream",
          "name": "stdout",
          "text": [
            "72\n",
            "72\n"
          ]
        }
      ]
    },
    {
      "cell_type": "code",
      "metadata": {
        "id": "WcqomM7SMqrx"
      },
      "source": [
        "answer = []\n",
        "for i in answer_test:\n",
        "    i = int(i)\n",
        "    answer.append(i)"
      ],
      "id": "WcqomM7SMqrx",
      "execution_count": 374,
      "outputs": []
    },
    {
      "cell_type": "code",
      "metadata": {
        "id": "a4fqcdi9NLmw"
      },
      "source": [
        "prediction = []\n",
        "for i in predicted_class:\n",
        "    i = int(i)\n",
        "    prediction.append(i)"
      ],
      "id": "a4fqcdi9NLmw",
      "execution_count": 375,
      "outputs": []
    },
    {
      "cell_type": "code",
      "metadata": {
        "colab": {
          "base_uri": "https://localhost:8080/",
          "height": 482
        },
        "id": "kO5D_Np_Of9o",
        "outputId": "606195e9-0676-45a9-9d44-987a7b64ba2c"
      },
      "source": [
        "confusion = get_clf_eval(answer, prediction)\n",
        "# con_test = confusion_matrix(val_generator.classes, predicted_classes)\n",
        "confusion_plot(confusion, 6)"
      ],
      "id": "kO5D_Np_Of9o",
      "execution_count": 380,
      "outputs": [
        {
          "output_type": "stream",
          "name": "stdout",
          "text": [
            "오차 행렬\n",
            "[[26  5]\n",
            " [ 3 38]]\n",
            "정확도: 0.8889, 정밀도: 0.8837, 재현율: 0.9268,    F1: 0.9048, AUC:0.8828\n"
          ]
        },
        {
          "output_type": "display_data",
          "data": {
            "image/png": "[encoded data removed]",
            "text/plain": [
              "<Figure size 432x432 with 2 Axes>"
            ]
          },
          "metadata": {}
        }
      ]
    },
    {
      "cell_type": "code",
      "metadata": {
        "colab": {
          "base_uri": "https://localhost:8080/",
          "height": 400
        },
        "id": "s19zs0OpOxUY",
        "outputId": "a5994f2b-3b69-4e1f-880a-28033ad5f9a1"
      },
      "source": [
        "plt.figure(figsize=(6,6))\n",
        "fpr, tpr, thresh= roc_curve(prediction, answer)\n",
        "plot_roc_curve(fpr, tpr)"
      ],
      "id": "s19zs0OpOxUY",
      "execution_count": 382,
      "outputs": [
        {
          "output_type": "display_data",
          "data": {
            "image/png": "[encoded data removed]",
            "text/plain": [
              "<Figure size 432x432 with 1 Axes>"
            ]
          },
          "metadata": {}
        }
      ]
    },
    {
      "cell_type": "markdown",
      "metadata": {
        "id": "3a255edf"
      },
      "source": [
        "### confusion matrix"
      ],
      "id": "3a255edf"
    },
    {
      "cell_type": "markdown",
      "metadata": {
        "id": "SyqvIkKfKQ2k"
      },
      "source": [
        "#### validation set"
      ],
      "id": "SyqvIkKfKQ2k"
    },
    {
      "cell_type": "code",
      "metadata": {
        "colab": {
          "base_uri": "https://localhost:8080/",
          "height": 1000
        },
        "id": "tSjW74NHIPJK",
        "outputId": "f8c2921f-dba9-49fa-b114-91f7f6a44885"
      },
      "source": [
        "#confusion matrix\n",
        "from sklearn.metrics import confusion_matrix\n",
        "\n",
        "# 1.Predict classes\n",
        "test_steps_per_epoch = np.math.ceil(val_generator.samples / val_generator.batch_size)\n",
        "\n",
        "\n",
        "predictions = model.predict_generator(val_generator, steps=test_steps_per_epoch)\n",
        "\n",
        "# Get most likely class axis=1(열로 가장 큰 수의 위치를 보겠다는 소리), \n",
        "predicted_classes = np.argmax(predictions, axis=1)\n",
        "\n",
        "print(predicted_classes)\n",
        "# 2.Get ground-truth classes and class-labels\n",
        "true_classes = val_generator.classes\n",
        "class_labels = list(val_generator.class_indices.keys())   \n",
        "# 3. Use scikit-learn to get statistics\n",
        "report = classification_report(true_classes, predicted_classes, target_names=class_labels)\n",
        "\n",
        "\n",
        "print('Confusion Matrix')\n",
        "print(confusion_matrix(val_generator.classes, predicted_classes))\n",
        "print(report)\n",
        "\n",
        "plt.figure(figsize=(6,6))\n",
        "con_test = confusion_matrix(val_generator.classes, predicted_classes)\n",
        "confusion_plot(con_test, 6)\n",
        "\n",
        "plt.figure(figsize=(6,6))\n",
        "fpr, tpr, thresh= roc_curve(predicted_classes, val_generator.classes)\n",
        "plot_roc_curve(fpr, tpr)\n",
        "\n",
        "get_clf_eval(val_generator.classes,predicted_classes)"
      ],
      "id": "tSjW74NHIPJK",
      "execution_count": 391,
      "outputs": [
        {
          "output_type": "stream",
          "name": "stdout",
          "text": [
            "[0 1 0 1 0 0 1 1 1 1 0 0 1 1 0 1 1 0 0 1 1 0 1 1 1 0 0 0 0 1 1 1 1 1 0 0 0\n",
            " 1 1 1 0 0 0 1 0 1 1 1 1 1 1 0 1 1 0 0 1 1 1 1 0 0 0 1 1 0 1 0]\n",
            "Confusion Matrix\n",
            "[[14 16]\n",
            " [15 23]]\n",
            "              precision    recall  f1-score   support\n",
            "\n",
            "     fragile       0.48      0.47      0.47        30\n",
            " non_fragile       0.59      0.61      0.60        38\n",
            "\n",
            "    accuracy                           0.54        68\n",
            "   macro avg       0.54      0.54      0.54        68\n",
            "weighted avg       0.54      0.54      0.54        68\n",
            "\n",
            "오차 행렬\n",
            "[[14 16]\n",
            " [15 23]]\n",
            "정확도: 0.5441, 정밀도: 0.5897, 재현율: 0.6053,    F1: 0.5974, AUC:0.5360\n"
          ]
        },
        {
          "output_type": "execute_result",
          "data": {
            "text/plain": [
              "array([[14, 16],\n",
              "       [15, 23]])"
            ]
          },
          "metadata": {},
          "execution_count": 391
        },
        {
          "output_type": "display_data",
          "data": {
            "text/plain": [
              "<Figure size 432x432 with 0 Axes>"
            ]
          },
          "metadata": {}
        },
        {
          "output_type": "display_data",
          "data": {
            "image/png": "[encoded data removed]",
            "text/plain": [
              "<Figure size 432x432 with 2 Axes>"
            ]
          },
          "metadata": {}
        },
        {
          "output_type": "display_data",
          "data": {
            "image/png": "[encoded data removed]",
            "text/plain": [
              "<Figure size 432x432 with 1 Axes>"
            ]
          },
          "metadata": {}
        }
      ]
    },
    {
      "cell_type": "markdown",
      "metadata": {
        "id": "zlb9ppdFJTbT"
      },
      "source": [
        "#### test_set"
      ],
      "id": "zlb9ppdFJTbT"
    },
    {
      "cell_type": "code",
      "metadata": {
        "id": "5c1908e6",
        "colab": {
          "base_uri": "https://localhost:8080/",
          "height": 935
        },
        "outputId": "dad3b9c9-b262-4419-b332-c3a66d92e49f"
      },
      "source": [
        "#confusion matrix\n",
        "from sklearn.metrics import confusion_matrix\n",
        "\n",
        "# 1.Predict classes\n",
        "test_steps_per_epoch = np.math.ceil(test_generator.samples / test_generator.batch_size)\n",
        "\n",
        "\n",
        "predictions = model.predict_generator(test_generator, steps=test_steps_per_epoch)\n",
        "\n",
        "# Get most likely class axis=1(열로 가장 큰 수의 위치를 보겠다는 소리), \n",
        "predicted_classes = np.argmax(predictions, axis=1)\n",
        "\n",
        "print(predicted_classes)\n",
        "# 2.Get ground-truth classes and class-labels\n",
        "true_classes = test_generator.classes\n",
        "class_labels = list(test_generator.class_indices.keys())   \n",
        "# 3. Use scikit-learn to get statistics\n",
        "report = classification_report(true_classes, predicted_classes, target_names=class_labels)\n",
        "\n",
        "\n",
        "print('Confusion Matrix')\n",
        "print(confusion_matrix(test_generator.classes, predicted_classes))\n",
        "print(report)    \n",
        "con = confusion_matrix(test_generator.classes, predicted_classes)\n",
        "confusion_plot(con, 4)\n",
        "\n",
        "plt.figure(figsize=(4,4))\n",
        "fpr, tpr, thr = roc_curve(predicted_classes, test_generator.classes)\n",
        "plot_roc_curve(fpr, tpr)\\\n",
        "\n",
        "\n",
        "\n",
        "get_clf_eval(test_generator.classes,predicted_classes)"
      ],
      "id": "5c1908e6",
      "execution_count": 390,
      "outputs": [
        {
          "output_type": "stream",
          "name": "stdout",
          "text": [
            "[1 1 1 1 0 0 1 0 1 1 1 1 0 0 0 1 0 1 1 1 0 1 1 0 1 0 1 0 1 1 1 0 1 1 1 1 1\n",
            " 0 0 0 1 1 1 0 1 1 1 1 1 1 0 1 1 1 0 0 0 1 1 1 0 0 1 0 1 1 0 0 0 0 0 0]\n",
            "Confusion Matrix\n",
            "[[11 20]\n",
            " [18 23]]\n",
            "              precision    recall  f1-score   support\n",
            "\n",
            "     fragile       0.38      0.35      0.37        31\n",
            " non_fragile       0.53      0.56      0.55        41\n",
            "\n",
            "    accuracy                           0.47        72\n",
            "   macro avg       0.46      0.46      0.46        72\n",
            "weighted avg       0.47      0.47      0.47        72\n",
            "\n",
            "오차 행렬\n",
            "[[11 20]\n",
            " [18 23]]\n",
            "정확도: 0.4722, 정밀도: 0.5349, 재현율: 0.5610,    F1: 0.5476, AUC:0.4579\n"
          ]
        },
        {
          "output_type": "execute_result",
          "data": {
            "text/plain": [
              "array([[11, 20],\n",
              "       [18, 23]])"
            ]
          },
          "metadata": {},
          "execution_count": 390
        },
        {
          "output_type": "display_data",
          "data": {
            "image/png": "[encoded data removed]",
            "text/plain": [
              "<Figure size 288x288 with 2 Axes>"
            ]
          },
          "metadata": {}
        },
        {
          "output_type": "display_data",
          "data": {
            "image/png": "[encoded data removed]",
            "text/plain": [
              "<Figure size 288x288 with 1 Axes>"
            ]
          },
          "metadata": {}
        }
      ]
    },
    {
      "cell_type": "code",
      "metadata": {
        "id": "ZhuY2nS5J7MZ"
      },
      "source": [
        ""
      ],
      "id": "ZhuY2nS5J7MZ",
      "execution_count": null,
      "outputs": []
    }
  ]
}