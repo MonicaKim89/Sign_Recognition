{
 "cells": [
  {
   "cell_type": "code",
   "execution_count": null,
   "id": "5ffe9ee1",
   "metadata": {},
   "outputs": [],
   "source": [
    "import cv2\n",
    "import math\n",
    "import os\n",
    "import shutil\n",
    "import numpy as np # linear algebra\n",
    "import pandas as pd # data processing, CSV file I/O (e.g. pd.read_csv)'\n",
    "from IPython.display import display\n",
    "import PIL\n",
    "from tensorflow.python.client import device_lib\n",
    "from sklearn.utils import class_weight\n",
    "\n",
    "import seaborn as sns\n",
    "import matplotlib.pyplot as plt\n",
    "import matplotlib\n",
    "%matplotlib inline\n",
    "\n",
    "from matplotlib import font_manager, rc\n",
    "rc('font',family=\"AppleGothic\")\n",
    "plt.rcParams[\"font.family\"]=\"AppleGothic\" #plt 한글꺠짐\n",
    "plt.rcParams[\"font.family\"]=\"Arial\" #외국어꺠짐\n",
    "plt.rcParams['axes.unicode_minus'] = False # 마이너스 부호 출력 설정\n",
    "plt.rc('figure', figsize=(10,8))\n",
    "\n",
    "sns.set(font=\"AppleGothic\", \n",
    "        rc={\"axes.unicode_minus\":False},\n",
    "        style='darkgrid') #sns 한글깨짐\n",
    "#그래프 세팅\n",
    "font = {'family': 'serif',\n",
    "        'color':  'white',\n",
    "        'weight': 'normal',\n",
    "        'size': 16,\n",
    "        }\n",
    "\n",
    "#마이너스 폰트\n",
    "plt.rc('axes', unicode_minus=False) # 마이너스 폰트 설정\n",
    "\n",
    "#시각화?\n",
    "import platform\n",
    "platform.system()\n",
    "\n",
    "# 운영체제별 한글 폰트 설정\n",
    "if platform.system() == 'Darwin': # Mac 환경 폰트 설정\n",
    "    plt.rc('font', family='AppleGothic')\n",
    "elif platform.system() == 'Windows': # Windows 환경 폰트 설정\n",
    "    plt.rc('font', family='Malgun Gothic')\n",
    "\n",
    "#tensorflow\n",
    "import tensorflow as tf\n",
    "from tensorflow.keras.applications import ResNet50\n",
    "from tensorflow.keras.applications import VGG16\n",
    "from tensorflow.keras.models import Sequential\n",
    "from tensorflow.keras.layers import Dense, Flatten, GlobalAveragePooling2D\n",
    "from tensorflow.keras.applications.resnet50 import preprocess_input\n",
    "from tensorflow.keras.preprocessing.image import ImageDataGenerator\n",
    "from tensorflow.keras import optimizers\n",
    "from tensorflow.keras.preprocessing import image\n",
    "\n",
    "#keras\n",
    "import keras\n",
    "from keras import models\n",
    "from keras import layers\n",
    "from keras import optimizers\n",
    "from keras import backend as K"
   ]
  },
  {
   "cell_type": "code",
   "execution_count": 29,
   "id": "c33a9364",
   "metadata": {},
   "outputs": [],
   "source": [
    "def gpu_check():\n",
    "    print(device_lib.list_local_devices())"
   ]
  },
  {
   "cell_type": "code",
   "execution_count": 2,
   "id": "9acb90c3",
   "metadata": {},
   "outputs": [],
   "source": [
    "def recall(y_target, y_pred):\n",
    "    # clip(t, clip_value_min, clip_value_max) : clip_value_min~clip_value_max 이외 가장자리를 깎아 낸다\n",
    "    # round : 반올림한다\n",
    "    y_target_yn = K.round(K.clip(y_target, 0, 1)) # 실제값을 0(Negative) 또는 1(Positive)로 설정한다\n",
    "    y_pred_yn = K.round(K.clip(y_pred, 0, 1)) # 예측값을 0(Negative) 또는 1(Positive)로 설정한다\n",
    "\n",
    "    # True Positive는 실제 값과 예측 값이 모두 1(Positive)인 경우이다\n",
    "    count_true_positive = K.sum(y_target_yn * y_pred_yn) \n",
    "\n",
    "    # (True Positive + False Negative) = 실제 값이 1(Positive) 전체\n",
    "    count_true_positive_false_negative = K.sum(y_target_yn)\n",
    "\n",
    "    # Recall =  (True Positive) / (True Positive + False Negative)\n",
    "    # K.epsilon()는 'divide by zero error' 예방차원에서 작은 수를 더한다\n",
    "    recall = count_true_positive / (count_true_positive_false_negative + K.epsilon())\n",
    "\n",
    "    # return a single tensor value\n",
    "    return recall\n",
    "\n",
    "\n",
    "def precision(y_target, y_pred):\n",
    "    # clip(t, clip_value_min, clip_value_max) : clip_value_min~clip_value_max 이외 가장자리를 깎아 낸다\n",
    "    # round : 반올림한다\n",
    "    y_pred_yn = K.round(K.clip(y_pred, 0, 1)) # 예측값을 0(Negative) 또는 1(Positive)로 설정한다\n",
    "    y_target_yn = K.round(K.clip(y_target, 0, 1)) # 실제값을 0(Negative) 또는 1(Positive)로 설정한다\n",
    "\n",
    "    # True Positive는 실제 값과 예측 값이 모두 1(Positive)인 경우이다\n",
    "    count_true_positive = K.sum(y_target_yn * y_pred_yn) \n",
    "\n",
    "    # (True Positive + False Positive) = 예측 값이 1(Positive) 전체\n",
    "    count_true_positive_false_positive = K.sum(y_pred_yn)\n",
    "\n",
    "    # Precision = (True Positive) / (True Positive + False Positive)\n",
    "    # K.epsilon()는 'divide by zero error' 예방차원에서 작은 수를 더한다\n",
    "    precision = count_true_positive / (count_true_positive_false_positive + K.epsilon())\n",
    "\n",
    "    # return a single tensor value\n",
    "    return precision\n",
    "\n",
    "#따로 작성해줘야함\n",
    "def f1score(_recall, _precision):\n",
    "    _f1score = ( 2 * _recall * _precision) / (_recall + _precision+ K.epsilon())\n",
    "    # return a single tensor value\n",
    "    return _f1score\n",
    "\n",
    "\n",
    "#feature 넣어주기\n",
    "def metrix_check(features):\n",
    "    _loss, _acc, _precision, _recall, _fp, _fn  = model.evaluate(features, batch_size=batch_size)\n",
    "    return print('\\n loss: {:.3f}, accuracy: {:.3f}, precision: {:.3f}, recall: {:.3f}, false_positive: {:.3f}, false_negative: {:.3f}, f1score: {:.3f}'\\\n",
    "      .format(_loss, _acc, _precision, _recall, _fp, _fn, f1score(_recall, _precision)))"
   ]
  },
  {
   "cell_type": "code",
   "execution_count": 11,
   "id": "3b61367b",
   "metadata": {},
   "outputs": [
    {
     "name": "stdout",
     "output_type": "stream",
     "text": [
      "C:\\Users\\yukir\\Documents\\Monicas_workspace\\Deeplearning\\Datasets\\base_dir\\train\n",
      "train 1\n",
      "test 744\n",
      "val 742\n"
     ]
    }
   ],
   "source": [
    "base_dir = 'C:\\\\Users\\\\yukir\\\\Documents\\\\Monicas_workspace\\\\Deeplearning\\\\Datasets\\\\base_dir\\\\'\n",
    "train_dir = os.path.join(base_dir, 'train')\n",
    "validation_dir = os.path.join(base_dir, 'val\\\\')\n",
    "test_dir = os.path.join(base_dir, 'test\\\\')\n",
    "\n",
    "datagen = ImageDataGenerator(rescale =1./255)\n",
    "batch_size = 20\n",
    "print(train_dir)\n",
    "#generataor하려면 폴더안에 클래스 만들어줘야함\n",
    "print('train',len(os.listdir(train_dir)))\n",
    "print('test',len(os.listdir(test_dir)))\n",
    "print('val',len(os.listdir(validation_dir)))"
   ]
  },
  {
   "cell_type": "code",
   "execution_count": 12,
   "id": "1357f201",
   "metadata": {},
   "outputs": [],
   "source": [
    "conv_base = ResNet50(weights ='imagenet',\n",
    "                 include_top=False,\n",
    "                 input_shape=(150,150,3))"
   ]
  },
  {
   "cell_type": "code",
   "execution_count": 14,
   "id": "e24b14f8",
   "metadata": {},
   "outputs": [
    {
     "name": "stdout",
     "output_type": "stream",
     "text": [
      "Found 5938 images belonging to 1 classes.\n",
      "Found 742 images belonging to 1 classes.\n",
      "Found 744 images belonging to 1 classes.\n"
     ]
    }
   ],
   "source": [
    "def extract_features(directory, sample_count):\n",
    "    features = np.zeros(shape=(sample_count, 5, 5, 2048))\n",
    "    labels = np.zeros(shape = (sample_count))\n",
    "    generator = datagen.flow_from_directory(directory,\n",
    "                                           target_size = (150, 150),\n",
    "                                           batch_size = batch_size,\n",
    "                                           class_mode = 'binary')\n",
    "    \n",
    "    i=0\n",
    "    \n",
    "    for inputs_batch, labels_batch in generator:\n",
    "        features_batch = conv_base.predict(inputs_batch)\n",
    "        \n",
    "        features[i * batch_size : (i+1)*batch_size] = features_batch\n",
    "        labels[i * batch_size: (i+1) * batch_size] = labels_batch\n",
    "        i+=1\n",
    "        if i * batch_size >= sample_count:\n",
    "            break\n",
    "    return features, labels\n",
    "\n",
    "\n",
    "train_features, train_labels = extract_features(train_dir, 5938)\n",
    "validation_features, validation_labels = extract_features(validation_dir,742)\n",
    "test_features, test_labels = extract_features(test_dir, 744)"
   ]
  },
  {
   "cell_type": "code",
   "execution_count": 19,
   "id": "744c324a",
   "metadata": {},
   "outputs": [],
   "source": [
    "#완전분류기로 주입하기위해 펼치기\n",
    "#train_feature(이미지수)\n",
    "train_features = np.reshape(train_features, (5938, 5 * 5 * 2048))\n",
    "test_features = np.reshape(test_features, (744, 5 * 5 * 2048))\n",
    "validation_features = np.reshape(validation_features, (742, 5 * 5 * 2048))"
   ]
  },
  {
   "cell_type": "code",
   "execution_count": 20,
   "id": "6d3f55c7",
   "metadata": {
    "scrolled": true
   },
   "outputs": [
    {
     "name": "stdout",
     "output_type": "stream",
     "text": [
      "Epoch 1/5\n",
      "297/297 [==============================] - 4s 13ms/step - loss: 0.0051 - acc: 0.9981 - precision: 0.0000e+00 - recall: 0.0000e+00 - false_positives: 11.0000 - false_negatives: 0.0000e+00 - val_loss: 1.1724e-09 - val_acc: 1.0000 - val_precision: 0.0000e+00 - val_recall: 0.0000e+00 - val_false_positives: 0.0000e+00 - val_false_negatives: 0.0000e+00\n",
      "Epoch 2/5\n",
      "297/297 [==============================] - 3s 11ms/step - loss: 3.4425e-08 - acc: 1.0000 - precision: 0.0000e+00 - recall: 0.0000e+00 - false_positives: 0.0000e+00 - false_negatives: 0.0000e+00 - val_loss: 6.3994e-11 - val_acc: 1.0000 - val_precision: 0.0000e+00 - val_recall: 0.0000e+00 - val_false_positives: 0.0000e+00 - val_false_negatives: 0.0000e+00\n",
      "Epoch 3/5\n",
      "297/297 [==============================] - 3s 11ms/step - loss: 2.4802e-09 - acc: 1.0000 - precision: 0.0000e+00 - recall: 0.0000e+00 - false_positives: 0.0000e+00 - false_negatives: 0.0000e+00 - val_loss: 1.9779e-11 - val_acc: 1.0000 - val_precision: 0.0000e+00 - val_recall: 0.0000e+00 - val_false_positives: 0.0000e+00 - val_false_negatives: 0.0000e+00\n",
      "Epoch 4/5\n",
      "297/297 [==============================] - 3s 11ms/step - loss: 1.2752e-09 - acc: 1.0000 - precision: 0.0000e+00 - recall: 0.0000e+00 - false_positives: 0.0000e+00 - false_negatives: 0.0000e+00 - val_loss: 1.0874e-11 - val_acc: 1.0000 - val_precision: 0.0000e+00 - val_recall: 0.0000e+00 - val_false_positives: 0.0000e+00 - val_false_negatives: 0.0000e+00\n",
      "Epoch 5/5\n",
      "297/297 [==============================] - 3s 11ms/step - loss: 1.1087e-09 - acc: 1.0000 - precision: 0.0000e+00 - recall: 0.0000e+00 - false_positives: 0.0000e+00 - false_negatives: 0.0000e+00 - val_loss: 6.7441e-12 - val_acc: 1.0000 - val_precision: 0.0000e+00 - val_recall: 0.0000e+00 - val_false_positives: 0.0000e+00 - val_false_negatives: 0.0000e+00\n"
     ]
    }
   ],
   "source": [
    "#완전분류기 정의하기\n",
    "model = models.Sequential()\n",
    "model.add(layers.Dense(256, activation='relu', input_dim =5*5*2048))\n",
    "model.add(layers.Dropout(0.5))\n",
    "model.add(layers.Dense(1, activation='sigmoid'))\n",
    "\n",
    "model.compile(optimizer = optimizers.RMSprop(lr=2e-5),\n",
    "             loss='binary_crossentropy',\n",
    "             metrics=['acc',tf.keras.metrics.Precision(name='precision')\\\n",
    "                          ,tf.keras.metrics.Recall(name='recall')\\\n",
    "                          ,tf.keras.metrics.FalsePositives(name='false_positives')\\\n",
    "                          ,tf.keras.metrics.FalseNegatives(name='false_negatives')])\n",
    "#self.compile(optimizer='adam', loss='binary_crossentropy', metrics=['accuracy', precision, recall, f1score])  \n",
    "\n",
    "history = model.fit(train_features, train_labels,\n",
    "                   epochs=5,\n",
    "                   batch_size=20,\n",
    "                   validation_data = (validation_features, validation_labels))"
   ]
  },
  {
   "cell_type": "code",
   "execution_count": 21,
   "id": "90465beb",
   "metadata": {},
   "outputs": [
    {
     "data": {
      "image/png": "[encoded data removed]",
      "text/plain": [
       "<Figure size 720x576 with 1 Axes>"
      ]
     },
     "metadata": {},
     "output_type": "display_data"
    },
    {
     "data": {
      "image/png": "[encoded data removed]",
      "text/plain": [
       "<Figure size 720x576 with 1 Axes>"
      ]
     },
     "metadata": {},
     "output_type": "display_data"
    }
   ],
   "source": [
    "acc = history.history['acc']\n",
    "val_acc = history.history['val_acc']\n",
    "\n",
    "loss = history.history['loss']\n",
    "val_loss = history.history['val_loss']\n",
    "\n",
    "epochs = range(1, len(acc) +1)\n",
    "\n",
    "plt.plot(epochs, acc, 'b', label ='Training acc')\n",
    "plt.plot(epochs, val_acc, 'r', label = 'Validation acc')\n",
    "plt.title('Training and validation accuracy')\n",
    "plt.legend()\n",
    "\n",
    "plt.figure()\n",
    "\n",
    "plt.plot(epochs, loss, 'b', label = \"Training loss\")\n",
    "plt.plot(epochs, val_loss, 'r', label ='Validation loss')\n",
    "plt.title('Training and validation losee')\n",
    "plt.legend()\n",
    "\n",
    "plt.show()"
   ]
  },
  {
   "cell_type": "code",
   "execution_count": 28,
   "id": "c2f3ad8e",
   "metadata": {},
   "outputs": [
    {
     "name": "stdout",
     "output_type": "stream",
     "text": [
      "297/297 [==============================] - 1s 2ms/step - loss: 0.0000e+00 - acc: 0.0000e+00 - precision: 0.0000e+00 - recall: 0.0000e+00 - false_positives: 0.0000e+00 - false_negatives: 0.0000e+00\n",
      "loss: 0.000, accuracy: 0.000, precision: 0.000, recall: 0.000, false_positive: 0.000, false_negative: 0.000, f1score: 0.000\n"
     ]
    }
   ],
   "source": [
    "_loss, _acc, _precision, _recall, _fp, _fn  = model.evaluate(train_features, batch_size=batch_size)\n",
    "print('loss: {:.3f}, accuracy: {:.3f}, precision: {:.3f}, recall: {:.3f}, false_positive: {:.3f}, false_negative: {:.3f}, f1score: {:.3f}'\\\n",
    "      .format(_loss, _acc, _precision, _recall, _fp, _fn, f1score(_recall, _precision)))"
   ]
  },
  {
   "cell_type": "code",
   "execution_count": 25,
   "id": "8fd24849",
   "metadata": {},
   "outputs": [],
   "source": [
    "def f1score(_recall, _precision):\n",
    "    _f1score = ( 2 * _recall * _precision) / (_recall + _precision+ K.epsilon())\n",
    "    # return a single tensor value\n",
    "    return _f1score"
   ]
  },
  {
   "cell_type": "code",
   "execution_count": 26,
   "id": "7985640a",
   "metadata": {},
   "outputs": [
    {
     "data": {
      "text/plain": [
       "0.0"
      ]
     },
     "execution_count": 26,
     "metadata": {},
     "output_type": "execute_result"
    }
   ],
   "source": [
    "f1score(_recall, _precision)"
   ]
  },
  {
   "cell_type": "code",
   "execution_count": 39,
   "id": "6e8b8e27",
   "metadata": {},
   "outputs": [],
   "source": [
    "def metrix_check(features):\n",
    "    _loss, _acc, _precision, _recall, _fp, _fn  = model.evaluate(features, batch_size=batch_size)\n",
    "    return print('\\n loss: {:.3f}, accuracy: {:.3f}, precision: {:.3f}, recall: {:.3f}, false_positive: {:.3f}, false_negative: {:.3f}, f1score: {:.3f}'\\\n",
    "      .format(_loss, _acc, _precision, _recall, _fp, _fn, f1score(_recall, _precision)))"
   ]
  },
  {
   "cell_type": "code",
   "execution_count": 41,
   "id": "82aa7ef7",
   "metadata": {},
   "outputs": [
    {
     "name": "stdout",
     "output_type": "stream",
     "text": [
      "38/38 [==============================] - 0s 2ms/step - loss: 0.0000e+00 - acc: 0.0000e+00 - precision: 0.0000e+00 - recall: 0.0000e+00 - false_positives: 0.0000e+00 - false_negatives: 0.0000e+00\n",
      "\n",
      " loss: 0.000, accuracy: 0.000, precision: 0.000, recall: 0.000, false_positive: 0.000, false_negative: 0.000, f1score: 0.000\n"
     ]
    }
   ],
   "source": [
    "metrix_check(validation_features)"
   ]
  },
  {
   "cell_type": "code",
   "execution_count": null,
   "id": "7301aaa6",
   "metadata": {},
   "outputs": [],
   "source": []
  }
 ],
 "metadata": {
  "kernelspec": {
   "display_name": "Python 3 (ipykernel)",
   "language": "python",
   "name": "python3"
  },
  "language_info": {
   "codemirror_mode": {
    "name": "ipython",
    "version": 3
   },
   "file_extension": ".py",
   "mimetype": "text/x-python",
   "name": "python",
   "nbconvert_exporter": "python",
   "pygments_lexer": "ipython3",
   "version": "3.8.0"
  },
  "varInspector": {
   "cols": {
    "lenName": 16,
    "lenType": 16,
    "lenVar": 40
   },
   "kernels_config": {
    "python": {
     "delete_cmd_postfix": "",
     "delete_cmd_prefix": "del ",
     "library": "var_list.py",
     "varRefreshCmd": "print(var_dic_list())"
    },
    "r": {
     "delete_cmd_postfix": ") ",
     "delete_cmd_prefix": "rm(",
     "library": "var_list.r",
     "varRefreshCmd": "cat(var_dic_list()) "
    }
   },
   "types_to_exclude": [
    "module",
    "function",
    "builtin_function_or_method",
    "instance",
    "_Feature"
   ],
   "window_display": false
  }
 },
 "nbformat": 4,
 "nbformat_minor": 5
}
