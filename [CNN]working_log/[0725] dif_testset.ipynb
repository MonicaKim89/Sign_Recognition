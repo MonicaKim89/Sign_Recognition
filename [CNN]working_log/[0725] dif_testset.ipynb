{
 "cells": [
  {
   "cell_type": "code",
   "execution_count": 1,
   "metadata": {},
   "outputs": [
    {
     "name": "stdout",
     "output_type": "stream",
     "text": [
      "C:\\Users\\yukir\\Documents\\Monicas_workspace\\py_storage\n"
     ]
    }
   ],
   "source": [
    "%cd C:\\Users\\yukir\\Documents\\Monicas_workspace\\py_storage"
   ]
  },
  {
   "cell_type": "code",
   "execution_count": 2,
   "metadata": {},
   "outputs": [],
   "source": [
    "from basic_preprocessing import *"
   ]
  },
  {
   "cell_type": "code",
   "execution_count": 3,
   "metadata": {},
   "outputs": [],
   "source": [
    "from deeplearning_check import *"
   ]
  },
  {
   "cell_type": "code",
   "execution_count": 4,
   "metadata": {},
   "outputs": [
    {
     "data": {
      "text/plain": [
       "'C:\\\\Users\\\\yukir\\\\Documents\\\\Monicas_workspace\\\\py_storage'"
      ]
     },
     "execution_count": 4,
     "metadata": {},
     "output_type": "execute_result"
    }
   ],
   "source": [
    "/pwd"
   ]
  },
  {
   "cell_type": "code",
   "execution_count": 5,
   "metadata": {},
   "outputs": [
    {
     "name": "stdout",
     "output_type": "stream",
     "text": [
      "C:\\Users\\yukir\\Documents\\Monicas_workspace\\Sign detection\\classification\n"
     ]
    }
   ],
   "source": [
    "%cd C:\\Users\\yukir\\Documents\\Monicas_workspace\\Sign detection\\classification"
   ]
  },
  {
   "cell_type": "code",
   "execution_count": 6,
   "metadata": {
    "colab": {
     "base_uri": "https://localhost:8080/"
    },
    "id": "Dni62IFckfY_",
    "outputId": "27a387d6-1e56-4a9b-fbb4-64ff81d3637a"
   },
   "outputs": [],
   "source": [
    "IMG_SIZE = 100\n",
    "NUM_EPOCHS = 10\n",
    "NUM_CLASSES = 2\n",
    "TRAIN_BATCH_SIZE = 77\n",
    "TEST_BATCH_SIZE = 1 \n",
    "opt =  tf.optimizers.Adam()"
   ]
  },
  {
   "cell_type": "code",
   "execution_count": 7,
   "metadata": {
    "id": "eJflUpf-qdjd"
   },
   "outputs": [],
   "source": [
    "def create_model():\n",
    "  #resnet_weights_path = '/content/drive/MyDrive/Caba2012_colab/Fire_dt/models/resnet.h5'\n",
    "  #resnet_weights_path = '../input/resnet50/resnet50_weights_tf_dim_ordering_tf_kernels_notop.h5'\n",
    "\n",
    "  #weigths = weights=resnet_weights_path ->none\n",
    "  resnet = ResNet50(include_top=False, pooling='avg', weights = None)\n",
    "  #resnet.summary()\n",
    "  my_new_model = Sequential()\n",
    "  my_new_model.add(resnet)\n",
    "  my_new_model.layers[0].trainable = True\n",
    "  my_new_model.add(Dense(NUM_CLASSES, activation='softmax')) #dense 3, NUM_CLASSES = 3\n",
    "\n",
    "  # Say no to train first layer (ResNet) model. It is already trained\n",
    "    \n",
    "  opt =  tf.optimizers.Adam()\n",
    "   #opt바꾼거 확인해\n",
    "  my_new_model.compile(optimizer=opt, loss='categorical_crossentropy', metrics=['accuracy'])\n",
    "\n",
    "  return my_new_model"
   ]
  },
  {
   "cell_type": "code",
   "execution_count": 8,
   "metadata": {},
   "outputs": [
    {
     "data": {
      "text/plain": [
       "'C:\\\\Users\\\\yukir\\\\Documents\\\\Monicas_workspace\\\\Sign detection\\\\classification'"
      ]
     },
     "execution_count": 8,
     "metadata": {},
     "output_type": "execute_result"
    }
   ],
   "source": [
    "/pwd"
   ]
  },
  {
   "cell_type": "code",
   "execution_count": 9,
   "metadata": {},
   "outputs": [],
   "source": [
    "def train_model( model ):\n",
    "    data_generator = ImageDataGenerator(rescale=1./255)\n",
    "\n",
    "    train_generator = data_generator.flow_from_directory(\n",
    "        'C:\\\\Users\\\\yukir\\\\Documents\\\\Monicas_workspace\\\\Datasets\\\\0723\\\\[0723] dataset\\\\train', \n",
    "        target_size=(IMG_SIZE, IMG_SIZE),\n",
    "        batch_size=TEST_BATCH_SIZE,\n",
    "        shuffle = False,\n",
    "        class_mode='categorical')\n",
    "\n",
    "    validation_generator = data_generator.flow_from_directory(\n",
    "        'C:\\\\Users\\\\yukir\\\\Documents\\\\Monicas_workspace\\\\Datasets\\\\0723\\\\[0723] dataset\\\\val', \n",
    "        target_size=(IMG_SIZE, IMG_SIZE),\n",
    "        batch_size=TEST_BATCH_SIZE,\n",
    "        shuffle = False,\n",
    "        class_mode='categorical')\n",
    "\n",
    "\n",
    "\n",
    "    test_generator = data_generator.flow_from_directory(\n",
    "        'C:\\\\Users\\\\yukir\\\\Documents\\\\Monicas_workspace\\\\Datasets\\\\0724 test\\\\preprocessing\\\\ge', \n",
    "        target_size=(IMG_SIZE, IMG_SIZE),\n",
    "        batch_size=TEST_BATCH_SIZE,\n",
    "        shuffle = False,\n",
    "        class_mode='categorical')\n",
    "\n",
    "    H = model.fit(\n",
    "                train_generator,\n",
    "                steps_per_epoch=train_generator.n/TRAIN_BATCH_SIZE,\n",
    "                epochs=NUM_EPOCHS,\n",
    "                validation_data=validation_generator,\n",
    "                validation_steps = 1 \n",
    "                #,\n",
    "                #class_weight=dict_weights\n",
    "                    )\n",
    "    \n",
    "    plot_history( H, NUM_EPOCHS )\n",
    "    \n",
    "    return H, model, train_generator, validation_generator ,test_generator\n",
    "    "
   ]
  },
  {
   "cell_type": "code",
   "execution_count": 10,
   "metadata": {
    "id": "V6anMevUpB7k"
   },
   "outputs": [],
   "source": [
    "def get_label_dict(train_generator ):\n",
    "# Get label to class_id mapping\n",
    "    labels = (train_generator.class_indices)\n",
    "    label_dict = dict((v,k) for k,v in labels.items())\n",
    "    return  label_dict   "
   ]
  },
  {
   "cell_type": "code",
   "execution_count": 11,
   "metadata": {
    "id": "8plvW7aYpGXn"
   },
   "outputs": [],
   "source": [
    "def get_labels( test_generator ):\n",
    "    test_generator.reset()\n",
    "    labels = []\n",
    "    for i in range(len(generator)):\n",
    "        labels.extend(np.array(generator[i][1]) )\n",
    "    return np.argmax(labels, axis =1)"
   ]
  },
  {
   "cell_type": "code",
   "execution_count": 12,
   "metadata": {
    "id": "_Yn0xl2qpHyI"
   },
   "outputs": [],
   "source": [
    "def get_pred_labels( test_generator):\n",
    "    test_generator.reset()\n",
    "    pred_vec=model.predict_generator(test_generator,\n",
    "                                     steps=test_generator.n, #test_generator.batch_size\n",
    "                                     verbose=1)\n",
    "    return np.argmax( pred_vec, axis = 1), np.max(pred_vec, axis = 1)"
   ]
  },
  {
   "cell_type": "code",
   "execution_count": 13,
   "metadata": {
    "id": "CEyRoMZepNE5"
   },
   "outputs": [],
   "source": [
    "def plot_history( H, NUM_EPOCHS ):\n",
    "    plt.style.use(\"ggplot\")\n",
    "    fig = plt.figure()\n",
    "    fig.set_size_inches(15, 5)\n",
    "    \n",
    "    fig.add_subplot(1, 3, 1)\n",
    "    plt.plot(np.arange(0, NUM_EPOCHS), H.history[\"loss\"], label=\"train_loss\")\n",
    "    plt.plot(np.arange(0, NUM_EPOCHS), H.history[\"val_loss\"], label=\"val_loss\")\n",
    "    plt.title(\"Training Loss and Validation Loss on Dataset\")\n",
    "    plt.xlabel(\"Epoch #\")\n",
    "    plt.ylabel(\"Loss\")\n",
    "    plt.legend(loc=\"lower left\")\n",
    "\n",
    "    \n",
    "    fig.add_subplot(1, 3, 2)\n",
    "    plt.plot(np.arange(0, NUM_EPOCHS), H.history[\"loss\"], label=\"train_loss\")\n",
    "    plt.plot(np.arange(0, NUM_EPOCHS), H.history[\"accuracy\"], label=\"train_accuracy\")\n",
    "    plt.title(\"Training Loss and Accuracy on Dataset\")\n",
    "    plt.xlabel(\"Epoch #\")\n",
    "    plt.ylabel(\"Loss/Accuracy\")\n",
    "    plt.legend(loc=\"lower left\")\n",
    "    \n",
    "    fig.add_subplot(1, 3, 3)\n",
    "    plt.plot(np.arange(0, NUM_EPOCHS), H.history[\"val_loss\"], label=\"val_loss\")\n",
    "    plt.plot(np.arange(0, NUM_EPOCHS), H.history[\"val_accuracy\"], label=\"val_accuracy\")\n",
    "    plt.title(\"Validation Loss and Accuracy on Dataset\")\n",
    "    plt.xlabel(\"Epoch #\")\n",
    "    plt.ylabel(\"Loss/Accuracy\")\n",
    "    plt.legend(loc=\"lower left\")\n",
    "\n",
    "\n",
    "    plt.show()"
   ]
  },
  {
   "cell_type": "code",
   "execution_count": 14,
   "metadata": {
    "id": "1fwwknDmpVz1"
   },
   "outputs": [],
   "source": [
    "def draw_prediction( frame, class_string ):\n",
    "    x_start = frame.shape[1]- 600 # 위치\n",
    "    cv2.putText(frame, class_string, (10,50), cv2.FONT_HERSHEY_SIMPLEX, 1, (255, 0, 0), 2, cv2.LINE_AA)\n",
    "    return frame"
   ]
  },
  {
   "cell_type": "code",
   "execution_count": 15,
   "metadata": {
    "id": "qEw6aM4QpXPY"
   },
   "outputs": [],
   "source": [
    "def prepare_image_for_prediction( img):\n",
    "   \n",
    "    # convert 3D tensor to 4D tensor with shape (1, 224, 224, 3) and return 4D tensor\n",
    "    # The below function inserts an additional dimension at the axis position provided\n",
    "    img = np.expand_dims(img, axis=0)\n",
    "    # perform pre-processing that was done when resnet model was trained.\n",
    "    return preprocess_input(img)"
   ]
  },
  {
   "cell_type": "markdown",
   "metadata": {},
   "source": [
    "#### Training"
   ]
  },
  {
   "cell_type": "code",
   "execution_count": 16,
   "metadata": {
    "colab": {
     "base_uri": "https://localhost:8080/"
    },
    "id": "mV82B4WEq0sa",
    "outputId": "318b94f6-2c3f-4d2b-c214-0d12bcaac508"
   },
   "outputs": [
    {
     "name": "stdout",
     "output_type": "stream",
     "text": [
      "Model: \"sequential\"\n",
      "_________________________________________________________________\n",
      "Layer (type)                 Output Shape              Param #   \n",
      "=================================================================\n",
      "resnet50 (Model)             (None, 2048)              23587712  \n",
      "_________________________________________________________________\n",
      "dense (Dense)                (None, 2)                 4098      \n",
      "=================================================================\n",
      "Total params: 23,591,810\n",
      "Trainable params: 23,538,690\n",
      "Non-trainable params: 53,120\n",
      "_________________________________________________________________\n"
     ]
    }
   ],
   "source": [
    "model = create_model()\n",
    "model.summary()"
   ]
  },
  {
   "cell_type": "code",
   "execution_count": 17,
   "metadata": {
    "colab": {
     "base_uri": "https://localhost:8080/",
     "height": 1000
    },
    "id": "x6w80-rCp3oS",
    "outputId": "6678c20c-3f68-4bcb-e81d-756f2984e58b"
   },
   "outputs": [
    {
     "name": "stdout",
     "output_type": "stream",
     "text": [
      "Found 2968 images belonging to 2 classes.\n",
      "Found 370 images belonging to 2 classes.\n",
      "Found 5 images belonging to 2 classes.\n",
      "Epoch 1/10\n",
      "39/38 [==============================] - 2s 49ms/step - loss: 2.4829 - accuracy: 0.5897 - val_loss: 1.0697 - val_accuracy: 0.0000e+00\n",
      "Epoch 2/10\n",
      "39/38 [==============================] - 1s 30ms/step - loss: 1.6589 - accuracy: 0.3846 - val_loss: 0.5412 - val_accuracy: 1.0000\n",
      "Epoch 3/10\n",
      "39/38 [==============================] - 1s 32ms/step - loss: 1.7744 - accuracy: 0.5641 - val_loss: 0.0108 - val_accuracy: 1.0000\n",
      "Epoch 4/10\n",
      "39/38 [==============================] - 1s 30ms/step - loss: 1.8292 - accuracy: 0.5128 - val_loss: 0.4762 - val_accuracy: 1.0000\n",
      "Epoch 5/10\n",
      "39/38 [==============================] - 1s 30ms/step - loss: 1.4630 - accuracy: 0.4872 - val_loss: 0.0746 - val_accuracy: 1.0000\n",
      "Epoch 6/10\n",
      "39/38 [==============================] - 1s 30ms/step - loss: 1.1424 - accuracy: 0.4872 - val_loss: 2.4309 - val_accuracy: 0.0000e+00\n",
      "Epoch 7/10\n",
      "39/38 [==============================] - ETA: 0s - loss: 2.1466 - accuracy: 0.35 - 1s 30ms/step - loss: 2.1466 - accuracy: 0.3590 - val_loss: 0.0610 - val_accuracy: 1.0000\n",
      "Epoch 8/10\n",
      "39/38 [==============================] - 1s 30ms/step - loss: 1.6196 - accuracy: 0.4615 - val_loss: 0.0267 - val_accuracy: 1.0000\n",
      "Epoch 9/10\n",
      "39/38 [==============================] - 1s 31ms/step - loss: 0.7960 - accuracy: 0.6667 - val_loss: 0.0071 - val_accuracy: 1.0000\n",
      "Epoch 10/10\n",
      "39/38 [==============================] - 1s 31ms/step - loss: 1.1030 - accuracy: 0.5128 - val_loss: 0.2232 - val_accuracy: 1.0000\n"
     ]
    },
    {
     "data": {
      "image/png": "[encoded data removed]",
      "text/plain": [
       "<Figure size 1080x360 with 3 Axes>"
      ]
     },
     "metadata": {},
     "output_type": "display_data"
    }
   ],
   "source": [
    "H, trained_model,train_generator,validation_generator, test_generator = train_model(model)\n",
    "label_dict= get_label_dict(train_generator)\n",
    "#model.compile(optimizer=opt, loss='categorical_crossentropy', metrics=['accuracy'])\n",
    "#model.save('/content/drive/MyDrive/Caba2012_colab/Fire_dt/models/resnet.h5')"
   ]
  },
  {
   "cell_type": "code",
   "execution_count": 18,
   "metadata": {
    "colab": {
     "base_uri": "https://localhost:8080/"
    },
    "id": "x5DMOwKzMlHe",
    "outputId": "d8f899ee-be37-4be5-dcbd-a81ebc442455"
   },
   "outputs": [
    {
     "data": {
      "image/png": "[encoded data removed]",
      "text/plain": [
       "<Figure size 1080x360 with 2 Axes>"
      ]
     },
     "metadata": {},
     "output_type": "display_data"
    }
   ],
   "source": [
    "acc = H.history['accuracy']\n",
    "val_acc = H.history['val_accuracy']\n",
    "\n",
    "loss = H.history['loss']\n",
    "val_loss = H.history['val_loss']\n",
    "\n",
    "epochs = range(1, len(acc) +1)\n",
    "    \n",
    "    \n",
    "\n",
    "fig = plt.figure()\n",
    "fig.set_size_inches(15, 5)\n",
    "\n",
    "fig.add_subplot(1, 2, 1)\n",
    "plt.plot(epochs, acc, 'b', label ='Training acc')\n",
    "plt.plot(epochs, val_acc, 'r', label = 'Validation acc')\n",
    "plt.title('Training and validation accuracy')\n",
    "plt.legend()\n",
    "\n",
    "# plt.figure()\n",
    "fig.add_subplot(1, 2, 2) \n",
    "plt.plot(epochs, loss, 'b', label = \"Training loss\")\n",
    "plt.plot(epochs, val_loss, 'r', label ='Validation loss')\n",
    "plt.title('Training and validation lose')\n",
    "plt.legend()\n",
    "\n",
    "plt.show()"
   ]
  },
  {
   "cell_type": "code",
   "execution_count": 19,
   "metadata": {},
   "outputs": [],
   "source": [
    "model.compile(optimizer = optimizers.RMSprop(lr=2e-5),\n",
    "             loss='categorical_crossentropy',\n",
    "             metrics=['accuracy',\\\n",
    "                      tf.keras.metrics.Precision(name='precision')\\\n",
    "                          ,tf.keras.metrics.Recall(name='recall')\\\n",
    "                          ,tf.keras.metrics.FalsePositives(name='false_positives')\\\n",
    "                          ,tf.keras.metrics.FalseNegatives(name='false_negatives'),\\\n",
    "                      tf.keras.metrics.TruePositives(name ='true_positives'),\\\n",
    "                     tf.keras.metrics.TrueNegatives(name ='true_negatives')])\n",
    "# #                      tf.keras.metrics.SensitivityAtSpecificity(specificity, num_thresholds=200, name='SensitivityAtSpecificity', dtype=None),\\\n",
    "#                      tf.keras.metrics.SpecificityAtSensitivity(name='SpecificityAtSensitivity')])"
   ]
  },
  {
   "cell_type": "code",
   "execution_count": 20,
   "metadata": {},
   "outputs": [
    {
     "data": {
      "text/plain": [
       "{'loss': [2.4828968048095703,\n",
       "  1.6588833332061768,\n",
       "  1.7743545770645142,\n",
       "  1.82923424243927,\n",
       "  1.4630444049835205,\n",
       "  1.1423643827438354,\n",
       "  2.146636486053467,\n",
       "  1.6196095943450928,\n",
       "  0.7959815859794617,\n",
       "  1.1030410528182983],\n",
       " 'accuracy': [0.5897436141967773,\n",
       "  0.38461539149284363,\n",
       "  0.5641025900840759,\n",
       "  0.5128205418586731,\n",
       "  0.4871794879436493,\n",
       "  0.4871794879436493,\n",
       "  0.3589743673801422,\n",
       "  0.4615384638309479,\n",
       "  0.6666666865348816,\n",
       "  0.5128205418586731],\n",
       " 'val_loss': [1.069735050201416,\n",
       "  0.5411958694458008,\n",
       "  0.010841633193194866,\n",
       "  0.47623559832572937,\n",
       "  0.07458522170782089,\n",
       "  2.430868148803711,\n",
       "  0.06098728999495506,\n",
       "  0.026721391826868057,\n",
       "  0.00713538471609354,\n",
       "  0.2231597602367401],\n",
       " 'val_accuracy': [0.0, 1.0, 1.0, 1.0, 1.0, 0.0, 1.0, 1.0, 1.0, 1.0]}"
      ]
     },
     "execution_count": 20,
     "metadata": {},
     "output_type": "execute_result"
    }
   ],
   "source": [
    "# 반환되는 \"이력\" 객체는 훈련 중 손실 값과 메트릭 값에 대한 레코드를 유지합니다.\n",
    "H.history"
   ]
  },
  {
   "cell_type": "code",
   "execution_count": 21,
   "metadata": {},
   "outputs": [
    {
     "name": "stdout",
     "output_type": "stream",
     "text": [
      "5/5 [==============================] - 0s 12ms/step - loss: 1.2514 - accuracy: 0.2000 - precision: 0.2000 - recall: 0.2000 - false_positives: 4.0000 - false_negatives: 4.0000 - true_positives: 1.0000 - true_negatives: 1.0000              \n"
     ]
    },
    {
     "data": {
      "text/plain": [
       "list"
      ]
     },
     "execution_count": 21,
     "metadata": {},
     "output_type": "execute_result"
    }
   ],
   "source": [
    "result = model.evaluate(test_generator)\n",
    "type(result)"
   ]
  },
  {
   "cell_type": "code",
   "execution_count": 22,
   "metadata": {},
   "outputs": [],
   "source": [
    "def evaluating_each(result):\n",
    "    from keras import backend as K\n",
    "    \n",
    "    loss = result[0]\n",
    "    accuracy = result[1]\n",
    "    precision = result[2]\n",
    "    recall = result[3]\n",
    "    f_p = int(result[4])\n",
    "    f_n = int(result[5])\n",
    "    t_p = int(result[6])\n",
    "    t_n = int(result[7])\n",
    "    \n",
    "    f1_score = (2 * recall * precision) / (recall + precision + K.epsilon())\n",
    "    sensitivity = t_p / (t_p + f_n)\n",
    "    specificity = t_n/ (t_n + f_p)\n",
    "    \n",
    "    print(\"\"\"loss:{:.3f}, \\naccuracy:{:.3f}, \\nprecision:{:.3f}, \\nrecall:{:.3f}, \\nFalse_positive:{}, \\nFalse_negative, :{}, \\nTrue_positive:{}, \\nTrue_negative:{}, \\nSensitivity:{:.3f}, \\nSpecificity:{:.3f}, \\nF1_score:{:.3f}\"\"\".format(loss, accuracy, precision, recall, f_p, f_n, t_p, t_n, sensitivity, specificity, f1_score))\n",
    "    return loss, accuracy, precision, recall, f_p, f_n, t_p, t_n, sensitivity, specificity, f1_score"
   ]
  },
  {
   "cell_type": "code",
   "execution_count": 23,
   "metadata": {},
   "outputs": [
    {
     "name": "stdout",
     "output_type": "stream",
     "text": [
      "loss:1.251, \n",
      "accuracy:0.200, \n",
      "precision:0.200, \n",
      "recall:0.200, \n",
      "False_positive:4, \n",
      "False_negative, :4, \n",
      "True_positive:1, \n",
      "True_negative:1, \n",
      "Sensitivity:0.200, \n",
      "Specificity:0.200, \n",
      "F1_score:0.200\n"
     ]
    },
    {
     "data": {
      "text/plain": [
       "(1.2514336109161377,\n",
       " 0.20000000298023224,\n",
       " 0.20000000298023224,\n",
       " 0.20000000298023224,\n",
       " 4,\n",
       " 4,\n",
       " 1,\n",
       " 1,\n",
       " 0.2,\n",
       " 0.2,\n",
       " 0.19999995298024473)"
      ]
     },
     "execution_count": 23,
     "metadata": {},
     "output_type": "execute_result"
    }
   ],
   "source": [
    "evaluating_each(result)"
   ]
  },
  {
   "cell_type": "code",
   "execution_count": 24,
   "metadata": {},
   "outputs": [
    {
     "data": {
      "text/plain": [
       "{0: 'fragile', 1: 'up'}"
      ]
     },
     "execution_count": 24,
     "metadata": {},
     "output_type": "execute_result"
    }
   ],
   "source": [
    "get_label_dict(train_generator)"
   ]
  },
  {
   "cell_type": "code",
   "execution_count": 25,
   "metadata": {},
   "outputs": [],
   "source": [
    "def get_labels( generator ):\n",
    "    generator.reset()\n",
    "    labels = []\n",
    "    for i in range(len(generator)):\n",
    "        labels.extend(np.array(generator[i][1]) )\n",
    "    return np.argmax(labels, axis =1)"
   ]
  },
  {
   "cell_type": "code",
   "execution_count": 26,
   "metadata": {},
   "outputs": [
    {
     "data": {
      "text/plain": [
       "array([0, 0, 0, ..., 1, 1, 1], dtype=int64)"
      ]
     },
     "execution_count": 26,
     "metadata": {},
     "output_type": "execute_result"
    }
   ],
   "source": [
    "get_labels(train_generator)"
   ]
  },
  {
   "cell_type": "code",
   "execution_count": 27,
   "metadata": {},
   "outputs": [
    {
     "name": "stdout",
     "output_type": "stream",
     "text": [
      "WARNING:tensorflow:From C:\\Users\\yukir\\AppData\\Local\\Temp/ipykernel_20796/1763928774.py:3: Model.predict_generator (from tensorflow.python.keras.engine.training) is deprecated and will be removed in a future version.\n",
      "Instructions for updating:\n",
      "Please use Model.predict, which supports generators.\n",
      "5/5 [==============================] - 0s 7ms/step\n"
     ]
    },
    {
     "data": {
      "text/plain": [
       "(array([1, 0, 0, 0, 0], dtype=int64),\n",
       " array([0.51813745, 0.7953434 , 0.90483826, 0.7843892 , 0.75625503],\n",
       "       dtype=float32))"
      ]
     },
     "execution_count": 27,
     "metadata": {},
     "output_type": "execute_result"
    }
   ],
   "source": [
    "get_pred_labels(test_generator)"
   ]
  },
  {
   "cell_type": "markdown",
   "metadata": {},
   "source": [
    "### Real pic test"
   ]
  },
  {
   "cell_type": "code",
   "execution_count": 28,
   "metadata": {},
   "outputs": [
    {
     "data": {
      "text/plain": [
       "{0: 'fragile', 1: 'up'}"
      ]
     },
     "execution_count": 28,
     "metadata": {},
     "output_type": "execute_result"
    }
   ],
   "source": [
    "get_label_dict(train_generator)"
   ]
  },
  {
   "cell_type": "code",
   "execution_count": 29,
   "metadata": {},
   "outputs": [
    {
     "name": "stdout",
     "output_type": "stream",
     "text": [
      "WARNING:tensorflow:From C:\\Users\\yukir\\AppData\\Local\\Temp/ipykernel_20796/510536642.py:23: Sequential.predict_classes (from tensorflow.python.keras.engine.sequential) is deprecated and will be removed after 2021-01-01.\n",
      "Instructions for updating:\n",
      "Please use instead:* `np.argmax(model.predict(x), axis=-1)`,   if your model does multi-class classification   (e.g. if it uses a `softmax` last-layer activation).* `(model.predict(x) > 0.5).astype(\"int32\")`,   if your model does binary classification   (e.g. if it uses a `sigmoid` last-layer activation).\n",
      "1 up\n"
     ]
    }
   ],
   "source": [
    "# 틀림\n",
    "\n",
    "results={\n",
    "   0:'fragile',\n",
    "   1:'up',\n",
    "   2:'bird',\n",
    "   3:'cat',\n",
    "   4:'deer',\n",
    "   5:'dog',\n",
    "   6:'frog',\n",
    "   7:'horse',\n",
    "   8:'ship',\n",
    "   9:'truck'\n",
    "}\n",
    "from PIL import Image\n",
    "import numpy as np\n",
    "im=Image.open(\"C:\\\\Users\\\\yukir\\\\Documents\\\\Monicas_workspace\\\\Datasets\\\\0724 test\\\\preprocessing\\\\ge\\\\up\\\\(1)blankstock180501065.jpg\")\n",
    "# the input image is required to be in the shape of dataset, i.e (32,32,3)\n",
    " \n",
    "im=im.resize((80,80))\n",
    "im=np.expand_dims(im,axis=0)\n",
    "im=np.array(im)\n",
    "pred=model.predict_classes([im])[0]\n",
    "print(pred,results[pred])"
   ]
  },
  {
   "cell_type": "code",
   "execution_count": 30,
   "metadata": {},
   "outputs": [
    {
     "data": {
      "text/html": [
       "<div>\n",
       "<style scoped>\n",
       "    .dataframe tbody tr th:only-of-type {\n",
       "        vertical-align: middle;\n",
       "    }\n",
       "\n",
       "    .dataframe tbody tr th {\n",
       "        vertical-align: top;\n",
       "    }\n",
       "\n",
       "    .dataframe thead th {\n",
       "        text-align: right;\n",
       "    }\n",
       "</style>\n",
       "<table border=\"1\" class=\"dataframe\">\n",
       "  <thead>\n",
       "    <tr style=\"text-align: right;\">\n",
       "      <th></th>\n",
       "      <th>file_name</th>\n",
       "      <th>label</th>\n",
       "      <th>class</th>\n",
       "    </tr>\n",
       "  </thead>\n",
       "  <tbody>\n",
       "    <tr>\n",
       "      <th>0</th>\n",
       "      <td>(2)blankstock180501065.jpg</td>\n",
       "      <td>1</td>\n",
       "      <td>up</td>\n",
       "    </tr>\n",
       "    <tr>\n",
       "      <th>1</th>\n",
       "      <td>blankstock180501065.jpg</td>\n",
       "      <td>1</td>\n",
       "      <td>up</td>\n",
       "    </tr>\n",
       "    <tr>\n",
       "      <th>2</th>\n",
       "      <td>grunge-fragile-box-sign-with-arrow-up-on-piece...</td>\n",
       "      <td>1</td>\n",
       "      <td>up</td>\n",
       "    </tr>\n",
       "    <tr>\n",
       "      <th>3</th>\n",
       "      <td>images (1).jpg</td>\n",
       "      <td>1</td>\n",
       "      <td>up</td>\n",
       "    </tr>\n",
       "    <tr>\n",
       "      <th>4</th>\n",
       "      <td>images.jpg</td>\n",
       "      <td>1</td>\n",
       "      <td>up</td>\n",
       "    </tr>\n",
       "  </tbody>\n",
       "</table>\n",
       "</div>"
      ],
      "text/plain": [
       "                                           file_name  label class\n",
       "0                         (2)blankstock180501065.jpg      1    up\n",
       "1                            blankstock180501065.jpg      1    up\n",
       "2  grunge-fragile-box-sign-with-arrow-up-on-piece...      1    up\n",
       "3                                     images (1).jpg      1    up\n",
       "4                                         images.jpg      1    up"
      ]
     },
     "execution_count": 30,
     "metadata": {},
     "output_type": "execute_result"
    }
   ],
   "source": [
    "def file_list(path):\n",
    "    file_list = os.listdir(path)\n",
    "    file_list.sort()\n",
    "    file_list = file_list[1:]\n",
    "    list_file = []\n",
    "    for i in file_list:\n",
    "        list_file.append(path+i)\n",
    "    return list_file\n",
    "\n",
    "path ='C:\\\\Users\\\\yukir\\\\Documents\\\\Monicas_workspace\\\\Datasets\\\\real_pic_test\\\\resizing\\\\'\n",
    "\n",
    "file_list = file_list(path)\n",
    "\n",
    "results={\n",
    "   0:'fragile',\n",
    "   1:'up',\n",
    "   2:'bird',\n",
    "   3:'cat',\n",
    "   4:'deer',\n",
    "   5:'dog',\n",
    "   6:'frog',\n",
    "   7:'horse',\n",
    "   8:'ship',\n",
    "   9:'truck'\n",
    "}\n",
    "columns =['file_name', 'label', 'class']\n",
    "answer = []\n",
    "for i in file_list:\n",
    "    im=Image.open(i)\n",
    "    # the input image is required to be in the shape of dataset, i.e (32,32,3)\n",
    "    i= i.split('\\\\')[-1]\n",
    "    im=im.resize((100,100))\n",
    "    im=np.expand_dims(im,axis=0)\n",
    "    im=np.array(im)\n",
    "    pred=model.predict_classes([im])[0]\n",
    "    answer.append([i, pred, results[pred]])\n",
    "    answer_df = pd.DataFrame(answer, columns = columns )\n",
    "answer_df.head()"
   ]
  },
  {
   "cell_type": "code",
   "execution_count": 31,
   "metadata": {},
   "outputs": [
    {
     "data": {
      "text/plain": [
       "up    19\n",
       "Name: class, dtype: int64"
      ]
     },
     "execution_count": 31,
     "metadata": {},
     "output_type": "execute_result"
    }
   ],
   "source": [
    "answer_df['class'].value_counts()"
   ]
  },
  {
   "cell_type": "markdown",
   "metadata": {},
   "source": [
    "### save"
   ]
  },
  {
   "cell_type": "code",
   "execution_count": 32,
   "metadata": {},
   "outputs": [],
   "source": [
    "# model.save('[0725]dif_test_Data.h5')\n",
    "\n",
    "# # Save model with json format \n",
    "# model_json = model.to_json() \n",
    "# with open(\"[0725]dif_test_Dataa.json\", \"w\") as json_file:\n",
    "#     json_file.write(model_json)\n",
    "    \n",
    "# # Save weight with h5 format\n",
    "# model.save_weights(\"[0725]dif_test_Data_weight.h5\")\n",
    "# print(\"Saved model to disk\")"
   ]
  },
  {
   "cell_type": "code",
   "execution_count": null,
   "metadata": {},
   "outputs": [],
   "source": []
  },
  {
   "cell_type": "code",
   "execution_count": null,
   "metadata": {},
   "outputs": [],
   "source": []
  }
 ],
 "metadata": {
  "accelerator": "GPU",
  "colab": {
   "collapsed_sections": [],
   "include_colab_link": true,
   "machine_shape": "hm",
   "name": "[0712]up, fragile classification",
   "provenance": []
  },
  "kernelspec": {
   "display_name": "Python 3 (ipykernel)",
   "language": "python",
   "name": "python3"
  },
  "language_info": {
   "codemirror_mode": {
    "name": "ipython",
    "version": 3
   },
   "file_extension": ".py",
   "mimetype": "text/x-python",
   "name": "python",
   "nbconvert_exporter": "python",
   "pygments_lexer": "ipython3",
   "version": "3.8.0"
  },
  "toc": {
   "base_numbering": 1,
   "nav_menu": {},
   "number_sections": true,
   "sideBar": true,
   "skip_h1_title": false,
   "title_cell": "Table of Contents",
   "title_sidebar": "Contents",
   "toc_cell": false,
   "toc_position": {},
   "toc_section_display": true,
   "toc_window_display": false
  },
  "varInspector": {
   "cols": {
    "lenName": 16,
    "lenType": 16,
    "lenVar": 40
   },
   "kernels_config": {
    "python": {
     "delete_cmd_postfix": "",
     "delete_cmd_prefix": "del ",
     "library": "var_list.py",
     "varRefreshCmd": "print(var_dic_list())"
    },
    "r": {
     "delete_cmd_postfix": ") ",
     "delete_cmd_prefix": "rm(",
     "library": "var_list.r",
     "varRefreshCmd": "cat(var_dic_list()) "
    }
   },
   "types_to_exclude": [
    "module",
    "function",
    "builtin_function_or_method",
    "instance",
    "_Feature"
   ],
   "window_display": false
  }
 },
 "nbformat": 4,
 "nbformat_minor": 1
}
