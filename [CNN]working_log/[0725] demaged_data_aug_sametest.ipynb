{
 "cells": [
  {
   "cell_type": "code",
   "execution_count": 1,
   "metadata": {},
   "outputs": [
    {
     "name": "stdout",
     "output_type": "stream",
     "text": [
      "C:\\Users\\yukir\\Documents\\Monicas_workspace\\py_storage\n"
     ]
    }
   ],
   "source": [
    "%cd C:\\Users\\yukir\\Documents\\Monicas_workspace\\py_storage"
   ]
  },
  {
   "cell_type": "code",
   "execution_count": 2,
   "metadata": {},
   "outputs": [],
   "source": [
    "from basic_preprocessing import *"
   ]
  },
  {
   "cell_type": "code",
   "execution_count": 3,
   "metadata": {},
   "outputs": [],
   "source": [
    "from deeplearning_check import *"
   ]
  },
  {
   "cell_type": "code",
   "execution_count": 4,
   "metadata": {},
   "outputs": [
    {
     "data": {
      "text/plain": [
       "'C:\\\\Users\\\\yukir\\\\Documents\\\\Monicas_workspace\\\\py_storage'"
      ]
     },
     "execution_count": 4,
     "metadata": {},
     "output_type": "execute_result"
    }
   ],
   "source": [
    "/pwd"
   ]
  },
  {
   "cell_type": "code",
   "execution_count": 5,
   "metadata": {},
   "outputs": [
    {
     "name": "stdout",
     "output_type": "stream",
     "text": [
      "C:\\Users\\yukir\\Documents\\Monicas_workspace\\Sign detection\\classification\n"
     ]
    }
   ],
   "source": [
    "%cd C:\\Users\\yukir\\Documents\\Monicas_workspace\\Sign detection\\classification"
   ]
  },
  {
   "cell_type": "code",
   "execution_count": 6,
   "metadata": {
    "colab": {
     "base_uri": "https://localhost:8080/"
    },
    "id": "Dni62IFckfY_",
    "outputId": "27a387d6-1e56-4a9b-fbb4-64ff81d3637a"
   },
   "outputs": [],
   "source": [
    "IMG_SIZE = 100\n",
    "NUM_EPOCHS = 10\n",
    "NUM_CLASSES = 2\n",
    "TRAIN_BATCH_SIZE = 77\n",
    "TEST_BATCH_SIZE = 1 \n",
    "opt =  tf.optimizers.Adam()"
   ]
  },
  {
   "cell_type": "code",
   "execution_count": 7,
   "metadata": {
    "id": "eJflUpf-qdjd"
   },
   "outputs": [],
   "source": [
    "def create_model():\n",
    "  #resnet_weights_path = '/content/drive/MyDrive/Caba2012_colab/Fire_dt/models/resnet.h5'\n",
    "  #resnet_weights_path = '../input/resnet50/resnet50_weights_tf_dim_ordering_tf_kernels_notop.h5'\n",
    "\n",
    "  #weigths = weights=resnet_weights_path ->none\n",
    "  resnet = ResNet50(include_top=False, pooling='avg', weights = None)\n",
    "  #resnet.summary()\n",
    "  my_new_model = Sequential()\n",
    "  my_new_model.add(resnet)\n",
    "  my_new_model.layers[0].trainable = True\n",
    "  my_new_model.add(Dense(NUM_CLASSES, activation='softmax')) #dense 3, NUM_CLASSES = 3\n",
    "\n",
    "  # Say no to train first layer (ResNet) model. It is already trained\n",
    "    \n",
    "  opt =  tf.optimizers.Adam()\n",
    "   #opt바꾼거 확인해\n",
    "  my_new_model.compile(optimizer=opt, loss='categorical_crossentropy', metrics=['accuracy'])\n",
    "\n",
    "  return my_new_model"
   ]
  },
  {
   "cell_type": "code",
   "execution_count": 8,
   "metadata": {},
   "outputs": [
    {
     "data": {
      "text/plain": [
       "'C:\\\\Users\\\\yukir\\\\Documents\\\\Monicas_workspace\\\\Sign detection\\\\classification'"
      ]
     },
     "execution_count": 8,
     "metadata": {},
     "output_type": "execute_result"
    }
   ],
   "source": [
    "/pwd"
   ]
  },
  {
   "cell_type": "code",
   "execution_count": 9,
   "metadata": {},
   "outputs": [],
   "source": [
    "def train_model( model ):\n",
    "    data_generator = ImageDataGenerator(rescale=1./255)\n",
    "    \n",
    "    data_generator_with_aug = ImageDataGenerator(preprocessing_function=preprocess_input,\n",
    "                                width_shift_range=0.1,\n",
    "                                height_shift_range=0.1,\n",
    "                                #sear_range=0.01,\n",
    "                                zoom_range=[0.9, 1.25],\n",
    "                                horizontal_flip=True,\n",
    "                                vertical_flip=False,\n",
    "                                data_format='channels_last',\n",
    "                                brightness_range=[0.5, 1.5]\n",
    "                               )\n",
    "\n",
    "    train_generator = data_generator_with_aug.flow_from_directory(\n",
    "        'C:\\\\Users\\\\yukir\\\\Documents\\\\Monicas_workspace\\\\Datasets\\\\0723\\\\[0725] sub_dataset\\\\train', \n",
    "        target_size=(IMG_SIZE, IMG_SIZE),\n",
    "        batch_size=TEST_BATCH_SIZE,\n",
    "        shuffle = False,\n",
    "        class_mode='categorical')\n",
    "\n",
    "    validation_generator = data_generator_with_aug.flow_from_directory(\n",
    "        'C:\\\\Users\\\\yukir\\\\Documents\\\\Monicas_workspace\\\\Datasets\\\\0723\\\\[0725] sub_dataset\\\\val', \n",
    "        target_size=(IMG_SIZE, IMG_SIZE),\n",
    "        batch_size=TEST_BATCH_SIZE,\n",
    "        shuffle = False,\n",
    "        class_mode='categorical')\n",
    "\n",
    "\n",
    "\n",
    "    test_generator = data_generator.flow_from_directory(\n",
    "        'C:\\\\Users\\\\yukir\\\\Documents\\\\Monicas_workspace\\\\Datasets\\\\0723\\\\[0725] sub_dataset\\\\test', \n",
    "        target_size=(IMG_SIZE, IMG_SIZE),\n",
    "        batch_size=TEST_BATCH_SIZE,\n",
    "        shuffle = False,\n",
    "        class_mode='categorical')\n",
    "\n",
    "    H = model.fit(\n",
    "                train_generator,\n",
    "                steps_per_epoch=train_generator.n/TRAIN_BATCH_SIZE,\n",
    "                epochs=NUM_EPOCHS,\n",
    "                validation_data=validation_generator,\n",
    "                validation_steps = 1 \n",
    "                #,\n",
    "                #class_weight=dict_weights\n",
    "                    )\n",
    "    \n",
    "    plot_history( H, NUM_EPOCHS )\n",
    "    \n",
    "    return H, model, train_generator, validation_generator ,test_generator\n",
    "    "
   ]
  },
  {
   "cell_type": "code",
   "execution_count": 10,
   "metadata": {
    "id": "V6anMevUpB7k"
   },
   "outputs": [],
   "source": [
    "def get_label_dict(train_generator ):\n",
    "# Get label to class_id mapping\n",
    "    labels = (train_generator.class_indices)\n",
    "    label_dict = dict((v,k) for k,v in labels.items())\n",
    "    return  label_dict   "
   ]
  },
  {
   "cell_type": "code",
   "execution_count": 11,
   "metadata": {
    "id": "8plvW7aYpGXn"
   },
   "outputs": [],
   "source": [
    "def get_labels( test_generator ):\n",
    "    test_generator.reset()\n",
    "    labels = []\n",
    "    for i in range(len(generator)):\n",
    "        labels.extend(np.array(generator[i][1]) )\n",
    "    return np.argmax(labels, axis =1)"
   ]
  },
  {
   "cell_type": "code",
   "execution_count": 12,
   "metadata": {
    "id": "_Yn0xl2qpHyI"
   },
   "outputs": [],
   "source": [
    "def get_pred_labels( test_generator):\n",
    "    test_generator.reset()\n",
    "    pred_vec=model.predict_generator(test_generator,\n",
    "                                     steps=test_generator.n, #test_generator.batch_size\n",
    "                                     verbose=1)\n",
    "    return np.argmax( pred_vec, axis = 1), np.max(pred_vec, axis = 1)"
   ]
  },
  {
   "cell_type": "code",
   "execution_count": 13,
   "metadata": {
    "id": "CEyRoMZepNE5"
   },
   "outputs": [],
   "source": [
    "def plot_history( H, NUM_EPOCHS ):\n",
    "    plt.style.use(\"ggplot\")\n",
    "    fig = plt.figure()\n",
    "    fig.set_size_inches(15, 5)\n",
    "    \n",
    "    fig.add_subplot(1, 3, 1)\n",
    "    plt.plot(np.arange(0, NUM_EPOCHS), H.history[\"loss\"], label=\"train_loss\")\n",
    "    plt.plot(np.arange(0, NUM_EPOCHS), H.history[\"val_loss\"], label=\"val_loss\")\n",
    "    plt.title(\"Training Loss and Validation Loss on Dataset\")\n",
    "    plt.xlabel(\"Epoch #\")\n",
    "    plt.ylabel(\"Loss\")\n",
    "    plt.legend(loc=\"lower left\")\n",
    "\n",
    "    \n",
    "    fig.add_subplot(1, 3, 2)\n",
    "    plt.plot(np.arange(0, NUM_EPOCHS), H.history[\"loss\"], label=\"train_loss\")\n",
    "    plt.plot(np.arange(0, NUM_EPOCHS), H.history[\"accuracy\"], label=\"train_accuracy\")\n",
    "    plt.title(\"Training Loss and Accuracy on Dataset\")\n",
    "    plt.xlabel(\"Epoch #\")\n",
    "    plt.ylabel(\"Loss/Accuracy\")\n",
    "    plt.legend(loc=\"lower left\")\n",
    "    \n",
    "    fig.add_subplot(1, 3, 3)\n",
    "    plt.plot(np.arange(0, NUM_EPOCHS), H.history[\"val_loss\"], label=\"val_loss\")\n",
    "    plt.plot(np.arange(0, NUM_EPOCHS), H.history[\"val_accuracy\"], label=\"val_accuracy\")\n",
    "    plt.title(\"Validation Loss and Accuracy on Dataset\")\n",
    "    plt.xlabel(\"Epoch #\")\n",
    "    plt.ylabel(\"Loss/Accuracy\")\n",
    "    plt.legend(loc=\"lower left\")\n",
    "\n",
    "\n",
    "    plt.show()"
   ]
  },
  {
   "cell_type": "code",
   "execution_count": 14,
   "metadata": {
    "id": "1fwwknDmpVz1"
   },
   "outputs": [],
   "source": [
    "def draw_prediction( frame, class_string ):\n",
    "    x_start = frame.shape[1]- 600 # 위치\n",
    "    cv2.putText(frame, class_string, (10,50), cv2.FONT_HERSHEY_SIMPLEX, 1, (255, 0, 0), 2, cv2.LINE_AA)\n",
    "    return frame"
   ]
  },
  {
   "cell_type": "code",
   "execution_count": 15,
   "metadata": {
    "id": "qEw6aM4QpXPY"
   },
   "outputs": [],
   "source": [
    "def prepare_image_for_prediction( img):\n",
    "   \n",
    "    # convert 3D tensor to 4D tensor with shape (1, 224, 224, 3) and return 4D tensor\n",
    "    # The below function inserts an additional dimension at the axis position provided\n",
    "    img = np.expand_dims(img, axis=0)\n",
    "    # perform pre-processing that was done when resnet model was trained.\n",
    "    return preprocess_input(img)"
   ]
  },
  {
   "cell_type": "markdown",
   "metadata": {},
   "source": [
    "#### Training"
   ]
  },
  {
   "cell_type": "code",
   "execution_count": 16,
   "metadata": {
    "colab": {
     "base_uri": "https://localhost:8080/"
    },
    "id": "mV82B4WEq0sa",
    "outputId": "318b94f6-2c3f-4d2b-c214-0d12bcaac508"
   },
   "outputs": [
    {
     "name": "stdout",
     "output_type": "stream",
     "text": [
      "Model: \"sequential\"\n",
      "_________________________________________________________________\n",
      "Layer (type)                 Output Shape              Param #   \n",
      "=================================================================\n",
      "resnet50 (Model)             (None, 2048)              23587712  \n",
      "_________________________________________________________________\n",
      "dense (Dense)                (None, 2)                 4098      \n",
      "=================================================================\n",
      "Total params: 23,591,810\n",
      "Trainable params: 23,538,690\n",
      "Non-trainable params: 53,120\n",
      "_________________________________________________________________\n"
     ]
    }
   ],
   "source": [
    "model = create_model()\n",
    "model.summary()"
   ]
  },
  {
   "cell_type": "code",
   "execution_count": 17,
   "metadata": {
    "colab": {
     "base_uri": "https://localhost:8080/",
     "height": 1000
    },
    "id": "x6w80-rCp3oS",
    "outputId": "6678c20c-3f68-4bcb-e81d-756f2984e58b"
   },
   "outputs": [
    {
     "name": "stdout",
     "output_type": "stream",
     "text": [
      "Found 5936 images belonging to 2 classes.\n",
      "Found 740 images belonging to 2 classes.\n",
      "Found 748 images belonging to 2 classes.\n",
      "Epoch 1/10\n",
      "78/77 [==============================] - 3s 42ms/step - loss: 2.2203 - accuracy: 0.5513 - val_loss: 0.1348 - val_accuracy: 1.0000\n",
      "Epoch 2/10\n",
      "78/77 [==============================] - 2s 31ms/step - loss: 2.3069 - accuracy: 0.5128 - val_loss: 0.1010 - val_accuracy: 1.0000\n",
      "Epoch 3/10\n",
      "78/77 [==============================] - 2s 31ms/step - loss: 1.8059 - accuracy: 0.4487 - val_loss: 0.6482 - val_accuracy: 1.0000\n",
      "Epoch 4/10\n",
      "78/77 [==============================] - 2s 31ms/step - loss: 1.4682 - accuracy: 0.4615 - val_loss: 0.0000e+00 - val_accuracy: 1.0000\n",
      "Epoch 5/10\n",
      "78/77 [==============================] - 2s 31ms/step - loss: 1.3070 - accuracy: 0.5000 - val_loss: 34.1161 - val_accuracy: 0.0000e+00\n",
      "Epoch 6/10\n",
      "78/77 [==============================] - 2s 31ms/step - loss: 1.0482 - accuracy: 0.5385 - val_loss: 137.4408 - val_accuracy: 0.0000e+00\n",
      "Epoch 7/10\n",
      "78/77 [==============================] - 2s 30ms/step - loss: 1.1986 - accuracy: 0.4744 - val_loss: 1.7853 - val_accuracy: 0.0000e+00\n",
      "Epoch 8/10\n",
      "78/77 [==============================] - 2s 32ms/step - loss: 0.9835 - accuracy: 0.5256 - val_loss: 0.0163 - val_accuracy: 1.0000\n",
      "Epoch 9/10\n",
      "78/77 [==============================] - 2s 31ms/step - loss: 1.4834 - accuracy: 0.4744 - val_loss: 40.8352 - val_accuracy: 0.0000e+00\n",
      "Epoch 10/10\n",
      "78/77 [==============================] - 2s 31ms/step - loss: 0.9277 - accuracy: 0.5513 - val_loss: 0.7178 - val_accuracy: 0.0000e+00\n"
     ]
    },
    {
     "data": {
      "image/png": "[encoded data removed]",
      "text/plain": [
       "<Figure size 1080x360 with 3 Axes>"
      ]
     },
     "metadata": {},
     "output_type": "display_data"
    }
   ],
   "source": [
    "H, trained_model,train_generator,validation_generator, test_generator = train_model(model)\n",
    "label_dict= get_label_dict(train_generator)\n",
    "#model.compile(optimizer=opt, loss='categorical_crossentropy', metrics=['accuracy'])\n",
    "#model.save('/content/drive/MyDrive/Caba2012_colab/Fire_dt/models/resnet.h5')"
   ]
  },
  {
   "cell_type": "code",
   "execution_count": 18,
   "metadata": {
    "colab": {
     "base_uri": "https://localhost:8080/"
    },
    "id": "x5DMOwKzMlHe",
    "outputId": "d8f899ee-be37-4be5-dcbd-a81ebc442455"
   },
   "outputs": [
    {
     "data": {
      "image/png": "[encoded data removed]",
      "text/plain": [
       "<Figure size 1080x360 with 2 Axes>"
      ]
     },
     "metadata": {},
     "output_type": "display_data"
    }
   ],
   "source": [
    "acc = H.history['accuracy']\n",
    "val_acc = H.history['val_accuracy']\n",
    "\n",
    "loss = H.history['loss']\n",
    "val_loss = H.history['val_loss']\n",
    "\n",
    "epochs = range(1, len(acc) +1)\n",
    "    \n",
    "    \n",
    "\n",
    "fig = plt.figure()\n",
    "fig.set_size_inches(15, 5)\n",
    "\n",
    "fig.add_subplot(1, 2, 1)\n",
    "plt.plot(epochs, acc, 'b', label ='Training acc')\n",
    "plt.plot(epochs, val_acc, 'r', label = 'Validation acc')\n",
    "plt.title('Training and validation accuracy')\n",
    "plt.legend()\n",
    "\n",
    "# plt.figure()\n",
    "fig.add_subplot(1, 2, 2) \n",
    "plt.plot(epochs, loss, 'b', label = \"Training loss\")\n",
    "plt.plot(epochs, val_loss, 'r', label ='Validation loss')\n",
    "plt.title('Training and validation lose')\n",
    "plt.legend()\n",
    "\n",
    "plt.show()"
   ]
  },
  {
   "cell_type": "code",
   "execution_count": 19,
   "metadata": {},
   "outputs": [],
   "source": [
    "model.compile(optimizer = optimizers.RMSprop(lr=2e-5),\n",
    "             loss='categorical_crossentropy',\n",
    "             metrics=['accuracy',\\\n",
    "                      tf.keras.metrics.Precision(name='precision')\\\n",
    "                          ,tf.keras.metrics.Recall(name='recall')\\\n",
    "                          ,tf.keras.metrics.FalsePositives(name='false_positives')\\\n",
    "                          ,tf.keras.metrics.FalseNegatives(name='false_negatives'),\\\n",
    "                      tf.keras.metrics.TruePositives(name ='true_positives'),\\\n",
    "                     tf.keras.metrics.TrueNegatives(name ='true_negatives')])\n",
    "# #                      tf.keras.metrics.SensitivityAtSpecificity(specificity, num_thresholds=200, name='SensitivityAtSpecificity', dtype=None),\\\n",
    "#                      tf.keras.metrics.SpecificityAtSensitivity(name='SpecificityAtSensitivity')])"
   ]
  },
  {
   "cell_type": "code",
   "execution_count": 20,
   "metadata": {},
   "outputs": [
    {
     "data": {
      "text/plain": [
       "{'loss': [2.2202961444854736,\n",
       "  2.306922197341919,\n",
       "  1.8058819770812988,\n",
       "  1.4682437181472778,\n",
       "  1.3069733381271362,\n",
       "  1.0482357740402222,\n",
       "  1.1986405849456787,\n",
       "  0.9834659099578857,\n",
       "  1.4833933115005493,\n",
       "  0.927659273147583],\n",
       " 'accuracy': [0.5512820482254028,\n",
       "  0.5128205418586731,\n",
       "  0.44871795177459717,\n",
       "  0.4615384638309479,\n",
       "  0.5,\n",
       "  0.5384615659713745,\n",
       "  0.4743589758872986,\n",
       "  0.5256410241127014,\n",
       "  0.4743589758872986,\n",
       "  0.5512820482254028],\n",
       " 'val_loss': [0.13483496010303497,\n",
       "  0.10100904107093811,\n",
       "  0.6482430696487427,\n",
       "  0.0,\n",
       "  34.116058349609375,\n",
       "  137.4407501220703,\n",
       "  1.7852944135665894,\n",
       "  0.016288766637444496,\n",
       "  40.835205078125,\n",
       "  0.7177673578262329],\n",
       " 'val_accuracy': [1.0, 1.0, 1.0, 1.0, 0.0, 0.0, 0.0, 1.0, 0.0, 0.0]}"
      ]
     },
     "execution_count": 20,
     "metadata": {},
     "output_type": "execute_result"
    }
   ],
   "source": [
    "# 반환되는 \"이력\" 객체는 훈련 중 손실 값과 메트릭 값에 대한 레코드를 유지합니다.\n",
    "H.history"
   ]
  },
  {
   "cell_type": "code",
   "execution_count": 21,
   "metadata": {},
   "outputs": [
    {
     "name": "stdout",
     "output_type": "stream",
     "text": [
      "748/748 [==============================] - 8s 11ms/step - loss: 0.6933 - accuracy: 0.5000 - precision: 0.5000 - recall: 0.5000 - false_positives: 374.0000 - false_negatives: 374.0000 - true_positives: 374.0000 - true_negatives: 374.0000\n"
     ]
    },
    {
     "data": {
      "text/plain": [
       "list"
      ]
     },
     "execution_count": 21,
     "metadata": {},
     "output_type": "execute_result"
    }
   ],
   "source": [
    "result = model.evaluate(test_generator)\n",
    "type(result)"
   ]
  },
  {
   "cell_type": "code",
   "execution_count": 22,
   "metadata": {},
   "outputs": [],
   "source": [
    "def evaluating_each(result):\n",
    "    from keras import backend as K\n",
    "    \n",
    "    loss = result[0]\n",
    "    accuracy = result[1]\n",
    "    precision = result[2]\n",
    "    recall = result[3]\n",
    "    f_p = int(result[4])\n",
    "    f_n = int(result[5])\n",
    "    t_p = int(result[6])\n",
    "    t_n = int(result[7])\n",
    "    \n",
    "    f1_score = (2 * recall * precision) / (recall + precision + K.epsilon())\n",
    "    sensitivity = t_p / (t_p + f_n)\n",
    "    specificity = t_n/ (t_n + f_p)\n",
    "    \n",
    "    print(\"\"\"loss:{:.3f}, \\naccuracy:{:.3f}, \\nprecision:{:.3f}, \\nrecall:{:.3f}, \\nFalse_positive:{}, \\nFalse_negative, :{}, \\nTrue_positive:{}, \\nTrue_negative:{}, \\nSensitivity:{:.3f}, \\nSpecificity:{:.3f}, \\nF1_score:{:.3f}\"\"\".format(loss, accuracy, precision, recall, f_p, f_n, t_p, t_n, sensitivity, specificity, f1_score))\n",
    "    return loss, accuracy, precision, recall, f_p, f_n, t_p, t_n, sensitivity, specificity, f1_score"
   ]
  },
  {
   "cell_type": "code",
   "execution_count": 23,
   "metadata": {},
   "outputs": [
    {
     "name": "stdout",
     "output_type": "stream",
     "text": [
      "loss:0.693, \n",
      "accuracy:0.500, \n",
      "precision:0.500, \n",
      "recall:0.500, \n",
      "False_positive:374, \n",
      "False_negative, :374, \n",
      "True_positive:374, \n",
      "True_negative:374, \n",
      "Sensitivity:0.500, \n",
      "Specificity:0.500, \n",
      "F1_score:0.500\n"
     ]
    },
    {
     "data": {
      "text/plain": [
       "(0.6933416724205017,\n",
       " 0.5,\n",
       " 0.5,\n",
       " 0.5,\n",
       " 374,\n",
       " 374,\n",
       " 374,\n",
       " 374,\n",
       " 0.5,\n",
       " 0.5,\n",
       " 0.49999995000000497)"
      ]
     },
     "execution_count": 23,
     "metadata": {},
     "output_type": "execute_result"
    }
   ],
   "source": [
    "evaluating_each(result)"
   ]
  },
  {
   "cell_type": "code",
   "execution_count": 24,
   "metadata": {},
   "outputs": [
    {
     "data": {
      "text/plain": [
       "{0: 'fragile', 1: 'up'}"
      ]
     },
     "execution_count": 24,
     "metadata": {},
     "output_type": "execute_result"
    }
   ],
   "source": [
    "get_label_dict(train_generator)"
   ]
  },
  {
   "cell_type": "code",
   "execution_count": 25,
   "metadata": {},
   "outputs": [],
   "source": [
    "def get_labels( generator ):\n",
    "    generator.reset()\n",
    "    labels = []\n",
    "    for i in range(len(generator)):\n",
    "        labels.extend(np.array(generator[i][1]) )\n",
    "    return np.argmax(labels, axis =1)"
   ]
  },
  {
   "cell_type": "code",
   "execution_count": 26,
   "metadata": {},
   "outputs": [
    {
     "data": {
      "text/plain": [
       "array([0, 0, 0, ..., 1, 1, 1], dtype=int64)"
      ]
     },
     "execution_count": 26,
     "metadata": {},
     "output_type": "execute_result"
    }
   ],
   "source": [
    "get_labels(train_generator)"
   ]
  },
  {
   "cell_type": "code",
   "execution_count": 27,
   "metadata": {},
   "outputs": [
    {
     "name": "stdout",
     "output_type": "stream",
     "text": [
      "WARNING:tensorflow:From C:\\Users\\yukir\\AppData\\Local\\Temp/ipykernel_6260/1763928774.py:3: Model.predict_generator (from tensorflow.python.keras.engine.training) is deprecated and will be removed in a future version.\n",
      "Instructions for updating:\n",
      "Please use Model.predict, which supports generators.\n",
      "748/748 [==============================] - 5s 6ms/step\n"
     ]
    },
    {
     "data": {
      "text/plain": [
       "(array([1, 1, 1, 1, 1, 1, 1, 1, 1, 1, 1, 1, 1, 1, 1, 1, 1, 1, 1, 1, 1, 1,\n",
       "        1, 1, 1, 1, 1, 1, 1, 1, 1, 1, 1, 1, 1, 1, 1, 1, 1, 1, 1, 1, 1, 1,\n",
       "        1, 1, 1, 1, 1, 1, 1, 1, 1, 1, 1, 1, 1, 1, 1, 1, 1, 1, 1, 1, 1, 1,\n",
       "        1, 1, 1, 1, 1, 1, 1, 1, 1, 1, 1, 1, 1, 1, 1, 1, 1, 1, 1, 1, 1, 1,\n",
       "        1, 1, 1, 1, 1, 1, 1, 1, 1, 1, 1, 1, 1, 1, 1, 1, 1, 1, 1, 1, 1, 1,\n",
       "        1, 1, 1, 1, 1, 1, 1, 1, 1, 1, 1, 1, 1, 1, 1, 1, 1, 1, 1, 1, 1, 1,\n",
       "        1, 1, 1, 1, 1, 1, 1, 1, 1, 1, 1, 1, 1, 1, 1, 1, 1, 1, 1, 1, 1, 1,\n",
       "        1, 1, 1, 1, 1, 1, 1, 1, 1, 1, 1, 1, 1, 1, 1, 1, 1, 1, 1, 1, 1, 1,\n",
       "        1, 1, 1, 1, 1, 1, 1, 1, 1, 1, 1, 1, 1, 1, 1, 1, 1, 1, 1, 1, 1, 1,\n",
       "        1, 1, 1, 1, 1, 1, 1, 1, 1, 1, 1, 1, 1, 1, 1, 1, 1, 1, 1, 1, 1, 1,\n",
       "        1, 1, 1, 1, 1, 1, 1, 1, 1, 1, 1, 1, 1, 1, 1, 1, 1, 1, 1, 1, 1, 1,\n",
       "        1, 1, 1, 1, 1, 1, 1, 1, 1, 1, 1, 1, 1, 1, 1, 1, 1, 1, 1, 1, 1, 1,\n",
       "        1, 1, 1, 1, 1, 1, 1, 1, 1, 1, 1, 1, 1, 1, 1, 1, 1, 1, 1, 1, 1, 1,\n",
       "        1, 1, 1, 1, 1, 1, 1, 1, 1, 1, 1, 1, 1, 1, 1, 1, 1, 1, 1, 1, 1, 1,\n",
       "        1, 1, 1, 1, 1, 1, 1, 1, 1, 1, 1, 1, 1, 1, 1, 1, 1, 1, 1, 1, 1, 1,\n",
       "        1, 1, 1, 1, 1, 1, 1, 1, 1, 1, 1, 1, 1, 1, 1, 1, 1, 1, 1, 1, 1, 1,\n",
       "        1, 1, 1, 1, 1, 1, 1, 1, 1, 1, 1, 1, 1, 1, 1, 1, 1, 1, 1, 1, 1, 1,\n",
       "        1, 1, 1, 1, 1, 1, 1, 1, 1, 1, 1, 1, 1, 1, 1, 1, 1, 1, 1, 1, 1, 1,\n",
       "        1, 1, 1, 1, 1, 1, 1, 1, 1, 1, 1, 1, 1, 1, 1, 1, 1, 1, 1, 1, 1, 1,\n",
       "        1, 1, 1, 1, 1, 1, 1, 1, 1, 1, 1, 1, 1, 1, 1, 1, 1, 1, 1, 1, 1, 1,\n",
       "        1, 1, 1, 1, 1, 1, 1, 1, 1, 1, 1, 1, 1, 1, 1, 1, 1, 1, 1, 1, 1, 1,\n",
       "        1, 1, 1, 1, 1, 1, 1, 1, 1, 1, 1, 1, 1, 1, 1, 1, 1, 1, 1, 1, 1, 1,\n",
       "        1, 1, 1, 1, 1, 1, 1, 1, 1, 1, 1, 1, 1, 1, 1, 1, 1, 1, 1, 1, 1, 1,\n",
       "        1, 1, 1, 1, 1, 1, 1, 1, 1, 1, 1, 1, 1, 1, 1, 1, 1, 1, 1, 1, 1, 1,\n",
       "        1, 1, 1, 1, 1, 1, 1, 1, 1, 1, 1, 1, 1, 1, 1, 1, 1, 1, 1, 1, 1, 1,\n",
       "        1, 1, 1, 1, 1, 1, 1, 1, 1, 1, 1, 1, 1, 1, 1, 1, 1, 1, 1, 1, 1, 1,\n",
       "        1, 1, 1, 1, 1, 1, 1, 1, 1, 1, 1, 1, 1, 1, 1, 1, 1, 1, 1, 1, 1, 1,\n",
       "        1, 1, 1, 1, 1, 1, 1, 1, 1, 1, 1, 1, 1, 1, 1, 1, 1, 1, 1, 1, 1, 1,\n",
       "        1, 1, 1, 1, 1, 1, 1, 1, 1, 1, 1, 1, 1, 1, 1, 1, 1, 1, 1, 1, 1, 1,\n",
       "        1, 1, 1, 1, 1, 1, 1, 1, 1, 1, 1, 1, 1, 1, 1, 1, 1, 1, 1, 1, 1, 1,\n",
       "        1, 1, 1, 1, 1, 1, 1, 1, 1, 1, 1, 1, 1, 1, 1, 1, 1, 1, 1, 1, 1, 1,\n",
       "        1, 1, 1, 1, 1, 1, 1, 1, 1, 1, 1, 1, 1, 1, 1, 1, 1, 1, 1, 1, 1, 1,\n",
       "        1, 1, 1, 1, 1, 1, 1, 1, 1, 1, 1, 1, 1, 1, 1, 1, 1, 1, 1, 1, 1, 1,\n",
       "        1, 1, 1, 1, 1, 1, 1, 1, 1, 1, 1, 1, 1, 1, 1, 1, 1, 1, 1, 1, 1, 1],\n",
       "       dtype=int64),\n",
       " array([0.509408  , 0.50939626, 0.50940925, 0.50933176, 0.5093948 ,\n",
       "        0.5093928 , 0.5094123 , 0.5094314 , 0.50942117, 0.5094198 ,\n",
       "        0.5094097 , 0.5094294 , 0.5094218 , 0.50941783, 0.50937754,\n",
       "        0.5094247 , 0.50939983, 0.5094232 , 0.50942975, 0.5094473 ,\n",
       "        0.50942624, 0.5094122 , 0.50942177, 0.50944376, 0.5094328 ,\n",
       "        0.5094434 , 0.50940555, 0.50944674, 0.5094467 , 0.5094378 ,\n",
       "        0.50940907, 0.5094352 , 0.5094382 , 0.5094193 , 0.5094221 ,\n",
       "        0.50943947, 0.5094392 , 0.5094052 , 0.5094504 , 0.5094545 ,\n",
       "        0.5094389 , 0.5094487 , 0.50943965, 0.50944906, 0.5094194 ,\n",
       "        0.5094502 , 0.5094328 , 0.50940573, 0.5094659 , 0.50943947,\n",
       "        0.50937   , 0.50937736, 0.5093741 , 0.50928676, 0.5093801 ,\n",
       "        0.50940937, 0.50941116, 0.50929683, 0.5093742 , 0.5093546 ,\n",
       "        0.50943273, 0.50937724, 0.5094138 , 0.50930595, 0.50930196,\n",
       "        0.5094273 , 0.5094176 , 0.5093807 , 0.50939655, 0.5094135 ,\n",
       "        0.5093566 , 0.50941956, 0.5094038 , 0.5093509 , 0.50940496,\n",
       "        0.5093942 , 0.50942737, 0.5093997 , 0.5094214 , 0.50940704,\n",
       "        0.5094017 , 0.50939035, 0.5094099 , 0.5093974 , 0.5094251 ,\n",
       "        0.5094375 , 0.5094258 , 0.50942093, 0.50944334, 0.5092694 ,\n",
       "        0.50929815, 0.509411  , 0.50944877, 0.50943154, 0.5092963 ,\n",
       "        0.5092704 , 0.50932795, 0.5094207 , 0.50942516, 0.50929064,\n",
       "        0.50928104, 0.5092452 , 0.5094194 , 0.50940204, 0.5092153 ,\n",
       "        0.50938994, 0.5092606 , 0.5092711 , 0.5093668 , 0.5092074 ,\n",
       "        0.5092342 , 0.5092738 , 0.50934404, 0.50943446, 0.50922805,\n",
       "        0.509298  , 0.5093928 , 0.5093984 , 0.50939   , 0.50944805,\n",
       "        0.50939393, 0.5094406 , 0.5092434 , 0.5093196 , 0.5094268 ,\n",
       "        0.50923884, 0.50943077, 0.50929   , 0.50940996, 0.50922924,\n",
       "        0.509378  , 0.50939167, 0.50938517, 0.509393  , 0.50924146,\n",
       "        0.50934315, 0.5094158 , 0.5092796 , 0.5093979 , 0.5093453 ,\n",
       "        0.5093237 , 0.5092681 , 0.509437  , 0.50921774, 0.50926226,\n",
       "        0.5094194 , 0.50922036, 0.5093336 , 0.5093947 , 0.50923866,\n",
       "        0.50922745, 0.5094004 , 0.5093585 , 0.50930756, 0.50940704,\n",
       "        0.50928605, 0.50940686, 0.5094365 , 0.5092764 , 0.50923216,\n",
       "        0.50940216, 0.50929326, 0.50926673, 0.5092586 , 0.5092779 ,\n",
       "        0.5092452 , 0.5094392 , 0.5092431 , 0.50920475, 0.5093966 ,\n",
       "        0.50942934, 0.50922936, 0.5094651 , 0.5094032 , 0.509267  ,\n",
       "        0.50929344, 0.50944555, 0.5092443 , 0.5092748 , 0.5094307 ,\n",
       "        0.5094233 , 0.5093814 , 0.5092095 , 0.5093996 , 0.5092538 ,\n",
       "        0.50928354, 0.5093726 , 0.50937104, 0.5092811 , 0.5092501 ,\n",
       "        0.5092257 , 0.50929207, 0.5094492 , 0.50937825, 0.50926065,\n",
       "        0.5092661 , 0.50930613, 0.5092832 , 0.50939333, 0.5094439 ,\n",
       "        0.5093974 , 0.50926703, 0.50940865, 0.5093928 , 0.5093369 ,\n",
       "        0.5092316 , 0.50937355, 0.5094269 , 0.50943327, 0.5092464 ,\n",
       "        0.5094148 , 0.5093475 , 0.5094325 , 0.5093497 , 0.5092836 ,\n",
       "        0.50933814, 0.50925994, 0.50944465, 0.5094565 , 0.5094131 ,\n",
       "        0.5094165 , 0.50926095, 0.50923574, 0.5092715 , 0.5094039 ,\n",
       "        0.5094504 , 0.5092996 , 0.50928503, 0.50925326, 0.5092251 ,\n",
       "        0.5094148 , 0.509232  , 0.50924206, 0.50934213, 0.50945055,\n",
       "        0.50942826, 0.5094341 , 0.50924456, 0.50941813, 0.50943935,\n",
       "        0.5094289 , 0.5092579 , 0.50941783, 0.5094131 , 0.5093577 ,\n",
       "        0.5093766 , 0.5092509 , 0.5094324 , 0.509423  , 0.50942194,\n",
       "        0.509363  , 0.5093969 , 0.5092559 , 0.5094143 , 0.5094074 ,\n",
       "        0.5094083 , 0.5094397 , 0.50944513, 0.50941586, 0.5094084 ,\n",
       "        0.5094486 , 0.5094462 , 0.5094499 , 0.5092847 , 0.5094283 ,\n",
       "        0.50937164, 0.5094236 , 0.5092955 , 0.50943434, 0.5092799 ,\n",
       "        0.5092842 , 0.5094311 , 0.5092104 , 0.509281  , 0.50934756,\n",
       "        0.50934565, 0.509331  , 0.50934637, 0.50933945, 0.5092603 ,\n",
       "        0.5092912 , 0.50925034, 0.50926226, 0.5092683 , 0.5092185 ,\n",
       "        0.5092649 , 0.5092686 , 0.509289  , 0.50927985, 0.50926304,\n",
       "        0.50927097, 0.50925887, 0.50925493, 0.5092567 , 0.50926214,\n",
       "        0.5092789 , 0.5092552 , 0.50921404, 0.50927305, 0.5092121 ,\n",
       "        0.509245  , 0.5092408 , 0.50927377, 0.5092369 , 0.5092754 ,\n",
       "        0.5092454 , 0.5092698 , 0.509276  , 0.5092601 , 0.5092656 ,\n",
       "        0.5092457 , 0.50921327, 0.5092372 , 0.50923103, 0.509233  ,\n",
       "        0.5092354 , 0.5092448 , 0.5092375 , 0.50925267, 0.509239  ,\n",
       "        0.50924003, 0.5092443 , 0.5092438 , 0.50922894, 0.50923   ,\n",
       "        0.5092234 , 0.50923103, 0.5092327 , 0.5092195 , 0.5092319 ,\n",
       "        0.50931054, 0.5093111 , 0.50927323, 0.509298  , 0.5093436 ,\n",
       "        0.5092956 , 0.50931454, 0.50929254, 0.50929254, 0.50929224,\n",
       "        0.50929505, 0.5092943 , 0.5092843 , 0.5092275 , 0.50928843,\n",
       "        0.5093068 , 0.50931317, 0.50931287, 0.5093009 , 0.50927913,\n",
       "        0.50932705, 0.5092321 , 0.5093258 , 0.50930536, 0.5092798 ,\n",
       "        0.50928056, 0.5092729 , 0.5092731 , 0.5092596 , 0.5092785 ,\n",
       "        0.50922304, 0.5093165 , 0.50929797, 0.50926644, 0.50927645,\n",
       "        0.50926894, 0.5092267 , 0.5092742 , 0.5093066 , 0.5092756 ,\n",
       "        0.5093023 , 0.5092844 , 0.50930166, 0.509346  , 0.50938237,\n",
       "        0.50941074, 0.509394  , 0.5093354 , 0.5094086 , 0.5093918 ,\n",
       "        0.509389  , 0.5094054 , 0.50942177, 0.5093662 , 0.5093634 ,\n",
       "        0.50942975, 0.5094298 , 0.5093485 , 0.50940585, 0.50944424,\n",
       "        0.50944006, 0.5093574 , 0.5094246 , 0.50943303, 0.50937235,\n",
       "        0.509447  , 0.509455  , 0.50945556, 0.5093667 , 0.5094261 ,\n",
       "        0.5094308 , 0.50942755, 0.5094381 , 0.50942475, 0.5094023 ,\n",
       "        0.50940484, 0.50937575, 0.50943   , 0.50945383, 0.5094547 ,\n",
       "        0.5093851 , 0.50943017, 0.509433  , 0.50943065, 0.5094623 ,\n",
       "        0.50939435, 0.5094146 , 0.50946116, 0.509442  , 0.5094258 ,\n",
       "        0.50945336, 0.5094055 , 0.50946695, 0.50944495, 0.5092948 ,\n",
       "        0.50931144, 0.509416  , 0.50929195, 0.5093974 , 0.5093994 ,\n",
       "        0.5093745 , 0.5093408 , 0.50942236, 0.5093374 , 0.50940126,\n",
       "        0.5094214 , 0.50939476, 0.509348  , 0.5093856 , 0.50938535,\n",
       "        0.5094068 , 0.50939536, 0.5093283 , 0.5094225 , 0.50938714,\n",
       "        0.5093226 , 0.50940186, 0.5093809 , 0.50934184, 0.5093375 ,\n",
       "        0.5094057 , 0.50933015, 0.5094104 , 0.5093994 , 0.5093216 ,\n",
       "        0.5093294 , 0.50935024, 0.5094335 , 0.5094141 , 0.50941455,\n",
       "        0.5093982 , 0.509391  , 0.5092818 , 0.50922674, 0.5093094 ,\n",
       "        0.5092454 , 0.50928086, 0.50922817, 0.50935495, 0.5092171 ,\n",
       "        0.50930643, 0.50942856, 0.50922817, 0.50935346, 0.50939953,\n",
       "        0.50941336, 0.50921494, 0.50940603, 0.50920916, 0.5092558 ,\n",
       "        0.509383  , 0.5092123 , 0.5094062 , 0.5092228 , 0.5094199 ,\n",
       "        0.509257  , 0.5092321 , 0.50928116, 0.509423  , 0.50940025,\n",
       "        0.50923985, 0.50942016, 0.5093757 , 0.50939304, 0.5092449 ,\n",
       "        0.5092861 , 0.5092318 , 0.5093949 , 0.5093703 , 0.5092278 ,\n",
       "        0.50931   , 0.5092925 , 0.50939506, 0.5094401 , 0.50925666,\n",
       "        0.5091956 , 0.50937545, 0.50924397, 0.50923795, 0.50924504,\n",
       "        0.5093286 , 0.50923187, 0.50921595, 0.509375  , 0.5094042 ,\n",
       "        0.50929266, 0.5092162 , 0.5094045 , 0.509217  , 0.5092465 ,\n",
       "        0.509294  , 0.509225  , 0.5092311 , 0.5093725 , 0.5092326 ,\n",
       "        0.5092629 , 0.50937   , 0.5093289 , 0.50924844, 0.5093835 ,\n",
       "        0.50939214, 0.50927734, 0.50941145, 0.50925636, 0.5092758 ,\n",
       "        0.50934815, 0.5093636 , 0.50937533, 0.5092502 , 0.5093394 ,\n",
       "        0.5093885 , 0.5093019 , 0.50938976, 0.50923795, 0.50940263,\n",
       "        0.5093975 , 0.50923693, 0.50942737, 0.5092849 , 0.5092343 ,\n",
       "        0.5093853 , 0.5092692 , 0.5093284 , 0.5092783 , 0.50933146,\n",
       "        0.5094432 , 0.5092583 , 0.5092396 , 0.5092129 , 0.50930023,\n",
       "        0.50940216, 0.50924796, 0.509356  , 0.50940424, 0.50922173,\n",
       "        0.50937194, 0.50923127, 0.50925887, 0.5093847 , 0.5092668 ,\n",
       "        0.50931   , 0.5094071 , 0.5092283 , 0.50944334, 0.509384  ,\n",
       "        0.50929624, 0.5092612 , 0.5092405 , 0.5093627 , 0.50941074,\n",
       "        0.5093969 , 0.50943166, 0.5092684 , 0.5093944 , 0.5093462 ,\n",
       "        0.5092112 , 0.5093241 , 0.5092422 , 0.5093995 , 0.5092132 ,\n",
       "        0.50926065, 0.5092203 , 0.50921685, 0.5093285 , 0.50939685,\n",
       "        0.5092163 , 0.5092732 , 0.50920665, 0.5092714 , 0.509357  ,\n",
       "        0.509433  , 0.50924814, 0.5093833 , 0.50922537, 0.5093627 ,\n",
       "        0.50943923, 0.5093603 , 0.5093341 , 0.5094176 , 0.5093752 ,\n",
       "        0.50943935, 0.50939995, 0.50930697, 0.5094196 , 0.50942457,\n",
       "        0.50928605, 0.50922716, 0.50939524, 0.5092135 , 0.5094236 ,\n",
       "        0.5092135 , 0.50928557, 0.5092445 , 0.5092391 , 0.50924987,\n",
       "        0.509367  , 0.50942624, 0.5094392 , 0.5094154 , 0.5093405 ,\n",
       "        0.5092394 , 0.50924754, 0.50933933, 0.5093448 , 0.509269  ,\n",
       "        0.5094173 , 0.5092208 , 0.50925857, 0.50944203, 0.5092618 ,\n",
       "        0.50926894, 0.50927824, 0.50936425, 0.5092502 , 0.5092596 ,\n",
       "        0.50936717, 0.5092913 , 0.50923866, 0.50935817, 0.5092582 ,\n",
       "        0.5093292 , 0.5093869 , 0.5093529 , 0.50933826, 0.50937784,\n",
       "        0.5092751 , 0.50928897, 0.50927234, 0.50928533, 0.509279  ,\n",
       "        0.50921845, 0.50924265, 0.50926405, 0.5092216 , 0.50926733,\n",
       "        0.5092164 , 0.50924397, 0.5092191 , 0.5092206 , 0.50927573,\n",
       "        0.5092686 , 0.5092697 , 0.5092761 , 0.50926644, 0.50927496,\n",
       "        0.5092655 , 0.5092283 , 0.5092563 , 0.5092442 , 0.50921595,\n",
       "        0.5092142 , 0.5092598 , 0.5092612 , 0.50926805, 0.5092112 ,\n",
       "        0.50924486, 0.5092271 , 0.5092449 , 0.5092107 , 0.5092045 ,\n",
       "        0.5092374 , 0.50923586, 0.50925314, 0.50924236, 0.50924015,\n",
       "        0.5092454 , 0.50922453, 0.509231  , 0.5092075 , 0.509203  ,\n",
       "        0.50922805, 0.5092232 , 0.50919956, 0.5092221 , 0.5092247 ,\n",
       "        0.50929064, 0.5093088 , 0.5093085 , 0.5092873 , 0.5092344 ,\n",
       "        0.509309  , 0.50930107, 0.5092379 , 0.5092635 , 0.50922424,\n",
       "        0.50932086, 0.5092259 , 0.5093185 , 0.5092317 , 0.50930107,\n",
       "        0.5092603 , 0.5092326 , 0.5093079 , 0.509273  , 0.5092574 ,\n",
       "        0.5092895 , 0.5093102 , 0.5092296 , 0.50928026, 0.50923026,\n",
       "        0.5093088 , 0.5092212 , 0.50928795, 0.5092859 , 0.50930154,\n",
       "        0.50930023, 0.5092263 , 0.5092614 , 0.50926876, 0.5092972 ,\n",
       "        0.5092751 , 0.5092785 , 0.50927824, 0.50928444, 0.5092887 ,\n",
       "        0.5092782 , 0.50925297, 0.509288  ], dtype=float32))"
      ]
     },
     "execution_count": 27,
     "metadata": {},
     "output_type": "execute_result"
    }
   ],
   "source": [
    "get_pred_labels(test_generator)"
   ]
  },
  {
   "cell_type": "markdown",
   "metadata": {},
   "source": [
    "### Real pic test"
   ]
  },
  {
   "cell_type": "code",
   "execution_count": 28,
   "metadata": {},
   "outputs": [
    {
     "data": {
      "text/plain": [
       "{0: 'fragile', 1: 'up'}"
      ]
     },
     "execution_count": 28,
     "metadata": {},
     "output_type": "execute_result"
    }
   ],
   "source": [
    "get_label_dict(train_generator)"
   ]
  },
  {
   "cell_type": "code",
   "execution_count": 29,
   "metadata": {},
   "outputs": [
    {
     "name": "stdout",
     "output_type": "stream",
     "text": [
      "WARNING:tensorflow:From C:\\Users\\yukir\\AppData\\Local\\Temp/ipykernel_6260/1054934278.py:35: Sequential.predict_classes (from tensorflow.python.keras.engine.sequential) is deprecated and will be removed after 2021-01-01.\n",
      "Instructions for updating:\n",
      "Please use instead:* `np.argmax(model.predict(x), axis=-1)`,   if your model does multi-class classification   (e.g. if it uses a `softmax` last-layer activation).* `(model.predict(x) > 0.5).astype(\"int32\")`,   if your model does binary classification   (e.g. if it uses a `sigmoid` last-layer activation).\n"
     ]
    },
    {
     "data": {
      "text/html": [
       "<div>\n",
       "<style scoped>\n",
       "    .dataframe tbody tr th:only-of-type {\n",
       "        vertical-align: middle;\n",
       "    }\n",
       "\n",
       "    .dataframe tbody tr th {\n",
       "        vertical-align: top;\n",
       "    }\n",
       "\n",
       "    .dataframe thead th {\n",
       "        text-align: right;\n",
       "    }\n",
       "</style>\n",
       "<table border=\"1\" class=\"dataframe\">\n",
       "  <thead>\n",
       "    <tr style=\"text-align: right;\">\n",
       "      <th></th>\n",
       "      <th>file_name</th>\n",
       "      <th>label</th>\n",
       "      <th>class</th>\n",
       "    </tr>\n",
       "  </thead>\n",
       "  <tbody>\n",
       "    <tr>\n",
       "      <th>0</th>\n",
       "      <td>(2)blankstock180501065.jpg</td>\n",
       "      <td>0</td>\n",
       "      <td>fragile</td>\n",
       "    </tr>\n",
       "    <tr>\n",
       "      <th>1</th>\n",
       "      <td>blankstock180501065.jpg</td>\n",
       "      <td>0</td>\n",
       "      <td>fragile</td>\n",
       "    </tr>\n",
       "    <tr>\n",
       "      <th>2</th>\n",
       "      <td>grunge-fragile-box-sign-with-arrow-up-on-piece...</td>\n",
       "      <td>0</td>\n",
       "      <td>fragile</td>\n",
       "    </tr>\n",
       "    <tr>\n",
       "      <th>3</th>\n",
       "      <td>images (1).jpg</td>\n",
       "      <td>0</td>\n",
       "      <td>fragile</td>\n",
       "    </tr>\n",
       "    <tr>\n",
       "      <th>4</th>\n",
       "      <td>images.jpg</td>\n",
       "      <td>0</td>\n",
       "      <td>fragile</td>\n",
       "    </tr>\n",
       "  </tbody>\n",
       "</table>\n",
       "</div>"
      ],
      "text/plain": [
       "                                           file_name  label    class\n",
       "0                         (2)blankstock180501065.jpg      0  fragile\n",
       "1                            blankstock180501065.jpg      0  fragile\n",
       "2  grunge-fragile-box-sign-with-arrow-up-on-piece...      0  fragile\n",
       "3                                     images (1).jpg      0  fragile\n",
       "4                                         images.jpg      0  fragile"
      ]
     },
     "execution_count": 29,
     "metadata": {},
     "output_type": "execute_result"
    }
   ],
   "source": [
    "def file_list(path):\n",
    "    file_list = os.listdir(path)\n",
    "    file_list.sort()\n",
    "    file_list = file_list[1:]\n",
    "    list_file = []\n",
    "    for i in file_list:\n",
    "        list_file.append(path+i)\n",
    "    return list_file\n",
    "\n",
    "path ='C:\\\\Users\\\\yukir\\\\Documents\\\\Monicas_workspace\\\\Datasets\\\\real_pic_test\\\\resizing\\\\'\n",
    "\n",
    "file_list = file_list(path)\n",
    "\n",
    "results={\n",
    "   0:'fragile',\n",
    "   1:'up',\n",
    "   2:'bird',\n",
    "   3:'cat',\n",
    "   4:'deer',\n",
    "   5:'dog',\n",
    "   6:'frog',\n",
    "   7:'horse',\n",
    "   8:'ship',\n",
    "   9:'truck'\n",
    "}\n",
    "columns =['file_name', 'label', 'class']\n",
    "answer = []\n",
    "for i in file_list:\n",
    "    im=Image.open(i)\n",
    "    # the input image is required to be in the shape of dataset, i.e (32,32,3)\n",
    "    i= i.split('\\\\')[-1]\n",
    "    im=im.resize((100,100))\n",
    "    im=np.expand_dims(im,axis=0)\n",
    "    im=np.array(im)\n",
    "    pred=model.predict_classes([im])[0]\n",
    "    answer.append([i, pred, results[pred]])\n",
    "    answer_df = pd.DataFrame(answer, columns = columns )\n",
    "answer_df.head()"
   ]
  },
  {
   "cell_type": "code",
   "execution_count": 30,
   "metadata": {},
   "outputs": [
    {
     "data": {
      "text/plain": [
       "fragile    18\n",
       "up          1\n",
       "Name: class, dtype: int64"
      ]
     },
     "execution_count": 30,
     "metadata": {},
     "output_type": "execute_result"
    }
   ],
   "source": [
    "answer_df['class'].value_counts()"
   ]
  },
  {
   "cell_type": "markdown",
   "metadata": {},
   "source": [
    "### save"
   ]
  },
  {
   "cell_type": "code",
   "execution_count": 31,
   "metadata": {},
   "outputs": [],
   "source": [
    "# model.save('[0725]data_aug_sametest.h5')\n",
    "\n",
    "# # Save model with json format \n",
    "# model_json = model.to_json() \n",
    "# with open(\"[0725]data_aug_sametest.json\", \"w\") as json_file:\n",
    "#     json_file.write(model_json)\n",
    "    \n",
    "# # Save weight with h5 format\n",
    "# model.save_weights(\"[0725]data_aug_sametest_weight.h5\")\n",
    "# print(\"Saved model to disk\")"
   ]
  },
  {
   "cell_type": "code",
   "execution_count": null,
   "metadata": {},
   "outputs": [],
   "source": []
  },
  {
   "cell_type": "code",
   "execution_count": null,
   "metadata": {},
   "outputs": [],
   "source": []
  }
 ],
 "metadata": {
  "accelerator": "GPU",
  "colab": {
   "collapsed_sections": [],
   "include_colab_link": true,
   "machine_shape": "hm",
   "name": "[0712]up, fragile classification",
   "provenance": []
  },
  "kernelspec": {
   "display_name": "Python 3 (ipykernel)",
   "language": "python",
   "name": "python3"
  },
  "language_info": {
   "codemirror_mode": {
    "name": "ipython",
    "version": 3
   },
   "file_extension": ".py",
   "mimetype": "text/x-python",
   "name": "python",
   "nbconvert_exporter": "python",
   "pygments_lexer": "ipython3",
   "version": "3.8.0"
  },
  "toc": {
   "base_numbering": 1,
   "nav_menu": {},
   "number_sections": true,
   "sideBar": true,
   "skip_h1_title": false,
   "title_cell": "Table of Contents",
   "title_sidebar": "Contents",
   "toc_cell": false,
   "toc_position": {},
   "toc_section_display": true,
   "toc_window_display": false
  },
  "varInspector": {
   "cols": {
    "lenName": 16,
    "lenType": 16,
    "lenVar": 40
   },
   "kernels_config": {
    "python": {
     "delete_cmd_postfix": "",
     "delete_cmd_prefix": "del ",
     "library": "var_list.py",
     "varRefreshCmd": "print(var_dic_list())"
    },
    "r": {
     "delete_cmd_postfix": ") ",
     "delete_cmd_prefix": "rm(",
     "library": "var_list.r",
     "varRefreshCmd": "cat(var_dic_list()) "
    }
   },
   "types_to_exclude": [
    "module",
    "function",
    "builtin_function_or_method",
    "instance",
    "_Feature"
   ],
   "window_display": false
  }
 },
 "nbformat": 4,
 "nbformat_minor": 1
}
