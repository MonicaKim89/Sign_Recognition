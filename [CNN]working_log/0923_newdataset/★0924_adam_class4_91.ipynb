{
 "cells": [
  {
   "cell_type": "code",
   "execution_count": 1,
   "id": "53a1ab0e-bc48-45eb-8ede-11104d3b931b",
   "metadata": {},
   "outputs": [
    {
     "name": "stdout",
     "output_type": "stream",
     "text": [
      "C:\\Users\\yukir\\Documents\\GitHub\\Sign_Recognition\\py\n"
     ]
    }
   ],
   "source": [
    "%cd C:\\Users\\yukir\\Documents\\GitHub\\Sign_Recognition\\py"
   ]
  },
  {
   "cell_type": "code",
   "execution_count": 2,
   "id": "6_0q7KnUhLrM",
   "metadata": {
    "executionInfo": {
     "elapsed": 2324,
     "status": "ok",
     "timestamp": 1632226187377,
     "user": {
      "displayName": "Kim Monica",
      "photoUrl": "https://lh3.googleusercontent.com/a-/AOh14GinEw8dCma8Lg9LB0KhiZRlFm5XtBc4YU9ntHM6DvM=s64",
      "userId": "16683880778828171566"
     },
     "user_tz": -540
    },
    "id": "6_0q7KnUhLrM"
   },
   "outputs": [],
   "source": [
    "from tensorflow.keras.utils import to_categorical\n",
    "from tensorflow.python.keras.callbacks import TensorBoard\n",
    "from time import time"
   ]
  },
  {
   "cell_type": "code",
   "execution_count": 3,
   "id": "01115e6c",
   "metadata": {
    "colab": {
     "base_uri": "https://localhost:8080/"
    },
    "executionInfo": {
     "elapsed": 7407,
     "status": "ok",
     "timestamp": 1632226218364,
     "user": {
      "displayName": "Kim Monica",
      "photoUrl": "https://lh3.googleusercontent.com/a-/AOh14GinEw8dCma8Lg9LB0KhiZRlFm5XtBc4YU9ntHM6DvM=s64",
      "userId": "16683880778828171566"
     },
     "user_tz": -540
    },
    "id": "01115e6c",
    "outputId": "179abbe9-1bb8-4ffb-fea9-e4939eec893b"
   },
   "outputs": [
    {
     "name": "stderr",
     "output_type": "stream",
     "text": [
      "Using TensorFlow backend.\n"
     ]
    },
    {
     "name": "stdout",
     "output_type": "stream",
     "text": [
      "[name: \"/device:CPU:0\"\n",
      "device_type: \"CPU\"\n",
      "memory_limit: 268435456\n",
      "locality {\n",
      "}\n",
      "incarnation: 16881385686747314160\n",
      ", name: \"/device:XLA_CPU:0\"\n",
      "device_type: \"XLA_CPU\"\n",
      "memory_limit: 17179869184\n",
      "locality {\n",
      "}\n",
      "incarnation: 4498270488870821586\n",
      "physical_device_desc: \"device: XLA_CPU device\"\n",
      ", name: \"/device:GPU:0\"\n",
      "device_type: \"GPU\"\n",
      "memory_limit: 9883535296\n",
      "locality {\n",
      "  bus_id: 1\n",
      "  links {\n",
      "  }\n",
      "}\n",
      "incarnation: 10359983475297900813\n",
      "physical_device_desc: \"device: 0, name: NVIDIA GeForce RTX 2080 Ti, pci bus id: 0000:01:00.0, compute capability: 7.5\"\n",
      ", name: \"/device:XLA_GPU:0\"\n",
      "device_type: \"XLA_GPU\"\n",
      "memory_limit: 17179869184\n",
      "locality {\n",
      "}\n",
      "incarnation: 4355366082632325331\n",
      "physical_device_desc: \"device: XLA_GPU device\"\n",
      "]\n",
      "tf 2.2.0\n",
      "keras 2.3.0-tf\n",
      "set_global_determinism(seed=1337) 이거 꼭 해라\n",
      "set_global_determinism(seed=1337) 이거 꼭 해라\n",
      "set_global_determinism(seed=1337) 이거 꼭 해라\n"
     ]
    }
   ],
   "source": [
    "from basic_preprocessing import *\n",
    "from deeplearning_check import *\n",
    "from machine_learning import *\n",
    "\n",
    "gpu_check()\n",
    "set_global_determinism(seed=SEED)"
   ]
  },
  {
   "cell_type": "code",
   "execution_count": 4,
   "id": "17AkLE4DhBRq",
   "metadata": {
    "executionInfo": {
     "elapsed": 24,
     "status": "ok",
     "timestamp": 1632226218365,
     "user": {
      "displayName": "Kim Monica",
      "photoUrl": "https://lh3.googleusercontent.com/a-/AOh14GinEw8dCma8Lg9LB0KhiZRlFm5XtBc4YU9ntHM6DvM=s64",
      "userId": "16683880778828171566"
     },
     "user_tz": -540
    },
    "id": "17AkLE4DhBRq"
   },
   "outputs": [],
   "source": [
    "from sklearn.model_selection import StratifiedKFold, StratifiedShuffleSplit"
   ]
  },
  {
   "cell_type": "markdown",
   "id": "62bbf7e7",
   "metadata": {
    "id": "62bbf7e7"
   },
   "source": [
    "#### basic model"
   ]
  },
  {
   "cell_type": "code",
   "execution_count": 5,
   "id": "9e06b8bc",
   "metadata": {
    "executionInfo": {
     "elapsed": 21,
     "status": "ok",
     "timestamp": 1632226218366,
     "user": {
      "displayName": "Kim Monica",
      "photoUrl": "https://lh3.googleusercontent.com/a-/AOh14GinEw8dCma8Lg9LB0KhiZRlFm5XtBc4YU9ntHM6DvM=s64",
      "userId": "16683880778828171566"
     },
     "user_tz": -540
    },
    "id": "9e06b8bc"
   },
   "outputs": [],
   "source": [
    "set_global_determinism(seed=1337)"
   ]
  },
  {
   "cell_type": "code",
   "execution_count": 37,
   "id": "d0e06e60",
   "metadata": {
    "executionInfo": {
     "elapsed": 4,
     "status": "ok",
     "timestamp": 1632226219565,
     "user": {
      "displayName": "Kim Monica",
      "photoUrl": "https://lh3.googleusercontent.com/a-/AOh14GinEw8dCma8Lg9LB0KhiZRlFm5XtBc4YU9ntHM6DvM=s64",
      "userId": "16683880778828171566"
     },
     "user_tz": -540
    },
    "id": "d0e06e60"
   },
   "outputs": [],
   "source": [
    "train_dir = 'C:\\\\Users\\\\yukir\\\\Documents\\\\Monicas_workspace\\\\Datasets\\\\Stratified\\\\train'\n",
    "test_dir = 'C:\\\\Users\\\\yukir\\\\Documents\\\\Monicas_workspace\\\\Datasets\\\\For test'\n",
    "val_dir ='C:\\\\Users\\\\yukir\\\\Documents\\\\Monicas_workspace\\\\Datasets\\\\Stratified\\\\test'"
   ]
  },
  {
   "cell_type": "code",
   "execution_count": 38,
   "id": "015625bc",
   "metadata": {
    "executionInfo": {
     "elapsed": 223,
     "status": "ok",
     "timestamp": 1632226221492,
     "user": {
      "displayName": "Kim Monica",
      "photoUrl": "https://lh3.googleusercontent.com/a-/AOh14GinEw8dCma8Lg9LB0KhiZRlFm5XtBc4YU9ntHM6DvM=s64",
      "userId": "16683880778828171566"
     },
     "user_tz": -540
    },
    "id": "015625bc"
   },
   "outputs": [],
   "source": [
    "train_datagen = ImageDataGenerator(rescale=1./255)\n",
    "val_datagen = ImageDataGenerator(rescale=1./255)\n",
    "test_datagen = ImageDataGenerator(rescale=1./255)"
   ]
  },
  {
   "cell_type": "code",
   "execution_count": 39,
   "id": "b59db018",
   "metadata": {
    "colab": {
     "base_uri": "https://localhost:8080/"
    },
    "executionInfo": {
     "elapsed": 3734,
     "status": "ok",
     "timestamp": 1632226226306,
     "user": {
      "displayName": "Kim Monica",
      "photoUrl": "https://lh3.googleusercontent.com/a-/AOh14GinEw8dCma8Lg9LB0KhiZRlFm5XtBc4YU9ntHM6DvM=s64",
      "userId": "16683880778828171566"
     },
     "user_tz": -540
    },
    "id": "b59db018",
    "outputId": "8c6afcf1-909f-4251-c57c-4920af4fc498"
   },
   "outputs": [
    {
     "name": "stdout",
     "output_type": "stream",
     "text": [
      "Found 440 images belonging to 4 classes.\n",
      "Found 111 images belonging to 4 classes.\n",
      "Found 185 images belonging to 4 classes.\n"
     ]
    }
   ],
   "source": [
    "from keras import Input\n",
    "train_generator = train_datagen.flow_from_directory(train_dir, batch_size=16, target_size=(200,200), color_mode='rgb')\n",
    "val_generator = val_datagen.flow_from_directory(val_dir, batch_size=16, target_size=(200, 200), color_mode='rgb')\n",
    "test_generator = test_datagen.flow_from_directory(test_dir,batch_size=16, target_size=(200, 200), color_mode='rgb')\n",
    "\n",
    "input_tensor = Input(shape=(200, 200, 3), dtype='float32', name='input')"
   ]
  },
  {
   "cell_type": "markdown",
   "id": "72da593f",
   "metadata": {
    "id": "72da593f"
   },
   "source": [
    "#### model creating"
   ]
  },
  {
   "cell_type": "code",
   "execution_count": 10,
   "id": "kgqr7WzJQ-2v",
   "metadata": {
    "executionInfo": {
     "elapsed": 235,
     "status": "ok",
     "timestamp": 1632226248805,
     "user": {
      "displayName": "Kim Monica",
      "photoUrl": "https://lh3.googleusercontent.com/a-/AOh14GinEw8dCma8Lg9LB0KhiZRlFm5XtBc4YU9ntHM6DvM=s64",
      "userId": "16683880778828171566"
     },
     "user_tz": -540
    },
    "id": "kgqr7WzJQ-2v"
   },
   "outputs": [],
   "source": [
    "def create_model():\n",
    "    optimizer = Adam()\n",
    "    \n",
    "    pre_trained_vgg = VGG16(weights='imagenet', include_top=False, input_shape=(200, 200, 3))\n",
    "    #include_top FC 레이어 포함유무 결정\n",
    "    #feature extraction 파라미터들은 이미지넷으로 학습된 값들을 그대로 사용할 것이기 때문에 trainable의 속성을 False\n",
    "    pre_trained_vgg.trainable = False\n",
    "    additional_model = tf.keras.Sequential()\n",
    "    additional_model.add(pre_trained_vgg)\n",
    "    additional_model.add(Flatten())\n",
    "    additional_model.add(tf.keras.layers.Dense(4096, activation='relu'))\n",
    "    additional_model.add(tf.keras.layers.Dense(2048, activation='relu'))\n",
    "    additional_model.add(tf.keras.layers.Dense(1024, activation='relu'))\n",
    "    additional_model.add(tf.keras.layers.Dense(4, activation='softmax'))\n",
    "    \n",
    "\n",
    "    additional_model.compile(optimizer = optimizer, loss = keras.losses.categorical_crossentropy, metrics=['acc'])\n",
    "\n",
    "    \n",
    "    return additional_model"
   ]
  },
  {
   "cell_type": "code",
   "execution_count": 11,
   "id": "7a2f9107",
   "metadata": {
    "colab": {
     "base_uri": "https://localhost:8080/",
     "height": 35
    },
    "executionInfo": {
     "elapsed": 265,
     "status": "ok",
     "timestamp": 1632226254541,
     "user": {
      "displayName": "Kim Monica",
      "photoUrl": "https://lh3.googleusercontent.com/a-/AOh14GinEw8dCma8Lg9LB0KhiZRlFm5XtBc4YU9ntHM6DvM=s64",
      "userId": "16683880778828171566"
     },
     "user_tz": -540
    },
    "id": "7a2f9107",
    "outputId": "ee5d42a4-05e2-46db-da22-e0189abd1a6e"
   },
   "outputs": [
    {
     "data": {
      "text/plain": [
       "'2.2.0'"
      ]
     },
     "execution_count": 11,
     "metadata": {},
     "output_type": "execute_result"
    }
   ],
   "source": [
    "tf.__version__"
   ]
  },
  {
   "cell_type": "code",
   "execution_count": 12,
   "id": "c58a4160",
   "metadata": {
    "colab": {
     "base_uri": "https://localhost:8080/",
     "height": 35
    },
    "executionInfo": {
     "elapsed": 17,
     "status": "ok",
     "timestamp": 1632226255480,
     "user": {
      "displayName": "Kim Monica",
      "photoUrl": "https://lh3.googleusercontent.com/a-/AOh14GinEw8dCma8Lg9LB0KhiZRlFm5XtBc4YU9ntHM6DvM=s64",
      "userId": "16683880778828171566"
     },
     "user_tz": -540
    },
    "id": "c58a4160",
    "outputId": "cddf76bb-91ae-4afe-93e4-a8964f00ef61"
   },
   "outputs": [
    {
     "data": {
      "text/plain": [
       "'2.3.0-tf'"
      ]
     },
     "execution_count": 12,
     "metadata": {},
     "output_type": "execute_result"
    }
   ],
   "source": [
    "keras.__version__"
   ]
  },
  {
   "cell_type": "code",
   "execution_count": 13,
   "id": "6e3c25cc",
   "metadata": {
    "colab": {
     "base_uri": "https://localhost:8080/"
    },
    "executionInfo": {
     "elapsed": 561,
     "status": "ok",
     "timestamp": 1632226258169,
     "user": {
      "displayName": "Kim Monica",
      "photoUrl": "https://lh3.googleusercontent.com/a-/AOh14GinEw8dCma8Lg9LB0KhiZRlFm5XtBc4YU9ntHM6DvM=s64",
      "userId": "16683880778828171566"
     },
     "user_tz": -540
    },
    "id": "6e3c25cc",
    "outputId": "ec4f59db-b360-4af0-d1b1-19dd59c31478"
   },
   "outputs": [
    {
     "name": "stdout",
     "output_type": "stream",
     "text": [
      "Model: \"sequential\"\n",
      "_________________________________________________________________\n",
      "Layer (type)                 Output Shape              Param #   \n",
      "=================================================================\n",
      "vgg16 (Model)                (None, 6, 6, 512)         14714688  \n",
      "_________________________________________________________________\n",
      "flatten (Flatten)            (None, 18432)             0         \n",
      "_________________________________________________________________\n",
      "dense (Dense)                (None, 4096)              75501568  \n",
      "_________________________________________________________________\n",
      "dense_1 (Dense)              (None, 2048)              8390656   \n",
      "_________________________________________________________________\n",
      "dense_2 (Dense)              (None, 1024)              2098176   \n",
      "_________________________________________________________________\n",
      "dense_3 (Dense)              (None, 4)                 4100      \n",
      "=================================================================\n",
      "Total params: 100,709,188\n",
      "Trainable params: 85,994,500\n",
      "Non-trainable params: 14,714,688\n",
      "_________________________________________________________________\n"
     ]
    }
   ],
   "source": [
    "# 모델 실행 옵션 \n",
    "model = create_model()\n",
    "model.summary()\n"
   ]
  },
  {
   "cell_type": "code",
   "execution_count": 15,
   "id": "7b292a99-8988-4265-974c-e0dc76ce6ac3",
   "metadata": {},
   "outputs": [
    {
     "name": "stdout",
     "output_type": "stream",
     "text": [
      "C:\\Users\\yukir\\Documents\\Monicas_workspace\\Sign detection\\VGG\n"
     ]
    }
   ],
   "source": [
    "%cd C:\\Users\\yukir\\Documents\\Monicas_workspace\\Sign detection\\VGG"
   ]
  },
  {
   "cell_type": "code",
   "execution_count": 16,
   "id": "c1e652aa",
   "metadata": {
    "executionInfo": {
     "elapsed": 4,
     "status": "ok",
     "timestamp": 1632226260369,
     "user": {
      "displayName": "Kim Monica",
      "photoUrl": "https://lh3.googleusercontent.com/a-/AOh14GinEw8dCma8Lg9LB0KhiZRlFm5XtBc4YU9ntHM6DvM=s64",
      "userId": "16683880778828171566"
     },
     "user_tz": -540
    },
    "id": "c1e652aa"
   },
   "outputs": [],
   "source": [
    "checkpoint_path = \"check_point/cp.ckpt\"\n",
    "checkpoint_dir = os.path.dirname(checkpoint_path)"
   ]
  },
  {
   "cell_type": "code",
   "execution_count": 17,
   "id": "5b524386",
   "metadata": {
    "colab": {
     "base_uri": "https://localhost:8080/"
    },
    "id": "5b524386",
    "outputId": "5815a6a0-ada3-4780-bf7e-ff7f06a35a31"
   },
   "outputs": [
    {
     "name": "stdout",
     "output_type": "stream",
     "text": [
      "WARNING:tensorflow:From C:\\Users\\yukir\\AppData\\Local\\Temp/ipykernel_9232/4251962695.py:16: Model.fit_generator (from tensorflow.python.keras.engine.training) is deprecated and will be removed in a future version.\n",
      "Instructions for updating:\n",
      "Please use Model.fit, which supports generators.\n",
      "Epoch 1/50\n",
      "28/28 [==============================] - ETA: 0s - loss: 4.2767 - acc: 0.6227\n",
      "Epoch 00001: loss improved from inf to 4.27671, saving model to check_point/cp.ckpt\n",
      "28/28 [==============================] - 9s 323ms/step - loss: 4.2767 - acc: 0.6227 - val_loss: 0.3731 - val_acc: 0.9009\n",
      "Epoch 2/50\n",
      "27/28 [===========================>..] - ETA: 0s - loss: 0.1893 - acc: 0.9398- ETA: 0s - loss: 0.1716 - acc: 0\n",
      "Epoch 00002: loss improved from 4.27671 to 0.18895, saving model to check_point/cp.ckpt\n",
      "28/28 [==============================] - 7s 238ms/step - loss: 0.1889 - acc: 0.9386 - val_loss: 0.3278 - val_acc: 0.9279\n",
      "Epoch 3/50\n",
      "27/28 [===========================>..] - ETA: 0s - loss: 0.0822 - acc: 0.9769- ETA: 1s - loss: 0. - ETA: 0s - loss: 0.0886 - acc: 0.97\n",
      "Epoch 00003: loss improved from 0.18895 to 0.08069, saving model to check_point/cp.ckpt\n",
      "28/28 [==============================] - 7s 242ms/step - loss: 0.0807 - acc: 0.9773 - val_loss: 0.0505 - val_acc: 0.9910\n",
      "Epoch 4/50\n",
      "27/28 [===========================>..] - ETA: 0s - loss: 0.0301 - acc: 0.9838- ETA: 1s - loss: \n",
      "Epoch 00004: loss improved from 0.08069 to 0.02956, saving model to check_point/cp.ckpt\n",
      "28/28 [==============================] - 6s 226ms/step - loss: 0.0296 - acc: 0.9841 - val_loss: 0.0528 - val_acc: 0.9730\n",
      "Epoch 5/50\n",
      "27/28 [===========================>..] - ETA: 0s - loss: 0.0258 - acc: 0.9907000 - ETA: 1s - loss: 0.0020 - acc - ETA: 0s - loss: 0.0298 - acc: 0 - ETA: 0s - loss: 0.0311 - acc: 0\n",
      "Epoch 00005: loss improved from 0.02956 to 0.02638, saving model to check_point/cp.ckpt\n",
      "28/28 [==============================] - 6s 225ms/step - loss: 0.0264 - acc: 0.9909 - val_loss: 0.1080 - val_acc: 0.9730\n",
      "Epoch 6/50\n",
      "27/28 [===========================>..] - ETA: 0s - loss: 0.0113 - acc: 0.9954\n",
      "Epoch 00006: loss improved from 0.02638 to 0.01112, saving model to check_point/cp.ckpt\n",
      "28/28 [==============================] - 6s 228ms/step - loss: 0.0111 - acc: 0.9955 - val_loss: 0.1034 - val_acc: 0.9820\n",
      "Epoch 7/50\n",
      "27/28 [===========================>..] - ETA: 0s - loss: 0.0023 - acc: 1.0000000 - ETA: 1s - loss: 0.0041 - ac - ETA: 0s - loss: 0.0020 - acc\n",
      "Epoch 00007: loss improved from 0.01112 to 0.00223, saving model to check_point/cp.ckpt\n",
      "28/28 [==============================] - 6s 229ms/step - loss: 0.0022 - acc: 1.0000 - val_loss: 0.1575 - val_acc: 0.9730\n",
      "Epoch 8/50\n",
      "27/28 [===========================>..] - ETA: 0s - loss: 2.8501e-04 - acc: 1.0000- ETA: 0s - loss: 3.3624e-04 - acc: 1 - ETA: 0s - loss: 2.7818e-04 - acc: 1.0000\n",
      "Epoch 00008: loss improved from 0.00223 to 0.00027, saving model to check_point/cp.ckpt\n",
      "28/28 [==============================] - 6s 222ms/step - loss: 2.7313e-04 - acc: 1.0000 - val_loss: 0.1325 - val_acc: 0.9730\n",
      "Epoch 9/50\n",
      "27/28 [===========================>..] - ETA: 0s - loss: 0.0013 - acc: 1.0000- ETA: 1s - loss: 0.0017 - acc:  - ETA: 0s - loss: 0.0021 - acc: 1.000 - ETA: 0s - loss: 0.0020 - \n",
      "Epoch 00009: loss did not improve from 0.00027\n",
      "28/28 [==============================] - 2s 76ms/step - loss: 0.0027 - acc: 1.0000 - val_loss: 0.0886 - val_acc: 0.9820\n",
      "Epoch 10/50\n",
      "27/28 [===========================>..] - ETA: 0s - loss: 0.2695 - acc: 0.9583\n",
      "Epoch 00010: loss did not improve from 0.00027\n",
      "28/28 [==============================] - 2s 78ms/step - loss: 0.2646 - acc: 0.9591 - val_loss: 0.0345 - val_acc: 0.9910\n",
      "Epoch 11/50\n",
      "27/28 [===========================>..] - ETA: 0s - loss: 0.2852 - acc: 0.9468- ETA: 0s - loss: 0.3402 - acc: 0. - ETA: 0s - loss: 0.3058 - acc: 0.942 - ETA: 0s - loss: 0.2961 - acc: 0.944\n",
      "Epoch 00011: loss did not improve from 0.00027\n",
      "28/28 [==============================] - 2s 77ms/step - loss: 0.2803 - acc: 0.9477 - val_loss: 0.7077 - val_acc: 0.8559\n",
      "Epoch 12/50\n",
      "27/28 [===========================>..] - ETA: 0s - loss: 0.1744 - acc: 0.9606- ETA: 0s - loss: 0.294\n",
      "Epoch 00012: loss did not improve from 0.00027\n",
      "28/28 [==============================] - 2s 76ms/step - loss: 0.1712 - acc: 0.9614 - val_loss: 0.0536 - val_acc: 0.9820\n",
      "Epoch 13/50\n",
      "27/28 [===========================>..] - ETA: 0s - loss: 0.0189 - acc: 0.9931\n",
      "Epoch 00013: loss did not improve from 0.00027\n",
      "28/28 [==============================] - 2s 76ms/step - loss: 0.0185 - acc: 0.9932 - val_loss: 0.0371 - val_acc: 0.9910\n",
      "Epoch 14/50\n",
      "27/28 [===========================>..] - ETA: 0s - loss: 0.0310 - acc: 0.9907- ETA: 1s - loss: 0.0602 - ac - ETA: 0s - loss: 0.0442 - ac\n",
      "Epoch 00014: loss did not improve from 0.00027\n",
      "28/28 [==============================] - 2s 77ms/step - loss: 0.0304 - acc: 0.9909 - val_loss: 0.0608 - val_acc: 0.9910\n",
      "Epoch 15/50\n",
      "27/28 [===========================>..] - ETA: 0s - loss: 0.0094 - acc: 0.9954\n",
      "Epoch 00015: loss did not improve from 0.00027\n",
      "28/28 [==============================] - 2s 76ms/step - loss: 0.0092 - acc: 0.9955 - val_loss: 0.1034 - val_acc: 0.9730\n",
      "Epoch 16/50\n",
      "27/28 [===========================>..] - ETA: 0s - loss: 0.0032 - acc: 0.9977  - ETA: 0s - loss: 0.0056 - acc: 0.99 - ETA: 0s - loss: 0.0051 - acc: 0.9 - ETA: 0s - loss: 0.0044 - acc:\n",
      "Epoch 00016: loss did not improve from 0.00027\n",
      "28/28 [==============================] - 2s 76ms/step - loss: 0.0032 - acc: 0.9977 - val_loss: 0.0640 - val_acc: 0.9820\n",
      "Epoch 17/50\n",
      "27/28 [===========================>..] - ETA: 0s - loss: 0.0239 - acc: 0.9931    - ETA: 1s - loss: \n",
      "Epoch 00017: loss did not improve from 0.00027\n",
      "28/28 [==============================] - 2s 76ms/step - loss: 0.0279 - acc: 0.9909 - val_loss: 0.4074 - val_acc: 0.9369\n",
      "Epoch 18/50\n",
      "27/28 [===========================>..] - ETA: 0s - loss: 0.0104 - acc: 0.9954- ETA: 0s - loss: 0.0142 - acc\n",
      "Epoch 00018: loss did not improve from 0.00027\n",
      "28/28 [==============================] - 2s 76ms/step - loss: 0.0102 - acc: 0.9955 - val_loss: 0.0525 - val_acc: 0.9730\n",
      "Epoch 19/50\n",
      "27/28 [===========================>..] - ETA: 0s - loss: 0.0038 - acc: 0.9977  - ETA: 1s - loss: 0.\n",
      "Epoch 00019: loss did not improve from 0.00027\n",
      "28/28 [==============================] - 2s 80ms/step - loss: 0.0038 - acc: 0.9977 - val_loss: 0.0227 - val_acc: 0.9910\n",
      "Epoch 20/50\n",
      "27/28 [===========================>..] - ETA: 0s - loss: 1.6584e-05 - acc: 1.0000\n",
      "Epoch 00020: loss improved from 0.00027 to 0.00002, saving model to check_point/cp.ckpt\n",
      "28/28 [==============================] - 6s 220ms/step - loss: 1.6282e-05 - acc: 1.0000 - val_loss: 0.0201 - val_acc: 0.9910\n",
      "Epoch 21/50\n",
      "27/28 [===========================>..] - ETA: 0s - loss: 3.9671e-06 - acc: 1.0000- ETA: 0s - loss: 2.5563e-0\n",
      "Epoch 00021: loss improved from 0.00002 to 0.00001, saving model to check_point/cp.ckpt\n",
      "28/28 [==============================] - 6s 232ms/step - loss: 5.1918e-06 - acc: 1.0000 - val_loss: 0.0195 - val_acc: 0.9910\n",
      "Epoch 22/50\n",
      "27/28 [===========================>..] - ETA: 0s - loss: 2.2827e-06 - acc: 1.0000- ETA: 1s - loss: 3.2443e-06 -  - ETA: 0s - loss: 1.8629e-06 - acc: - ETA: 0s - loss: 2.4726e-06 - acc: 1.0 - ETA: 0s - loss: 2.2094e-06 - acc: 1.0000\n",
      "Epoch 00022: loss improved from 0.00001 to 0.00000, saving model to check_point/cp.ckpt\n",
      "28/28 [==============================] - 6s 227ms/step - loss: 3.2399e-06 - acc: 1.0000 - val_loss: 0.0193 - val_acc: 0.9910\n",
      "Epoch 23/50\n",
      "27/28 [===========================>..] - ETA: 0s - loss: 2.4289e-06 - acc: 1.0000\n",
      "Epoch 00023: loss improved from 0.00000 to 0.00000, saving model to check_point/cp.ckpt\n",
      "28/28 [==============================] - 6s 221ms/step - loss: 2.3847e-06 - acc: 1.0000 - val_loss: 0.0192 - val_acc: 0.9910\n",
      "Epoch 24/50\n",
      "27/28 [===========================>..] - ETA: 0s - loss: 1.8972e-06 - acc: 1.0000- ETA: 0s - loss: 2.0484e-06 - acc: 1.00\n",
      "Epoch 00024: loss improved from 0.00000 to 0.00000, saving model to check_point/cp.ckpt\n",
      "28/28 [==============================] - 6s 220ms/step - loss: 1.8736e-06 - acc: 1.0000 - val_loss: 0.0191 - val_acc: 0.9910\n",
      "Epoch 25/50\n",
      "27/28 [===========================>..] - ETA: 0s - loss: 1.4354e-06 - acc: 1.0000- ETA: 0s - loss: 1.7218e-06 - a\n",
      "Epoch 00025: loss improved from 0.00000 to 0.00000, saving model to check_point/cp.ckpt\n",
      "28/28 [==============================] - 6s 225ms/step - loss: 1.5995e-06 - acc: 1.0000 - val_loss: 0.0192 - val_acc: 0.9910\n",
      "Epoch 26/50\n",
      "27/28 [===========================>..] - ETA: 0s - loss: 1.3496e-06 - acc: 1.0000- ETA: 0s - loss: 9.2096e-07\n",
      "Epoch 00026: loss improved from 0.00000 to 0.00000, saving model to check_point/cp.ckpt\n",
      "28/28 [==============================] - 6s 224ms/step - loss: 1.3250e-06 - acc: 1.0000 - val_loss: 0.0192 - val_acc: 0.9910\n",
      "Epoch 27/50\n",
      "27/28 [===========================>..] - ETA: 0s - loss: 1.1860e-06 - acc: 1.0000- ETA: 1s - loss: 6.3925e-07 - acc: 1 - ETA: 1s - loss: 2.1061e-06 - acc: 1.000 - ETA: 1s - loss: 1.9147e-\n",
      "Epoch 00027: loss improved from 0.00000 to 0.00000, saving model to check_point/cp.ckpt\n",
      "28/28 [==============================] - 6s 225ms/step - loss: 1.1644e-06 - acc: 1.0000 - val_loss: 0.0192 - val_acc: 0.9910\n",
      "Epoch 28/50\n",
      "27/28 [===========================>..] - ETA: 0s - loss: 1.0204e-06 - acc: 1.0000\n",
      "Epoch 00028: loss improved from 0.00000 to 0.00000, saving model to check_point/cp.ckpt\n",
      "28/28 [==============================] - 6s 223ms/step - loss: 1.0019e-06 - acc: 1.0000 - val_loss: 0.0194 - val_acc: 0.9910\n",
      "Epoch 29/50\n",
      "27/28 [===========================>..] - ETA: 0s - loss: 8.9734e-07 - acc: 1.0000- ETA: 0s - loss: 1.1314e-06 \n",
      "Epoch 00029: loss improved from 0.00000 to 0.00000, saving model to check_point/cp.ckpt\n",
      "28/28 [==============================] - 6s 222ms/step - loss: 8.8834e-07 - acc: 1.0000 - val_loss: 0.0195 - val_acc: 0.9910\n",
      "Epoch 30/50\n",
      "27/28 [===========================>..] - ETA: 0s - loss: 7.9360e-07 - acc: 1.0000\n",
      "Epoch 00030: loss improved from 0.00000 to 0.00000, saving model to check_point/cp.ckpt\n",
      "28/28 [==============================] - 6s 225ms/step - loss: 7.7917e-07 - acc: 1.0000 - val_loss: 0.0197 - val_acc: 0.9910\n",
      "Epoch 31/50\n",
      "27/28 [===========================>..] - ETA: 0s - loss: 7.2158e-07 - acc: 1.0000- ETA: 1s - loss: 2.3111e-06 -  - ETA: 0s - loss: 9.8810e-07 - ac - ETA: 0s - loss: 7.2387e-07 - acc: 1.00\n",
      "Epoch 00031: loss improved from 0.00000 to 0.00000, saving model to check_point/cp.ckpt\n",
      "28/28 [==============================] - 6s 225ms/step - loss: 7.0846e-07 - acc: 1.0000 - val_loss: 0.0198 - val_acc: 0.9910\n",
      "Epoch 32/50\n",
      "27/28 [===========================>..] - ETA: 0s - loss: 6.3852e-07 - acc: 1.0000- ETA: 1s - loss: 6.9184e-08 - acc: 1.00 - ETA: 1s - loss: 5.5465e-08 - a - ETA: 0s - loss: 1.5058e-07 - acc\n",
      "Epoch 00032: loss improved from 0.00000 to 0.00000, saving model to check_point/cp.ckpt\n",
      "28/28 [==============================] - 6s 224ms/step - loss: 6.2691e-07 - acc: 1.0000 - val_loss: 0.0199 - val_acc: 0.9910\n",
      "Epoch 33/50\n",
      "27/28 [===========================>..] - ETA: 0s - loss: 5.7589e-07 - acc: 1.0000- ETA: 0s - loss: 5.3307e-07 - acc:  - ETA: 0s - loss: 5.8170e-07 - acc: 1.000\n",
      "Epoch 00033: loss improved from 0.00000 to 0.00000, saving model to check_point/cp.ckpt\n",
      "28/28 [==============================] - 6s 219ms/step - loss: 5.7165e-07 - acc: 1.0000 - val_loss: 0.0201 - val_acc: 0.9910\n",
      "Epoch 34/50\n",
      "27/28 [===========================>..] - ETA: 0s - loss: 5.2153e-07 - acc: 1.0000- ETA: 1s - loss: 2.5704e-07 - - ETA: 0s - loss: 5.9434e-07 - acc: 1\n",
      "Epoch 00034: loss improved from 0.00000 to 0.00000, saving model to check_point/cp.ckpt\n",
      "28/28 [==============================] - 6s 226ms/step - loss: 5.1205e-07 - acc: 1.0000 - val_loss: 0.0203 - val_acc: 0.9910\n",
      "Epoch 35/50\n",
      "27/28 [===========================>..] - ETA: 0s - loss: 4.7683e-07 - acc: 1.0000\n",
      "Epoch 00035: loss improved from 0.00000 to 0.00000, saving model to check_point/cp.ckpt\n",
      "28/28 [==============================] - 6s 219ms/step - loss: 4.6816e-07 - acc: 1.0000 - val_loss: 0.0204 - val_acc: 0.9910\n",
      "Epoch 36/50\n",
      "27/28 [===========================>..] - ETA: 0s - loss: 4.6640e-07 - acc: 1.000 - ETA: 0s - loss: 4.4846e-07 - acc: 1.000 - ETA: 0s - loss: 4.3378e-07 - acc: 1.0000\n",
      "Epoch 00036: loss improved from 0.00000 to 0.00000, saving model to check_point/cp.ckpt\n",
      "28/28 [==============================] - 6s 225ms/step - loss: 4.2589e-07 - acc: 1.0000 - val_loss: 0.0206 - val_acc: 0.9910\n",
      "Epoch 37/50\n",
      "27/28 [===========================>..] - ETA: 0s - loss: 3.9377e-07 - acc: 1.0000- ETA: 1s - loss: 3.8891e-07 - acc - ETA: 0s - loss: 4.5117e-07 - ac\n",
      "Epoch 00037: loss improved from 0.00000 to 0.00000, saving model to check_point/cp.ckpt\n",
      "28/28 [==============================] - 6s 225ms/step - loss: 3.8715e-07 - acc: 1.0000 - val_loss: 0.0208 - val_acc: 0.9910\n",
      "Epoch 38/50\n",
      "27/28 [===========================>..] - ETA: 0s - loss: 3.3003e-07 - acc: 1.0000- ETA: 1s - loss: 5.2377e\n",
      "Epoch 00038: loss improved from 0.00000 to 0.00000, saving model to check_point/cp.ckpt\n",
      "28/28 [==============================] - 6s 223ms/step - loss: 3.5545e-07 - acc: 1.0000 - val_loss: 0.0209 - val_acc: 0.9910\n",
      "Epoch 39/50\n",
      "27/28 [===========================>..] - ETA: 0s - loss: 3.3334e-07 - acc: 1.0000- ETA: 0s - loss: 3.7891e-07 - acc: 1 - ETA: 0s - loss: 3.4530e-07 - acc: 1.000\n",
      "Epoch 00039: loss improved from 0.00000 to 0.00000, saving model to check_point/cp.ckpt\n",
      "28/28 [==============================] - 6s 225ms/step - loss: 3.2728e-07 - acc: 1.0000 - val_loss: 0.0211 - val_acc: 0.9910\n",
      "Epoch 40/50\n",
      "27/28 [===========================>..] - ETA: 0s - loss: 3.0906e-07 - acc: 1.0000- ETA: 1s - loss: 6.7267e-07  - ETA: 0s - loss: 3.4309e-07 - acc:\n",
      "Epoch 00040: loss improved from 0.00000 to 0.00000, saving model to check_point/cp.ckpt\n",
      "28/28 [==============================] - 6s 225ms/step - loss: 3.0452e-07 - acc: 1.0000 - val_loss: 0.0212 - val_acc: 0.9910\n",
      "Epoch 41/50\n",
      "27/28 [===========================>..] - ETA: 0s - loss: 2.8560e-07 - acc: 1.0000- ETA: 0s - loss: 5.1994e-07 - acc: 1. - ETA: 0s - loss: 4.0440e-07 - acc:  - ETA: 0s - loss: 3.1882e-07 - acc: 1.0\n",
      "Epoch 00041: loss improved from 0.00000 to 0.00000, saving model to check_point/cp.ckpt\n",
      "28/28 [==============================] - 6s 219ms/step - loss: 2.8041e-07 - acc: 1.0000 - val_loss: 0.0214 - val_acc: 0.9910\n",
      "Epoch 42/50\n",
      "27/28 [===========================>..] - ETA: 0s - loss: 2.6132e-07 - acc: 1.0000\n",
      "Epoch 00042: loss improved from 0.00000 to 0.00000, saving model to check_point/cp.ckpt\n",
      "28/28 [==============================] - 6s 225ms/step - loss: 2.5657e-07 - acc: 1.0000 - val_loss: 0.0216 - val_acc: 0.9910\n",
      "Epoch 43/50\n",
      "27/28 [===========================>..] - ETA: 0s - loss: 2.4531e-07 - acc: 1.0000- ETA: 0s - loss: 3.3248e-07 - \n",
      "Epoch 00043: loss improved from 0.00000 to 0.00000, saving model to check_point/cp.ckpt\n",
      "28/28 [==============================] - 6s 227ms/step - loss: 2.4085e-07 - acc: 1.0000 - val_loss: 0.0217 - val_acc: 0.9910\n",
      "Epoch 44/50\n",
      "27/28 [===========================>..] - ETA: 0s - loss: 2.2490e-07 - acc: 1.0000\n",
      "Epoch 00044: loss improved from 0.00000 to 0.00000, saving model to check_point/cp.ckpt\n",
      "28/28 [==============================] - 6s 221ms/step - loss: 2.2081e-07 - acc: 1.0000 - val_loss: 0.0219 - val_acc: 0.9910\n",
      "Epoch 45/50\n",
      "27/28 [===========================>..] - ETA: 0s - loss: 2.0779e-07 - acc: 1.0000- ETA: 0s - loss: 1.7828e-07 \n",
      "Epoch 00045: loss improved from 0.00000 to 0.00000, saving model to check_point/cp.ckpt\n",
      "28/28 [==============================] - 6s 226ms/step - loss: 2.0401e-07 - acc: 1.0000 - val_loss: 0.0221 - val_acc: 0.9910\n",
      "Epoch 46/50\n",
      "27/28 [===========================>..] - ETA: 0s - loss: 1.9316e-07 - acc: 1.0000- ETA: 1s - loss: 2.4028e-07 - acc: 1.000 - ETA: 1s - loss: 2.1855e-07 - acc: 1.000 - ETA: 1s - loss: 1.9669e\n",
      "Epoch 00046: loss improved from 0.00000 to 0.00000, saving model to check_point/cp.ckpt\n",
      "28/28 [==============================] - 6s 225ms/step - loss: 1.8965e-07 - acc: 1.0000 - val_loss: 0.0222 - val_acc: 0.9910\n",
      "Epoch 47/50\n",
      "27/28 [===========================>..] - ETA: 0s - loss: 1.8019e-07 - acc: 1.0000- ETA: 1s - loss: 1.9868e-07 - acc - ETA: 0s - loss: 1.4262e-07 \n",
      "Epoch 00047: loss improved from 0.00000 to 0.00000, saving model to check_point/cp.ckpt\n",
      "28/28 [==============================] - 6s 221ms/step - loss: 1.7692e-07 - acc: 1.0000 - val_loss: 0.0225 - val_acc: 0.9910\n",
      "Epoch 48/50\n",
      "27/28 [===========================>..] - ETA: 0s - loss: 1.6529e-07 - acc: 1.0000- ETA: 0s - loss: 1.2269e-07 - ac - ETA: 0s - loss: 1.0710e-07 - acc: 1.0\n",
      "Epoch 00048: loss improved from 0.00000 to 0.00000, saving model to check_point/cp.ckpt\n",
      "28/28 [==============================] - 6s 227ms/step - loss: 1.6229e-07 - acc: 1.0000 - val_loss: 0.0227 - val_acc: 0.9910\n",
      "Epoch 49/50\n",
      "27/28 [===========================>..] - ETA: 0s - loss: 1.0458e-07 - acc: 1.0000- ETA: 0s - loss: 1.4218e-07 -  - ETA: 0s - loss: 1.2245e-07 - acc: 1.\n",
      "Epoch 00049: loss improved from 0.00000 to 0.00000, saving model to check_point/cp.ckpt\n",
      "28/28 [==============================] - 6s 227ms/step - loss: 1.5172e-07 - acc: 1.0000 - val_loss: 0.0229 - val_acc: 0.9910\n",
      "Epoch 50/50\n",
      "27/28 [===========================>..] - ETA: 0s - loss: 1.4322e-07 - acc: 1.0000\n",
      "Epoch 00050: loss improved from 0.00000 to 0.00000, saving model to check_point/cp.ckpt\n",
      "28/28 [==============================] - 6s 220ms/step - loss: 1.4061e-07 - acc: 1.0000 - val_loss: 0.0233 - val_acc: 0.9910\n"
     ]
    }
   ],
   "source": [
    "#모델의 가중치 저장\n",
    "checkpoint = ModelCheckpoint(filepath=checkpoint_path,\n",
    "            monitor='loss', \n",
    "            mode='min',\n",
    "            save_best_only=True,\n",
    "            save_weights_only=True,\n",
    "            verbose=1)\n",
    "\n",
    "#새로운 콜백으로 모델 훈련하기\n",
    "history = model.fit_generator(train_generator, \n",
    "            steps_per_epoch=math.ceil(train_generator.n / train_generator.batch_size), \n",
    "            epochs=50, \n",
    "            validation_data=val_generator, \n",
    "            validation_steps=math.ceil(val_generator.n / val_generator.batch_size), \n",
    "            callbacks=[checkpoint],\n",
    "            shuffle=False)"
   ]
  },
  {
   "cell_type": "code",
   "execution_count": 18,
   "id": "f4e780f8",
   "metadata": {
    "colab": {
     "base_uri": "https://localhost:8080/",
     "height": 372
    },
    "executionInfo": {
     "elapsed": 1873,
     "status": "ok",
     "timestamp": 1632227619931,
     "user": {
      "displayName": "Kim Monica",
      "photoUrl": "https://lh3.googleusercontent.com/a-/AOh14GinEw8dCma8Lg9LB0KhiZRlFm5XtBc4YU9ntHM6DvM=s64",
      "userId": "16683880778828171566"
     },
     "user_tz": -540
    },
    "id": "f4e780f8",
    "outputId": "92bb3c88-aee5-4b0b-f2dd-16582222ddae"
   },
   "outputs": [
    {
     "data": {
      "image/png": "[encoded data removed]",
      "text/plain": [
       "<Figure size 1080x360 with 2 Axes>"
      ]
     },
     "metadata": {},
     "output_type": "display_data"
    }
   ],
   "source": [
    "acc = history.history['acc']\n",
    "val_acc = history.history['val_acc']\n",
    "\n",
    "loss = history.history['loss']\n",
    "val_loss = history.history['val_loss']\n",
    "\n",
    "epochs = range(1, len(acc) +1)\n",
    "    \n",
    "    \n",
    "\n",
    "fig = plt.figure()\n",
    "fig.set_size_inches(15, 5)\n",
    "\n",
    "fig.add_subplot(1, 2, 1)\n",
    "plt.plot(epochs, acc, 'b', label ='Training acc')\n",
    "plt.plot(epochs, val_acc, 'r', label = 'Validation acc')\n",
    "plt.title('Training and validation accuracy')\n",
    "plt.legend()\n",
    "\n",
    "# plt.figure()\n",
    "fig.add_subplot(1, 2, 2) \n",
    "plt.plot(epochs, loss, 'b', label = \"Training loss\")\n",
    "plt.plot(epochs, val_loss, 'r', label ='Validation loss')\n",
    "plt.title('Training and validation lose')\n",
    "plt.legend()\n",
    "\n",
    "plt.show()"
   ]
  },
  {
   "cell_type": "code",
   "execution_count": 19,
   "id": "d39f5777",
   "metadata": {
    "colab": {
     "base_uri": "https://localhost:8080/"
    },
    "executionInfo": {
     "elapsed": 257,
     "status": "ok",
     "timestamp": 1632227627597,
     "user": {
      "displayName": "Kim Monica",
      "photoUrl": "https://lh3.googleusercontent.com/a-/AOh14GinEw8dCma8Lg9LB0KhiZRlFm5XtBc4YU9ntHM6DvM=s64",
      "userId": "16683880778828171566"
     },
     "user_tz": -540
    },
    "id": "d39f5777",
    "outputId": "7975e1e9-c81f-4d45-fb48-a15e6fed8463"
   },
   "outputs": [
    {
     "name": "stdout",
     "output_type": "stream",
     "text": [
      " C 드라이브의 볼륨에는 이름이 없습니다.\n",
      " 볼륨 일련 번호: 5848-7E5C\n",
      "\n",
      " C:\\Users\\yukir\\Documents\\Monicas_workspace\\Sign detection\\VGG\\check_point 디렉터리\n",
      "\n",
      "2021-09-24  오전 01:36    <DIR>          .\n",
      "2021-09-24  오전 01:36    <DIR>          ..\n",
      "2021-09-24  오전 01:36                71 checkpoint\n",
      "2021-09-24  오전 01:36             7,593 cp.ckpt.data-00000-of-00002\n",
      "2021-09-24  오전 01:36     1,090,792,776 cp.ckpt.data-00001-of-00002\n",
      "2021-09-24  오전 01:36             4,030 cp.ckpt.index\n",
      "               4개 파일       1,090,804,470 바이트\n",
      "               2개 디렉터리  346,172,858,368 바이트 남음\n"
     ]
    }
   ],
   "source": [
    "#맥에서는 !ls\n",
    "#저장된 checkpoint확인하기\n",
    "!dir {checkpoint_dir}"
   ]
  },
  {
   "cell_type": "code",
   "execution_count": 44,
   "id": "7693c4b4",
   "metadata": {
    "colab": {
     "base_uri": "https://localhost:8080/",
     "height": 35
    },
    "executionInfo": {
     "elapsed": 9,
     "status": "ok",
     "timestamp": 1632227629909,
     "user": {
      "displayName": "Kim Monica",
      "photoUrl": "https://lh3.googleusercontent.com/a-/AOh14GinEw8dCma8Lg9LB0KhiZRlFm5XtBc4YU9ntHM6DvM=s64",
      "userId": "16683880778828171566"
     },
     "user_tz": -540
    },
    "id": "7693c4b4",
    "outputId": "51b9c4de-1af6-4e71-e238-4f220904e0a6"
   },
   "outputs": [
    {
     "data": {
      "text/plain": [
       "'check_point\\\\cp.ckpt'"
      ]
     },
     "execution_count": 44,
     "metadata": {},
     "output_type": "execute_result"
    }
   ],
   "source": [
    "#가장 마지막에 만들어진 체크포인트 확인\n",
    "latest = tf.train.latest_checkpoint(checkpoint_dir)\n",
    "latest"
   ]
  },
  {
   "cell_type": "code",
   "execution_count": 26,
   "id": "e880aa45-573c-4172-991f-8ae5347e638c",
   "metadata": {},
   "outputs": [
    {
     "name": "stdout",
     "output_type": "stream",
     "text": [
      "12/12 [==============================] - 1s 52ms/step - loss: 1.5187 - acc: 0.2541\n",
      "훈련 안 한 모델의 정확도: 25.41%\n"
     ]
    }
   ],
   "source": [
    "#모델 평가\n",
    "model = create_model()\n",
    "loss, acc = model.evaluate(test_generator)\n",
    "print(\"훈련 안 한 모델의 정확도: {:5.2f}%\".format(100*acc))"
   ]
  },
  {
   "cell_type": "code",
   "execution_count": 22,
   "id": "f29a66f3",
   "metadata": {
    "colab": {
     "base_uri": "https://localhost:8080/"
    },
    "executionInfo": {
     "elapsed": 5014,
     "status": "ok",
     "timestamp": 1632227636075,
     "user": {
      "displayName": "Kim Monica",
      "photoUrl": "https://lh3.googleusercontent.com/a-/AOh14GinEw8dCma8Lg9LB0KhiZRlFm5XtBc4YU9ntHM6DvM=s64",
      "userId": "16683880778828171566"
     },
     "user_tz": -540
    },
    "id": "f29a66f3",
    "outputId": "c4096ef8-6510-4687-d456-4693c7344096"
   },
   "outputs": [
    {
     "name": "stdout",
     "output_type": "stream",
     "text": [
      "8/8 - 2s - loss: 1.5490 - acc: 0.1626\n",
      "훈련되지 않은 모델의 정확도: 16.26%\n"
     ]
    }
   ],
   "source": [
    "# 기본 모델 객체를 만듭니다\n",
    "model = create_model()\n",
    "\n",
    "# 모델을 평가합니다\n",
    "loss, acc = model.evaluate(val_generator, verbose=2)\n",
    "print(\"훈련되지 않은 모델의 정확도: {:5.2f}%\".format(100*acc))"
   ]
  },
  {
   "cell_type": "code",
   "execution_count": null,
   "id": "b96c5d56",
   "metadata": {},
   "outputs": [
    {
     "name": "stdout",
     "output_type": "stream",
     "text": [
      "7/7 [==============================] - 0s 47ms/step - loss: 0.0233 - acc: 0.9910\n",
      "복원된 모델의 정확도: 99.10%\n"
     ]
    }
   ],
   "source": [
    "# 가중치 로드\n",
    "model.load_weights(latest)\n",
    "\n",
    "# # 모델 재평가\n",
    "loss,acc = model.evaluate(val_generator)\n",
    "print(\"복원된 모델의 정확도: {:5.2f}%\".format(100*acc))"
   ]
  },
  {
   "cell_type": "code",
   "execution_count": 40,
   "id": "170e3175-3dad-4a77-b9f5-2d9fb641b7db",
   "metadata": {},
   "outputs": [
    {
     "name": "stdout",
     "output_type": "stream",
     "text": [
      "12/12 [==============================] - 1s 60ms/step - loss: 1.4562 - acc: 0.8541\n",
      "복원된 모델의 정확도: 85.41%\n"
     ]
    }
   ],
   "source": [
    "# 가중치 로드\n",
    "model.load_weights(latest)\n",
    "\n",
    "# # 모델 재평가\n",
    "loss,acc = model.evaluate(test_generator)\n",
    "print(\"복원된 모델의 정확도: {:5.2f}%\".format(100*acc))"
   ]
  },
  {
   "cell_type": "code",
   "execution_count": 41,
   "id": "63ab7078-de38-496e-a540-563eaed8620c",
   "metadata": {},
   "outputs": [
    {
     "name": "stdout",
     "output_type": "stream",
     "text": [
      "Found 97 images belonging to 4 classes.\n",
      "7/7 [==============================] - 0s 53ms/step - loss: 1.2547 - acc: 0.9175\n",
      "복원된 모델의 정확도: 91.75%\n"
     ]
    }
   ],
   "source": [
    "past_test_dir = 'C:\\\\Users\\\\yukir\\\\Documents\\Monicas_workspace\\\\Datasets\\\\For past test'\n",
    "test_datagen = ImageDataGenerator(rescale=1./255)\n",
    "past_test_generator = test_datagen.flow_from_directory(past_test_dir,batch_size=16, target_size=(200, 200), color_mode='rgb')\n",
    "\n",
    "# # 모델 재평가\n",
    "loss,acc = model.evaluate(past_test_generator)\n",
    "print(\"복원된 모델의 정확도: {:5.2f}%\".format(100*acc))"
   ]
  },
  {
   "cell_type": "markdown",
   "id": "cd33b009",
   "metadata": {
    "id": "cd33b009"
   },
   "source": [
    "#### final model save"
   ]
  },
  {
   "cell_type": "code",
   "execution_count": 50,
   "id": "a39f9021-d938-4f10-aafe-bc00146a8e74",
   "metadata": {},
   "outputs": [
    {
     "data": {
      "text/plain": [
       "'C:\\\\Users\\\\yukir\\\\Documents\\\\Monicas_workspace\\\\Sign detection\\\\VGG'"
      ]
     },
     "execution_count": 50,
     "metadata": {},
     "output_type": "execute_result"
    }
   ],
   "source": [
    "/pwd"
   ]
  },
  {
   "cell_type": "code",
   "execution_count": 52,
   "id": "84e67928",
   "metadata": {
    "colab": {
     "base_uri": "https://localhost:8080/"
    },
    "executionInfo": {
     "elapsed": 4686,
     "status": "ok",
     "timestamp": 1632224248692,
     "user": {
      "displayName": "Kim Monica",
      "photoUrl": "https://lh3.googleusercontent.com/a-/AOh14GinEw8dCma8Lg9LB0KhiZRlFm5XtBc4YU9ntHM6DvM=s64",
      "userId": "16683880778828171566"
     },
     "user_tz": -540
    },
    "id": "84e67928",
    "outputId": "f6207d72-2792-4e2a-fad6-c73a72d8c1d7"
   },
   "outputs": [
    {
     "name": "stdout",
     "output_type": "stream",
     "text": [
      "Saved model to disk\n"
     ]
    }
   ],
   "source": [
    "model.save('[0924]new_stratified_4class_91.h5')\n",
    "\n",
    "model_json = model.to_json()\n",
    "with open(\"[0924]new_stratified_4class_91.json\", \"w\") as json_file : \n",
    "    json_file.write(model_json)\n",
    "\n",
    "model.save_weights(\"[0924]new_stratified_4class_91_weight.h5\")\n",
    "print(\"Saved model to disk\")"
   ]
  },
  {
   "cell_type": "code",
   "execution_count": null,
   "id": "GEkJxX95GGoN",
   "metadata": {
    "colab": {
     "base_uri": "https://localhost:8080/"
    },
    "executionInfo": {
     "elapsed": 13,
     "status": "ok",
     "timestamp": 1632224249722,
     "user": {
      "displayName": "Kim Monica",
      "photoUrl": "https://lh3.googleusercontent.com/a-/AOh14GinEw8dCma8Lg9LB0KhiZRlFm5XtBc4YU9ntHM6DvM=s64",
      "userId": "16683880778828171566"
     },
     "user_tz": -540
    },
    "id": "GEkJxX95GGoN",
    "outputId": "b4455678-6e00-4c8b-cf13-0cb1a91c1192"
   },
   "outputs": [
    {
     "data": {
      "text/plain": [
       "{0: 'fragile', 1: 'handle', 2: 'up', 3: 'wet'}"
      ]
     },
     "execution_count": 28,
     "metadata": {},
     "output_type": "execute_result"
    }
   ],
   "source": [
    "label_dict = get_label_dict(train_generator)\n",
    "label_dict"
   ]
  },
  {
   "cell_type": "markdown",
   "id": "cdQV6WVGahO_",
   "metadata": {
    "id": "cdQV6WVGahO_"
   },
   "source": [
    "### Test"
   ]
  },
  {
   "cell_type": "markdown",
   "id": "vau93mQPdg_R",
   "metadata": {
    "id": "vau93mQPdg_R"
   },
   "source": [
    "#### test set"
   ]
  },
  {
   "cell_type": "code",
   "execution_count": 31,
   "id": "JIM8etArKMt6",
   "metadata": {
    "colab": {
     "base_uri": "https://localhost:8080/"
    },
    "executionInfo": {
     "elapsed": 276,
     "status": "ok",
     "timestamp": 1632224465449,
     "user": {
      "displayName": "Kim Monica",
      "photoUrl": "https://lh3.googleusercontent.com/a-/AOh14GinEw8dCma8Lg9LB0KhiZRlFm5XtBc4YU9ntHM6DvM=s64",
      "userId": "16683880778828171566"
     },
     "user_tz": -540
    },
    "id": "JIM8etArKMt6",
    "outputId": "1f758d01-1133-402c-9ed2-afebe43f2cd3"
   },
   "outputs": [
    {
     "data": {
      "text/plain": [
       "array([0, 0, 0, 0, 0, 0, 0, 0, 0, 0, 0, 0, 0, 0, 0, 0, 0, 0, 0, 0, 0, 0,\n",
       "       0, 0, 0, 0, 0, 0, 0, 0, 0, 0, 0, 0, 0, 0, 0, 0, 0, 0, 0, 0, 0, 0,\n",
       "       0, 0, 0, 0, 0, 0, 0, 0, 0, 0, 0, 0, 0, 1, 1, 1, 1, 1, 1, 1, 1, 1,\n",
       "       1, 1, 1, 1, 1, 1, 1, 1, 1, 1, 1, 2, 2, 2, 2, 2, 2, 2, 2, 2, 2, 2,\n",
       "       2, 2, 2, 2, 2, 2, 2, 2, 2, 2, 2, 2, 2, 2, 2, 2, 2, 2, 2, 2, 2, 2,\n",
       "       2, 2, 2, 2, 2, 2, 2, 2, 2, 2, 2, 2, 2, 2, 2, 2, 2, 2, 2, 2, 2, 2,\n",
       "       2, 2, 3, 3, 3, 3, 3, 3, 3, 3, 3, 3, 3, 3, 3, 3, 3, 3, 3, 3, 3, 3,\n",
       "       3, 3, 3, 3, 3, 3, 3, 3, 3, 3, 3, 3, 3, 3, 3, 3, 3, 3, 3, 3, 3, 3,\n",
       "       3, 3, 3, 3, 3, 3, 3, 3, 3])"
      ]
     },
     "execution_count": 31,
     "metadata": {},
     "output_type": "execute_result"
    }
   ],
   "source": [
    "test_generator.classes"
   ]
  },
  {
   "cell_type": "code",
   "execution_count": 34,
   "id": "bAh7UWyjdcOu",
   "metadata": {
    "colab": {
     "base_uri": "https://localhost:8080/"
    },
    "executionInfo": {
     "elapsed": 1392,
     "status": "ok",
     "timestamp": 1632224450560,
     "user": {
      "displayName": "Kim Monica",
      "photoUrl": "https://lh3.googleusercontent.com/a-/AOh14GinEw8dCma8Lg9LB0KhiZRlFm5XtBc4YU9ntHM6DvM=s64",
      "userId": "16683880778828171566"
     },
     "user_tz": -540
    },
    "id": "bAh7UWyjdcOu",
    "outputId": "5304ff26-7346-4a89-a09f-be4390fc7338"
   },
   "outputs": [
    {
     "name": "stdout",
     "output_type": "stream",
     "text": [
      "Confusion Matrix\n",
      "[[21  9 15 12]\n",
      " [ 4  5  4  7]\n",
      " [19  6 14 18]\n",
      " [18  6 16 11]]\n",
      "              precision    recall  f1-score   support\n",
      "\n",
      "     fragile       0.34      0.37      0.35        57\n",
      "      handle       0.19      0.25      0.22        20\n",
      "          up       0.29      0.25      0.26        57\n",
      "         wet       0.23      0.22      0.22        51\n",
      "\n",
      "    accuracy                           0.28       185\n",
      "   macro avg       0.26      0.27      0.26       185\n",
      "weighted avg       0.28      0.28      0.27       185\n",
      "\n"
     ]
    },
    {
     "data": {
      "text/plain": [
       "<Figure size 432x432 with 0 Axes>"
      ]
     },
     "metadata": {},
     "output_type": "display_data"
    },
    {
     "data": {
      "image/png": "[encoded data removed]",
      "text/plain": [
       "<Figure size 432x432 with 2 Axes>"
      ]
     },
     "metadata": {},
     "output_type": "display_data"
    }
   ],
   "source": [
    "#confusion matrix\n",
    "from sklearn.metrics import confusion_matrix\n",
    "\n",
    "# 1.Predict classes\n",
    "test_steps_per_epoch = np.math.ceil(test_generator.samples / test_generator.batch_size)\n",
    "\n",
    "\n",
    "predictions = model.predict_generator(test_generator, steps=test_steps_per_epoch)\n",
    "# print(predictions)\n",
    "# # Get most likely class axis=1(열로 가장 큰 수의 위치를 보겠다는 소리), \n",
    "predicted_classes = np.argmax(predictions, axis=1)\n",
    "\n",
    "# print(predicted_classes)\n",
    "# # 2.Get ground-truth classes and class-labels\n",
    "true_classes = test_generator.classes\n",
    "# print(true_classes)\n",
    "class_labels = list(test_generator.class_indices.keys())   \n",
    "# 3. Use scikit-learn to get statistics\n",
    "report = classification_report(true_classes, predicted_classes, target_names=class_labels)\n",
    "\n",
    "\n",
    "print('Confusion Matrix')\n",
    "print(confusion_matrix(test_generator.classes, predicted_classes))\n",
    "print(report)\n",
    "\n",
    "plt.figure(figsize=(6,6))\n",
    "con_test = confusion_matrix(test_generator.classes, predicted_classes)\n",
    "confusion_plot(con_test, 6)\n"
   ]
  },
  {
   "cell_type": "markdown",
   "id": "d738c8cd-ec78-4e91-8140-21e2566c569b",
   "metadata": {},
   "source": [
    "#### past test set"
   ]
  },
  {
   "cell_type": "code",
   "execution_count": 55,
   "id": "222c7f72-1074-46a6-876f-b920315afaad",
   "metadata": {},
   "outputs": [
    {
     "name": "stdout",
     "output_type": "stream",
     "text": [
      "Confusion Matrix\n",
      "[[20  6  6  8]\n",
      " [ 7  1  5  2]\n",
      " [11  5  5  4]\n",
      " [10  2  2  3]]\n",
      "              precision    recall  f1-score   support\n",
      "\n",
      "     fragile       0.42      0.50      0.45        40\n",
      "      handle       0.07      0.07      0.07        15\n",
      "          up       0.28      0.20      0.23        25\n",
      "         wet       0.18      0.18      0.18        17\n",
      "\n",
      "    accuracy                           0.30        97\n",
      "   macro avg       0.24      0.24      0.23        97\n",
      "weighted avg       0.29      0.30      0.29        97\n",
      "\n"
     ]
    },
    {
     "data": {
      "text/plain": [
       "<Figure size 432x432 with 0 Axes>"
      ]
     },
     "metadata": {},
     "output_type": "display_data"
    },
    {
     "data": {
      "image/png": "[encoded data removed]",
      "text/plain": [
       "<Figure size 432x432 with 2 Axes>"
      ]
     },
     "metadata": {},
     "output_type": "display_data"
    }
   ],
   "source": [
    "#confusion matrix\n",
    "from sklearn.metrics import confusion_matrix\n",
    "\n",
    "# 0. model loading\n",
    "model = create_model()\n",
    "model.load_weights(latest)\n",
    "\n",
    "# 1.Predict classes\n",
    "test_steps_per_epoch = np.math.ceil(past_test_generator.samples / past_test_generator.batch_size)\n",
    "\n",
    "\n",
    "predictions = model.predict_generator(past_test_generator, steps=test_steps_per_epoch)\n",
    "# print(predictions)\n",
    "# # Get most likely class axis=1(열로 가장 큰 수의 위치를 보겠다는 소리), \n",
    "predicted_classes = np.argmax(predictions, axis=1)\n",
    "\n",
    "# print(predicted_classes)\n",
    "# # 2.Get ground-truth classes and class-labels\n",
    "true_classes = past_test_generator.classes\n",
    "# print(true_classes)\n",
    "class_labels = list(past_test_generator.class_indices.keys())   \n",
    "# 3. Use scikit-learn to get statistics\n",
    "report = classification_report(true_classes, predicted_classes, target_names=class_labels)\n",
    "\n",
    "\n",
    "print('Confusion Matrix')\n",
    "print(confusion_matrix(past_test_generator.classes, predicted_classes))\n",
    "print(report)\n",
    "\n",
    "plt.figure(figsize=(6,6))\n",
    "con_test = confusion_matrix(past_test_generator.classes, predicted_classes)\n",
    "confusion_plot(con_test, 6)"
   ]
  },
  {
   "cell_type": "code",
   "execution_count": null,
   "id": "cc7f1fd8-48e2-45f7-a3cb-f124882d059f",
   "metadata": {},
   "outputs": [],
   "source": []
  }
 ],
 "metadata": {
  "accelerator": "GPU",
  "colab": {
   "collapsed_sections": [],
   "machine_shape": "hm",
   "name": "★[0921] (adam, stratified) 4_class_prevgg.ipynb의 사본",
   "provenance": [
    {
     "file_id": "19Rwgy1GTnV0hUBpdslOKrmwgS4-TiXxO",
     "timestamp": 1632226133611
    }
   ]
  },
  "kernelspec": {
   "display_name": "Python 3 (ipykernel)",
   "language": "python",
   "name": "python3"
  },
  "language_info": {
   "codemirror_mode": {
    "name": "ipython",
    "version": 3
   },
   "file_extension": ".py",
   "mimetype": "text/x-python",
   "name": "python",
   "nbconvert_exporter": "python",
   "pygments_lexer": "ipython3",
   "version": "3.7.11"
  },
  "toc": {
   "base_numbering": 1,
   "nav_menu": {},
   "number_sections": true,
   "sideBar": true,
   "skip_h1_title": false,
   "title_cell": "Table of Contents",
   "title_sidebar": "Contents",
   "toc_cell": false,
   "toc_position": {},
   "toc_section_display": true,
   "toc_window_display": false
  },
  "varInspector": {
   "cols": {
    "lenName": 16,
    "lenType": 16,
    "lenVar": 40
   },
   "kernels_config": {
    "python": {
     "delete_cmd_postfix": "",
     "delete_cmd_prefix": "del ",
     "library": "var_list.py",
     "varRefreshCmd": "print(var_dic_list())"
    },
    "r": {
     "delete_cmd_postfix": ") ",
     "delete_cmd_prefix": "rm(",
     "library": "var_list.r",
     "varRefreshCmd": "cat(var_dic_list()) "
    }
   },
   "types_to_exclude": [
    "module",
    "function",
    "builtin_function_or_method",
    "instance",
    "_Feature"
   ],
   "window_display": false
  }
 },
 "nbformat": 4,
 "nbformat_minor": 5
}
