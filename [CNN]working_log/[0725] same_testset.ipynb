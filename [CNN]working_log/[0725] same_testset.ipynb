{
 "cells": [
  {
   "cell_type": "code",
   "execution_count": 1,
   "metadata": {},
   "outputs": [
    {
     "name": "stdout",
     "output_type": "stream",
     "text": [
      "C:\\Users\\yukir\\Documents\\Monicas_workspace\\py_storage\n"
     ]
    }
   ],
   "source": [
    "%cd C:\\Users\\yukir\\Documents\\Monicas_workspace\\py_storage"
   ]
  },
  {
   "cell_type": "code",
   "execution_count": 2,
   "metadata": {},
   "outputs": [],
   "source": [
    "from basic_preprocessing import *"
   ]
  },
  {
   "cell_type": "code",
   "execution_count": 3,
   "metadata": {},
   "outputs": [],
   "source": [
    "from deeplearning_check import *"
   ]
  },
  {
   "cell_type": "code",
   "execution_count": 4,
   "metadata": {},
   "outputs": [
    {
     "data": {
      "text/plain": [
       "'C:\\\\Users\\\\yukir\\\\Documents\\\\Monicas_workspace\\\\py_storage'"
      ]
     },
     "execution_count": 4,
     "metadata": {},
     "output_type": "execute_result"
    }
   ],
   "source": [
    "/pwd"
   ]
  },
  {
   "cell_type": "code",
   "execution_count": 5,
   "metadata": {},
   "outputs": [
    {
     "name": "stdout",
     "output_type": "stream",
     "text": [
      "C:\\Users\\yukir\\Documents\\Monicas_workspace\\Sign detection\\classification\n"
     ]
    }
   ],
   "source": [
    "%cd C:\\Users\\yukir\\Documents\\Monicas_workspace\\Sign detection\\classification"
   ]
  },
  {
   "cell_type": "code",
   "execution_count": 6,
   "metadata": {
    "colab": {
     "base_uri": "https://localhost:8080/"
    },
    "id": "Dni62IFckfY_",
    "outputId": "27a387d6-1e56-4a9b-fbb4-64ff81d3637a"
   },
   "outputs": [],
   "source": [
    "IMG_SIZE = 100\n",
    "NUM_EPOCHS = 10\n",
    "NUM_CLASSES = 2\n",
    "TRAIN_BATCH_SIZE = 77\n",
    "TEST_BATCH_SIZE = 1 \n",
    "opt =  tf.optimizers.Adam()"
   ]
  },
  {
   "cell_type": "code",
   "execution_count": 7,
   "metadata": {
    "id": "eJflUpf-qdjd"
   },
   "outputs": [],
   "source": [
    "def create_model():\n",
    "  #resnet_weights_path = '/content/drive/MyDrive/Caba2012_colab/Fire_dt/models/resnet.h5'\n",
    "  #resnet_weights_path = '../input/resnet50/resnet50_weights_tf_dim_ordering_tf_kernels_notop.h5'\n",
    "\n",
    "  #weigths = weights=resnet_weights_path ->none\n",
    "  resnet = ResNet50(include_top=False, pooling='avg', weights = None)\n",
    "  #resnet.summary()\n",
    "  my_new_model = Sequential()\n",
    "  my_new_model.add(resnet)\n",
    "  my_new_model.layers[0].trainable = True\n",
    "  my_new_model.add(Dense(NUM_CLASSES, activation='softmax')) #dense 3, NUM_CLASSES = 3\n",
    "\n",
    "  # Say no to train first layer (ResNet) model. It is already trained\n",
    "    \n",
    "  opt =  tf.optimizers.Adam()\n",
    "   #opt바꾼거 확인해\n",
    "  my_new_model.compile(optimizer=opt, loss='categorical_crossentropy', metrics=['accuracy'])\n",
    "\n",
    "  return my_new_model"
   ]
  },
  {
   "cell_type": "code",
   "execution_count": 8,
   "metadata": {},
   "outputs": [
    {
     "data": {
      "text/plain": [
       "'C:\\\\Users\\\\yukir\\\\Documents\\\\Monicas_workspace\\\\Sign detection\\\\classification'"
      ]
     },
     "execution_count": 8,
     "metadata": {},
     "output_type": "execute_result"
    }
   ],
   "source": [
    "/pwd"
   ]
  },
  {
   "cell_type": "code",
   "execution_count": 9,
   "metadata": {},
   "outputs": [],
   "source": [
    "def train_model( model ):\n",
    "    data_generator = ImageDataGenerator(rescale=1./255)\n",
    "\n",
    "    train_generator = data_generator.flow_from_directory(\n",
    "        'C:\\\\Users\\\\yukir\\\\Documents\\\\Monicas_workspace\\\\Datasets\\\\0723\\\\[0723] dataset\\\\train', \n",
    "        target_size=(IMG_SIZE, IMG_SIZE),\n",
    "        batch_size=TEST_BATCH_SIZE,\n",
    "        shuffle = False,\n",
    "        class_mode='categorical')\n",
    "\n",
    "    validation_generator = data_generator.flow_from_directory(\n",
    "        'C:\\\\Users\\\\yukir\\\\Documents\\\\Monicas_workspace\\\\Datasets\\\\0723\\\\[0723] dataset\\\\val', \n",
    "        target_size=(IMG_SIZE, IMG_SIZE),\n",
    "        batch_size=TEST_BATCH_SIZE,\n",
    "        shuffle = False,\n",
    "        class_mode='categorical')\n",
    "\n",
    "\n",
    "\n",
    "    test_generator = data_generator.flow_from_directory(\n",
    "        'C:\\\\Users\\\\yukir\\\\Documents\\\\Monicas_workspace\\\\Datasets\\\\0723\\\\[0723] dataset\\\\test', \n",
    "        target_size=(IMG_SIZE, IMG_SIZE),\n",
    "        batch_size=TEST_BATCH_SIZE,\n",
    "        shuffle = False,\n",
    "        class_mode='categorical')\n",
    "\n",
    "    H = model.fit(\n",
    "                train_generator,\n",
    "                steps_per_epoch=train_generator.n/TRAIN_BATCH_SIZE,\n",
    "                epochs=NUM_EPOCHS,\n",
    "                validation_data=validation_generator,\n",
    "                validation_steps = 1 \n",
    "                #,\n",
    "                #class_weight=dict_weights\n",
    "                    )\n",
    "    \n",
    "    plot_history( H, NUM_EPOCHS )\n",
    "    \n",
    "    return H, model, train_generator, validation_generator ,test_generator\n",
    "    "
   ]
  },
  {
   "cell_type": "code",
   "execution_count": 10,
   "metadata": {
    "id": "V6anMevUpB7k"
   },
   "outputs": [],
   "source": [
    "def get_label_dict(train_generator ):\n",
    "# Get label to class_id mapping\n",
    "    labels = (train_generator.class_indices)\n",
    "    label_dict = dict((v,k) for k,v in labels.items())\n",
    "    return  label_dict   "
   ]
  },
  {
   "cell_type": "code",
   "execution_count": 11,
   "metadata": {
    "id": "8plvW7aYpGXn"
   },
   "outputs": [],
   "source": [
    "def get_labels( test_generator ):\n",
    "    test_generator.reset()\n",
    "    labels = []\n",
    "    for i in range(len(generator)):\n",
    "        labels.extend(np.array(generator[i][1]) )\n",
    "    return np.argmax(labels, axis =1)"
   ]
  },
  {
   "cell_type": "code",
   "execution_count": 12,
   "metadata": {
    "id": "_Yn0xl2qpHyI"
   },
   "outputs": [],
   "source": [
    "def get_pred_labels( test_generator):\n",
    "    test_generator.reset()\n",
    "    pred_vec=model.predict_generator(test_generator,\n",
    "                                     steps=test_generator.n, #test_generator.batch_size\n",
    "                                     verbose=1)\n",
    "    return np.argmax( pred_vec, axis = 1), np.max(pred_vec, axis = 1)"
   ]
  },
  {
   "cell_type": "code",
   "execution_count": 13,
   "metadata": {
    "id": "CEyRoMZepNE5"
   },
   "outputs": [],
   "source": [
    "def plot_history( H, NUM_EPOCHS ):\n",
    "    plt.style.use(\"ggplot\")\n",
    "    fig = plt.figure()\n",
    "    fig.set_size_inches(15, 5)\n",
    "    \n",
    "    fig.add_subplot(1, 3, 1)\n",
    "    plt.plot(np.arange(0, NUM_EPOCHS), H.history[\"loss\"], label=\"train_loss\")\n",
    "    plt.plot(np.arange(0, NUM_EPOCHS), H.history[\"val_loss\"], label=\"val_loss\")\n",
    "    plt.title(\"Training Loss and Validation Loss on Dataset\")\n",
    "    plt.xlabel(\"Epoch #\")\n",
    "    plt.ylabel(\"Loss\")\n",
    "    plt.legend(loc=\"lower left\")\n",
    "\n",
    "    \n",
    "    fig.add_subplot(1, 3, 2)\n",
    "    plt.plot(np.arange(0, NUM_EPOCHS), H.history[\"loss\"], label=\"train_loss\")\n",
    "    plt.plot(np.arange(0, NUM_EPOCHS), H.history[\"accuracy\"], label=\"train_accuracy\")\n",
    "    plt.title(\"Training Loss and Accuracy on Dataset\")\n",
    "    plt.xlabel(\"Epoch #\")\n",
    "    plt.ylabel(\"Loss/Accuracy\")\n",
    "    plt.legend(loc=\"lower left\")\n",
    "    \n",
    "    fig.add_subplot(1, 3, 3)\n",
    "    plt.plot(np.arange(0, NUM_EPOCHS), H.history[\"val_loss\"], label=\"val_loss\")\n",
    "    plt.plot(np.arange(0, NUM_EPOCHS), H.history[\"val_accuracy\"], label=\"val_accuracy\")\n",
    "    plt.title(\"Validation Loss and Accuracy on Dataset\")\n",
    "    plt.xlabel(\"Epoch #\")\n",
    "    plt.ylabel(\"Loss/Accuracy\")\n",
    "    plt.legend(loc=\"lower left\")\n",
    "\n",
    "\n",
    "    plt.show()"
   ]
  },
  {
   "cell_type": "code",
   "execution_count": 14,
   "metadata": {
    "id": "1fwwknDmpVz1"
   },
   "outputs": [],
   "source": [
    "def draw_prediction( frame, class_string ):\n",
    "    x_start = frame.shape[1]- 600 # 위치\n",
    "    cv2.putText(frame, class_string, (10,50), cv2.FONT_HERSHEY_SIMPLEX, 1, (255, 0, 0), 2, cv2.LINE_AA)\n",
    "    return frame"
   ]
  },
  {
   "cell_type": "code",
   "execution_count": 15,
   "metadata": {
    "id": "qEw6aM4QpXPY"
   },
   "outputs": [],
   "source": [
    "def prepare_image_for_prediction( img):\n",
    "   \n",
    "    # convert 3D tensor to 4D tensor with shape (1, 224, 224, 3) and return 4D tensor\n",
    "    # The below function inserts an additional dimension at the axis position provided\n",
    "    img = np.expand_dims(img, axis=0)\n",
    "    # perform pre-processing that was done when resnet model was trained.\n",
    "    return preprocess_input(img)"
   ]
  },
  {
   "cell_type": "markdown",
   "metadata": {},
   "source": [
    "#### Training"
   ]
  },
  {
   "cell_type": "code",
   "execution_count": 16,
   "metadata": {
    "colab": {
     "base_uri": "https://localhost:8080/"
    },
    "id": "mV82B4WEq0sa",
    "outputId": "318b94f6-2c3f-4d2b-c214-0d12bcaac508"
   },
   "outputs": [
    {
     "name": "stdout",
     "output_type": "stream",
     "text": [
      "Model: \"sequential\"\n",
      "_________________________________________________________________\n",
      "Layer (type)                 Output Shape              Param #   \n",
      "=================================================================\n",
      "resnet50 (Model)             (None, 2048)              23587712  \n",
      "_________________________________________________________________\n",
      "dense (Dense)                (None, 2)                 4098      \n",
      "=================================================================\n",
      "Total params: 23,591,810\n",
      "Trainable params: 23,538,690\n",
      "Non-trainable params: 53,120\n",
      "_________________________________________________________________\n"
     ]
    }
   ],
   "source": [
    "model = create_model()\n",
    "model.summary()"
   ]
  },
  {
   "cell_type": "code",
   "execution_count": 17,
   "metadata": {
    "colab": {
     "base_uri": "https://localhost:8080/",
     "height": 1000
    },
    "id": "x6w80-rCp3oS",
    "outputId": "6678c20c-3f68-4bcb-e81d-756f2984e58b"
   },
   "outputs": [
    {
     "name": "stdout",
     "output_type": "stream",
     "text": [
      "Found 2968 images belonging to 2 classes.\n",
      "Found 370 images belonging to 2 classes.\n",
      "Found 374 images belonging to 2 classes.\n",
      "Epoch 1/10\n",
      "39/38 [==============================] - 2s 52ms/step - loss: 3.0720 - accuracy: 0.4615 - val_loss: 0.8507 - val_accuracy: 0.0000e+00\n",
      "Epoch 2/10\n",
      "39/38 [==============================] - 1s 31ms/step - loss: 2.7978 - accuracy: 0.5385 - val_loss: 1.3382 - val_accuracy: 0.0000e+00\n",
      "Epoch 3/10\n",
      "39/38 [==============================] - 2s 40ms/step - loss: 0.6967 - accuracy: 0.6667 - val_loss: 0.2266 - val_accuracy: 1.0000\n",
      "Epoch 4/10\n",
      "39/38 [==============================] - 1s 32ms/step - loss: 1.6449 - accuracy: 0.6154 - val_loss: 2.0075 - val_accuracy: 0.0000e+00\n",
      "Epoch 5/10\n",
      "39/38 [==============================] - 1s 32ms/step - loss: 2.6465 - accuracy: 0.4872 - val_loss: 4.5299e-06 - val_accuracy: 1.0000\n",
      "Epoch 6/10\n",
      "39/38 [==============================] - 1s 33ms/step - loss: 1.3331 - accuracy: 0.3590 - val_loss: 2.2528e-04 - val_accuracy: 1.0000\n",
      "Epoch 7/10\n",
      "39/38 [==============================] - 1s 32ms/step - loss: 1.1641 - accuracy: 0.4103 - val_loss: 0.0011 - val_accuracy: 1.0000\n",
      "Epoch 8/10\n",
      "39/38 [==============================] - 1s 31ms/step - loss: 0.9526 - accuracy: 0.5128 - val_loss: 0.0035 - val_accuracy: 1.0000\n",
      "Epoch 9/10\n",
      "39/38 [==============================] - 1s 32ms/step - loss: 1.5888 - accuracy: 0.3846 - val_loss: 0.3963 - val_accuracy: 1.0000\n",
      "Epoch 10/10\n",
      "39/38 [==============================] - 1s 32ms/step - loss: 1.4823 - accuracy: 0.5385 - val_loss: 0.0452 - val_accuracy: 1.0000\n"
     ]
    },
    {
     "data": {
      "image/png": "[encoded data removed]",
      "text/plain": [
       "<Figure size 1080x360 with 3 Axes>"
      ]
     },
     "metadata": {},
     "output_type": "display_data"
    }
   ],
   "source": [
    "H, trained_model,train_generator,validation_generator, test_generator = train_model(model)\n",
    "label_dict= get_label_dict(train_generator)\n",
    "#model.compile(optimizer=opt, loss='categorical_crossentropy', metrics=['accuracy'])\n",
    "#model.save('/content/drive/MyDrive/Caba2012_colab/Fire_dt/models/resnet.h5')"
   ]
  },
  {
   "cell_type": "code",
   "execution_count": 18,
   "metadata": {
    "colab": {
     "base_uri": "https://localhost:8080/"
    },
    "id": "x5DMOwKzMlHe",
    "outputId": "d8f899ee-be37-4be5-dcbd-a81ebc442455"
   },
   "outputs": [
    {
     "data": {
      "image/png": "[encoded data removed]",
      "text/plain": [
       "<Figure size 1080x360 with 2 Axes>"
      ]
     },
     "metadata": {},
     "output_type": "display_data"
    }
   ],
   "source": [
    "acc = H.history['accuracy']\n",
    "val_acc = H.history['val_accuracy']\n",
    "\n",
    "loss = H.history['loss']\n",
    "val_loss = H.history['val_loss']\n",
    "\n",
    "epochs = range(1, len(acc) +1)\n",
    "    \n",
    "    \n",
    "\n",
    "fig = plt.figure()\n",
    "fig.set_size_inches(15, 5)\n",
    "\n",
    "fig.add_subplot(1, 2, 1)\n",
    "plt.plot(epochs, acc, 'b', label ='Training acc')\n",
    "plt.plot(epochs, val_acc, 'r', label = 'Validation acc')\n",
    "plt.title('Training and validation accuracy')\n",
    "plt.legend()\n",
    "\n",
    "# plt.figure()\n",
    "fig.add_subplot(1, 2, 2) \n",
    "plt.plot(epochs, loss, 'b', label = \"Training loss\")\n",
    "plt.plot(epochs, val_loss, 'r', label ='Validation loss')\n",
    "plt.title('Training and validation lose')\n",
    "plt.legend()\n",
    "\n",
    "plt.show()"
   ]
  },
  {
   "cell_type": "code",
   "execution_count": 19,
   "metadata": {},
   "outputs": [],
   "source": [
    "model.compile(optimizer = optimizers.RMSprop(lr=2e-5),\n",
    "             loss='categorical_crossentropy',\n",
    "             metrics=['accuracy',\\\n",
    "                      tf.keras.metrics.Precision(name='precision')\\\n",
    "                          ,tf.keras.metrics.Recall(name='recall')\\\n",
    "                          ,tf.keras.metrics.FalsePositives(name='false_positives')\\\n",
    "                          ,tf.keras.metrics.FalseNegatives(name='false_negatives'),\\\n",
    "                      tf.keras.metrics.TruePositives(name ='true_positives'),\\\n",
    "                     tf.keras.metrics.TrueNegatives(name ='true_negatives')])\n",
    "# #                      tf.keras.metrics.SensitivityAtSpecificity(specificity, num_thresholds=200, name='SensitivityAtSpecificity', dtype=None),\\\n",
    "#                      tf.keras.metrics.SpecificityAtSensitivity(name='SpecificityAtSensitivity')])"
   ]
  },
  {
   "cell_type": "code",
   "execution_count": 20,
   "metadata": {},
   "outputs": [
    {
     "data": {
      "text/plain": [
       "{'loss': [3.072030544281006,\n",
       "  2.7977566719055176,\n",
       "  0.6967408657073975,\n",
       "  1.6448928117752075,\n",
       "  2.6465132236480713,\n",
       "  1.3330634832382202,\n",
       "  1.1640713214874268,\n",
       "  0.9526292085647583,\n",
       "  1.5887647867202759,\n",
       "  1.4822618961334229],\n",
       " 'accuracy': [0.4615384638309479,\n",
       "  0.5384615659713745,\n",
       "  0.6666666865348816,\n",
       "  0.6153846383094788,\n",
       "  0.4871794879436493,\n",
       "  0.3589743673801422,\n",
       "  0.41025641560554504,\n",
       "  0.5128205418586731,\n",
       "  0.38461539149284363,\n",
       "  0.5384615659713745],\n",
       " 'val_loss': [0.8507184982299805,\n",
       "  1.33819580078125,\n",
       "  0.2266218364238739,\n",
       "  2.007517099380493,\n",
       "  4.529942543740617e-06,\n",
       "  0.0002252801787108183,\n",
       "  0.0010627818992361426,\n",
       "  0.0034575224854052067,\n",
       "  0.39632099866867065,\n",
       "  0.04516447335481644],\n",
       " 'val_accuracy': [0.0, 0.0, 1.0, 0.0, 1.0, 1.0, 1.0, 1.0, 1.0, 1.0]}"
      ]
     },
     "execution_count": 20,
     "metadata": {},
     "output_type": "execute_result"
    }
   ],
   "source": [
    "# 반환되는 \"이력\" 객체는 훈련 중 손실 값과 메트릭 값에 대한 레코드를 유지합니다.\n",
    "H.history"
   ]
  },
  {
   "cell_type": "code",
   "execution_count": 21,
   "metadata": {},
   "outputs": [
    {
     "name": "stdout",
     "output_type": "stream",
     "text": [
      "374/374 [==============================] - 4s 11ms/step - loss: 1.5407 - accuracy: 0.5294 - precision: 0.5294 - recall: 0.5294 - false_positives: 176.0000 - false_negatives: 176.0000 - true_positives: 198.0000 - true_negatives: 198.0000\n"
     ]
    },
    {
     "data": {
      "text/plain": [
       "list"
      ]
     },
     "execution_count": 21,
     "metadata": {},
     "output_type": "execute_result"
    }
   ],
   "source": [
    "result = model.evaluate(test_generator)\n",
    "type(result)"
   ]
  },
  {
   "cell_type": "code",
   "execution_count": 22,
   "metadata": {},
   "outputs": [],
   "source": [
    "def evaluating_each(result):\n",
    "    from keras import backend as K\n",
    "    \n",
    "    loss = result[0]\n",
    "    accuracy = result[1]\n",
    "    precision = result[2]\n",
    "    recall = result[3]\n",
    "    f_p = int(result[4])\n",
    "    f_n = int(result[5])\n",
    "    t_p = int(result[6])\n",
    "    t_n = int(result[7])\n",
    "    \n",
    "    f1_score = (2 * recall * precision) / (recall + precision + K.epsilon())\n",
    "    sensitivity = t_p / (t_p + f_n)\n",
    "    specificity = t_n/ (t_n + f_p)\n",
    "    \n",
    "    print(\"\"\"loss:{:.3f}, \\naccuracy:{:.3f}, \\nprecision:{:.3f}, \\nrecall:{:.3f}, \\nFalse_positive:{}, \\nFalse_negative, :{}, \\nTrue_positive:{}, \\nTrue_negative:{}, \\nSensitivity:{:.3f}, \\nSpecificity:{:.3f}, \\nF1_score:{:.3f}\"\"\".format(loss, accuracy, precision, recall, f_p, f_n, t_p, t_n, sensitivity, specificity, f1_score))\n",
    "    return loss, accuracy, precision, recall, f_p, f_n, t_p, t_n, sensitivity, specificity, f1_score"
   ]
  },
  {
   "cell_type": "code",
   "execution_count": 23,
   "metadata": {},
   "outputs": [
    {
     "name": "stdout",
     "output_type": "stream",
     "text": [
      "loss:1.541, \n",
      "accuracy:0.529, \n",
      "precision:0.529, \n",
      "recall:0.529, \n",
      "False_positive:176, \n",
      "False_negative, :176, \n",
      "True_positive:198, \n",
      "True_negative:198, \n",
      "Sensitivity:0.529, \n",
      "Specificity:0.529, \n",
      "F1_score:0.529\n"
     ]
    },
    {
     "data": {
      "text/plain": [
       "(1.5406627655029297,\n",
       " 0.529411792755127,\n",
       " 0.529411792755127,\n",
       " 0.529411792755127,\n",
       " 176,\n",
       " 176,\n",
       " 198,\n",
       " 198,\n",
       " 0.5294117647058824,\n",
       " 0.5294117647058824,\n",
       " 0.5294117427551317)"
      ]
     },
     "execution_count": 23,
     "metadata": {},
     "output_type": "execute_result"
    }
   ],
   "source": [
    "evaluating_each(result)"
   ]
  },
  {
   "cell_type": "code",
   "execution_count": 24,
   "metadata": {},
   "outputs": [
    {
     "data": {
      "text/plain": [
       "{0: 'fragile', 1: 'up'}"
      ]
     },
     "execution_count": 24,
     "metadata": {},
     "output_type": "execute_result"
    }
   ],
   "source": [
    "get_label_dict(train_generator)"
   ]
  },
  {
   "cell_type": "code",
   "execution_count": 25,
   "metadata": {},
   "outputs": [],
   "source": [
    "def get_labels( generator ):\n",
    "    generator.reset()\n",
    "    labels = []\n",
    "    for i in range(len(generator)):\n",
    "        labels.extend(np.array(generator[i][1]) )\n",
    "    return np.argmax(labels, axis =1)"
   ]
  },
  {
   "cell_type": "code",
   "execution_count": 26,
   "metadata": {},
   "outputs": [
    {
     "data": {
      "text/plain": [
       "array([0, 0, 0, ..., 1, 1, 1], dtype=int64)"
      ]
     },
     "execution_count": 26,
     "metadata": {},
     "output_type": "execute_result"
    }
   ],
   "source": [
    "get_labels(train_generator)"
   ]
  },
  {
   "cell_type": "code",
   "execution_count": 27,
   "metadata": {},
   "outputs": [
    {
     "name": "stdout",
     "output_type": "stream",
     "text": [
      "WARNING:tensorflow:From C:\\Users\\yukir\\AppData\\Local\\Temp/ipykernel_17812/1763928774.py:3: Model.predict_generator (from tensorflow.python.keras.engine.training) is deprecated and will be removed in a future version.\n",
      "Instructions for updating:\n",
      "Please use Model.predict, which supports generators.\n",
      "374/374 [==============================] - 3s 7ms/step\n"
     ]
    },
    {
     "data": {
      "text/plain": [
       "(array([0, 0, 0, 0, 0, 0, 0, 0, 0, 0, 0, 0, 0, 0, 0, 0, 0, 0, 0, 0, 0, 0,\n",
       "        0, 0, 0, 0, 0, 0, 0, 0, 0, 0, 0, 0, 0, 0, 0, 0, 0, 0, 0, 0, 0, 0,\n",
       "        0, 0, 0, 0, 0, 0, 0, 0, 0, 0, 0, 0, 0, 0, 0, 1, 0, 0, 0, 0, 0, 0,\n",
       "        0, 0, 0, 0, 0, 0, 0, 0, 0, 0, 0, 0, 0, 0, 0, 0, 0, 0, 0, 0, 0, 0,\n",
       "        1, 0, 0, 0, 0, 0, 0, 0, 0, 0, 0, 0, 0, 0, 0, 0, 0, 0, 0, 0, 0, 0,\n",
       "        0, 0, 0, 0, 0, 0, 0, 0, 0, 0, 0, 0, 0, 0, 0, 0, 0, 0, 0, 0, 0, 0,\n",
       "        0, 0, 0, 0, 0, 0, 0, 0, 0, 0, 0, 0, 0, 0, 0, 0, 0, 0, 0, 0, 0, 0,\n",
       "        0, 1, 0, 0, 0, 0, 1, 0, 0, 0, 1, 0, 1, 0, 0, 0, 1, 0, 0, 0, 0, 1,\n",
       "        0, 0, 0, 0, 0, 0, 0, 0, 0, 0, 0, 0, 0, 0, 0, 0, 0, 0, 0, 0, 0, 0,\n",
       "        0, 0, 0, 0, 0, 0, 0, 0, 0, 0, 0, 0, 0, 0, 0, 0, 0, 0, 0, 0, 0, 0,\n",
       "        0, 0, 0, 0, 0, 0, 0, 0, 0, 0, 0, 0, 0, 0, 0, 0, 0, 0, 0, 0, 1, 0,\n",
       "        0, 0, 0, 0, 0, 0, 0, 0, 0, 0, 0, 0, 0, 0, 0, 0, 0, 0, 0, 0, 0, 0,\n",
       "        1, 0, 0, 1, 0, 0, 0, 0, 0, 0, 0, 1, 1, 0, 0, 0, 0, 1, 0, 0, 0, 0,\n",
       "        0, 0, 0, 1, 0, 0, 0, 1, 0, 0, 0, 0, 0, 0, 0, 0, 0, 0, 0, 0, 0, 0,\n",
       "        0, 0, 0, 0, 0, 0, 0, 0, 0, 0, 0, 0, 0, 0, 0, 0, 0, 0, 0, 0, 0, 0,\n",
       "        0, 1, 1, 0, 1, 1, 0, 1, 0, 0, 0, 0, 0, 0, 1, 0, 0, 0, 0, 0, 0, 1,\n",
       "        0, 0, 1, 0, 0, 0, 1, 0, 0, 0, 0, 0, 0, 0, 0, 0, 0, 1, 0, 0, 1, 0],\n",
       "       dtype=int64),\n",
       " array([0.94874555, 0.9942199 , 0.9563512 , 0.69727945, 0.7805757 ,\n",
       "        0.956231  , 0.9723646 , 0.9567644 , 0.9568502 , 0.9567447 ,\n",
       "        0.9573049 , 0.95700365, 0.95705104, 0.95715755, 0.9573638 ,\n",
       "        0.95655364, 0.95809376, 0.95709187, 0.956369  , 0.9564426 ,\n",
       "        0.9568843 , 0.9563497 , 0.9563858 , 0.956551  , 0.95665324,\n",
       "        0.9569049 , 0.95746124, 0.95693433, 0.9568881 , 0.9565027 ,\n",
       "        0.957029  , 0.95655143, 0.9566539 , 0.95659846, 0.9563907 ,\n",
       "        0.9566875 , 0.95706195, 0.9569384 , 0.95699537, 0.9563386 ,\n",
       "        0.95684975, 0.956604  , 0.9566974 , 0.9568927 , 0.95698774,\n",
       "        0.9566564 , 0.95739514, 0.9573714 , 0.95669794, 0.9566638 ,\n",
       "        0.99992836, 0.95735085, 0.9581374 , 0.9917806 , 0.9570551 ,\n",
       "        0.95691425, 0.95762455, 0.6166541 , 0.9591306 , 0.83780843,\n",
       "        0.95618093, 0.62169725, 0.9563185 , 0.6848036 , 0.99237216,\n",
       "        0.9560321 , 0.9567452 , 0.58300203, 0.95693207, 0.9569551 ,\n",
       "        0.71892667, 0.96651477, 0.9574101 , 0.9673876 , 0.95662516,\n",
       "        0.95746857, 0.7880449 , 0.9562364 , 0.95662576, 0.9564356 ,\n",
       "        0.9571236 , 0.9525825 , 0.9566033 , 0.9562505 , 0.9565936 ,\n",
       "        0.95700717, 0.9568185 , 0.9945909 , 0.6159338 , 0.9748898 ,\n",
       "        0.9567934 , 0.727893  , 0.9593717 , 0.9908251 , 0.9170952 ,\n",
       "        0.9578253 , 0.8329785 , 0.72326845, 0.9584951 , 0.9589932 ,\n",
       "        0.62692463, 0.95859385, 0.9725696 , 0.95871276, 0.9588086 ,\n",
       "        0.95889807, 0.9591888 , 0.95928043, 0.9668864 , 0.95885146,\n",
       "        0.6970917 , 0.93348664, 0.72814596, 0.96556735, 0.9604061 ,\n",
       "        0.9599178 , 0.9604475 , 0.9612609 , 0.9590965 , 0.9592811 ,\n",
       "        0.959103  , 0.96130764, 0.9609358 , 0.96077764, 0.94330645,\n",
       "        0.95931935, 0.96255344, 0.95937157, 0.9598659 , 0.95989186,\n",
       "        0.9597537 , 0.9600396 , 0.9597776 , 0.9604089 , 0.9597203 ,\n",
       "        0.9603556 , 0.96090317, 0.960111  , 0.96042526, 0.9611467 ,\n",
       "        0.95925915, 0.9615176 , 0.9599071 , 0.99999464, 0.9999485 ,\n",
       "        1.        , 0.95813894, 0.87839204, 0.99403536, 0.95778745,\n",
       "        0.9838023 , 0.90521914, 0.95778507, 0.95845205, 0.9937131 ,\n",
       "        0.99681395, 0.9954135 , 0.99440694, 0.9574796 , 0.9570888 ,\n",
       "        0.9877592 , 0.95790297, 0.95855445, 0.95738024, 0.55453974,\n",
       "        0.95715773, 0.96196413, 0.95743203, 0.855935  , 0.9586366 ,\n",
       "        0.9496494 , 0.9999685 , 0.958461  , 0.9817171 , 0.9572151 ,\n",
       "        0.8927905 , 0.9591461 , 0.9579467 , 0.9575161 , 0.77961147,\n",
       "        0.90748674, 0.9570315 , 0.95789486, 0.9584119 , 0.9582358 ,\n",
       "        0.95732594, 0.8707503 , 0.95695245, 0.9571147 , 0.9587193 ,\n",
       "        0.69441265, 0.9563849 , 0.9565484 , 0.95694643, 0.95698   ,\n",
       "        0.9568381 , 0.95663285, 0.9566623 , 0.9569997 , 0.95698076,\n",
       "        0.9574926 , 0.95661145, 0.9569863 , 0.9571552 , 0.95686764,\n",
       "        0.9568683 , 0.9569779 , 0.95603937, 0.9573894 , 0.9570585 ,\n",
       "        0.956943  , 0.95666796, 0.95699835, 0.95650464, 0.9569102 ,\n",
       "        0.95625997, 0.9570732 , 0.95724076, 0.9568022 , 0.9564474 ,\n",
       "        0.95661175, 0.95739174, 0.9569883 , 0.9564773 , 0.9571214 ,\n",
       "        0.9568076 , 0.9570241 , 0.95669085, 0.9564013 , 0.95719486,\n",
       "        0.9569615 , 0.9572993 , 0.95678437, 0.9566661 , 0.95665485,\n",
       "        0.9569004 , 0.9569744 , 0.9735173 , 0.9562544 , 0.95714027,\n",
       "        0.9998659 , 0.9564556 , 0.9569805 , 0.5672554 , 0.9570004 ,\n",
       "        0.9569075 , 0.95681405, 0.956962  , 0.95735097, 0.956721  ,\n",
       "        0.956907  , 0.9568565 , 0.9567009 , 0.95715195, 0.95669544,\n",
       "        0.9562844 , 0.9571913 , 0.956362  , 0.99316   , 0.956948  ,\n",
       "        0.95708793, 0.9565133 , 0.95624614, 0.95701325, 0.9777393 ,\n",
       "        0.9570966 , 0.95679194, 0.5446358 , 0.9079368 , 0.9565028 ,\n",
       "        0.9571227 , 0.95697093, 0.95700926, 0.9569233 , 0.96125203,\n",
       "        0.99999774, 0.9999862 , 0.95745337, 1.        , 0.94863105,\n",
       "        0.957149  , 0.97945696, 0.95841897, 0.9648421 , 0.9578895 ,\n",
       "        0.9612518 , 0.95957077, 0.95949185, 0.9319281 , 0.88219017,\n",
       "        0.9579036 , 0.8418964 , 0.9596319 , 0.63043624, 0.823391  ,\n",
       "        0.95851064, 0.9588449 , 0.95868164, 0.95927733, 0.9587431 ,\n",
       "        0.95954245, 0.95938915, 0.959996  , 0.9602461 , 0.9598757 ,\n",
       "        0.9618276 , 0.9607282 , 0.9589933 , 0.95949054, 0.9594095 ,\n",
       "        0.960034  , 0.9600799 , 0.9597463 , 0.9608164 , 0.96061575,\n",
       "        0.9602529 , 0.96011   , 0.95980144, 0.9601019 , 0.9610426 ,\n",
       "        0.9603747 , 0.9603682 , 0.9590377 , 0.95989513, 0.9602586 ,\n",
       "        0.9594641 , 0.9606524 , 0.9603764 , 0.9604651 , 0.96063954,\n",
       "        0.96116644, 0.5398552 , 0.9999968 , 0.9572725 , 0.9997062 ,\n",
       "        0.99999845, 0.9577015 , 0.996714  , 0.95818883, 0.9576697 ,\n",
       "        0.5073319 , 0.95734924, 0.9380786 , 0.95754987, 0.99998534,\n",
       "        0.95752114, 0.95753586, 0.9598802 , 0.9572169 , 0.9580337 ,\n",
       "        0.9839721 , 0.8423751 , 0.9578268 , 0.96015334, 0.9961959 ,\n",
       "        0.95890903, 0.95789343, 0.97893655, 0.9994149 , 0.9582948 ,\n",
       "        0.95760715, 0.9581226 , 0.96040505, 0.9579795 , 0.96229374,\n",
       "        0.95813316, 0.81924105, 0.95162493, 0.9583203 , 0.70735884,\n",
       "        0.957748  , 0.95778275, 0.744615  , 0.957604  ], dtype=float32))"
      ]
     },
     "execution_count": 27,
     "metadata": {},
     "output_type": "execute_result"
    }
   ],
   "source": [
    "get_pred_labels(test_generator)"
   ]
  },
  {
   "cell_type": "markdown",
   "metadata": {},
   "source": [
    "### Real pic test"
   ]
  },
  {
   "cell_type": "code",
   "execution_count": 28,
   "metadata": {},
   "outputs": [
    {
     "data": {
      "text/plain": [
       "{0: 'fragile', 1: 'up'}"
      ]
     },
     "execution_count": 28,
     "metadata": {},
     "output_type": "execute_result"
    }
   ],
   "source": [
    "get_label_dict(train_generator)"
   ]
  },
  {
   "cell_type": "code",
   "execution_count": 29,
   "metadata": {},
   "outputs": [
    {
     "name": "stdout",
     "output_type": "stream",
     "text": [
      "WARNING:tensorflow:From C:\\Users\\yukir\\AppData\\Local\\Temp/ipykernel_17812/2923804259.py:21: Sequential.predict_classes (from tensorflow.python.keras.engine.sequential) is deprecated and will be removed after 2021-01-01.\n",
      "Instructions for updating:\n",
      "Please use instead:* `np.argmax(model.predict(x), axis=-1)`,   if your model does multi-class classification   (e.g. if it uses a `softmax` last-layer activation).* `(model.predict(x) > 0.5).astype(\"int32\")`,   if your model does binary classification   (e.g. if it uses a `sigmoid` last-layer activation).\n",
      "1 up\n"
     ]
    }
   ],
   "source": [
    "results={\n",
    "   0:'fragile',\n",
    "   1:'up',\n",
    "   2:'bird',\n",
    "   3:'cat',\n",
    "   4:'deer',\n",
    "   5:'dog',\n",
    "   6:'frog',\n",
    "   7:'horse',\n",
    "   8:'ship',\n",
    "   9:'truck'\n",
    "}\n",
    "from PIL import Image\n",
    "import numpy as np\n",
    "im=Image.open(\"C:\\\\Users\\\\yukir\\\\Documents\\\\Monicas_workspace\\\\Datasets\\\\0724 test\\\\preprocessing\\\\ge\\\\up\\\\(1)blankstock180501065.jpg\")\n",
    "# the input image is required to be in the shape of dataset, i.e (32,32,3)\n",
    " \n",
    "im=im.resize((80,80))\n",
    "im=np.expand_dims(im,axis=0)\n",
    "im=np.array(im)\n",
    "pred=model.predict_classes([im])[0]\n",
    "print(pred,results[pred])"
   ]
  },
  {
   "cell_type": "code",
   "execution_count": 30,
   "metadata": {},
   "outputs": [
    {
     "data": {
      "text/html": [
       "<div>\n",
       "<style scoped>\n",
       "    .dataframe tbody tr th:only-of-type {\n",
       "        vertical-align: middle;\n",
       "    }\n",
       "\n",
       "    .dataframe tbody tr th {\n",
       "        vertical-align: top;\n",
       "    }\n",
       "\n",
       "    .dataframe thead th {\n",
       "        text-align: right;\n",
       "    }\n",
       "</style>\n",
       "<table border=\"1\" class=\"dataframe\">\n",
       "  <thead>\n",
       "    <tr style=\"text-align: right;\">\n",
       "      <th></th>\n",
       "      <th>file_name</th>\n",
       "      <th>label</th>\n",
       "      <th>class</th>\n",
       "    </tr>\n",
       "  </thead>\n",
       "  <tbody>\n",
       "    <tr>\n",
       "      <th>0</th>\n",
       "      <td>(2)blankstock180501065.jpg</td>\n",
       "      <td>1</td>\n",
       "      <td>up</td>\n",
       "    </tr>\n",
       "    <tr>\n",
       "      <th>1</th>\n",
       "      <td>blankstock180501065.jpg</td>\n",
       "      <td>1</td>\n",
       "      <td>up</td>\n",
       "    </tr>\n",
       "    <tr>\n",
       "      <th>2</th>\n",
       "      <td>grunge-fragile-box-sign-with-arrow-up-on-piece...</td>\n",
       "      <td>1</td>\n",
       "      <td>up</td>\n",
       "    </tr>\n",
       "    <tr>\n",
       "      <th>3</th>\n",
       "      <td>images (1).jpg</td>\n",
       "      <td>1</td>\n",
       "      <td>up</td>\n",
       "    </tr>\n",
       "    <tr>\n",
       "      <th>4</th>\n",
       "      <td>images.jpg</td>\n",
       "      <td>1</td>\n",
       "      <td>up</td>\n",
       "    </tr>\n",
       "  </tbody>\n",
       "</table>\n",
       "</div>"
      ],
      "text/plain": [
       "                                           file_name  label class\n",
       "0                         (2)blankstock180501065.jpg      1    up\n",
       "1                            blankstock180501065.jpg      1    up\n",
       "2  grunge-fragile-box-sign-with-arrow-up-on-piece...      1    up\n",
       "3                                     images (1).jpg      1    up\n",
       "4                                         images.jpg      1    up"
      ]
     },
     "execution_count": 30,
     "metadata": {},
     "output_type": "execute_result"
    }
   ],
   "source": [
    "def file_list(path):\n",
    "    file_list = os.listdir(path)\n",
    "    file_list.sort()\n",
    "    file_list = file_list[1:]\n",
    "    list_file = []\n",
    "    for i in file_list:\n",
    "        list_file.append(path+i)\n",
    "    return list_file\n",
    "\n",
    "path ='C:\\\\Users\\\\yukir\\\\Documents\\\\Monicas_workspace\\\\Datasets\\\\real_pic_test\\\\resizing\\\\'\n",
    "\n",
    "file_list = file_list(path)\n",
    "\n",
    "results={\n",
    "   0:'fragile',\n",
    "   1:'up',\n",
    "   2:'bird',\n",
    "   3:'cat',\n",
    "   4:'deer',\n",
    "   5:'dog',\n",
    "   6:'frog',\n",
    "   7:'horse',\n",
    "   8:'ship',\n",
    "   9:'truck'\n",
    "}\n",
    "columns =['file_name', 'label', 'class']\n",
    "answer = []\n",
    "for i in file_list:\n",
    "    im=Image.open(i)\n",
    "    # the input image is required to be in the shape of dataset, i.e (32,32,3)\n",
    "    i= i.split('\\\\')[-1]\n",
    "    im=im.resize((100,100))\n",
    "    im=np.expand_dims(im,axis=0)\n",
    "    im=np.array(im)\n",
    "    pred=model.predict_classes([im])[0]\n",
    "    answer.append([i, pred, results[pred]])\n",
    "    answer_df = pd.DataFrame(answer, columns = columns )\n",
    "answer_df.head()"
   ]
  },
  {
   "cell_type": "code",
   "execution_count": 31,
   "metadata": {},
   "outputs": [
    {
     "data": {
      "text/plain": [
       "up    19\n",
       "Name: class, dtype: int64"
      ]
     },
     "execution_count": 31,
     "metadata": {},
     "output_type": "execute_result"
    }
   ],
   "source": [
    "answer_df['class'].value_counts()"
   ]
  },
  {
   "cell_type": "markdown",
   "metadata": {},
   "source": [
    "### save"
   ]
  },
  {
   "cell_type": "code",
   "execution_count": 32,
   "metadata": {},
   "outputs": [],
   "source": [
    "# model.save('[0724]same_test_Data.h5')\n",
    "\n",
    "# # Save model with json format \n",
    "# model_json = model.to_json() \n",
    "# with open(\"[0724]same_test_Data.json\", \"w\") as json_file:\n",
    "#     json_file.write(model_json)\n",
    "    \n",
    "# # Save weight with h5 format\n",
    "# model.save_weights(\"[0724]same_test_Data_weight.h5\")\n",
    "# print(\"Saved model to disk\")"
   ]
  },
  {
   "cell_type": "code",
   "execution_count": null,
   "metadata": {},
   "outputs": [],
   "source": []
  },
  {
   "cell_type": "code",
   "execution_count": null,
   "metadata": {},
   "outputs": [],
   "source": []
  }
 ],
 "metadata": {
  "accelerator": "GPU",
  "colab": {
   "collapsed_sections": [],
   "include_colab_link": true,
   "machine_shape": "hm",
   "name": "[0712]up, fragile classification",
   "provenance": []
  },
  "kernelspec": {
   "display_name": "Python 3 (ipykernel)",
   "language": "python",
   "name": "python3"
  },
  "language_info": {
   "codemirror_mode": {
    "name": "ipython",
    "version": 3
   },
   "file_extension": ".py",
   "mimetype": "text/x-python",
   "name": "python",
   "nbconvert_exporter": "python",
   "pygments_lexer": "ipython3",
   "version": "3.8.0"
  },
  "toc": {
   "base_numbering": 1,
   "nav_menu": {},
   "number_sections": true,
   "sideBar": true,
   "skip_h1_title": false,
   "title_cell": "Table of Contents",
   "title_sidebar": "Contents",
   "toc_cell": false,
   "toc_position": {},
   "toc_section_display": true,
   "toc_window_display": false
  },
  "varInspector": {
   "cols": {
    "lenName": 16,
    "lenType": 16,
    "lenVar": 40
   },
   "kernels_config": {
    "python": {
     "delete_cmd_postfix": "",
     "delete_cmd_prefix": "del ",
     "library": "var_list.py",
     "varRefreshCmd": "print(var_dic_list())"
    },
    "r": {
     "delete_cmd_postfix": ") ",
     "delete_cmd_prefix": "rm(",
     "library": "var_list.r",
     "varRefreshCmd": "cat(var_dic_list()) "
    }
   },
   "types_to_exclude": [
    "module",
    "function",
    "builtin_function_or_method",
    "instance",
    "_Feature"
   ],
   "window_display": false
  }
 },
 "nbformat": 4,
 "nbformat_minor": 1
}
