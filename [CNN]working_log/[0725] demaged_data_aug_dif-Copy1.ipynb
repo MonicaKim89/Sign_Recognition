{
 "cells": [
  {
   "cell_type": "code",
   "execution_count": 1,
   "metadata": {},
   "outputs": [
    {
     "name": "stdout",
     "output_type": "stream",
     "text": [
      "C:\\Users\\yukir\\Documents\\Monicas_workspace\\py_storage\n"
     ]
    }
   ],
   "source": [
    "%cd C:\\Users\\yukir\\Documents\\Monicas_workspace\\py_storage"
   ]
  },
  {
   "cell_type": "code",
   "execution_count": 2,
   "metadata": {},
   "outputs": [],
   "source": [
    "from basic_preprocessing import *"
   ]
  },
  {
   "cell_type": "code",
   "execution_count": 3,
   "metadata": {},
   "outputs": [],
   "source": [
    "from deeplearning_check import *"
   ]
  },
  {
   "cell_type": "code",
   "execution_count": 4,
   "metadata": {},
   "outputs": [
    {
     "data": {
      "text/plain": [
       "'C:\\\\Users\\\\yukir\\\\Documents\\\\Monicas_workspace\\\\py_storage'"
      ]
     },
     "execution_count": 4,
     "metadata": {},
     "output_type": "execute_result"
    }
   ],
   "source": [
    "/pwd"
   ]
  },
  {
   "cell_type": "code",
   "execution_count": 5,
   "metadata": {},
   "outputs": [
    {
     "name": "stdout",
     "output_type": "stream",
     "text": [
      "C:\\Users\\yukir\\Documents\\Monicas_workspace\\Sign detection\\classification\n"
     ]
    }
   ],
   "source": [
    "%cd C:\\Users\\yukir\\Documents\\Monicas_workspace\\Sign detection\\classification"
   ]
  },
  {
   "cell_type": "code",
   "execution_count": 6,
   "metadata": {
    "colab": {
     "base_uri": "https://localhost:8080/"
    },
    "id": "Dni62IFckfY_",
    "outputId": "27a387d6-1e56-4a9b-fbb4-64ff81d3637a"
   },
   "outputs": [],
   "source": [
    "IMG_SIZE = 100\n",
    "NUM_EPOCHS = 10\n",
    "NUM_CLASSES = 2\n",
    "TRAIN_BATCH_SIZE = 77\n",
    "TEST_BATCH_SIZE = 1 \n",
    "opt =  tf.optimizers.Adam()"
   ]
  },
  {
   "cell_type": "code",
   "execution_count": 7,
   "metadata": {
    "id": "eJflUpf-qdjd"
   },
   "outputs": [],
   "source": [
    "def create_model():\n",
    "  #resnet_weights_path = '/content/drive/MyDrive/Caba2012_colab/Fire_dt/models/resnet.h5'\n",
    "  #resnet_weights_path = '../input/resnet50/resnet50_weights_tf_dim_ordering_tf_kernels_notop.h5'\n",
    "\n",
    "  #weigths = weights=resnet_weights_path ->none\n",
    "  resnet = ResNet50(include_top=False, pooling='avg', weights = None)\n",
    "  #resnet.summary()\n",
    "  my_new_model = Sequential()\n",
    "  my_new_model.add(resnet)\n",
    "  my_new_model.layers[0].trainable = True\n",
    "  my_new_model.add(Dense(NUM_CLASSES, activation='softmax')) #dense 3, NUM_CLASSES = 3\n",
    "\n",
    "  # Say no to train first layer (ResNet) model. It is already trained\n",
    "    \n",
    "  opt =  tf.optimizers.Adam()\n",
    "   #opt바꾼거 확인해\n",
    "  my_new_model.compile(optimizer=opt, loss='categorical_crossentropy', metrics=['accuracy'])\n",
    "\n",
    "  return my_new_model"
   ]
  },
  {
   "cell_type": "code",
   "execution_count": 8,
   "metadata": {},
   "outputs": [
    {
     "data": {
      "text/plain": [
       "'C:\\\\Users\\\\yukir\\\\Documents\\\\Monicas_workspace\\\\Sign detection\\\\classification'"
      ]
     },
     "execution_count": 8,
     "metadata": {},
     "output_type": "execute_result"
    }
   ],
   "source": [
    "/pwd"
   ]
  },
  {
   "cell_type": "code",
   "execution_count": 9,
   "metadata": {},
   "outputs": [],
   "source": [
    "def train_model( model ):\n",
    "    data_generator = ImageDataGenerator(rescale=1./255)\n",
    "    \n",
    "    data_generator_with_aug = ImageDataGenerator(preprocessing_function=preprocess_input,\n",
    "                                width_shift_range=0.1,\n",
    "                                height_shift_range=0.1,\n",
    "                                #sear_range=0.01,\n",
    "                                zoom_range=[0.9, 1.25],\n",
    "                                horizontal_flip=True,\n",
    "                                vertical_flip=False,\n",
    "                                data_format='channels_last',\n",
    "                                brightness_range=[0.5, 1.5]\n",
    "                               )\n",
    "\n",
    "    train_generator = data_generator_with_aug.flow_from_directory(\n",
    "        'C:\\\\Users\\\\yukir\\\\Documents\\\\Monicas_workspace\\\\Datasets\\\\0723\\\\[0725] sub_dataset\\\\train', \n",
    "        target_size=(IMG_SIZE, IMG_SIZE),\n",
    "        batch_size=TEST_BATCH_SIZE,\n",
    "        shuffle = False,\n",
    "        class_mode='categorical')\n",
    "\n",
    "    validation_generator = data_generator_with_aug.flow_from_directory(\n",
    "        'C:\\\\Users\\\\yukir\\\\Documents\\\\Monicas_workspace\\\\Datasets\\\\0723\\\\[0725] sub_dataset\\\\val', \n",
    "        target_size=(IMG_SIZE, IMG_SIZE),\n",
    "        batch_size=TEST_BATCH_SIZE,\n",
    "        shuffle = False,\n",
    "        class_mode='categorical')\n",
    "\n",
    "\n",
    "\n",
    "    test_generator = data_generator.flow_from_directory(\n",
    "        'C:\\\\Users\\\\yukir\\\\Documents\\\\Monicas_workspace\\\\Datasets\\\\0723\\\\[0725] sub_dataset\\\\test', \n",
    "        target_size=(IMG_SIZE, IMG_SIZE),\n",
    "        batch_size=TEST_BATCH_SIZE,\n",
    "        shuffle = False,\n",
    "        class_mode='categorical')\n",
    "\n",
    "    H = model.fit(\n",
    "                train_generator,\n",
    "                steps_per_epoch=train_generator.n/TRAIN_BATCH_SIZE,\n",
    "                epochs=NUM_EPOCHS,\n",
    "                validation_data=validation_generator,\n",
    "                validation_steps = 1 \n",
    "                #,\n",
    "                #class_weight=dict_weights\n",
    "                    )\n",
    "    \n",
    "    plot_history( H, NUM_EPOCHS )\n",
    "    \n",
    "    return H, model, train_generator, validation_generator ,test_generator\n",
    "    "
   ]
  },
  {
   "cell_type": "code",
   "execution_count": 10,
   "metadata": {
    "id": "V6anMevUpB7k"
   },
   "outputs": [],
   "source": [
    "def get_label_dict(train_generator ):\n",
    "# Get label to class_id mapping\n",
    "    labels = (train_generator.class_indices)\n",
    "    label_dict = dict((v,k) for k,v in labels.items())\n",
    "    return  label_dict   "
   ]
  },
  {
   "cell_type": "code",
   "execution_count": 11,
   "metadata": {
    "id": "8plvW7aYpGXn"
   },
   "outputs": [],
   "source": [
    "def get_labels( test_generator ):\n",
    "    test_generator.reset()\n",
    "    labels = []\n",
    "    for i in range(len(generator)):\n",
    "        labels.extend(np.array(generator[i][1]) )\n",
    "    return np.argmax(labels, axis =1)"
   ]
  },
  {
   "cell_type": "code",
   "execution_count": 12,
   "metadata": {
    "id": "_Yn0xl2qpHyI"
   },
   "outputs": [],
   "source": [
    "def get_pred_labels( test_generator):\n",
    "    test_generator.reset()\n",
    "    pred_vec=model.predict_generator(test_generator,\n",
    "                                     steps=test_generator.n, #test_generator.batch_size\n",
    "                                     verbose=1)\n",
    "    return np.argmax( pred_vec, axis = 1), np.max(pred_vec, axis = 1)"
   ]
  },
  {
   "cell_type": "code",
   "execution_count": 13,
   "metadata": {
    "id": "CEyRoMZepNE5"
   },
   "outputs": [],
   "source": [
    "def plot_history( H, NUM_EPOCHS ):\n",
    "    plt.style.use(\"ggplot\")\n",
    "    fig = plt.figure()\n",
    "    fig.set_size_inches(15, 5)\n",
    "    \n",
    "    fig.add_subplot(1, 3, 1)\n",
    "    plt.plot(np.arange(0, NUM_EPOCHS), H.history[\"loss\"], label=\"train_loss\")\n",
    "    plt.plot(np.arange(0, NUM_EPOCHS), H.history[\"val_loss\"], label=\"val_loss\")\n",
    "    plt.title(\"Training Loss and Validation Loss on Dataset\")\n",
    "    plt.xlabel(\"Epoch #\")\n",
    "    plt.ylabel(\"Loss\")\n",
    "    plt.legend(loc=\"lower left\")\n",
    "\n",
    "    \n",
    "    fig.add_subplot(1, 3, 2)\n",
    "    plt.plot(np.arange(0, NUM_EPOCHS), H.history[\"loss\"], label=\"train_loss\")\n",
    "    plt.plot(np.arange(0, NUM_EPOCHS), H.history[\"accuracy\"], label=\"train_accuracy\")\n",
    "    plt.title(\"Training Loss and Accuracy on Dataset\")\n",
    "    plt.xlabel(\"Epoch #\")\n",
    "    plt.ylabel(\"Loss/Accuracy\")\n",
    "    plt.legend(loc=\"lower left\")\n",
    "    \n",
    "    fig.add_subplot(1, 3, 3)\n",
    "    plt.plot(np.arange(0, NUM_EPOCHS), H.history[\"val_loss\"], label=\"val_loss\")\n",
    "    plt.plot(np.arange(0, NUM_EPOCHS), H.history[\"val_accuracy\"], label=\"val_accuracy\")\n",
    "    plt.title(\"Validation Loss and Accuracy on Dataset\")\n",
    "    plt.xlabel(\"Epoch #\")\n",
    "    plt.ylabel(\"Loss/Accuracy\")\n",
    "    plt.legend(loc=\"lower left\")\n",
    "\n",
    "\n",
    "    plt.show()"
   ]
  },
  {
   "cell_type": "code",
   "execution_count": 14,
   "metadata": {
    "id": "1fwwknDmpVz1"
   },
   "outputs": [],
   "source": [
    "def draw_prediction( frame, class_string ):\n",
    "    x_start = frame.shape[1]- 600 # 위치\n",
    "    cv2.putText(frame, class_string, (10,50), cv2.FONT_HERSHEY_SIMPLEX, 1, (255, 0, 0), 2, cv2.LINE_AA)\n",
    "    return frame"
   ]
  },
  {
   "cell_type": "code",
   "execution_count": 15,
   "metadata": {
    "id": "qEw6aM4QpXPY"
   },
   "outputs": [],
   "source": [
    "def prepare_image_for_prediction( img):\n",
    "   \n",
    "    # convert 3D tensor to 4D tensor with shape (1, 224, 224, 3) and return 4D tensor\n",
    "    # The below function inserts an additional dimension at the axis position provided\n",
    "    img = np.expand_dims(img, axis=0)\n",
    "    # perform pre-processing that was done when resnet model was trained.\n",
    "    return preprocess_input(img)"
   ]
  },
  {
   "cell_type": "markdown",
   "metadata": {},
   "source": [
    "#### Training"
   ]
  },
  {
   "cell_type": "code",
   "execution_count": 16,
   "metadata": {
    "colab": {
     "base_uri": "https://localhost:8080/"
    },
    "id": "mV82B4WEq0sa",
    "outputId": "318b94f6-2c3f-4d2b-c214-0d12bcaac508"
   },
   "outputs": [
    {
     "name": "stdout",
     "output_type": "stream",
     "text": [
      "Model: \"sequential\"\n",
      "_________________________________________________________________\n",
      "Layer (type)                 Output Shape              Param #   \n",
      "=================================================================\n",
      "resnet50 (Model)             (None, 2048)              23587712  \n",
      "_________________________________________________________________\n",
      "dense (Dense)                (None, 2)                 4098      \n",
      "=================================================================\n",
      "Total params: 23,591,810\n",
      "Trainable params: 23,538,690\n",
      "Non-trainable params: 53,120\n",
      "_________________________________________________________________\n"
     ]
    }
   ],
   "source": [
    "model = create_model()\n",
    "model.summary()"
   ]
  },
  {
   "cell_type": "code",
   "execution_count": 17,
   "metadata": {
    "colab": {
     "base_uri": "https://localhost:8080/",
     "height": 1000
    },
    "id": "x6w80-rCp3oS",
    "outputId": "6678c20c-3f68-4bcb-e81d-756f2984e58b"
   },
   "outputs": [
    {
     "name": "stdout",
     "output_type": "stream",
     "text": [
      "Found 5936 images belonging to 2 classes.\n",
      "Found 740 images belonging to 2 classes.\n",
      "Found 748 images belonging to 2 classes.\n",
      "Epoch 1/10\n",
      "78/77 [==============================] - 3s 36ms/step - loss: 2.9687 - accuracy: 0.5769 - val_loss: 6.2574 - val_accuracy: 0.0000e+00\n",
      "Epoch 2/10\n",
      "78/77 [==============================] - 2s 26ms/step - loss: 1.4766 - accuracy: 0.6154 - val_loss: 8.3687 - val_accuracy: 0.0000e+00\n",
      "Epoch 3/10\n",
      "78/77 [==============================] - 2s 27ms/step - loss: 2.0060 - accuracy: 0.4744 - val_loss: 1.3366 - val_accuracy: 0.0000e+00\n",
      "Epoch 4/10\n",
      "78/77 [==============================] - 2s 26ms/step - loss: 1.1477 - accuracy: 0.5128 - val_loss: 2.0751 - val_accuracy: 0.0000e+00\n",
      "Epoch 5/10\n",
      "78/77 [==============================] - 2s 26ms/step - loss: 1.2747 - accuracy: 0.5769 - val_loss: 0.9896 - val_accuracy: 0.0000e+00\n",
      "Epoch 6/10\n",
      "78/77 [==============================] - 2s 26ms/step - loss: 1.5095 - accuracy: 0.5897 - val_loss: 0.5587 - val_accuracy: 1.0000\n",
      "Epoch 7/10\n",
      "78/77 [==============================] - 2s 26ms/step - loss: 0.9563 - accuracy: 0.5769 - val_loss: 0.1037 - val_accuracy: 1.0000\n",
      "Epoch 8/10\n",
      "78/77 [==============================] - 2s 26ms/step - loss: 0.9062 - accuracy: 0.5385 - val_loss: 3.4124e-04 - val_accuracy: 1.0000\n",
      "Epoch 9/10\n",
      "78/77 [==============================] - 2s 27ms/step - loss: 0.7797 - accuracy: 0.6282 - val_loss: 1.1189 - val_accuracy: 0.0000e+00\n",
      "Epoch 10/10\n",
      "78/77 [==============================] - 2s 27ms/step - loss: 0.8892 - accuracy: 0.5128 - val_loss: 0.5939 - val_accuracy: 1.0000\n"
     ]
    },
    {
     "data": {
      "image/png": "[encoded data removed]",
      "text/plain": [
       "<Figure size 1080x360 with 3 Axes>"
      ]
     },
     "metadata": {},
     "output_type": "display_data"
    }
   ],
   "source": [
    "H, trained_model,train_generator,validation_generator, test_generator = train_model(model)\n",
    "label_dict= get_label_dict(train_generator)\n",
    "#model.compile(optimizer=opt, loss='categorical_crossentropy', metrics=['accuracy'])\n",
    "#model.save('/content/drive/MyDrive/Caba2012_colab/Fire_dt/models/resnet.h5')"
   ]
  },
  {
   "cell_type": "code",
   "execution_count": 18,
   "metadata": {
    "colab": {
     "base_uri": "https://localhost:8080/"
    },
    "id": "x5DMOwKzMlHe",
    "outputId": "d8f899ee-be37-4be5-dcbd-a81ebc442455"
   },
   "outputs": [
    {
     "data": {
      "image/png": "[encoded data removed]",
      "text/plain": [
       "<Figure size 1080x360 with 2 Axes>"
      ]
     },
     "metadata": {},
     "output_type": "display_data"
    }
   ],
   "source": [
    "acc = H.history['accuracy']\n",
    "val_acc = H.history['val_accuracy']\n",
    "\n",
    "loss = H.history['loss']\n",
    "val_loss = H.history['val_loss']\n",
    "\n",
    "epochs = range(1, len(acc) +1)\n",
    "    \n",
    "    \n",
    "\n",
    "fig = plt.figure()\n",
    "fig.set_size_inches(15, 5)\n",
    "\n",
    "fig.add_subplot(1, 2, 1)\n",
    "plt.plot(epochs, acc, 'b', label ='Training acc')\n",
    "plt.plot(epochs, val_acc, 'r', label = 'Validation acc')\n",
    "plt.title('Training and validation accuracy')\n",
    "plt.legend()\n",
    "\n",
    "# plt.figure()\n",
    "fig.add_subplot(1, 2, 2) \n",
    "plt.plot(epochs, loss, 'b', label = \"Training loss\")\n",
    "plt.plot(epochs, val_loss, 'r', label ='Validation loss')\n",
    "plt.title('Training and validation lose')\n",
    "plt.legend()\n",
    "\n",
    "plt.show()"
   ]
  },
  {
   "cell_type": "code",
   "execution_count": 19,
   "metadata": {},
   "outputs": [],
   "source": [
    "model.compile(optimizer = optimizers.RMSprop(lr=2e-5),\n",
    "             loss='categorical_crossentropy',\n",
    "             metrics=['accuracy',\\\n",
    "                      tf.keras.metrics.Precision(name='precision')\\\n",
    "                          ,tf.keras.metrics.Recall(name='recall')\\\n",
    "                          ,tf.keras.metrics.FalsePositives(name='false_positives')\\\n",
    "                          ,tf.keras.metrics.FalseNegatives(name='false_negatives'),\\\n",
    "                      tf.keras.metrics.TruePositives(name ='true_positives'),\\\n",
    "                     tf.keras.metrics.TrueNegatives(name ='true_negatives')])\n",
    "# #                      tf.keras.metrics.SensitivityAtSpecificity(specificity, num_thresholds=200, name='SensitivityAtSpecificity', dtype=None),\\\n",
    "#                      tf.keras.metrics.SpecificityAtSensitivity(name='SpecificityAtSensitivity')])"
   ]
  },
  {
   "cell_type": "code",
   "execution_count": 20,
   "metadata": {},
   "outputs": [
    {
     "data": {
      "text/plain": [
       "{'loss': [2.968740701675415,\n",
       "  1.476641297340393,\n",
       "  2.0060372352600098,\n",
       "  1.147674322128296,\n",
       "  1.274728536605835,\n",
       "  1.5095365047454834,\n",
       "  0.956273078918457,\n",
       "  0.9061694741249084,\n",
       "  0.7797124981880188,\n",
       "  0.8891562223434448],\n",
       " 'accuracy': [0.5769230723381042,\n",
       "  0.6153846383094788,\n",
       "  0.4743589758872986,\n",
       "  0.5128205418586731,\n",
       "  0.5769230723381042,\n",
       "  0.5897436141967773,\n",
       "  0.5769230723381042,\n",
       "  0.5384615659713745,\n",
       "  0.6282051205635071,\n",
       "  0.5128205418586731],\n",
       " 'val_loss': [6.257378101348877,\n",
       "  8.368741035461426,\n",
       "  1.3365591764450073,\n",
       "  2.075066089630127,\n",
       "  0.9895873069763184,\n",
       "  0.5586772561073303,\n",
       "  0.10367342829704285,\n",
       "  0.0003412379592191428,\n",
       "  1.1189032793045044,\n",
       "  0.5939229726791382],\n",
       " 'val_accuracy': [0.0, 0.0, 0.0, 0.0, 0.0, 1.0, 1.0, 1.0, 0.0, 1.0]}"
      ]
     },
     "execution_count": 20,
     "metadata": {},
     "output_type": "execute_result"
    }
   ],
   "source": [
    "# 반환되는 \"이력\" 객체는 훈련 중 손실 값과 메트릭 값에 대한 레코드를 유지합니다.\n",
    "H.history"
   ]
  },
  {
   "cell_type": "code",
   "execution_count": 21,
   "metadata": {},
   "outputs": [
    {
     "name": "stdout",
     "output_type": "stream",
     "text": [
      "748/748 [==============================] - 7s 9ms/step - loss: 0.7084 - accuracy: 0.5000 - precision: 0.5000 - recall: 0.5000 - false_positives: 374.0000 - false_negatives: 374.0000 - true_positives: 374.0000 - true_negatives: 374.0000\n"
     ]
    },
    {
     "data": {
      "text/plain": [
       "list"
      ]
     },
     "execution_count": 21,
     "metadata": {},
     "output_type": "execute_result"
    }
   ],
   "source": [
    "result = model.evaluate(test_generator)\n",
    "type(result)"
   ]
  },
  {
   "cell_type": "code",
   "execution_count": 22,
   "metadata": {},
   "outputs": [],
   "source": [
    "def evaluating_each(result):\n",
    "    from keras import backend as K\n",
    "    \n",
    "    loss = result[0]\n",
    "    accuracy = result[1]\n",
    "    precision = result[2]\n",
    "    recall = result[3]\n",
    "    f_p = int(result[4])\n",
    "    f_n = int(result[5])\n",
    "    t_p = int(result[6])\n",
    "    t_n = int(result[7])\n",
    "    \n",
    "    f1_score = (2 * recall * precision) / (recall + precision + K.epsilon())\n",
    "    sensitivity = t_p / (t_p + f_n)\n",
    "    specificity = t_n/ (t_n + f_p)\n",
    "    \n",
    "    print(\"\"\"loss:{:.3f}, \\naccuracy:{:.3f}, \\nprecision:{:.3f}, \\nrecall:{:.3f}, \\nFalse_positive:{}, \\nFalse_negative, :{}, \\nTrue_positive:{}, \\nTrue_negative:{}, \\nSensitivity:{:.3f}, \\nSpecificity:{:.3f}, \\nF1_score:{:.3f}\"\"\".format(loss, accuracy, precision, recall, f_p, f_n, t_p, t_n, sensitivity, specificity, f1_score))\n",
    "    return loss, accuracy, precision, recall, f_p, f_n, t_p, t_n, sensitivity, specificity, f1_score"
   ]
  },
  {
   "cell_type": "code",
   "execution_count": 23,
   "metadata": {},
   "outputs": [
    {
     "name": "stdout",
     "output_type": "stream",
     "text": [
      "loss:0.708, \n",
      "accuracy:0.500, \n",
      "precision:0.500, \n",
      "recall:0.500, \n",
      "False_positive:374, \n",
      "False_negative, :374, \n",
      "True_positive:374, \n",
      "True_negative:374, \n",
      "Sensitivity:0.500, \n",
      "Specificity:0.500, \n",
      "F1_score:0.500\n"
     ]
    },
    {
     "data": {
      "text/plain": [
       "(0.708365797996521,\n",
       " 0.5,\n",
       " 0.5,\n",
       " 0.5,\n",
       " 374,\n",
       " 374,\n",
       " 374,\n",
       " 374,\n",
       " 0.5,\n",
       " 0.5,\n",
       " 0.49999995000000497)"
      ]
     },
     "execution_count": 23,
     "metadata": {},
     "output_type": "execute_result"
    }
   ],
   "source": [
    "evaluating_each(result)"
   ]
  },
  {
   "cell_type": "code",
   "execution_count": 24,
   "metadata": {},
   "outputs": [
    {
     "data": {
      "text/plain": [
       "{0: 'fragile', 1: 'up'}"
      ]
     },
     "execution_count": 24,
     "metadata": {},
     "output_type": "execute_result"
    }
   ],
   "source": [
    "get_label_dict(train_generator)"
   ]
  },
  {
   "cell_type": "code",
   "execution_count": 25,
   "metadata": {},
   "outputs": [],
   "source": [
    "def get_labels( generator ):\n",
    "    generator.reset()\n",
    "    labels = []\n",
    "    for i in range(len(generator)):\n",
    "        labels.extend(np.array(generator[i][1]) )\n",
    "    return np.argmax(labels, axis =1)"
   ]
  },
  {
   "cell_type": "code",
   "execution_count": 26,
   "metadata": {},
   "outputs": [
    {
     "data": {
      "text/plain": [
       "array([0, 0, 0, ..., 1, 1, 1], dtype=int64)"
      ]
     },
     "execution_count": 26,
     "metadata": {},
     "output_type": "execute_result"
    }
   ],
   "source": [
    "get_labels(train_generator)"
   ]
  },
  {
   "cell_type": "code",
   "execution_count": 27,
   "metadata": {},
   "outputs": [
    {
     "name": "stdout",
     "output_type": "stream",
     "text": [
      "WARNING:tensorflow:From C:\\Users\\yukir\\AppData\\Local\\Temp/ipykernel_2296/1763928774.py:3: Model.predict_generator (from tensorflow.python.keras.engine.training) is deprecated and will be removed in a future version.\n",
      "Instructions for updating:\n",
      "Please use Model.predict, which supports generators.\n",
      "748/748 [==============================] - 4s 6ms/step\n"
     ]
    },
    {
     "data": {
      "text/plain": [
       "(array([1, 1, 1, 1, 1, 1, 1, 1, 1, 1, 1, 1, 1, 1, 1, 1, 1, 1, 1, 1, 1, 1,\n",
       "        1, 1, 1, 1, 1, 1, 1, 1, 1, 1, 1, 1, 1, 1, 1, 1, 1, 1, 1, 1, 1, 1,\n",
       "        1, 1, 1, 1, 1, 1, 1, 1, 1, 1, 1, 1, 1, 1, 1, 1, 1, 1, 1, 1, 1, 1,\n",
       "        1, 1, 1, 1, 1, 1, 1, 1, 1, 1, 1, 1, 1, 1, 1, 1, 1, 1, 1, 1, 1, 1,\n",
       "        1, 1, 1, 1, 1, 1, 1, 1, 1, 1, 1, 1, 1, 1, 1, 1, 1, 1, 1, 1, 1, 1,\n",
       "        1, 1, 1, 1, 1, 1, 1, 1, 1, 1, 1, 1, 1, 1, 1, 1, 1, 1, 1, 1, 1, 1,\n",
       "        1, 1, 1, 1, 1, 1, 1, 1, 1, 1, 1, 1, 1, 1, 1, 1, 1, 1, 1, 1, 1, 1,\n",
       "        1, 1, 1, 1, 1, 1, 1, 1, 1, 1, 1, 1, 1, 1, 1, 1, 1, 1, 1, 1, 1, 1,\n",
       "        1, 1, 1, 1, 1, 1, 1, 1, 1, 1, 1, 1, 1, 1, 1, 1, 1, 1, 1, 1, 1, 1,\n",
       "        1, 1, 1, 1, 1, 1, 1, 1, 1, 1, 1, 1, 1, 1, 1, 1, 1, 1, 1, 1, 1, 1,\n",
       "        1, 1, 1, 1, 1, 1, 1, 1, 1, 1, 1, 1, 1, 1, 1, 1, 1, 1, 1, 1, 1, 1,\n",
       "        1, 1, 1, 1, 1, 1, 1, 1, 1, 1, 1, 1, 1, 1, 1, 1, 1, 1, 1, 1, 1, 1,\n",
       "        1, 1, 1, 1, 1, 1, 1, 1, 1, 1, 1, 1, 1, 1, 1, 1, 1, 1, 1, 1, 1, 1,\n",
       "        1, 1, 1, 1, 1, 1, 1, 1, 1, 1, 1, 1, 1, 1, 1, 1, 1, 1, 1, 1, 1, 1,\n",
       "        1, 1, 1, 1, 1, 1, 1, 1, 1, 1, 1, 1, 1, 1, 1, 1, 1, 1, 1, 1, 1, 1,\n",
       "        1, 1, 1, 1, 1, 1, 1, 1, 1, 1, 1, 1, 1, 1, 1, 1, 1, 1, 1, 1, 1, 1,\n",
       "        1, 1, 1, 1, 1, 1, 1, 1, 1, 1, 1, 1, 1, 1, 1, 1, 1, 1, 1, 1, 1, 1,\n",
       "        1, 1, 1, 1, 1, 1, 1, 1, 1, 1, 1, 1, 1, 1, 1, 1, 1, 1, 1, 1, 1, 1,\n",
       "        1, 1, 1, 1, 1, 1, 1, 1, 1, 1, 1, 1, 1, 1, 1, 1, 1, 1, 1, 1, 1, 1,\n",
       "        1, 1, 1, 1, 1, 1, 1, 1, 1, 1, 1, 1, 1, 1, 1, 1, 1, 1, 1, 1, 1, 1,\n",
       "        1, 1, 1, 1, 1, 1, 1, 1, 1, 1, 1, 1, 1, 1, 1, 1, 1, 1, 1, 1, 1, 1,\n",
       "        1, 1, 1, 1, 1, 1, 1, 1, 1, 1, 1, 1, 1, 1, 1, 1, 1, 1, 1, 1, 1, 1,\n",
       "        1, 1, 1, 1, 1, 1, 1, 1, 1, 1, 1, 1, 1, 1, 1, 1, 1, 1, 1, 1, 1, 1,\n",
       "        1, 1, 1, 1, 1, 1, 1, 1, 1, 1, 1, 1, 1, 1, 1, 1, 1, 1, 1, 1, 1, 1,\n",
       "        1, 1, 1, 1, 1, 1, 1, 1, 1, 1, 1, 1, 1, 1, 1, 1, 1, 1, 1, 1, 1, 1,\n",
       "        1, 1, 1, 1, 1, 1, 1, 1, 1, 1, 1, 1, 1, 1, 1, 1, 1, 1, 1, 1, 1, 1,\n",
       "        1, 1, 1, 1, 1, 1, 1, 1, 1, 1, 1, 1, 1, 1, 1, 1, 1, 1, 1, 1, 1, 1,\n",
       "        1, 1, 1, 1, 1, 1, 1, 1, 1, 1, 1, 1, 1, 1, 1, 1, 1, 1, 1, 1, 1, 1,\n",
       "        1, 1, 1, 1, 1, 1, 1, 1, 1, 1, 1, 1, 1, 1, 1, 1, 1, 1, 1, 1, 1, 1,\n",
       "        1, 1, 1, 1, 1, 1, 1, 1, 1, 1, 1, 1, 1, 1, 1, 1, 1, 1, 1, 1, 1, 1,\n",
       "        1, 1, 1, 1, 1, 1, 1, 1, 1, 1, 1, 1, 1, 1, 1, 1, 1, 1, 1, 1, 1, 1,\n",
       "        1, 1, 1, 1, 1, 1, 1, 1, 1, 1, 1, 1, 1, 1, 1, 1, 1, 1, 1, 1, 1, 1,\n",
       "        1, 1, 1, 1, 1, 1, 1, 1, 1, 1, 1, 1, 1, 1, 1, 1, 1, 1, 1, 1, 1, 1,\n",
       "        1, 1, 1, 1, 1, 1, 1, 1, 1, 1, 1, 1, 1, 1, 1, 1, 1, 1, 1, 1, 1, 1],\n",
       "       dtype=int64),\n",
       " array([0.58656263, 0.586582  , 0.58657616, 0.5865637 , 0.5865528 ,\n",
       "        0.5865745 , 0.58656335, 0.58657527, 0.58657247, 0.58657473,\n",
       "        0.58657277, 0.58658105, 0.5865712 , 0.5865721 , 0.58656347,\n",
       "        0.5865767 , 0.5865605 , 0.58657265, 0.5865741 , 0.5865746 ,\n",
       "        0.5865775 , 0.586577  , 0.5865751 , 0.5865731 , 0.5865738 ,\n",
       "        0.5865805 , 0.58657295, 0.58657694, 0.58657074, 0.586577  ,\n",
       "        0.58657014, 0.58657503, 0.5865742 , 0.5865604 , 0.5865771 ,\n",
       "        0.58657753, 0.5865745 , 0.5865673 , 0.5865774 , 0.58657646,\n",
       "        0.5865737 , 0.58657557, 0.586573  , 0.5865782 , 0.5865691 ,\n",
       "        0.5865769 , 0.58657974, 0.58656925, 0.5865781 , 0.58657306,\n",
       "        0.5865578 , 0.58657056, 0.5865725 , 0.58656293, 0.5865674 ,\n",
       "        0.5865833 , 0.5865817 , 0.5865562 , 0.586564  , 0.586565  ,\n",
       "        0.5865741 , 0.5865769 , 0.5865637 , 0.5865569 , 0.58655816,\n",
       "        0.58657426, 0.586583  , 0.58654886, 0.586567  , 0.5865674 ,\n",
       "        0.5865605 , 0.586574  , 0.5865696 , 0.5865615 , 0.5865735 ,\n",
       "        0.5865716 , 0.5865705 , 0.58657694, 0.58658296, 0.5865747 ,\n",
       "        0.5865707 , 0.5865613 , 0.58657384, 0.58657396, 0.5865828 ,\n",
       "        0.58657795, 0.5865812 , 0.5865725 , 0.58657426, 0.58654875,\n",
       "        0.58656466, 0.58656794, 0.586574  , 0.58655924, 0.5865563 ,\n",
       "        0.58656204, 0.5865548 , 0.58656645, 0.5865765 , 0.58657545,\n",
       "        0.58655244, 0.58655345, 0.58656883, 0.5865737 , 0.58654785,\n",
       "        0.58656996, 0.5865509 , 0.5865473 , 0.58656466, 0.5865466 ,\n",
       "        0.58655256, 0.5865474 , 0.5865584 , 0.58657134, 0.5865429 ,\n",
       "        0.58654714, 0.586575  , 0.58656883, 0.5865662 , 0.58657044,\n",
       "        0.58656484, 0.5865692 , 0.5865474 , 0.58655846, 0.586566  ,\n",
       "        0.58655155, 0.58657175, 0.5865603 , 0.58657354, 0.58655113,\n",
       "        0.586567  , 0.5865679 , 0.5865679 , 0.5865721 , 0.58654743,\n",
       "        0.5865591 , 0.5865734 , 0.58654743, 0.5865737 , 0.5865762 ,\n",
       "        0.5865605 , 0.5865515 , 0.5865742 , 0.586552  , 0.5865561 ,\n",
       "        0.58656394, 0.5865476 , 0.586564  , 0.5865544 , 0.5865393 ,\n",
       "        0.5865486 , 0.5865719 , 0.58655727, 0.5865577 , 0.5865746 ,\n",
       "        0.58655554, 0.5865755 , 0.5865731 , 0.5865478 , 0.5865488 ,\n",
       "        0.5865775 , 0.586559  , 0.58655375, 0.58654886, 0.58655936,\n",
       "        0.5865467 , 0.5865792 , 0.58655244, 0.5865516 , 0.5865653 ,\n",
       "        0.5865664 , 0.58654636, 0.58656853, 0.5865762 , 0.5865505 ,\n",
       "        0.5865586 , 0.5865746 , 0.5865446 , 0.5865524 , 0.58656394,\n",
       "        0.58657783, 0.5865736 , 0.5865523 , 0.5865769 , 0.586539  ,\n",
       "        0.58655286, 0.58656937, 0.5865725 , 0.586564  , 0.58654875,\n",
       "        0.58655113, 0.58655024, 0.5865788 , 0.58657646, 0.5865535 ,\n",
       "        0.58653826, 0.58654636, 0.5865641 , 0.586569  , 0.5865808 ,\n",
       "        0.5865595 , 0.58655185, 0.5865769 , 0.5865526 , 0.586571  ,\n",
       "        0.5865468 , 0.5865532 , 0.5865708 , 0.58656335, 0.58655053,\n",
       "        0.58657384, 0.58656347, 0.5865653 , 0.5865596 , 0.5865516 ,\n",
       "        0.58656585, 0.58655846, 0.5865724 , 0.58657503, 0.5865762 ,\n",
       "        0.5865638 , 0.5865553 , 0.586545  , 0.58655787, 0.58657   ,\n",
       "        0.5865788 , 0.5865507 , 0.58655846, 0.5865546 , 0.5865432 ,\n",
       "        0.5865727 , 0.5865499 , 0.58655477, 0.58657306, 0.58657986,\n",
       "        0.58657473, 0.586572  , 0.5865517 , 0.5865751 , 0.5865762 ,\n",
       "        0.586581  , 0.58655345, 0.5865711 , 0.58657837, 0.58657277,\n",
       "        0.5865645 , 0.58655214, 0.58657986, 0.5865716 , 0.5865797 ,\n",
       "        0.5865738 , 0.5865664 , 0.58655655, 0.5865584 , 0.58656925,\n",
       "        0.58656543, 0.5865805 , 0.58656937, 0.5865754 , 0.58657   ,\n",
       "        0.5865749 , 0.58657557, 0.58657724, 0.586559  , 0.5865598 ,\n",
       "        0.5865705 , 0.5865729 , 0.58655095, 0.5865753 , 0.58655345,\n",
       "        0.58655703, 0.5865768 , 0.58654714, 0.5865492 , 0.58657146,\n",
       "        0.58657664, 0.58657116, 0.58657265, 0.5865603 , 0.58655393,\n",
       "        0.58654517, 0.5865481 , 0.5865543 , 0.5865683 , 0.586556  ,\n",
       "        0.5865579 , 0.58655715, 0.5865657 , 0.586552  , 0.5865549 ,\n",
       "        0.58655554, 0.5865539 , 0.58655375, 0.586554  , 0.58655256,\n",
       "        0.58655417, 0.58654976, 0.5865542 , 0.5865479 , 0.58654755,\n",
       "        0.58654565, 0.586555  , 0.5865502 , 0.5865461 , 0.5865479 ,\n",
       "        0.5865535 , 0.5865559 , 0.5865531 , 0.5865391 , 0.5865461 ,\n",
       "        0.58655477, 0.5865465 , 0.5865509 , 0.58654726, 0.5865517 ,\n",
       "        0.5865504 , 0.5865481 , 0.58655006, 0.5865465 , 0.58655524,\n",
       "        0.5865511 , 0.5865446 , 0.5865448 , 0.5865565 , 0.58654565,\n",
       "        0.58654755, 0.5865437 , 0.5865427 , 0.5865481 , 0.58654815,\n",
       "        0.586576  , 0.5865513 , 0.5865516 , 0.5865609 , 0.5865577 ,\n",
       "        0.586562  , 0.5865503 , 0.5865548 , 0.58656484, 0.58655256,\n",
       "        0.58656394, 0.5865557 , 0.58655924, 0.5865594 , 0.58656013,\n",
       "        0.5865495 , 0.5865526 , 0.58654886, 0.5865568 , 0.58655703,\n",
       "        0.5865561 , 0.5865488 , 0.5865581 , 0.586548  , 0.5865533 ,\n",
       "        0.5865622 , 0.5865557 , 0.58655727, 0.58654964, 0.58655703,\n",
       "        0.5865578 , 0.58655673, 0.58654714, 0.58655465, 0.5865572 ,\n",
       "        0.58655566, 0.5865482 , 0.58657   , 0.58655965, 0.5865523 ,\n",
       "        0.58656096, 0.58654714, 0.5865522 , 0.5865644 , 0.5865746 ,\n",
       "        0.58656263, 0.5865588 , 0.58655685, 0.5865728 , 0.58657396,\n",
       "        0.58657503, 0.58658123, 0.5865794 , 0.58656687, 0.5865666 ,\n",
       "        0.58657306, 0.5865741 , 0.5865561 , 0.5865609 , 0.5865692 ,\n",
       "        0.58657074, 0.58655775, 0.5865644 , 0.5865758 , 0.5865613 ,\n",
       "        0.5865723 , 0.58657557, 0.5865753 , 0.58656776, 0.5865808 ,\n",
       "        0.58657694, 0.58658016, 0.5865708 , 0.5865667 , 0.58656895,\n",
       "        0.5865662 , 0.5865686 , 0.586574  , 0.5865742 , 0.58657277,\n",
       "        0.5865624 , 0.5865672 , 0.5865799 , 0.5865737 , 0.586578  ,\n",
       "        0.5865699 , 0.586572  , 0.58657515, 0.58657044, 0.5865691 ,\n",
       "        0.58658093, 0.58656675, 0.5865777 , 0.5865746 , 0.58654493,\n",
       "        0.586561  , 0.58656806, 0.5865509 , 0.58657175, 0.5865755 ,\n",
       "        0.58658445, 0.5865703 , 0.586579  , 0.58656263, 0.586562  ,\n",
       "        0.5865661 , 0.58655804, 0.58657056, 0.58657086, 0.5865709 ,\n",
       "        0.5865753 , 0.586572  , 0.58656424, 0.5865669 , 0.58656317,\n",
       "        0.5865664 , 0.5865711 , 0.5865543 , 0.58656466, 0.5865637 ,\n",
       "        0.5865585 , 0.58655536, 0.58657527, 0.5865708 , 0.5865517 ,\n",
       "        0.5865503 , 0.5865655 , 0.58657134, 0.58657515, 0.58657616,\n",
       "        0.58658314, 0.58657956, 0.586547  , 0.5865544 , 0.5865463 ,\n",
       "        0.58654326, 0.58655596, 0.5865433 , 0.5865502 , 0.5865466 ,\n",
       "        0.58654857, 0.5865794 , 0.5865497 , 0.5865612 , 0.58657306,\n",
       "        0.5865605 , 0.5865565 , 0.5865679 , 0.58654594, 0.58654714,\n",
       "        0.58656955, 0.5865407 , 0.58656824, 0.5865491 , 0.5865695 ,\n",
       "        0.5865516 , 0.58654636, 0.58654857, 0.586565  , 0.5865745 ,\n",
       "        0.58655214, 0.58657646, 0.58655226, 0.58656496, 0.5865531 ,\n",
       "        0.5865615 , 0.5865443 , 0.58657855, 0.586584  , 0.5865411 ,\n",
       "        0.5865603 , 0.58656156, 0.5865476 , 0.5865831 , 0.58656037,\n",
       "        0.586545  , 0.5865636 , 0.58655065, 0.5865416 , 0.58655137,\n",
       "        0.58655053, 0.5865482 , 0.58654016, 0.5865751 , 0.5865622 ,\n",
       "        0.5865617 , 0.5865463 , 0.586579  , 0.5865528 , 0.5865504 ,\n",
       "        0.58655655, 0.5865536 , 0.5865457 , 0.58657885, 0.5865454 ,\n",
       "        0.58654195, 0.58655864, 0.5865562 , 0.5865424 , 0.58656555,\n",
       "        0.58657014, 0.58655757, 0.58656   , 0.5865421 , 0.58654517,\n",
       "        0.5865435 , 0.5865649 , 0.58657724, 0.5865421 , 0.5865623 ,\n",
       "        0.5865758 , 0.5865624 , 0.58655614, 0.5865518 , 0.58656937,\n",
       "        0.58655584, 0.5865577 , 0.58657646, 0.5865463 , 0.58654225,\n",
       "        0.5865708 , 0.58654225, 0.5865771 , 0.5865498 , 0.5865673 ,\n",
       "        0.5865799 , 0.58655566, 0.58655113, 0.58654785, 0.5865548 ,\n",
       "        0.58657783, 0.58655554, 0.58655196, 0.58655936, 0.5865428 ,\n",
       "        0.5865519 , 0.58655053, 0.5865537 , 0.5865756 , 0.58657   ,\n",
       "        0.58655256, 0.5865608 , 0.5865475 , 0.5865726 , 0.5865708 ,\n",
       "        0.5865474 , 0.5865348 , 0.5865511 , 0.5865734 , 0.5865712 ,\n",
       "        0.5865812 , 0.5865782 , 0.5865618 , 0.5865741 , 0.5865716 ,\n",
       "        0.5865467 , 0.58655405, 0.5865502 , 0.5865481 , 0.58654475,\n",
       "        0.5865542 , 0.5865466 , 0.5865433 , 0.5865566 , 0.5865608 ,\n",
       "        0.58654505, 0.58655506, 0.5865482 , 0.58656615, 0.58655274,\n",
       "        0.5865647 , 0.5865561 , 0.58655506, 0.5865386 , 0.58656776,\n",
       "        0.586577  , 0.58656013, 0.5865552 , 0.586572  , 0.5865707 ,\n",
       "        0.5865749 , 0.58656126, 0.5865641 , 0.58657295, 0.58657485,\n",
       "        0.5865651 , 0.5865423 , 0.586576  , 0.58655083, 0.5865703 ,\n",
       "        0.58654636, 0.58656335, 0.58655554, 0.5865508 , 0.586542  ,\n",
       "        0.58656806, 0.58657616, 0.5865783 , 0.58657247, 0.58655846,\n",
       "        0.5865445 , 0.58656245, 0.5865674 , 0.58654785, 0.58653754,\n",
       "        0.5865659 , 0.58654964, 0.5865554 , 0.5865732 , 0.58655745,\n",
       "        0.58655095, 0.58654064, 0.5865587 , 0.58654696, 0.58655554,\n",
       "        0.58655226, 0.58656716, 0.5865503 , 0.58656996, 0.5865503 ,\n",
       "        0.58654636, 0.5865539 , 0.58655286, 0.5865658 , 0.58657557,\n",
       "        0.5865476 , 0.5865614 , 0.5865455 , 0.58655715, 0.5865641 ,\n",
       "        0.5865501 , 0.5865491 , 0.5865411 , 0.58654267, 0.5865624 ,\n",
       "        0.58655113, 0.5865527 , 0.5865424 , 0.5865456 , 0.5865437 ,\n",
       "        0.58655906, 0.5865543 , 0.58655816, 0.58655393, 0.58654803,\n",
       "        0.58654726, 0.5865513 , 0.5865463 , 0.5865431 , 0.586542  ,\n",
       "        0.58655185, 0.58655256, 0.58654714, 0.58655685, 0.5865492 ,\n",
       "        0.58654976, 0.5865513 , 0.58655924, 0.58654225, 0.5865474 ,\n",
       "        0.5865409 , 0.58655477, 0.58655435, 0.58655506, 0.5865561 ,\n",
       "        0.5865532 , 0.5865429 , 0.5865436 , 0.58654594, 0.5865447 ,\n",
       "        0.5865491 , 0.58654046, 0.58654207, 0.58654875, 0.58655113,\n",
       "        0.58656746, 0.58654904, 0.5865526 , 0.58654344, 0.58654433,\n",
       "        0.5865609 , 0.58655435, 0.5865536 , 0.5865612 , 0.5865608 ,\n",
       "        0.5865681 , 0.5865408 , 0.5865636 , 0.586544  , 0.5865594 ,\n",
       "        0.58655566, 0.5865532 , 0.58656085, 0.5865595 , 0.58655703,\n",
       "        0.586557  , 0.58655936, 0.5865526 , 0.58655345, 0.5865524 ,\n",
       "        0.58656937, 0.5865409 , 0.58654827, 0.58655006, 0.5865603 ,\n",
       "        0.58655876, 0.586552  , 0.58655685, 0.58656794, 0.5865628 ,\n",
       "        0.58655435, 0.5865459 , 0.5865575 , 0.5865566 , 0.5865423 ,\n",
       "        0.58655477, 0.5865531 , 0.5865571 ], dtype=float32))"
      ]
     },
     "execution_count": 27,
     "metadata": {},
     "output_type": "execute_result"
    }
   ],
   "source": [
    "get_pred_labels(test_generator)"
   ]
  },
  {
   "cell_type": "markdown",
   "metadata": {},
   "source": [
    "### Real pic test"
   ]
  },
  {
   "cell_type": "code",
   "execution_count": 28,
   "metadata": {},
   "outputs": [
    {
     "data": {
      "text/plain": [
       "{0: 'fragile', 1: 'up'}"
      ]
     },
     "execution_count": 28,
     "metadata": {},
     "output_type": "execute_result"
    }
   ],
   "source": [
    "get_label_dict(train_generator)"
   ]
  },
  {
   "cell_type": "code",
   "execution_count": 29,
   "metadata": {},
   "outputs": [
    {
     "name": "stdout",
     "output_type": "stream",
     "text": [
      "WARNING:tensorflow:From C:\\Users\\yukir\\AppData\\Local\\Temp/ipykernel_2296/1054934278.py:35: Sequential.predict_classes (from tensorflow.python.keras.engine.sequential) is deprecated and will be removed after 2021-01-01.\n",
      "Instructions for updating:\n",
      "Please use instead:* `np.argmax(model.predict(x), axis=-1)`,   if your model does multi-class classification   (e.g. if it uses a `softmax` last-layer activation).* `(model.predict(x) > 0.5).astype(\"int32\")`,   if your model does binary classification   (e.g. if it uses a `sigmoid` last-layer activation).\n"
     ]
    },
    {
     "data": {
      "text/html": [
       "<div>\n",
       "<style scoped>\n",
       "    .dataframe tbody tr th:only-of-type {\n",
       "        vertical-align: middle;\n",
       "    }\n",
       "\n",
       "    .dataframe tbody tr th {\n",
       "        vertical-align: top;\n",
       "    }\n",
       "\n",
       "    .dataframe thead th {\n",
       "        text-align: right;\n",
       "    }\n",
       "</style>\n",
       "<table border=\"1\" class=\"dataframe\">\n",
       "  <thead>\n",
       "    <tr style=\"text-align: right;\">\n",
       "      <th></th>\n",
       "      <th>file_name</th>\n",
       "      <th>label</th>\n",
       "      <th>class</th>\n",
       "    </tr>\n",
       "  </thead>\n",
       "  <tbody>\n",
       "    <tr>\n",
       "      <th>0</th>\n",
       "      <td>(2)blankstock180501065.jpg</td>\n",
       "      <td>1</td>\n",
       "      <td>up</td>\n",
       "    </tr>\n",
       "    <tr>\n",
       "      <th>1</th>\n",
       "      <td>blankstock180501065.jpg</td>\n",
       "      <td>1</td>\n",
       "      <td>up</td>\n",
       "    </tr>\n",
       "    <tr>\n",
       "      <th>2</th>\n",
       "      <td>grunge-fragile-box-sign-with-arrow-up-on-piece...</td>\n",
       "      <td>1</td>\n",
       "      <td>up</td>\n",
       "    </tr>\n",
       "    <tr>\n",
       "      <th>3</th>\n",
       "      <td>images (1).jpg</td>\n",
       "      <td>1</td>\n",
       "      <td>up</td>\n",
       "    </tr>\n",
       "    <tr>\n",
       "      <th>4</th>\n",
       "      <td>images.jpg</td>\n",
       "      <td>1</td>\n",
       "      <td>up</td>\n",
       "    </tr>\n",
       "  </tbody>\n",
       "</table>\n",
       "</div>"
      ],
      "text/plain": [
       "                                           file_name  label class\n",
       "0                         (2)blankstock180501065.jpg      1    up\n",
       "1                            blankstock180501065.jpg      1    up\n",
       "2  grunge-fragile-box-sign-with-arrow-up-on-piece...      1    up\n",
       "3                                     images (1).jpg      1    up\n",
       "4                                         images.jpg      1    up"
      ]
     },
     "execution_count": 29,
     "metadata": {},
     "output_type": "execute_result"
    }
   ],
   "source": [
    "def file_list(path):\n",
    "    file_list = os.listdir(path)\n",
    "    file_list.sort()\n",
    "    file_list = file_list[1:]\n",
    "    list_file = []\n",
    "    for i in file_list:\n",
    "        list_file.append(path+i)\n",
    "    return list_file\n",
    "\n",
    "path ='C:\\\\Users\\\\yukir\\\\Documents\\\\Monicas_workspace\\\\Datasets\\\\real_pic_test\\\\resizing\\\\'\n",
    "\n",
    "file_list = file_list(path)\n",
    "\n",
    "results={\n",
    "   0:'fragile',\n",
    "   1:'up',\n",
    "   2:'bird',\n",
    "   3:'cat',\n",
    "   4:'deer',\n",
    "   5:'dog',\n",
    "   6:'frog',\n",
    "   7:'horse',\n",
    "   8:'ship',\n",
    "   9:'truck'\n",
    "}\n",
    "columns =['file_name', 'label', 'class']\n",
    "answer = []\n",
    "for i in file_list:\n",
    "    im=Image.open(i)\n",
    "    # the input image is required to be in the shape of dataset, i.e (32,32,3)\n",
    "    i= i.split('\\\\')[-1]\n",
    "    im=im.resize((100,100))\n",
    "    im=np.expand_dims(im,axis=0)\n",
    "    im=np.array(im)\n",
    "    pred=model.predict_classes([im])[0]\n",
    "    answer.append([i, pred, results[pred]])\n",
    "    answer_df = pd.DataFrame(answer, columns = columns )\n",
    "answer_df.head()"
   ]
  },
  {
   "cell_type": "code",
   "execution_count": 30,
   "metadata": {},
   "outputs": [
    {
     "data": {
      "text/plain": [
       "up         14\n",
       "fragile     5\n",
       "Name: class, dtype: int64"
      ]
     },
     "execution_count": 30,
     "metadata": {},
     "output_type": "execute_result"
    }
   ],
   "source": [
    "answer_df['class'].value_counts()"
   ]
  },
  {
   "cell_type": "markdown",
   "metadata": {},
   "source": [
    "### save"
   ]
  },
  {
   "cell_type": "code",
   "execution_count": 31,
   "metadata": {},
   "outputs": [],
   "source": [
    "# model.save('[0725]data_aug_sametest.h5')\n",
    "\n",
    "# # Save model with json format \n",
    "# model_json = model.to_json() \n",
    "# with open(\"[0725]data_aug_sametest.json\", \"w\") as json_file:\n",
    "#     json_file.write(model_json)\n",
    "    \n",
    "# # Save weight with h5 format\n",
    "# model.save_weights(\"[0725]data_aug_sametest_weight.h5\")\n",
    "# print(\"Saved model to disk\")"
   ]
  },
  {
   "cell_type": "code",
   "execution_count": null,
   "metadata": {},
   "outputs": [],
   "source": []
  },
  {
   "cell_type": "code",
   "execution_count": null,
   "metadata": {},
   "outputs": [],
   "source": []
  }
 ],
 "metadata": {
  "accelerator": "GPU",
  "colab": {
   "collapsed_sections": [],
   "include_colab_link": true,
   "machine_shape": "hm",
   "name": "[0712]up, fragile classification",
   "provenance": []
  },
  "kernelspec": {
   "display_name": "Python 3 (ipykernel)",
   "language": "python",
   "name": "python3"
  },
  "language_info": {
   "codemirror_mode": {
    "name": "ipython",
    "version": 3
   },
   "file_extension": ".py",
   "mimetype": "text/x-python",
   "name": "python",
   "nbconvert_exporter": "python",
   "pygments_lexer": "ipython3",
   "version": "3.8.0"
  },
  "toc": {
   "base_numbering": 1,
   "nav_menu": {},
   "number_sections": true,
   "sideBar": true,
   "skip_h1_title": false,
   "title_cell": "Table of Contents",
   "title_sidebar": "Contents",
   "toc_cell": false,
   "toc_position": {},
   "toc_section_display": true,
   "toc_window_display": false
  },
  "varInspector": {
   "cols": {
    "lenName": 16,
    "lenType": 16,
    "lenVar": 40
   },
   "kernels_config": {
    "python": {
     "delete_cmd_postfix": "",
     "delete_cmd_prefix": "del ",
     "library": "var_list.py",
     "varRefreshCmd": "print(var_dic_list())"
    },
    "r": {
     "delete_cmd_postfix": ") ",
     "delete_cmd_prefix": "rm(",
     "library": "var_list.r",
     "varRefreshCmd": "cat(var_dic_list()) "
    }
   },
   "types_to_exclude": [
    "module",
    "function",
    "builtin_function_or_method",
    "instance",
    "_Feature"
   ],
   "window_display": false
  }
 },
 "nbformat": 4,
 "nbformat_minor": 1
}
