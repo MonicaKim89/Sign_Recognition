{
 "cells": [
  {
   "cell_type": "code",
   "execution_count": 66,
   "metadata": {},
   "outputs": [
    {
     "name": "stdout",
     "output_type": "stream",
     "text": [
      "C:\\Users\\yukir\\Documents\\Monicas_workspace\\py_storage\n"
     ]
    }
   ],
   "source": [
    "%cd C:\\Users\\yukir\\Documents\\Monicas_workspace\\py_storage"
   ]
  },
  {
   "cell_type": "code",
   "execution_count": 67,
   "metadata": {},
   "outputs": [],
   "source": [
    "from basic_preprocessing import *"
   ]
  },
  {
   "cell_type": "code",
   "execution_count": 68,
   "metadata": {},
   "outputs": [],
   "source": [
    "from deeplearning_check import *"
   ]
  },
  {
   "cell_type": "code",
   "execution_count": 69,
   "metadata": {},
   "outputs": [
    {
     "name": "stdout",
     "output_type": "stream",
     "text": [
      "C:\\Users\\yukir\\Documents\\Monicas_workspace\\Sign detection\\classification\n"
     ]
    }
   ],
   "source": [
    "%cd C:\\Users\\yukir\\Documents\\Monicas_workspace\\Sign detection\\classification"
   ]
  },
  {
   "cell_type": "code",
   "execution_count": 2,
   "metadata": {
    "colab": {
     "base_uri": "https://localhost:8080/"
    },
    "id": "Dni62IFckfY_",
    "outputId": "27a387d6-1e56-4a9b-fbb4-64ff81d3637a"
   },
   "outputs": [],
   "source": [
    "IMG_SIZE = 100\n",
    "NUM_EPOCHS = 8\n",
    "NUM_CLASSES = 2\n",
    "TRAIN_BATCH_SIZE = 77\n",
    "TEST_BATCH_SIZE = 1 \n",
    "opt =  tf.optimizers.Adam()"
   ]
  },
  {
   "cell_type": "code",
   "execution_count": 3,
   "metadata": {
    "id": "eJflUpf-qdjd"
   },
   "outputs": [],
   "source": [
    "def create_model():\n",
    "  #resnet_weights_path = '/content/drive/MyDrive/Caba2012_colab/Fire_dt/models/resnet.h5'\n",
    "  #resnet_weights_path = '../input/resnet50/resnet50_weights_tf_dim_ordering_tf_kernels_notop.h5'\n",
    "\n",
    "  #weigths = weights=resnet_weights_path ->none\n",
    "  resnet = ResNet50(include_top=False, pooling='avg', weights = None)\n",
    "  #resnet.summary()\n",
    "  my_new_model = Sequential()\n",
    "  my_new_model.add(resnet)\n",
    "  my_new_model.layers[0].trainable = True\n",
    "  my_new_model.add(Dense(NUM_CLASSES, activation='softmax')) #dense 3, NUM_CLASSES = 3\n",
    "\n",
    "  # Say no to train first layer (ResNet) model. It is already trained\n",
    "    \n",
    "  opt =  tf.optimizers.Adam()\n",
    "   #opt바꾼거 확인해\n",
    "  my_new_model.compile(optimizer=opt, loss='categorical_crossentropy', metrics=['accuracy'])\n",
    "\n",
    "  return my_new_model"
   ]
  },
  {
   "cell_type": "code",
   "execution_count": 4,
   "metadata": {},
   "outputs": [
    {
     "data": {
      "text/plain": [
       "'C:\\\\Users\\\\yukir\\\\Documents\\\\Monicas_workspace\\\\Sign detection\\\\classification'"
      ]
     },
     "execution_count": 4,
     "metadata": {},
     "output_type": "execute_result"
    }
   ],
   "source": [
    "/pwd"
   ]
  },
  {
   "cell_type": "code",
   "execution_count": 5,
   "metadata": {
    "id": "7B57kJuQldPn"
   },
   "outputs": [],
   "source": [
    "def train_model( model ):\n",
    "    #ata_generator = ImageDataGenerator(preprocessing_function=preprocess_input)\n",
    "\n",
    "#     data_generator_with_aug = ImageDataGenerator(preprocessing_function=preprocess_input,\n",
    "#                                 width_shift_range=0.1,\n",
    "#                                 height_shift_range=0.1,\n",
    "#                                 #sear_range=0.01,\n",
    "#                                 zoom_range=[0.9, 1.25],\n",
    "#                                 horizontal_flip=False,\n",
    "#                                 vertical_flip=False,\n",
    "#                                 data_format='channels_last',\n",
    "#                                 brightness_range=[0.5, 1.5]\n",
    "#                                )\n",
    "\n",
    "    data_gen_default = ImageDataGenerator(rescale=1./255)\n",
    "                                       \n",
    "    train_generator = data_gen_default.flow_from_directory(preprocessing_function=preprocess_input,\n",
    "            'C:\\\\Users\\\\yukir\\\\Documents\\\\Monicas_workspace\\\\Datasets\\\\0723\\\\[0723] dataset\\\\train',\n",
    "            target_size=(IMG_SIZE, IMG_SIZE),\n",
    "            batch_size=TRAIN_BATCH_SIZE,\n",
    "            class_mode='categorical')\n",
    "    \n",
    "   \n",
    "    validation_generator = data_gen_default.flow_from_directory(preprocessing_function=preprocess_input,\n",
    "            'C:\\\\Users\\\\yukir\\\\Documents\\\\Monicas_workspace\\\\Datasets\\\\0723\\\\[0723] dataset\\\\val',\n",
    "            target_size=(IMG_SIZE, IMG_SIZE),\n",
    "            batch_size=TEST_BATCH_SIZE,\n",
    "            shuffle = False,\n",
    "            class_mode='categorical')\n",
    "    \n",
    "    \n",
    "    ## test_gen에는  이미지 증대사용하면 안됨\n",
    "    test_generator = data_gen_default.flow_from_directory(preprocessing_function=preprocess_input,\n",
    "            'C:\\\\Users\\\\yukir\\\\Documents\\\\Monicas_workspace\\\\Datasets\\\\0723\\\\[0723] dataset\\\\test',\n",
    "            target_size=(IMG_SIZE, IMG_SIZE),\n",
    "            batch_size=TEST_BATCH_SIZE,\n",
    "            shuffle = False,\n",
    "            class_mode='categorical')\n",
    "    \n",
    "        \n",
    "    #y_train = get_labels(train_generator)\n",
    "    #weights = class_weight.compute_class_weight('balanced',np.unique(y_train), y_train)\n",
    "    #dict_weights = { i: weights[i] for i in range(len(weights)) }\n",
    "       \n",
    "    H = model.fit(\n",
    "            train_generator,\n",
    "            steps_per_epoch=train_generator.n/TRAIN_BATCH_SIZE,\n",
    "            epochs=NUM_EPOCHS,\n",
    "            validation_data=validation_generator,\n",
    "            validation_steps = 1 \n",
    "            #,\n",
    "            #class_weight=dict_weights\n",
    "                )\n",
    "    \n",
    "    plot_history( H, NUM_EPOCHS )\n",
    "    \n",
    "    return H, model, train_generator, validation_generator ,test_generator"
   ]
  },
  {
   "cell_type": "code",
   "execution_count": 6,
   "metadata": {
    "id": "V6anMevUpB7k"
   },
   "outputs": [],
   "source": [
    "def get_label_dict(train_generator ):\n",
    "# Get label to class_id mapping\n",
    "    labels = (train_generator.class_indices)\n",
    "    label_dict = dict((v,k) for k,v in labels.items())\n",
    "    return  label_dict   "
   ]
  },
  {
   "cell_type": "code",
   "execution_count": 7,
   "metadata": {
    "id": "8plvW7aYpGXn"
   },
   "outputs": [],
   "source": [
    "def get_labels( test_generator ):\n",
    "    test_generator.reset()\n",
    "    labels = []\n",
    "    for i in range(len(generator)):\n",
    "        labels.extend(np.array(generator[i][1]) )\n",
    "    return np.argmax(labels, axis =1)"
   ]
  },
  {
   "cell_type": "code",
   "execution_count": 60,
   "metadata": {
    "id": "_Yn0xl2qpHyI"
   },
   "outputs": [],
   "source": [
    "def get_pred_labels( test_generator):\n",
    "    test_generator.reset()\n",
    "    pred_vec=model.predict_generator(test_generator,\n",
    "                                     steps=test_generator.n, #test_generator.batch_size\n",
    "                                     verbose=1)\n",
    "    return np.argmax( pred_vec, axis = 1), np.max(pred_vec, axis = 1)"
   ]
  },
  {
   "cell_type": "code",
   "execution_count": 9,
   "metadata": {
    "id": "CEyRoMZepNE5"
   },
   "outputs": [],
   "source": [
    "def plot_history( H, NUM_EPOCHS ):\n",
    "    plt.style.use(\"ggplot\")\n",
    "    fig = plt.figure()\n",
    "    fig.set_size_inches(15, 5)\n",
    "    \n",
    "    fig.add_subplot(1, 3, 1)\n",
    "    plt.plot(np.arange(0, NUM_EPOCHS), H.history[\"loss\"], label=\"train_loss\")\n",
    "    plt.plot(np.arange(0, NUM_EPOCHS), H.history[\"val_loss\"], label=\"val_loss\")\n",
    "    plt.title(\"Training Loss and Validation Loss on Dataset\")\n",
    "    plt.xlabel(\"Epoch #\")\n",
    "    plt.ylabel(\"Loss\")\n",
    "    plt.legend(loc=\"lower left\")\n",
    "\n",
    "    \n",
    "    fig.add_subplot(1, 3, 2)\n",
    "    plt.plot(np.arange(0, NUM_EPOCHS), H.history[\"loss\"], label=\"train_loss\")\n",
    "    plt.plot(np.arange(0, NUM_EPOCHS), H.history[\"accuracy\"], label=\"train_accuracy\")\n",
    "    plt.title(\"Training Loss and Accuracy on Dataset\")\n",
    "    plt.xlabel(\"Epoch #\")\n",
    "    plt.ylabel(\"Loss/Accuracy\")\n",
    "    plt.legend(loc=\"lower left\")\n",
    "    \n",
    "    fig.add_subplot(1, 3, 3)\n",
    "    plt.plot(np.arange(0, NUM_EPOCHS), H.history[\"val_loss\"], label=\"val_loss\")\n",
    "    plt.plot(np.arange(0, NUM_EPOCHS), H.history[\"val_accuracy\"], label=\"val_accuracy\")\n",
    "    plt.title(\"Validation Loss and Accuracy on Dataset\")\n",
    "    plt.xlabel(\"Epoch #\")\n",
    "    plt.ylabel(\"Loss/Accuracy\")\n",
    "    plt.legend(loc=\"lower left\")\n",
    "\n",
    "\n",
    "    plt.show()"
   ]
  },
  {
   "cell_type": "code",
   "execution_count": 62,
   "metadata": {
    "id": "1fwwknDmpVz1"
   },
   "outputs": [],
   "source": [
    "def draw_prediction( frame, class_string ):\n",
    "    x_start = frame.shape[1]- 600 # 위치\n",
    "    cv2.putText(frame, class_string, (10,50), cv2.FONT_HERSHEY_SIMPLEX, 1, (255, 0, 0), 2, cv2.LINE_AA)\n",
    "    return frame"
   ]
  },
  {
   "cell_type": "code",
   "execution_count": 63,
   "metadata": {
    "id": "qEw6aM4QpXPY"
   },
   "outputs": [],
   "source": [
    "def prepare_image_for_prediction( img):\n",
    "   \n",
    "    # convert 3D tensor to 4D tensor with shape (1, 224, 224, 3) and return 4D tensor\n",
    "    # The below function inserts an additional dimension at the axis position provided\n",
    "    img = np.expand_dims(img, axis=0)\n",
    "    # perform pre-processing that was done when resnet model was trained.\n",
    "    return preprocess_input(img)"
   ]
  },
  {
   "cell_type": "markdown",
   "metadata": {
    "heading_collapsed": true
   },
   "source": [
    "#### Training"
   ]
  },
  {
   "cell_type": "code",
   "execution_count": 14,
   "metadata": {
    "colab": {
     "base_uri": "https://localhost:8080/"
    },
    "hidden": true,
    "id": "mV82B4WEq0sa",
    "outputId": "318b94f6-2c3f-4d2b-c214-0d12bcaac508"
   },
   "outputs": [
    {
     "name": "stdout",
     "output_type": "stream",
     "text": [
      "Model: \"sequential\"\n",
      "_________________________________________________________________\n",
      "Layer (type)                 Output Shape              Param #   \n",
      "=================================================================\n",
      "resnet50 (Model)             (None, 2048)              23587712  \n",
      "_________________________________________________________________\n",
      "dense (Dense)                (None, 2)                 4098      \n",
      "=================================================================\n",
      "Total params: 23,591,810\n",
      "Trainable params: 23,538,690\n",
      "Non-trainable params: 53,120\n",
      "_________________________________________________________________\n"
     ]
    }
   ],
   "source": [
    "model = create_model()\n",
    "model.summary()"
   ]
  },
  {
   "cell_type": "code",
   "execution_count": 15,
   "metadata": {
    "colab": {
     "base_uri": "https://localhost:8080/",
     "height": 1000
    },
    "hidden": true,
    "id": "x6w80-rCp3oS",
    "outputId": "6678c20c-3f68-4bcb-e81d-756f2984e58b"
   },
   "outputs": [
    {
     "name": "stdout",
     "output_type": "stream",
     "text": [
      "Found 2968 images belonging to 2 classes.\n",
      "Found 370 images belonging to 2 classes.\n",
      "Found 374 images belonging to 2 classes.\n",
      "Epoch 1/8\n",
      "39/38 [==============================] - 6s 148ms/step - loss: 1.0742 - accuracy: 0.7635 - val_loss: 0.1518 - val_accuracy: 1.0000\n",
      "Epoch 2/8\n",
      "39/38 [==============================] - 4s 103ms/step - loss: 0.0933 - accuracy: 0.9670 - val_loss: 0.3069 - val_accuracy: 1.0000\n",
      "Epoch 3/8\n",
      "39/38 [==============================] - 4s 103ms/step - loss: 0.0395 - accuracy: 0.9892 - val_loss: 0.0067 - val_accuracy: 1.0000\n",
      "Epoch 4/8\n",
      "39/38 [==============================] - 4s 103ms/step - loss: 0.0166 - accuracy: 0.9933 - val_loss: 9.8939e-05 - val_accuracy: 1.0000\n",
      "Epoch 5/8\n",
      "39/38 [==============================] - 4s 104ms/step - loss: 0.2423 - accuracy: 0.9481 - val_loss: 51.0232 - val_accuracy: 0.0000e+00\n",
      "Epoch 6/8\n",
      "39/38 [==============================] - 4s 107ms/step - loss: 0.0342 - accuracy: 0.9885 - val_loss: 52.4283 - val_accuracy: 0.0000e+00\n",
      "Epoch 7/8\n",
      "39/38 [==============================] - 4s 110ms/step - loss: 0.0232 - accuracy: 0.9929 - val_loss: 9.6386 - val_accuracy: 0.0000e+00\n",
      "Epoch 8/8\n",
      "39/38 [==============================] - 4s 103ms/step - loss: 0.0342 - accuracy: 0.9896 - val_loss: 0.4278 - val_accuracy: 1.0000\n"
     ]
    },
    {
     "data": {
      "image/png": "[encoded data removed]",
      "text/plain": [
       "<Figure size 1080x360 with 3 Axes>"
      ]
     },
     "metadata": {},
     "output_type": "display_data"
    }
   ],
   "source": [
    "H, trained_model,train_generator,validation_generator, test_generator = train_model(model)\n",
    "label_dict= get_label_dict(train_generator)\n",
    "#model.compile(optimizer=opt, loss='categorical_crossentropy', metrics=['accuracy'])\n",
    "#model.save('/content/drive/MyDrive/Caba2012_colab/Fire_dt/models/resnet.h5')"
   ]
  },
  {
   "cell_type": "code",
   "execution_count": 16,
   "metadata": {
    "colab": {
     "base_uri": "https://localhost:8080/"
    },
    "hidden": true,
    "id": "x5DMOwKzMlHe",
    "outputId": "d8f899ee-be37-4be5-dcbd-a81ebc442455"
   },
   "outputs": [
    {
     "name": "stderr",
     "output_type": "stream",
     "text": [
      "/usr/local/lib/python3.7/dist-packages/tensorflow/python/keras/utils/generic_utils.py:497: CustomMaskWarning: Custom mask layers require a config and must override get_config. When loading, the custom mask layer must be passed to the custom_objects argument.\n",
      "  category=CustomMaskWarning)\n"
     ]
    }
   ],
   "source": [
    "# model.compile(optimizer=opt, loss='categorical_crossentropy', metrics=['accuracy'])\n",
    "# model.save('/content/drive/MyDrive/fragile/Classification/0712up_fragile_resnet.h5')"
   ]
  },
  {
   "cell_type": "code",
   "execution_count": 20,
   "metadata": {
    "hidden": true
   },
   "outputs": [],
   "source": [
    "model.compile(optimizer = optimizers.RMSprop(lr=2e-5),\n",
    "             loss='categorical_crossentropy',\n",
    "             metrics=['accuracy',\\\n",
    "                      tf.keras.metrics.Precision(name='precision')\\\n",
    "                          ,tf.keras.metrics.Recall(name='recall')\\\n",
    "                          ,tf.keras.metrics.FalsePositives(name='false_positives')\\\n",
    "                          ,tf.keras.metrics.FalseNegatives(name='false_negatives'),\\\n",
    "                      tf.keras.metrics.TruePositives(name ='true_positives'),\\\n",
    "                     tf.keras.metrics.TrueNegatives(name ='true_negatives')])\n",
    "# #                      tf.keras.metrics.SensitivityAtSpecificity(specificity, num_thresholds=200, name='SensitivityAtSpecificity', dtype=None),\\\n",
    "#                      tf.keras.metrics.SpecificityAtSensitivity(name='SpecificityAtSensitivity')])"
   ]
  },
  {
   "cell_type": "code",
   "execution_count": 17,
   "metadata": {
    "hidden": true
   },
   "outputs": [
    {
     "data": {
      "text/plain": [
       "{'loss': [1.0741735696792603,\n",
       "  0.09325536340475082,\n",
       "  0.039487551897764206,\n",
       "  0.01659868285059929,\n",
       "  0.24226507544517517,\n",
       "  0.034227799624204636,\n",
       "  0.023190172389149666,\n",
       "  0.03423111513257027],\n",
       " 'accuracy': [0.763477087020874,\n",
       "  0.9669811129570007,\n",
       "  0.9892183542251587,\n",
       "  0.993261456489563,\n",
       "  0.948113203048706,\n",
       "  0.9885444641113281,\n",
       "  0.9929245114326477,\n",
       "  0.9895552396774292],\n",
       " 'val_loss': [0.1518101543188095,\n",
       "  0.3068862855434418,\n",
       "  0.006746253930032253,\n",
       "  9.893881360767409e-05,\n",
       "  51.023223876953125,\n",
       "  52.42830276489258,\n",
       "  9.638599395751953,\n",
       "  0.42783746123313904],\n",
       " 'val_accuracy': [1.0, 1.0, 1.0, 1.0, 0.0, 0.0, 0.0, 1.0]}"
      ]
     },
     "execution_count": 17,
     "metadata": {},
     "output_type": "execute_result"
    }
   ],
   "source": [
    "# 반환되는 \"이력\" 객체는 훈련 중 손실 값과 메트릭 값에 대한 레코드를 유지합니다.\n",
    "H.history"
   ]
  },
  {
   "cell_type": "code",
   "execution_count": 25,
   "metadata": {
    "hidden": true
   },
   "outputs": [
    {
     "name": "stdout",
     "output_type": "stream",
     "text": [
      "374/374 [==============================] - 3s 9ms/step - loss: 1.9262 - accuracy: 0.6524 - precision: 0.6524 - recall: 0.6524 - false_positives: 130.0000 - false_negatives: 130.0000 - true_positives: 244.0000 - true_negatives: 244.0000\n"
     ]
    },
    {
     "data": {
      "text/plain": [
       "list"
      ]
     },
     "execution_count": 25,
     "metadata": {},
     "output_type": "execute_result"
    }
   ],
   "source": [
    "result = model.evaluate(test_generator)\n",
    "type(result)"
   ]
  },
  {
   "cell_type": "code",
   "execution_count": 53,
   "metadata": {
    "hidden": true
   },
   "outputs": [],
   "source": [
    "def evaluating_each(result):\n",
    "    from keras import backend as K\n",
    "    \n",
    "    loss = result[0]\n",
    "    accuracy = result[1]\n",
    "    precision = result[2]\n",
    "    recall = result[3]\n",
    "    f_p = int(result[4])\n",
    "    f_n = int(result[5])\n",
    "    t_p = int(result[6])\n",
    "    t_n = int(result[7])\n",
    "    \n",
    "    f1_score = (2 * recall * precision) / (recall + precision + K.epsilon())\n",
    "    sensitivity = t_p / (t_p + f_n)\n",
    "    specificity = t_n/ (t_n + f_p)\n",
    "    \n",
    "    print(\"\"\"loss:{:.3f}, \\naccuracy:{:.3f}, \\nprecision:{:.3f}, \\nrecall:{:.3f}, \\nFalse_positive:{}, \\nFalse_negative, :{}, \\nTrue_positive:{}, \\nTrue_negative:{}, \\nSensitivity:{:.3f}, \\nSpecificity:{:.3f}, \\nF1_score:{:.3f}\"\"\".format(loss, accuracy, precision, recall, f_p, f_n, t_p, t_n, sensitivity, specificity, f1_score))\n",
    "    return loss, accuracy, precision, recall, f_p, f_n, t_p, t_n, sensitivity, specificity, f1_score"
   ]
  },
  {
   "cell_type": "code",
   "execution_count": 54,
   "metadata": {
    "hidden": true
   },
   "outputs": [
    {
     "name": "stdout",
     "output_type": "stream",
     "text": [
      "loss:1.926, \n",
      "accuracy:0.652, \n",
      "precision:0.652, \n",
      "recall:0.652, \n",
      "False_positive:130, \n",
      "False_negative, :130, \n",
      "True_positive:244, \n",
      "True_negative:244, \n",
      "Sensitivity:0.652, \n",
      "Specificity:0.652, \n",
      "F1_score:0.652\n"
     ]
    },
    {
     "data": {
      "text/plain": [
       "(1.926223874092102,\n",
       " 0.6524063944816589,\n",
       " 0.6524063944816589,\n",
       " 0.6524063944816589,\n",
       " 130,\n",
       " 130,\n",
       " 244,\n",
       " 244,\n",
       " 0.6524064171122995,\n",
       " 0.6524064171122995,\n",
       " 0.6524063444816628)"
      ]
     },
     "execution_count": 54,
     "metadata": {},
     "output_type": "execute_result"
    }
   ],
   "source": [
    "evaluating_each(result)"
   ]
  },
  {
   "cell_type": "code",
   "execution_count": 61,
   "metadata": {
    "hidden": true
   },
   "outputs": [
    {
     "name": "stdout",
     "output_type": "stream",
     "text": [
      "WARNING:tensorflow:From C:\\Users\\yukir\\AppData\\Local\\Temp/ipykernel_3552/1763928774.py:3: Model.predict_generator (from tensorflow.python.keras.engine.training) is deprecated and will be removed in a future version.\n",
      "Instructions for updating:\n",
      "Please use Model.predict, which supports generators.\n",
      "374/374 [==============================] - 2s 5ms/step\n"
     ]
    },
    {
     "data": {
      "text/plain": [
       "(array([0, 1, 1, 0, 0, 0, 1, 1, 1, 1, 1, 1, 1, 1, 0, 1, 0, 1, 1, 1, 1, 1,\n",
       "        1, 1, 1, 1, 1, 1, 1, 1, 0, 1, 1, 0, 1, 1, 1, 0, 1, 1, 0, 1, 1, 1,\n",
       "        0, 1, 1, 0, 1, 1, 1, 1, 0, 0, 0, 1, 0, 0, 0, 0, 1, 1, 0, 0, 0, 1,\n",
       "        1, 0, 0, 1, 0, 0, 1, 0, 1, 1, 0, 1, 1, 1, 1, 1, 1, 0, 1, 1, 1, 0,\n",
       "        1, 1, 1, 0, 0, 0, 0, 0, 0, 0, 0, 0, 0, 0, 0, 0, 0, 0, 0, 0, 0, 0,\n",
       "        0, 0, 0, 0, 0, 0, 0, 0, 0, 0, 0, 0, 0, 0, 0, 0, 0, 0, 0, 0, 0, 0,\n",
       "        0, 0, 0, 0, 0, 0, 0, 0, 0, 0, 0, 0, 0, 0, 0, 0, 0, 0, 0, 0, 0, 0,\n",
       "        0, 0, 0, 0, 0, 0, 0, 0, 0, 0, 0, 0, 0, 0, 0, 0, 0, 0, 0, 0, 0, 0,\n",
       "        0, 0, 0, 0, 0, 0, 0, 0, 0, 0, 0, 1, 1, 1, 1, 1, 1, 1, 1, 1, 0, 0,\n",
       "        1, 1, 1, 1, 1, 1, 1, 1, 1, 1, 1, 1, 1, 1, 1, 1, 1, 1, 1, 0, 0, 1,\n",
       "        1, 1, 1, 1, 1, 1, 1, 1, 1, 0, 1, 1, 0, 1, 1, 1, 1, 1, 0, 1, 1, 1,\n",
       "        1, 1, 0, 1, 0, 1, 1, 1, 0, 1, 1, 1, 1, 0, 1, 1, 1, 1, 1, 0, 0, 1,\n",
       "        1, 1, 1, 1, 1, 0, 1, 1, 1, 1, 1, 1, 1, 1, 1, 1, 1, 0, 1, 1, 0, 0,\n",
       "        1, 0, 0, 0, 0, 1, 1, 0, 1, 0, 1, 0, 0, 1, 0, 1, 0, 0, 0, 0, 1, 1,\n",
       "        1, 0, 1, 0, 1, 0, 0, 1, 0, 0, 0, 0, 0, 0, 0, 0, 0, 0, 0, 0, 0, 0,\n",
       "        0, 0, 1, 0, 1, 1, 0, 0, 1, 1, 1, 0, 1, 1, 1, 0, 0, 1, 1, 1, 0, 0,\n",
       "        1, 1, 0, 1, 1, 0, 0, 0, 1, 1, 1, 1, 0, 1, 0, 1, 0, 0, 0, 0, 0, 1],\n",
       "       dtype=int64),\n",
       " array([0.5831842 , 0.995301  , 0.9947017 , 0.9999999 , 0.9999951 ,\n",
       "        0.5811317 , 0.54199564, 0.9880193 , 0.5972888 , 0.94219047,\n",
       "        0.9945762 , 0.57372874, 0.99616003, 0.9659606 , 0.99991167,\n",
       "        0.98532593, 0.9999995 , 0.9714641 , 0.9995808 , 0.99493897,\n",
       "        0.9921295 , 0.99106807, 0.7030118 , 0.9613927 , 0.99816376,\n",
       "        0.9557666 , 0.97814924, 0.99667895, 0.86410546, 0.99920505,\n",
       "        0.99994683, 0.99877304, 0.9986677 , 0.9999651 , 0.99212134,\n",
       "        0.9975006 , 0.98970616, 0.9987968 , 0.9975546 , 0.9976713 ,\n",
       "        0.5403689 , 0.9992403 , 0.9351615 , 0.99907637, 0.988194  ,\n",
       "        0.9995054 , 0.9785615 , 0.99584633, 0.9993394 , 0.96476614,\n",
       "        0.9618867 , 0.97277033, 0.8936494 , 0.9999999 , 0.9813455 ,\n",
       "        0.9966163 , 0.8110931 , 0.99984074, 0.8980032 , 0.99997675,\n",
       "        0.87991554, 0.9803258 , 0.98405737, 0.99991715, 1.        ,\n",
       "        0.9632749 , 0.9975501 , 0.99999714, 0.8979176 , 0.82080555,\n",
       "        0.9970516 , 0.88218725, 0.99272656, 0.99995935, 0.844952  ,\n",
       "        0.98824847, 0.9271976 , 0.98004043, 0.9978393 , 0.86462855,\n",
       "        0.9403278 , 0.9511962 , 0.8743966 , 0.66512424, 0.99808156,\n",
       "        0.9946405 , 0.59512055, 0.7851578 , 0.9798249 , 0.9718473 ,\n",
       "        0.7880634 , 0.69310266, 0.99996066, 0.99999976, 0.99999905,\n",
       "        1.        , 0.9999999 , 0.9999957 , 0.99999964, 1.        ,\n",
       "        0.9999999 , 0.9999995 , 0.99999976, 1.        , 0.99999917,\n",
       "        0.99999857, 0.99999976, 0.9999999 , 1.        , 1.        ,\n",
       "        0.99999547, 1.        , 0.99994385, 0.9999999 , 0.9999999 ,\n",
       "        1.        , 0.99999917, 1.        , 0.99999905, 1.        ,\n",
       "        1.        , 1.        , 1.        , 0.99999964, 0.99999964,\n",
       "        0.9999989 , 1.        , 0.9999994 , 1.        , 0.99999917,\n",
       "        1.        , 1.        , 1.        , 1.        , 1.        ,\n",
       "        1.        , 0.9999999 , 0.9999999 , 1.        , 1.        ,\n",
       "        1.        , 0.9999999 , 1.        , 1.        , 0.99995315,\n",
       "        0.99999416, 0.99947613, 1.        , 0.9999994 , 0.9989116 ,\n",
       "        0.99999905, 0.999998  , 1.        , 0.99998605, 1.        ,\n",
       "        0.9999999 , 0.9999795 , 0.9999995 , 0.9992204 , 1.        ,\n",
       "        1.        , 0.9999994 , 0.9999944 , 1.        , 0.9999993 ,\n",
       "        1.        , 1.        , 0.9999995 , 0.999998  , 0.99994755,\n",
       "        0.99999976, 0.999998  , 0.9996247 , 0.999995  , 1.        ,\n",
       "        1.        , 0.99999654, 0.99994266, 1.        , 0.99999964,\n",
       "        0.9999999 , 1.        , 1.        , 1.        , 0.9998161 ,\n",
       "        1.        , 0.99344844, 0.99999964, 0.998615  , 0.9986754 ,\n",
       "        0.999912  , 0.9990388 , 0.99999774, 0.99999964, 0.9999982 ,\n",
       "        0.9999976 , 0.99983037, 0.9843173 , 0.9997578 , 0.99998343,\n",
       "        0.9948704 , 0.99846375, 0.9994172 , 0.99965036, 0.9960157 ,\n",
       "        0.99754375, 0.95756245, 0.9932821 , 0.99941385, 0.9874105 ,\n",
       "        0.99922097, 0.99954885, 0.99997735, 0.99960166, 0.9999962 ,\n",
       "        0.99998677, 0.99955827, 0.9814858 , 0.9996309 , 0.9996463 ,\n",
       "        0.99921787, 0.9994469 , 0.9992654 , 0.9985114 , 0.99951684,\n",
       "        0.9999939 , 0.9840186 , 0.9997818 , 0.99979883, 0.6768725 ,\n",
       "        0.99935967, 0.99971205, 0.99893194, 0.9999796 , 0.9998863 ,\n",
       "        0.9996493 , 0.99971265, 0.9963651 , 0.9986029 , 0.9913449 ,\n",
       "        0.99998796, 0.99999535, 0.97699213, 0.9999875 , 0.999811  ,\n",
       "        0.9997023 , 0.9997867 , 0.9981664 , 0.9994624 , 0.9975006 ,\n",
       "        0.9998517 , 0.99429506, 0.99536973, 0.9761336 , 0.99917644,\n",
       "        0.99921346, 0.995103  , 0.9993253 , 0.999998  , 0.9999964 ,\n",
       "        0.9976337 , 0.9999802 , 0.9942872 , 0.99804485, 0.98154116,\n",
       "        0.9741958 , 0.9938611 , 0.9951094 , 0.96296304, 0.99994874,\n",
       "        0.9886594 , 0.9756074 , 0.9715235 , 0.99998355, 0.99967015,\n",
       "        0.99999654, 0.9995995 , 0.9992582 , 0.99975973, 0.9999993 ,\n",
       "        0.9965154 , 0.9992933 , 0.81902003, 0.5084925 , 0.54593986,\n",
       "        0.9995814 , 0.99392694, 0.9999678 , 0.99815303, 0.95500433,\n",
       "        0.959649  , 0.9593186 , 0.9691677 , 0.974537  , 0.99153733,\n",
       "        0.9775968 , 0.97866905, 0.597876  , 0.6533652 , 0.81074834,\n",
       "        0.89053094, 0.9895188 , 0.99915075, 0.9999324 , 0.99943894,\n",
       "        0.9934901 , 0.9997454 , 0.52517897, 0.95746046, 0.54720837,\n",
       "        0.79787916, 0.9999926 , 0.86675584, 0.99943846, 0.9978661 ,\n",
       "        0.7836822 , 0.99999607, 0.9699355 , 0.7875245 , 0.9999995 ,\n",
       "        0.9993722 , 0.6914395 , 0.9999485 , 0.99991846, 0.9999974 ,\n",
       "        0.8476072 , 0.9968736 , 0.9999999 , 0.99967694, 0.9946286 ,\n",
       "        0.9999989 , 0.9999958 , 0.69468224, 0.79742616, 0.9964839 ,\n",
       "        0.94736755, 0.7415204 , 0.99999845, 0.9913531 , 0.99947697,\n",
       "        0.99929345, 0.9080089 , 0.73164123, 0.7046316 , 0.7231012 ,\n",
       "        0.8149444 , 0.9999225 , 0.9999324 , 0.97929907, 0.9996556 ,\n",
       "        0.9957777 , 0.99999845, 0.8930965 , 0.9999589 , 0.99994516,\n",
       "        0.99249166, 0.6137904 , 0.91344935, 0.99153167, 0.83869004,\n",
       "        0.52740455, 0.9817197 , 0.9999701 , 0.99946696, 0.99984837,\n",
       "        0.81046414, 0.9999974 , 0.70399076, 0.6822072 , 0.99999964,\n",
       "        0.7588938 , 0.8174066 , 0.9370838 , 0.89811647], dtype=float32))"
      ]
     },
     "execution_count": 61,
     "metadata": {},
     "output_type": "execute_result"
    }
   ],
   "source": [
    "grau"
   ]
  },
  {
   "cell_type": "markdown",
   "metadata": {
    "heading_collapsed": true
   },
   "source": [
    "### save"
   ]
  },
  {
   "cell_type": "code",
   "execution_count": 41,
   "metadata": {
    "hidden": true
   },
   "outputs": [
    {
     "name": "stdout",
     "output_type": "stream",
     "text": [
      "C:\\Users\\yukir\\Documents\\Monicas_workspace\\Datasets\\weight\n"
     ]
    }
   ],
   "source": [
    "%cd C:\\Users\\yukir\\Documents\\Monicas_workspace\\Datasets\\weight"
   ]
  },
  {
   "cell_type": "code",
   "execution_count": 70,
   "metadata": {
    "hidden": true
   },
   "outputs": [
    {
     "name": "stdout",
     "output_type": "stream",
     "text": [
      "Saved model to disk\n"
     ]
    }
   ],
   "source": [
    "model.save('[0723]data_default_resnet50.h5')\n",
    "\n",
    "# Save model with json format \n",
    "model_json = model.to_json() \n",
    "with open(\"[0723]data_default_resnet50.json\", \"w\") as json_file:\n",
    "    json_file.write(model_json)\n",
    "    \n",
    "# Save weight with h5 format\n",
    "model.save_weights(\"[0723]data_default_resnet50_weight.h5\")\n",
    "print(\"Saved model to disk\")"
   ]
  },
  {
   "cell_type": "code",
   "execution_count": null,
   "metadata": {
    "hidden": true
   },
   "outputs": [],
   "source": []
  },
  {
   "cell_type": "code",
   "execution_count": null,
   "metadata": {
    "hidden": true
   },
   "outputs": [],
   "source": []
  },
  {
   "cell_type": "code",
   "execution_count": 32,
   "metadata": {
    "hidden": true
   },
   "outputs": [
    {
     "data": {
      "image/png": "[encoded data removed]",
      "text/plain": [
       "<Figure size 1080x360 with 2 Axes>"
      ]
     },
     "metadata": {},
     "output_type": "display_data"
    }
   ],
   "source": [
    "acc = H.history['accuracy']\n",
    "val_acc = H.history['val_accuracy']\n",
    "\n",
    "loss = H.history['loss']\n",
    "val_loss = H.history['val_loss']\n",
    "\n",
    "epochs = range(1, len(acc) +1)\n",
    "    \n",
    "    \n",
    "\n",
    "fig = plt.figure()\n",
    "fig.set_size_inches(15, 5)\n",
    "\n",
    "fig.add_subplot(1, 2, 1)\n",
    "plt.plot(epochs, acc, 'b', label ='Training acc')\n",
    "plt.plot(epochs, val_acc, 'r', label = 'Validation acc')\n",
    "plt.title('Training and validation accuracy')\n",
    "plt.legend()\n",
    "\n",
    "# plt.figure()\n",
    "fig.add_subplot(1, 2, 2) \n",
    "plt.plot(epochs, loss, 'b', label = \"Training loss\")\n",
    "plt.plot(epochs, val_loss, 'r', label ='Validation loss')\n",
    "plt.title('Training and validation lose')\n",
    "plt.legend()\n",
    "\n",
    "plt.show()"
   ]
  },
  {
   "cell_type": "markdown",
   "metadata": {},
   "source": [
    "### evaluate"
   ]
  },
  {
   "cell_type": "code",
   "execution_count": 77,
   "metadata": {},
   "outputs": [
    {
     "name": "stdout",
     "output_type": "stream",
     "text": [
      "374/374 [==============================] - 3s 9ms/step - loss: 1.9262 - accuracy: 0.6524 - precision: 0.6524 - recall: 0.6524 - false_positives: 130.0000 - false_negatives: 130.0000 - true_positives: 244.0000 - true_negatives: 244.0000\n",
      "\n",
      "loss:1.926, \n",
      "accuracy:0.652, \n",
      "precision:0.652, \n",
      "recall:0.652, \n",
      "False_positive:130, \n",
      "False_negative, :130, \n",
      "True_positive:244, \n",
      "True_negative:244, \n",
      "Sensitivity:0.652, \n",
      "Specificity:0.652, \n",
      "F1_score:0.652\n"
     ]
    },
    {
     "data": {
      "text/plain": [
       "(1.926223874092102,\n",
       " 0.6524063944816589,\n",
       " 0.6524063944816589,\n",
       " 0.6524063944816589,\n",
       " 130,\n",
       " 130,\n",
       " 244,\n",
       " 244,\n",
       " 0.6524064171122995,\n",
       " 0.6524064171122995,\n",
       " 0.6524063444816628)"
      ]
     },
     "execution_count": 77,
     "metadata": {},
     "output_type": "execute_result"
    }
   ],
   "source": [
    "evaluating_each(model,test_generator)"
   ]
  },
  {
   "cell_type": "code",
   "execution_count": null,
   "metadata": {},
   "outputs": [],
   "source": []
  },
  {
   "cell_type": "code",
   "execution_count": null,
   "metadata": {},
   "outputs": [],
   "source": []
  },
  {
   "cell_type": "markdown",
   "metadata": {},
   "source": [
    "### real_pic test"
   ]
  },
  {
   "cell_type": "code",
   "execution_count": 80,
   "metadata": {},
   "outputs": [],
   "source": [
    "test_gen_dir = \"C:\\\\Users\\\\yukir\\\\Documents\\\\Monicas_workspace\\\\Sign detection\\\\fragile sign\\\\test\""
   ]
  },
  {
   "cell_type": "code",
   "execution_count": 83,
   "metadata": {},
   "outputs": [],
   "source": [
    "test_generator2 = ImageDataGenerator(test_gen_dir, rescale=1./255)"
   ]
  },
  {
   "cell_type": "code",
   "execution_count": 88,
   "metadata": {},
   "outputs": [
    {
     "ename": "SyntaxError",
     "evalue": "positional argument follows keyword argument (Temp/ipykernel_3552/825715513.py, line 2)",
     "output_type": "error",
     "traceback": [
      "\u001b[1;36m  File \u001b[1;32m\"C:\\Users\\yukir\\AppData\\Local\\Temp/ipykernel_3552/825715513.py\"\u001b[1;36m, line \u001b[1;32m2\u001b[0m\n\u001b[1;33m    \"C:\\\\Users\\\\yukir\\\\Documents\\\\Monicas_workspace\\\\Sign detection\\\\fragile sign\\\\test\",\u001b[0m\n\u001b[1;37m    ^\u001b[0m\n\u001b[1;31mSyntaxError\u001b[0m\u001b[1;31m:\u001b[0m positional argument follows keyword argument\n"
     ]
    }
   ],
   "source": [
    "test_generator = test_generator2.flow_from_directory(preprocessing_function=preprocess_input,\n",
    "                                                     \"C:\\\\Users\\\\yukir\\\\Documents\\\\Monicas_workspace\\\\Sign detection\\\\fragile sign\\\\test\",\n",
    "                                                        target_size=(IMG_SIZE, IMG_SIZE),\n",
    "                                                        batch_size=TEST_BATCH_SIZE,\n",
    "                                                        shuffle = False,\n",
    "                                                        class_mode='categorical')"
   ]
  },
  {
   "cell_type": "code",
   "execution_count": 89,
   "metadata": {},
   "outputs": [
    {
     "ename": "SyntaxError",
     "evalue": "positional argument follows keyword argument (Temp/ipykernel_3552/3702772686.py, line 2)",
     "output_type": "error",
     "traceback": [
      "\u001b[1;36m  File \u001b[1;32m\"C:\\Users\\yukir\\AppData\\Local\\Temp/ipykernel_3552/3702772686.py\"\u001b[1;36m, line \u001b[1;32m2\u001b[0m\n\u001b[1;33m    'C:\\\\Users\\\\yukir\\\\Documents\\\\Monicas_workspace\\\\Datasets\\\\0723\\\\[0723] dataset\\\\test',\u001b[0m\n\u001b[1;37m    ^\u001b[0m\n\u001b[1;31mSyntaxError\u001b[0m\u001b[1;31m:\u001b[0m positional argument follows keyword argument\n"
     ]
    }
   ],
   "source": [
    "test_generator = data_gen_default.flow_from_directory(preprocessing_function=preprocess_input,\n",
    "            'C:\\\\Users\\\\yukir\\\\Documents\\\\Monicas_workspace\\\\Datasets\\\\0723\\\\[0723] dataset\\\\test',\n",
    "            target_size=(IMG_SIZE, IMG_SIZE),\n",
    "            batch_size=TEST_BATCH_SIZE,\n",
    "            shuffle = False,\n",
    "            class_mode='categorical')"
   ]
  },
  {
   "cell_type": "code",
   "execution_count": 84,
   "metadata": {},
   "outputs": [
    {
     "ename": "ValueError",
     "evalue": "Failed to find data adapter that can handle input: <class 'tensorflow.python.keras.preprocessing.image.ImageDataGenerator'>, <class 'NoneType'>",
     "output_type": "error",
     "traceback": [
      "\u001b[1;31m---------------------------------------------------------------------------\u001b[0m",
      "\u001b[1;31mValueError\u001b[0m                                Traceback (most recent call last)",
      "\u001b[1;32m~\\AppData\\Local\\Temp/ipykernel_3552/1442682749.py\u001b[0m in \u001b[0;36m<module>\u001b[1;34m\u001b[0m\n\u001b[1;32m----> 1\u001b[1;33m \u001b[0mevaluating_each\u001b[0m\u001b[1;33m(\u001b[0m\u001b[0mmodel\u001b[0m\u001b[1;33m,\u001b[0m\u001b[0mtest_generator2\u001b[0m\u001b[1;33m)\u001b[0m\u001b[1;33m\u001b[0m\u001b[1;33m\u001b[0m\u001b[0m\n\u001b[0m",
      "\u001b[1;32m~\\AppData\\Local\\Temp/ipykernel_3552/3926349792.py\u001b[0m in \u001b[0;36mevaluating_each\u001b[1;34m(model, test_generator)\u001b[0m\n\u001b[0;32m      1\u001b[0m \u001b[1;32mdef\u001b[0m \u001b[0mevaluating_each\u001b[0m\u001b[1;33m(\u001b[0m\u001b[0mmodel\u001b[0m\u001b[1;33m,\u001b[0m \u001b[0mtest_generator\u001b[0m\u001b[1;33m)\u001b[0m\u001b[1;33m:\u001b[0m\u001b[1;33m\u001b[0m\u001b[1;33m\u001b[0m\u001b[0m\n\u001b[0;32m      2\u001b[0m \u001b[1;33m\u001b[0m\u001b[0m\n\u001b[1;32m----> 3\u001b[1;33m     \u001b[0mresult\u001b[0m \u001b[1;33m=\u001b[0m \u001b[0mmodel\u001b[0m\u001b[1;33m.\u001b[0m\u001b[0mevaluate\u001b[0m\u001b[1;33m(\u001b[0m\u001b[0mtest_generator\u001b[0m\u001b[1;33m)\u001b[0m\u001b[1;33m\u001b[0m\u001b[1;33m\u001b[0m\u001b[0m\n\u001b[0m\u001b[0;32m      4\u001b[0m \u001b[1;33m\u001b[0m\u001b[0m\n\u001b[0;32m      5\u001b[0m     \u001b[0mloss\u001b[0m \u001b[1;33m=\u001b[0m \u001b[0mresult\u001b[0m\u001b[1;33m[\u001b[0m\u001b[1;36m0\u001b[0m\u001b[1;33m]\u001b[0m\u001b[1;33m\u001b[0m\u001b[1;33m\u001b[0m\u001b[0m\n",
      "\u001b[1;32mc:\\users\\yukir\\anaconda3\\envs\\tensorflow38\\lib\\site-packages\\tensorflow\\python\\keras\\engine\\training.py\u001b[0m in \u001b[0;36m_method_wrapper\u001b[1;34m(self, *args, **kwargs)\u001b[0m\n\u001b[0;32m     64\u001b[0m   \u001b[1;32mdef\u001b[0m \u001b[0m_method_wrapper\u001b[0m\u001b[1;33m(\u001b[0m\u001b[0mself\u001b[0m\u001b[1;33m,\u001b[0m \u001b[1;33m*\u001b[0m\u001b[0margs\u001b[0m\u001b[1;33m,\u001b[0m \u001b[1;33m**\u001b[0m\u001b[0mkwargs\u001b[0m\u001b[1;33m)\u001b[0m\u001b[1;33m:\u001b[0m\u001b[1;33m\u001b[0m\u001b[1;33m\u001b[0m\u001b[0m\n\u001b[0;32m     65\u001b[0m     \u001b[1;32mif\u001b[0m \u001b[1;32mnot\u001b[0m \u001b[0mself\u001b[0m\u001b[1;33m.\u001b[0m\u001b[0m_in_multi_worker_mode\u001b[0m\u001b[1;33m(\u001b[0m\u001b[1;33m)\u001b[0m\u001b[1;33m:\u001b[0m  \u001b[1;31m# pylint: disable=protected-access\u001b[0m\u001b[1;33m\u001b[0m\u001b[1;33m\u001b[0m\u001b[0m\n\u001b[1;32m---> 66\u001b[1;33m       \u001b[1;32mreturn\u001b[0m \u001b[0mmethod\u001b[0m\u001b[1;33m(\u001b[0m\u001b[0mself\u001b[0m\u001b[1;33m,\u001b[0m \u001b[1;33m*\u001b[0m\u001b[0margs\u001b[0m\u001b[1;33m,\u001b[0m \u001b[1;33m**\u001b[0m\u001b[0mkwargs\u001b[0m\u001b[1;33m)\u001b[0m\u001b[1;33m\u001b[0m\u001b[1;33m\u001b[0m\u001b[0m\n\u001b[0m\u001b[0;32m     67\u001b[0m \u001b[1;33m\u001b[0m\u001b[0m\n\u001b[0;32m     68\u001b[0m     \u001b[1;31m# Running inside `run_distribute_coordinator` already.\u001b[0m\u001b[1;33m\u001b[0m\u001b[1;33m\u001b[0m\u001b[1;33m\u001b[0m\u001b[0m\n",
      "\u001b[1;32mc:\\users\\yukir\\anaconda3\\envs\\tensorflow38\\lib\\site-packages\\tensorflow\\python\\keras\\engine\\training.py\u001b[0m in \u001b[0;36mevaluate\u001b[1;34m(self, x, y, batch_size, verbose, sample_weight, steps, callbacks, max_queue_size, workers, use_multiprocessing, return_dict)\u001b[0m\n\u001b[0;32m   1044\u001b[0m     \u001b[1;32mwith\u001b[0m \u001b[0mself\u001b[0m\u001b[1;33m.\u001b[0m\u001b[0mdistribute_strategy\u001b[0m\u001b[1;33m.\u001b[0m\u001b[0mscope\u001b[0m\u001b[1;33m(\u001b[0m\u001b[1;33m)\u001b[0m\u001b[1;33m:\u001b[0m\u001b[1;33m\u001b[0m\u001b[1;33m\u001b[0m\u001b[0m\n\u001b[0;32m   1045\u001b[0m       \u001b[1;31m# Creates a `tf.data.Dataset` and handles batch and epoch iteration.\u001b[0m\u001b[1;33m\u001b[0m\u001b[1;33m\u001b[0m\u001b[1;33m\u001b[0m\u001b[0m\n\u001b[1;32m-> 1046\u001b[1;33m       data_handler = data_adapter.DataHandler(\n\u001b[0m\u001b[0;32m   1047\u001b[0m           \u001b[0mx\u001b[0m\u001b[1;33m=\u001b[0m\u001b[0mx\u001b[0m\u001b[1;33m,\u001b[0m\u001b[1;33m\u001b[0m\u001b[1;33m\u001b[0m\u001b[0m\n\u001b[0;32m   1048\u001b[0m           \u001b[0my\u001b[0m\u001b[1;33m=\u001b[0m\u001b[0my\u001b[0m\u001b[1;33m,\u001b[0m\u001b[1;33m\u001b[0m\u001b[1;33m\u001b[0m\u001b[0m\n",
      "\u001b[1;32mc:\\users\\yukir\\anaconda3\\envs\\tensorflow38\\lib\\site-packages\\tensorflow\\python\\keras\\engine\\data_adapter.py\u001b[0m in \u001b[0;36m__init__\u001b[1;34m(self, x, y, sample_weight, batch_size, steps_per_epoch, initial_epoch, epochs, shuffle, class_weight, max_queue_size, workers, use_multiprocessing, model)\u001b[0m\n\u001b[0;32m   1097\u001b[0m     \u001b[0mself\u001b[0m\u001b[1;33m.\u001b[0m\u001b[0m_insufficient_data\u001b[0m \u001b[1;33m=\u001b[0m \u001b[1;32mFalse\u001b[0m\u001b[1;33m\u001b[0m\u001b[1;33m\u001b[0m\u001b[0m\n\u001b[0;32m   1098\u001b[0m \u001b[1;33m\u001b[0m\u001b[0m\n\u001b[1;32m-> 1099\u001b[1;33m     \u001b[0madapter_cls\u001b[0m \u001b[1;33m=\u001b[0m \u001b[0mselect_data_adapter\u001b[0m\u001b[1;33m(\u001b[0m\u001b[0mx\u001b[0m\u001b[1;33m,\u001b[0m \u001b[0my\u001b[0m\u001b[1;33m)\u001b[0m\u001b[1;33m\u001b[0m\u001b[1;33m\u001b[0m\u001b[0m\n\u001b[0m\u001b[0;32m   1100\u001b[0m     self._adapter = adapter_cls(\n\u001b[0;32m   1101\u001b[0m         \u001b[0mx\u001b[0m\u001b[1;33m,\u001b[0m\u001b[1;33m\u001b[0m\u001b[1;33m\u001b[0m\u001b[0m\n",
      "\u001b[1;32mc:\\users\\yukir\\anaconda3\\envs\\tensorflow38\\lib\\site-packages\\tensorflow\\python\\keras\\engine\\data_adapter.py\u001b[0m in \u001b[0;36mselect_data_adapter\u001b[1;34m(x, y)\u001b[0m\n\u001b[0;32m    958\u001b[0m   \u001b[1;32mif\u001b[0m \u001b[1;32mnot\u001b[0m \u001b[0madapter_cls\u001b[0m\u001b[1;33m:\u001b[0m\u001b[1;33m\u001b[0m\u001b[1;33m\u001b[0m\u001b[0m\n\u001b[0;32m    959\u001b[0m     \u001b[1;31m# TODO(scottzhu): This should be a less implementation-specific error.\u001b[0m\u001b[1;33m\u001b[0m\u001b[1;33m\u001b[0m\u001b[1;33m\u001b[0m\u001b[0m\n\u001b[1;32m--> 960\u001b[1;33m     raise ValueError(\n\u001b[0m\u001b[0;32m    961\u001b[0m         \u001b[1;34m\"Failed to find data adapter that can handle \"\u001b[0m\u001b[1;33m\u001b[0m\u001b[1;33m\u001b[0m\u001b[0m\n\u001b[0;32m    962\u001b[0m         \"input: {}, {}\".format(\n",
      "\u001b[1;31mValueError\u001b[0m: Failed to find data adapter that can handle input: <class 'tensorflow.python.keras.preprocessing.image.ImageDataGenerator'>, <class 'NoneType'>"
     ]
    }
   ],
   "source": [
    "evaluating_each(model,test_generator2)"
   ]
  },
  {
   "cell_type": "code",
   "execution_count": null,
   "metadata": {},
   "outputs": [],
   "source": []
  },
  {
   "cell_type": "code",
   "execution_count": null,
   "metadata": {},
   "outputs": [],
   "source": []
  },
  {
   "cell_type": "markdown",
   "metadata": {},
   "source": [
    "### test set"
   ]
  },
  {
   "cell_type": "code",
   "execution_count": null,
   "metadata": {},
   "outputs": [],
   "source": []
  },
  {
   "cell_type": "code",
   "execution_count": 52,
   "metadata": {},
   "outputs": [],
   "source": [
    "data_generator_with_aug = ImageDataGenerator(preprocessing_function=preprocess_input,\n",
    "                                width_shift_range=0.1,\n",
    "                                height_shift_range=0.1,\n",
    "                                #sear_range=0.01,\n",
    "                                zoom_range=[0.9, 1.25],\n",
    "                                horizontal_flip=False,\n",
    "                                vertical_flip=False,\n",
    "                                data_format='channels_last',\n",
    "                                brightness_range=[0.5, 1.5]\n",
    "                               )"
   ]
  },
  {
   "cell_type": "code",
   "execution_count": 53,
   "metadata": {},
   "outputs": [
    {
     "name": "stdout",
     "output_type": "stream",
     "text": [
      "Found 744 images belonging to 2 classes.\n"
     ]
    }
   ],
   "source": [
    "test_generator = data_generator_with_aug.flow_from_directory(\n",
    "            \"C:\\\\Users\\\\yukir\\\\Documents\\\\Monicas_workspace\\\\Deeplearning\\\\Datasets\\\\org_dir\\\\test\",\n",
    "            target_size=(IMG_SIZE, IMG_SIZE),\n",
    "            batch_size=TRAIN_BATCH_SIZE,\n",
    "            class_mode='categorical')"
   ]
  },
  {
   "cell_type": "code",
   "execution_count": 62,
   "metadata": {},
   "outputs": [
    {
     "name": "stdout",
     "output_type": "stream",
     "text": [
      "Found 744 images belonging to 2 classes.\n"
     ]
    }
   ],
   "source": [
    "test_dir = \"C:\\\\Users\\\\yukir\\\\Documents\\\\Monicas_workspace\\\\Deeplearning\\\\Datasets\\\\org_dir\\\\test\"\n",
    "test_datagen = ImageDataGenerator(rescale = 1./255)\n",
    "test_set = test_datagen.flow_from_directory(test_dir,\n",
    "                                            target_size = (100, 100),\n",
    "                                            batch_size = 32,\n",
    "                                            class_mode = 'categorical')\n"
   ]
  },
  {
   "cell_type": "code",
   "execution_count": 82,
   "metadata": {},
   "outputs": [
    {
     "name": "stdout",
     "output_type": "stream",
     "text": [
      "24/24 [==============================] - ETA: 0s - loss: 0.6968 - acc: 0.5000 - precision: 0.5000 - recall: 0.5000 - false_positives: 352.0000 - false_negatives: 352.00 - 0s 19ms/step - loss: 0.6968 - acc: 0.5000 - precision: 0.5000 - recall: 0.5000 - false_positives: 372.0000 - false_negatives: 372.0000\n",
      "\n",
      "loss: 0.697, accuracy: 0.500, precision: 0.500, recall: 0.500, false_positive: 372.000, false_negative: 372.000, f1score: 0.500\n"
     ]
    }
   ],
   "source": [
    "_loss, _acc, _precision, _recall, _fp, _fn  = model.evaluate(test_set, batch_size=50)\n",
    "print('\\nloss: {:.3f}, accuracy: {:.3f}, precision: {:.3f}, recall: {:.3f}, false_positive: {:.3f}, false_negative: {:.3f}, f1score: {:.3f}'\\\n",
    "      .format(_loss, _acc, _precision, _recall, _fp, _fn, f1score(_recall, _precision)))"
   ]
  },
  {
   "cell_type": "code",
   "execution_count": 64,
   "metadata": {},
   "outputs": [
    {
     "name": "stdout",
     "output_type": "stream",
     "text": [
      "Found 744 images belonging to 2 classes.\n"
     ]
    }
   ],
   "source": [
    "real_test_dir = \"C:\\\\Users\\\\yukir\\\\Documents\\\\Monicas_workspace\\\\Sign detection\\\\fragile sign\"\n",
    "test_datagen = ImageDataGenerator(rescale = 1./255)\n",
    "real_test_set = test_datagen.flow_from_directory(test_dir,\n",
    "                                            target_size = (100, 100),\n",
    "                                            batch_size = 32,\n",
    "                                            class_mode = 'categorical')"
   ]
  },
  {
   "cell_type": "code",
   "execution_count": null,
   "metadata": {},
   "outputs": [],
   "source": [
    "_loss, _acc, _precision, _recall, _fp, _fn  = model.evaluate(test_generator, batch_size=50)\n",
    "print('loss: {:.3f}, accuracy: {:.3f}, precision: {:.3f}, recall: {:.3f}, false_positive: {:.3f}, false_negative: {:.3f}, f1score: {:.3f},\\\n",
    "true_positive: {:.3f}, true_negative:: {:.3f}'\\\n",
    "      .format(_loss, _acc, _precision, _recall, _fp, _fn, f1score(_recall, _precision), ))"
   ]
  },
  {
   "cell_type": "code",
   "execution_count": null,
   "metadata": {},
   "outputs": [],
   "source": [
    "model.compile(optimizer = optimizers.RMSprop(lr=2e-5),\n",
    "             loss='categorical_crossentropy',\n",
    "             metrics=['accuracy',\\\n",
    "                      tf.keras.metrics.Precision(name='precision')\\\n",
    "                          ,tf.keras.metrics.Recall(name='recall')\\\n",
    "                          ,tf.keras.metrics.FalsePositives(name='false_positives')\\\n",
    "                          ,tf.keras.metrics.FalseNegatives(name='false_negatives'),\\\n",
    "                      tf.keras.metrics.TruePositives(name ='true_positive'),\\\n",
    "                     tf.keras.metrics.TrueNegatives(name ='true_positive')])"
   ]
  },
  {
   "cell_type": "code",
   "execution_count": null,
   "metadata": {},
   "outputs": [],
   "source": []
  },
  {
   "cell_type": "code",
   "execution_count": null,
   "metadata": {},
   "outputs": [],
   "source": []
  },
  {
   "cell_type": "code",
   "execution_count": null,
   "metadata": {},
   "outputs": [],
   "source": []
  },
  {
   "cell_type": "markdown",
   "metadata": {
    "heading_collapsed": true
   },
   "source": [
    "### save"
   ]
  },
  {
   "cell_type": "code",
   "execution_count": 60,
   "metadata": {
    "hidden": true
   },
   "outputs": [
    {
     "data": {
      "text/plain": [
       "'C:\\\\Users\\\\yukir\\\\Documents\\\\Monicas_workspace\\\\Sign detection\\\\classification'"
      ]
     },
     "execution_count": 60,
     "metadata": {},
     "output_type": "execute_result"
    }
   ],
   "source": [
    "/pwd"
   ]
  },
  {
   "cell_type": "code",
   "execution_count": 59,
   "metadata": {
    "hidden": true
   },
   "outputs": [
    {
     "name": "stdout",
     "output_type": "stream",
     "text": [
      "Saved model to disk\n"
     ]
    }
   ],
   "source": [
    "model.save('[0721]data_generator_resnet50.h5')\n",
    "\n",
    "# Save model with json format \n",
    "model_json = model.to_json() \n",
    "with open(\"[0721]data_generator_resnet50.json\", \"w\") as json_file:\n",
    "    json_file.write(model_json)\n",
    "    \n",
    "# Save weight with h5 format\n",
    "model.save_weights(\"[0721]data_generator_resnet50_weight.h5\")\n",
    "print(\"Saved model to disk\")"
   ]
  },
  {
   "cell_type": "markdown",
   "metadata": {
    "id": "v2A165WappoN"
   },
   "source": [
    "### Real pic test"
   ]
  },
  {
   "cell_type": "code",
   "execution_count": 66,
   "metadata": {
    "colab": {
     "base_uri": "https://localhost:8080/"
    },
    "id": "l4TyVKGsi5Dr",
    "outputId": "9229c17e-7308-40fa-8615-357094ae2de4"
   },
   "outputs": [
    {
     "name": "stdout",
     "output_type": "stream",
     "text": [
      "18\n"
     ]
    },
    {
     "data": {
      "text/plain": [
       "18"
      ]
     },
     "execution_count": 66,
     "metadata": {},
     "output_type": "execute_result"
    }
   ],
   "source": [
    "import os\n",
    "test_img_path = \"C:\\\\Users\\\\yukir\\\\Documents\\\\Monicas_workspace\\\\Sign detection\\\\fragile sign\"\n",
    "file_list = os.listdir(test_img_path)\n",
    "file_list.sort\n",
    "print(len(file_list))\n",
    "list_file=[]\n",
    "for i in file_list:\n",
    "    list_file.append(test_img_path+i)\n",
    "list_file.sort()\n",
    "len(list_file)"
   ]
  },
  {
   "cell_type": "code",
   "execution_count": 68,
   "metadata": {
    "colab": {
     "base_uri": "https://localhost:8080/"
    },
    "id": "mnQojEm7jrgi",
    "outputId": "e40e127b-3b26-4c1a-c7a4-615da6ec80e2"
   },
   "outputs": [
    {
     "data": {
      "text/plain": [
       "['fragile signblankstock180501065.jpg',\n",
       " 'fragile signgrunge-fragile-box-sign-with-arrow-up-on-piece-of-carton-for-logistics-or-cargo-and-alphabet-means-this-way-up-handle-with-care-vector-stencil-font-2DKJT9W.jpg',\n",
       " 'fragile signimages (1).jpg',\n",
       " 'fragile signimages.jpg',\n",
       " 'fragile signresized_logistic_sign_test (10).jpg',\n",
       " 'fragile signresized_logistic_sign_test (11).jpg',\n",
       " 'fragile signresized_logistic_sign_test (12).jpg',\n",
       " 'fragile signresized_logistic_sign_test (13).jpg',\n",
       " 'fragile signresized_logistic_sign_test (14).jpg',\n",
       " 'fragile signresized_logistic_sign_test (15).jpg',\n",
       " 'fragile signresized_logistic_sign_test (16).jpg',\n",
       " 'fragile signresized_logistic_sign_test (3).jpg',\n",
       " 'fragile signresized_logistic_sign_test (4).jpg',\n",
       " 'fragile signresized_logistic_sign_test (5).jpg',\n",
       " 'fragile signresized_logistic_sign_test (6).jpg',\n",
       " 'fragile signresized_logistic_sign_test (7).jpg',\n",
       " 'fragile signresized_logistic_sign_test (8).jpg',\n",
       " 'fragile signresized_logistic_sign_test (9).jpg']"
      ]
     },
     "execution_count": 68,
     "metadata": {},
     "output_type": "execute_result"
    }
   ],
   "source": [
    "file_name=[]\n",
    "for i in list_file:\n",
    "    name = i.split(\"\\\\\")[-1]\n",
    "    file_name.append(name)\n",
    "file_name"
   ]
  },
  {
   "cell_type": "code",
   "execution_count": 70,
   "metadata": {
    "id": "IZiT2w4mp1FO"
   },
   "outputs": [
    {
     "data": {
      "text/plain": [
       "18"
      ]
     },
     "execution_count": 70,
     "metadata": {},
     "output_type": "execute_result"
    }
   ],
   "source": [
    "test_df = pd.DataFrame({'file_name':file_name})\n",
    "nbsamples=test_df.shape[0]\n",
    "nbsamples"
   ]
  },
  {
   "cell_type": "code",
   "execution_count": 46,
   "metadata": {
    "id": "x40BbZSTq0m2"
   },
   "outputs": [],
   "source": [
    "batch_size=15"
   ]
  },
  {
   "cell_type": "code",
   "execution_count": 47,
   "metadata": {
    "id": "LFHp78lfrQWI"
   },
   "outputs": [],
   "source": [
    "data_generator_with_aug = ImageDataGenerator(preprocessing_function=preprocess_input,\n",
    "                                width_shift_range=0.1,\n",
    "                                height_shift_range=0.1,\n",
    "                                #sear_range=0.01,\n",
    "                                zoom_range=[0.9, 1.25],\n",
    "                                horizontal_flip=False,\n",
    "                                vertical_flip=False,\n",
    "                                data_format='channels_last',\n",
    "                                brightness_range=[0.5, 1.5])\n",
    "                               "
   ]
  },
  {
   "cell_type": "code",
   "execution_count": 73,
   "metadata": {
    "colab": {
     "base_uri": "https://localhost:8080/"
    },
    "id": "u08BA7x_rCuo",
    "outputId": "44abb6d0-b1bc-44ef-d0a0-938e8c7af6aa"
   },
   "outputs": [
    {
     "name": "stdout",
     "output_type": "stream",
     "text": [
      "Found 18 images belonging to 1 classes.\n"
     ]
    }
   ],
   "source": [
    "test_generator = data_generator_with_aug.flow_from_directory(\n",
    "            real_test_dir,\n",
    "            target_size=(IMG_SIZE, IMG_SIZE),\n",
    "            batch_size=TRAIN_BATCH_SIZE,\n",
    "            class_mode='categorical')"
   ]
  },
  {
   "cell_type": "code",
   "execution_count": 71,
   "metadata": {
    "id": "epc_vI1csqXv"
   },
   "outputs": [],
   "source": [
    "from keras.callbacks import EarlyStopping, ReduceLROnPlateau\n",
    "\n",
    "earlystop = EarlyStopping(patience=10)\n",
    "learning_rate_reduction=ReduceLROnPlateau(\n",
    "                        monitor= \"val_accuracy\", \n",
    "                        patience = 2, \n",
    "                        factor = 0.5, \n",
    "                        min_lr=0.0001,\n",
    "                        verbose=1)\n",
    "                        \n",
    "callbacks = [earlystop, learning_rate_reduction]"
   ]
  },
  {
   "cell_type": "code",
   "execution_count": 74,
   "metadata": {
    "colab": {
     "base_uri": "https://localhost:8080/"
    },
    "id": "Ph2Cb7O6kP-5",
    "outputId": "1f0f4784-9169-4e68-b4fd-978ee04d5ef5"
   },
   "outputs": [
    {
     "name": "stdout",
     "output_type": "stream",
     "text": [
      "WARNING:tensorflow:From C:\\Users\\yukir\\AppData\\Local\\Temp/ipykernel_17816/2706269441.py:1: Model.predict_generator (from tensorflow.python.keras.engine.training) is deprecated and will be removed in a future version.\n",
      "Instructions for updating:\n",
      "Please use Model.predict, which supports generators.\n",
      "WARNING:tensorflow:Your input ran out of data; interrupting training. Make sure that your dataset or generator can generate at least `steps_per_epoch * epochs` batches (in this case, 18.0 batches). You may need to use the repeat() function when building your dataset.\n"
     ]
    }
   ],
   "source": [
    "predict=model.predict_generator(test_generator, \n",
    "                                steps=nbsamples/TEST_BATCH_SIZE, \n",
    "                                callbacks=callbacks)\n",
    "                                \n",
    "test_df['category']=np.argmax(predict, axis=1)"
   ]
  },
  {
   "cell_type": "code",
   "execution_count": 77,
   "metadata": {
    "colab": {
     "base_uri": "https://localhost:8080/",
     "height": 80
    },
    "id": "JZP5zbbakLBB",
    "outputId": "e0514d75-9982-4b6c-b438-c118826a6e86"
   },
   "outputs": [
    {
     "data": {
      "text/html": [
       "<div>\n",
       "<style scoped>\n",
       "    .dataframe tbody tr th:only-of-type {\n",
       "        vertical-align: middle;\n",
       "    }\n",
       "\n",
       "    .dataframe tbody tr th {\n",
       "        vertical-align: top;\n",
       "    }\n",
       "\n",
       "    .dataframe thead th {\n",
       "        text-align: right;\n",
       "    }\n",
       "</style>\n",
       "<table border=\"1\" class=\"dataframe\">\n",
       "  <thead>\n",
       "    <tr style=\"text-align: right;\">\n",
       "      <th></th>\n",
       "      <th>file_name</th>\n",
       "      <th>category</th>\n",
       "    </tr>\n",
       "  </thead>\n",
       "  <tbody>\n",
       "    <tr>\n",
       "      <th>0</th>\n",
       "      <td>fragile signresized_logistic_sign_test (12).jpg</td>\n",
       "      <td>up</td>\n",
       "    </tr>\n",
       "  </tbody>\n",
       "</table>\n",
       "</div>"
      ],
      "text/plain": [
       "                                         file_name category\n",
       "0  fragile signresized_logistic_sign_test (12).jpg       up"
      ]
     },
     "execution_count": 77,
     "metadata": {},
     "output_type": "execute_result"
    }
   ],
   "source": [
    "test_df['category']=test_df['category'].replace({0:'fragile',1:\"up\"})\n",
    "ex_df=test_df.sample(n=1).reset_index(drop=True)\n",
    "ex_df"
   ]
  },
  {
   "cell_type": "code",
   "execution_count": 34,
   "metadata": {},
   "outputs": [
    {
     "data": {
      "text/plain": [
       "{0: 'fragile', 1: 'up'}"
      ]
     },
     "execution_count": 34,
     "metadata": {},
     "output_type": "execute_result"
    }
   ],
   "source": [
    "b = get_label_dict(train_generator)\n",
    "b"
   ]
  },
  {
   "cell_type": "code",
   "execution_count": 92,
   "metadata": {
    "colab": {
     "base_uri": "https://localhost:8080/",
     "height": 607
    },
    "id": "kKaTI7d9QSgA",
    "outputId": "436e57b4-b3db-46c0-aa67-f120bd822ece"
   },
   "outputs": [
    {
     "data": {
      "text/html": [
       "<div>\n",
       "<style scoped>\n",
       "    .dataframe tbody tr th:only-of-type {\n",
       "        vertical-align: middle;\n",
       "    }\n",
       "\n",
       "    .dataframe tbody tr th {\n",
       "        vertical-align: top;\n",
       "    }\n",
       "\n",
       "    .dataframe thead th {\n",
       "        text-align: right;\n",
       "    }\n",
       "</style>\n",
       "<table border=\"1\" class=\"dataframe\">\n",
       "  <thead>\n",
       "    <tr style=\"text-align: right;\">\n",
       "      <th></th>\n",
       "      <th>file_name</th>\n",
       "      <th>category</th>\n",
       "    </tr>\n",
       "  </thead>\n",
       "  <tbody>\n",
       "    <tr>\n",
       "      <th>0</th>\n",
       "      <td>fragile signblankstock180501065.jpg</td>\n",
       "      <td>fragile</td>\n",
       "    </tr>\n",
       "    <tr>\n",
       "      <th>1</th>\n",
       "      <td>fragile signgrunge-fragile-box-sign-with-arrow...</td>\n",
       "      <td>up</td>\n",
       "    </tr>\n",
       "    <tr>\n",
       "      <th>2</th>\n",
       "      <td>fragile signimages (1).jpg</td>\n",
       "      <td>fragile</td>\n",
       "    </tr>\n",
       "    <tr>\n",
       "      <th>3</th>\n",
       "      <td>fragile signimages.jpg</td>\n",
       "      <td>up</td>\n",
       "    </tr>\n",
       "    <tr>\n",
       "      <th>4</th>\n",
       "      <td>fragile signresized_logistic_sign_test (10).jpg</td>\n",
       "      <td>up</td>\n",
       "    </tr>\n",
       "    <tr>\n",
       "      <th>5</th>\n",
       "      <td>fragile signresized_logistic_sign_test (11).jpg</td>\n",
       "      <td>fragile</td>\n",
       "    </tr>\n",
       "    <tr>\n",
       "      <th>6</th>\n",
       "      <td>fragile signresized_logistic_sign_test (12).jpg</td>\n",
       "      <td>up</td>\n",
       "    </tr>\n",
       "  </tbody>\n",
       "</table>\n",
       "</div>"
      ],
      "text/plain": [
       "                                           file_name category\n",
       "0                fragile signblankstock180501065.jpg  fragile\n",
       "1  fragile signgrunge-fragile-box-sign-with-arrow...       up\n",
       "2                         fragile signimages (1).jpg  fragile\n",
       "3                             fragile signimages.jpg       up\n",
       "4    fragile signresized_logistic_sign_test (10).jpg       up\n",
       "5    fragile signresized_logistic_sign_test (11).jpg  fragile\n",
       "6    fragile signresized_logistic_sign_test (12).jpg       up"
      ]
     },
     "execution_count": 92,
     "metadata": {},
     "output_type": "execute_result"
    }
   ],
   "source": [
    "test_df.head(7)"
   ]
  },
  {
   "cell_type": "code",
   "execution_count": 93,
   "metadata": {
    "colab": {
     "base_uri": "https://localhost:8080/"
    },
    "id": "izA1mT2Oka6B",
    "outputId": "7d15b229-b759-40a0-adc7-30556efc9346"
   },
   "outputs": [
    {
     "data": {
      "text/plain": [
       "fragile    10\n",
       "up          8\n",
       "Name: category, dtype: int64"
      ]
     },
     "execution_count": 93,
     "metadata": {},
     "output_type": "execute_result"
    }
   ],
   "source": [
    "test_df.category.value_counts()"
   ]
  },
  {
   "cell_type": "code",
   "execution_count": null,
   "metadata": {},
   "outputs": [],
   "source": []
  }
 ],
 "metadata": {
  "accelerator": "GPU",
  "colab": {
   "collapsed_sections": [],
   "include_colab_link": true,
   "machine_shape": "hm",
   "name": "[0712]up, fragile classification",
   "provenance": []
  },
  "kernelspec": {
   "display_name": "Python 3 (ipykernel)",
   "language": "python",
   "name": "python3"
  },
  "language_info": {
   "codemirror_mode": {
    "name": "ipython",
    "version": 3
   },
   "file_extension": ".py",
   "mimetype": "text/x-python",
   "name": "python",
   "nbconvert_exporter": "python",
   "pygments_lexer": "ipython3",
   "version": "3.8.0"
  },
  "toc": {
   "base_numbering": 1,
   "nav_menu": {},
   "number_sections": true,
   "sideBar": true,
   "skip_h1_title": false,
   "title_cell": "Table of Contents",
   "title_sidebar": "Contents",
   "toc_cell": false,
   "toc_position": {},
   "toc_section_display": true,
   "toc_window_display": false
  },
  "varInspector": {
   "cols": {
    "lenName": 16,
    "lenType": 16,
    "lenVar": 40
   },
   "kernels_config": {
    "python": {
     "delete_cmd_postfix": "",
     "delete_cmd_prefix": "del ",
     "library": "var_list.py",
     "varRefreshCmd": "print(var_dic_list())"
    },
    "r": {
     "delete_cmd_postfix": ") ",
     "delete_cmd_prefix": "rm(",
     "library": "var_list.r",
     "varRefreshCmd": "cat(var_dic_list()) "
    }
   },
   "types_to_exclude": [
    "module",
    "function",
    "builtin_function_or_method",
    "instance",
    "_Feature"
   ],
   "window_display": false
  }
 },
 "nbformat": 4,
 "nbformat_minor": 1
}
