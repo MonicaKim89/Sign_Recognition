{
  "nbformat": 4,
  "nbformat_minor": 0,
  "metadata": {
    "accelerator": "GPU",
    "colab": {
      "name": "[0712]up, fragile classification",
      "provenance": [],
      "collapsed_sections": [],
      "machine_shape": "hm",
      "include_colab_link": true
    },
    "kernelspec": {
      "display_name": "Python 3",
      "language": "python",
      "name": "python3"
    },
    "language_info": {
      "codemirror_mode": {
        "name": "ipython",
        "version": 3
      },
      "file_extension": ".py",
      "mimetype": "text/x-python",
      "name": "python",
      "nbconvert_exporter": "python",
      "pygments_lexer": "ipython3",
      "version": "3.8.5"
    },
    "toc": {
      "base_numbering": 1,
      "nav_menu": {},
      "number_sections": true,
      "sideBar": true,
      "skip_h1_title": false,
      "title_cell": "Table of Contents",
      "title_sidebar": "Contents",
      "toc_cell": false,
      "toc_position": {},
      "toc_section_display": true,
      "toc_window_display": false
    },
    "varInspector": {
      "cols": {
        "lenName": 16,
        "lenType": 16,
        "lenVar": 40
      },
      "kernels_config": {
        "python": {
          "delete_cmd_postfix": "",
          "delete_cmd_prefix": "del ",
          "library": "var_list.py",
          "varRefreshCmd": "print(var_dic_list())"
        },
        "r": {
          "delete_cmd_postfix": ") ",
          "delete_cmd_prefix": "rm(",
          "library": "var_list.r",
          "varRefreshCmd": "cat(var_dic_list()) "
        }
      },
      "types_to_exclude": [
        "module",
        "function",
        "builtin_function_or_method",
        "instance",
        "_Feature"
      ],
      "window_display": false
    }
  },
  "cells": [
    {
      "cell_type": "markdown",
      "metadata": {
        "id": "view-in-github",
        "colab_type": "text"
      },
      "source": [
        "<a href=\"https://colab.research.google.com/github/MonicaKim89/sign_detection/blob/main/%5B0712%5Dup%2C_fragile_classification.ipynb\" target=\"_parent\"><img src=\"https://colab.research.google.com/assets/colab-badge.svg\" alt=\"Open In Colab\"/></a>"
      ]
    },
    {
      "cell_type": "code",
      "metadata": {
        "id": "Dni62IFckfY_",
        "colab": {
          "base_uri": "https://localhost:8080/"
        },
        "outputId": "27a387d6-1e56-4a9b-fbb4-64ff81d3637a"
      },
      "source": [
        "import cv2\n",
        "import math\n",
        "import os\n",
        "import numpy as np # linear algebra\n",
        "import pandas as pd # data processing, CSV file I/O (e.g. pd.read_csv)'\n",
        "import matplotlib.pyplot as plt\n",
        "import tensorflow as tf\n",
        "from tensorflow.keras.applications import ResNet50\n",
        "from tensorflow.keras.applications import VGG16\n",
        "from tensorflow.keras.models import Sequential\n",
        "from tensorflow.keras.layers import Dense, Flatten, GlobalAveragePooling2D\n",
        "from tensorflow.keras.applications.resnet50 import preprocess_input\n",
        "from tensorflow.keras.preprocessing.image import ImageDataGenerator\n",
        "from sklearn.utils import class_weight\n",
        "from tensorflow.keras import optimizers\n",
        "from IPython.display import display\n",
        "import PIL\n",
        "from tensorflow.python.client import device_lib\n",
        "\n",
        "print(device_lib.list_local_devices())\n",
        "\n",
        "IMG_SIZE = 150\n",
        "NUM_EPOCHS = 20\n",
        "NUM_CLASSES = 2\n",
        "TRAIN_BATCH_SIZE = 77\n",
        "TEST_BATCH_SIZE = 1 \n",
        "opt =  tf.optimizers.Adam()\n"
      ],
      "execution_count": 1,
      "outputs": [
        {
          "output_type": "stream",
          "text": [
            "[name: \"/device:CPU:0\"\n",
            "device_type: \"CPU\"\n",
            "memory_limit: 268435456\n",
            "locality {\n",
            "}\n",
            "incarnation: 7547527904655644976\n",
            ", name: \"/device:GPU:0\"\n",
            "device_type: \"GPU\"\n",
            "memory_limit: 16183459840\n",
            "locality {\n",
            "  bus_id: 1\n",
            "  links {\n",
            "  }\n",
            "}\n",
            "incarnation: 1899921487496592244\n",
            "physical_device_desc: \"device: 0, name: Tesla P100-PCIE-16GB, pci bus id: 0000:00:04.0, compute capability: 6.0\"\n",
            "]\n"
          ],
          "name": "stdout"
        }
      ]
    },
    {
      "cell_type": "code",
      "metadata": {
        "colab": {
          "base_uri": "https://localhost:8080/"
        },
        "id": "DvvwkGIO4vai",
        "outputId": "c8e78970-bf71-45cb-eefe-c00edfbd9f6a"
      },
      "source": [
        "from google.colab import drive\n",
        "drive.mount('/content/drive')"
      ],
      "execution_count": 2,
      "outputs": [
        {
          "output_type": "stream",
          "text": [
            "Mounted at /content/drive\n"
          ],
          "name": "stdout"
        }
      ]
    },
    {
      "cell_type": "code",
      "metadata": {
        "id": "eJflUpf-qdjd"
      },
      "source": [
        "def create_model():\n",
        "  #resnet_weights_path = '/content/drive/MyDrive/Caba2012_colab/Fire_dt/models/resnet.h5'\n",
        "  #resnet_weights_path = '../input/resnet50/resnet50_weights_tf_dim_ordering_tf_kernels_notop.h5'\n",
        "\n",
        "  #weigths = weights=resnet_weights_path ->none\n",
        "  resnet = ResNet50(include_top=False, pooling='avg', weights = None)\n",
        "  #resnet.summary()\n",
        "  my_new_model = Sequential()\n",
        "  my_new_model.add(resnet)\n",
        "  my_new_model.layers[0].trainable = True\n",
        "  my_new_model.add(Dense(NUM_CLASSES, activation='softmax')) #dense 3, NUM_CLASSES = 3\n",
        "\n",
        "  # Say no to train first layer (ResNet) model. It is already trained\n",
        "    \n",
        "  opt =  tf.optimizers.Adam()\n",
        "   #opt바꾼거 확인해\n",
        "  my_new_model.compile(optimizer=opt, loss='categorical_crossentropy', metrics=['accuracy'])\n",
        "\n",
        "  return my_new_model"
      ],
      "execution_count": 3,
      "outputs": []
    },
    {
      "cell_type": "code",
      "metadata": {
        "id": "7B57kJuQldPn"
      },
      "source": [
        "def train_model( model ):\n",
        "    #ata_generator = ImageDataGenerator(preprocessing_function=preprocess_input)\n",
        "\n",
        "    data_generator_with_aug = ImageDataGenerator(preprocessing_function=preprocess_input,\n",
        "                                width_shift_range=0.1,\n",
        "                                height_shift_range=0.1,\n",
        "                                #sear_range=0.01,\n",
        "                                zoom_range=[0.9, 1.25],\n",
        "                                horizontal_flip=False,\n",
        "                                vertical_flip=False,\n",
        "                                data_format='channels_last',\n",
        "                                brightness_range=[0.5, 1.5]\n",
        "                               )\n",
        "                                       \n",
        "    train_generator = data_generator_with_aug.flow_from_directory(\n",
        "            '/content/drive/MyDrive/fragile/Classification/sign_dataset/Train',\n",
        "            target_size=(IMG_SIZE, IMG_SIZE),\n",
        "            batch_size=TRAIN_BATCH_SIZE,\n",
        "            class_mode='categorical')\n",
        "    \n",
        "   \n",
        "    validation_generator = data_generator_with_aug.flow_from_directory(\n",
        "            '/content/drive/MyDrive/fragile/Classification/sign_dataset/Test',\n",
        "            target_size=(IMG_SIZE, IMG_SIZE),\n",
        "            batch_size=TEST_BATCH_SIZE,\n",
        "            shuffle = False,\n",
        "            class_mode='categorical')\n",
        "    \n",
        "        \n",
        "    #y_train = get_labels(train_generator)\n",
        "    #weights = class_weight.compute_class_weight('balanced',np.unique(y_train), y_train)\n",
        "    #dict_weights = { i: weights[i] for i in range(len(weights)) }\n",
        "       \n",
        "    H = model.fit(\n",
        "            train_generator,\n",
        "            steps_per_epoch=train_generator.n/TRAIN_BATCH_SIZE,\n",
        "            epochs=NUM_EPOCHS,\n",
        "            validation_data=validation_generator,\n",
        "            validation_steps = 1 \n",
        "            #,\n",
        "            #class_weight=dict_weights\n",
        "                )\n",
        "    \n",
        "    plot_history( H, NUM_EPOCHS )\n",
        "    \n",
        "    return model, train_generator,validation_generator"
      ],
      "execution_count": 5,
      "outputs": []
    },
    {
      "cell_type": "code",
      "metadata": {
        "id": "V6anMevUpB7k"
      },
      "source": [
        "def get_label_dict(train_generator ):\n",
        "# Get label to class_id mapping\n",
        "    labels = (train_generator.class_indices)\n",
        "    label_dict = dict((v,k) for k,v in labels.items())\n",
        "    return  label_dict   "
      ],
      "execution_count": 6,
      "outputs": []
    },
    {
      "cell_type": "code",
      "metadata": {
        "id": "8plvW7aYpGXn"
      },
      "source": [
        "def get_labels( generator ):\n",
        "    generator.reset()\n",
        "    labels = []\n",
        "    for i in range(len(generator)):\n",
        "        labels.extend(np.array(generator[i][1]) )\n",
        "    return np.argmax(labels, axis =1)"
      ],
      "execution_count": 7,
      "outputs": []
    },
    {
      "cell_type": "code",
      "metadata": {
        "id": "_Yn0xl2qpHyI"
      },
      "source": [
        "def get_pred_labels( test_generator):\n",
        "    test_generator.reset()\n",
        "    pred_vec=model.predict_generator(test_generator,\n",
        "                                     steps=test_generator.n, #test_generator.batch_size\n",
        "                                     verbose=1)\n",
        "    return np.argmax( pred_vec, axis = 1), np.max(pred_vec, axis = 1)"
      ],
      "execution_count": 8,
      "outputs": []
    },
    {
      "cell_type": "code",
      "metadata": {
        "id": "CEyRoMZepNE5"
      },
      "source": [
        "def plot_history( H, NUM_EPOCHS ):\n",
        "    plt.style.use(\"ggplot\")\n",
        "    fig = plt.figure()\n",
        "    fig.set_size_inches(15, 5)\n",
        "    \n",
        "    fig.add_subplot(1, 3, 1)\n",
        "    plt.plot(np.arange(0, NUM_EPOCHS), H.history[\"loss\"], label=\"train_loss\")\n",
        "    plt.plot(np.arange(0, NUM_EPOCHS), H.history[\"val_loss\"], label=\"val_loss\")\n",
        "    plt.title(\"Training Loss and Validation Loss on Dataset\")\n",
        "    plt.xlabel(\"Epoch #\")\n",
        "    plt.ylabel(\"Loss\")\n",
        "    plt.legend(loc=\"lower left\")\n",
        "\n",
        "    \n",
        "    fig.add_subplot(1, 3, 2)\n",
        "    plt.plot(np.arange(0, NUM_EPOCHS), H.history[\"loss\"], label=\"train_loss\")\n",
        "    plt.plot(np.arange(0, NUM_EPOCHS), H.history[\"accuracy\"], label=\"train_accuracy\")\n",
        "    plt.title(\"Training Loss and Accuracy on Dataset\")\n",
        "    plt.xlabel(\"Epoch #\")\n",
        "    plt.ylabel(\"Loss/Accuracy\")\n",
        "    plt.legend(loc=\"lower left\")\n",
        "    \n",
        "    fig.add_subplot(1, 3, 3)\n",
        "    plt.plot(np.arange(0, NUM_EPOCHS), H.history[\"val_loss\"], label=\"val_loss\")\n",
        "    plt.plot(np.arange(0, NUM_EPOCHS), H.history[\"val_accuracy\"], label=\"val_accuracy\")\n",
        "    plt.title(\"Validation Loss and Accuracy on Dataset\")\n",
        "    plt.xlabel(\"Epoch #\")\n",
        "    plt.ylabel(\"Loss/Accuracy\")\n",
        "    plt.legend(loc=\"lower left\")\n",
        "\n",
        "\n",
        "    plt.show()"
      ],
      "execution_count": 9,
      "outputs": []
    },
    {
      "cell_type": "code",
      "metadata": {
        "id": "1fwwknDmpVz1"
      },
      "source": [
        "def draw_prediction( frame, class_string ):\n",
        "    x_start = frame.shape[1]- 600 # 위치\n",
        "    cv2.putText(frame, class_string, (10,50), cv2.FONT_HERSHEY_SIMPLEX, 1, (255, 0, 0), 2, cv2.LINE_AA)\n",
        "    return frame"
      ],
      "execution_count": 10,
      "outputs": []
    },
    {
      "cell_type": "code",
      "metadata": {
        "id": "qEw6aM4QpXPY"
      },
      "source": [
        "def prepare_image_for_prediction( img):\n",
        "   \n",
        "    # convert 3D tensor to 4D tensor with shape (1, 224, 224, 3) and return 4D tensor\n",
        "    # The below function inserts an additional dimension at the axis position provided\n",
        "    img = np.expand_dims(img, axis=0)\n",
        "    # perform pre-processing that was done when resnet model was trained.\n",
        "    return preprocess_input(img)"
      ],
      "execution_count": 11,
      "outputs": []
    },
    {
      "cell_type": "code",
      "metadata": {
        "id": "q_8-FX-MpcC5"
      },
      "source": [
        "def get_display_string(pred_class, label_dict):\n",
        "    txt = \"\"\n",
        "    for c, confidence in pred_class:\n",
        "        print(c)\n",
        "        print(confidence)\n",
        "        txt += label_dict[c]\n",
        "        txt += '['+ str(confidence) +']'\n",
        "    return txt\n",
        "    # txt = neutral[0.38]"
      ],
      "execution_count": 12,
      "outputs": []
    },
    {
      "cell_type": "code",
      "metadata": {
        "id": "Z07neuLupek3"
      },
      "source": [
        "def predict(  model, video_path, filename, label_dict ):\n",
        "    \n",
        "    vs = cv2.VideoCapture(video_path)\n",
        "    fps = math.floor(vs.get(cv2.CAP_PROP_FPS))\n",
        "    ret_val = True\n",
        "    writer = 0\n",
        "    \n",
        "    while True:\n",
        "        ret_val, frame = vs.read()\n",
        "        if not ret_val:\n",
        "            break\n",
        "       \n",
        "        resized_frame = cv2.resize(frame, (IMG_SIZE, IMG_SIZE))\n",
        "        frame_for_pred = prepare_image_for_prediction( resized_frame )\n",
        "        pred_vec = model.predict(frame_for_pred)\n",
        "        print('pred_vec')\n",
        "        print(pred_vec)\n",
        "        pred_class =[]\n",
        "        confidence = np.round(pred_vec.max(),2) \n",
        "        \n",
        "        pc = pred_vec.argmax()\n",
        "        pred_class.append( (pc, confidence) )\n",
        "\n",
        "        if pred_class:\n",
        "            txt = get_display_string(pred_class, label_dict)\n",
        "            print('최종txt' +txt)       \n",
        "            frame = draw_prediction( frame, txt )\n",
        "            #print('pred_class')\n",
        "            #print(pred_class)\n",
        "            #print('label_dict')\n",
        "            #print(label_dict)\n",
        "        if not writer:\n",
        "            fourcc = cv2.VideoWriter_fourcc(*\"XVID\")\n",
        "            writer = cv2.VideoWriter(filename, fourcc, fps,(frame.shape[1], frame.shape[0]), True)\n",
        "        writer.write(frame)\n",
        "        \n",
        "    vs.release()\n",
        "    writer.release()"
      ],
      "execution_count": 13,
      "outputs": []
    },
    {
      "cell_type": "code",
      "metadata": {
        "colab": {
          "base_uri": "https://localhost:8080/"
        },
        "id": "mV82B4WEq0sa",
        "outputId": "318b94f6-2c3f-4d2b-c214-0d12bcaac508"
      },
      "source": [
        "model = create_model()\n",
        "model.summary()"
      ],
      "execution_count": 14,
      "outputs": [
        {
          "output_type": "stream",
          "text": [
            "Model: \"sequential\"\n",
            "_________________________________________________________________\n",
            "Layer (type)                 Output Shape              Param #   \n",
            "=================================================================\n",
            "resnet50 (Functional)        (None, 2048)              23587712  \n",
            "_________________________________________________________________\n",
            "dense (Dense)                (None, 2)                 4098      \n",
            "=================================================================\n",
            "Total params: 23,591,810\n",
            "Trainable params: 23,538,690\n",
            "Non-trainable params: 53,120\n",
            "_________________________________________________________________\n"
          ],
          "name": "stdout"
        }
      ]
    },
    {
      "cell_type": "code",
      "metadata": {
        "colab": {
          "base_uri": "https://localhost:8080/",
          "height": 1000
        },
        "id": "x6w80-rCp3oS",
        "outputId": "6678c20c-3f68-4bcb-e81d-756f2984e58b"
      },
      "source": [
        "trained_model,train_generator,validation_generator = train_model(model)\n",
        "label_dict= get_label_dict(train_generator)\n",
        "#model.compile(optimizer=opt, loss='categorical_crossentropy', metrics=['accuracy'])\n",
        "#model.save('/content/drive/MyDrive/Caba2012_colab/Fire_dt/models/resnet.h5')"
      ],
      "execution_count": 15,
      "outputs": [
        {
          "output_type": "stream",
          "text": [
            "Found 1196 images belonging to 2 classes.\n",
            "Found 325 images belonging to 2 classes.\n",
            "Epoch 1/20\n",
            "15/15 [==============================] - 381s 23s/step - loss: 1.9852 - accuracy: 0.5234 - val_loss: 0.0000e+00 - val_accuracy: 1.0000\n",
            "Epoch 2/20\n",
            "15/15 [==============================] - 14s 925ms/step - loss: 0.6310 - accuracy: 0.6547 - val_loss: 0.0000e+00 - val_accuracy: 1.0000\n",
            "Epoch 3/20\n",
            "15/15 [==============================] - 14s 885ms/step - loss: 0.5319 - accuracy: 0.7617 - val_loss: 1.1781 - val_accuracy: 0.0000e+00\n",
            "Epoch 4/20\n",
            "15/15 [==============================] - 14s 899ms/step - loss: 0.3401 - accuracy: 0.8428 - val_loss: 0.1062 - val_accuracy: 1.0000\n",
            "Epoch 5/20\n",
            "15/15 [==============================] - 14s 890ms/step - loss: 0.2279 - accuracy: 0.9147 - val_loss: 0.4296 - val_accuracy: 1.0000\n",
            "Epoch 6/20\n",
            "15/15 [==============================] - 14s 881ms/step - loss: 0.2496 - accuracy: 0.9147 - val_loss: 0.0628 - val_accuracy: 1.0000\n",
            "Epoch 7/20\n",
            "15/15 [==============================] - 14s 913ms/step - loss: 0.2255 - accuracy: 0.9264 - val_loss: 0.0239 - val_accuracy: 1.0000\n",
            "Epoch 8/20\n",
            "15/15 [==============================] - 14s 885ms/step - loss: 0.1651 - accuracy: 0.9431 - val_loss: 0.0318 - val_accuracy: 1.0000\n",
            "Epoch 9/20\n",
            "15/15 [==============================] - 14s 893ms/step - loss: 0.1534 - accuracy: 0.9398 - val_loss: 0.0248 - val_accuracy: 1.0000\n",
            "Epoch 10/20\n",
            "15/15 [==============================] - 14s 892ms/step - loss: 0.1585 - accuracy: 0.9348 - val_loss: 6.8653e-04 - val_accuracy: 1.0000\n",
            "Epoch 11/20\n",
            "15/15 [==============================] - 14s 900ms/step - loss: 0.2392 - accuracy: 0.9055 - val_loss: 0.0023 - val_accuracy: 1.0000\n",
            "Epoch 12/20\n",
            "15/15 [==============================] - 14s 902ms/step - loss: 0.1519 - accuracy: 0.9440 - val_loss: 0.0740 - val_accuracy: 1.0000\n",
            "Epoch 13/20\n",
            "15/15 [==============================] - 14s 875ms/step - loss: 0.1569 - accuracy: 0.9256 - val_loss: 0.0377 - val_accuracy: 1.0000\n",
            "Epoch 14/20\n",
            "15/15 [==============================] - 14s 898ms/step - loss: 0.1043 - accuracy: 0.9540 - val_loss: 0.0028 - val_accuracy: 1.0000\n",
            "Epoch 15/20\n",
            "15/15 [==============================] - 14s 898ms/step - loss: 0.1110 - accuracy: 0.9532 - val_loss: 0.0025 - val_accuracy: 1.0000\n",
            "Epoch 16/20\n",
            "15/15 [==============================] - 14s 930ms/step - loss: 0.1017 - accuracy: 0.9599 - val_loss: 0.0021 - val_accuracy: 1.0000\n",
            "Epoch 17/20\n",
            "15/15 [==============================] - 14s 892ms/step - loss: 0.0960 - accuracy: 0.9615 - val_loss: 0.0033 - val_accuracy: 1.0000\n",
            "Epoch 18/20\n",
            "15/15 [==============================] - 14s 890ms/step - loss: 0.0765 - accuracy: 0.9682 - val_loss: 0.0093 - val_accuracy: 1.0000\n",
            "Epoch 19/20\n",
            "15/15 [==============================] - 14s 896ms/step - loss: 0.1107 - accuracy: 0.9557 - val_loss: 4.0531e-06 - val_accuracy: 1.0000\n",
            "Epoch 20/20\n",
            "15/15 [==============================] - 14s 904ms/step - loss: 0.0966 - accuracy: 0.9657 - val_loss: 3.5763e-06 - val_accuracy: 1.0000\n"
          ],
          "name": "stdout"
        },
        {
          "output_type": "display_data",
          "data": {
            "image/png": "[encoded data removed]",
            "text/plain": [
              "<Figure size 1080x360 with 3 Axes>"
            ]
          },
          "metadata": {
            "tags": []
          }
        }
      ]
    },
    {
      "cell_type": "code",
      "metadata": {
        "id": "x5DMOwKzMlHe",
        "colab": {
          "base_uri": "https://localhost:8080/"
        },
        "outputId": "d8f899ee-be37-4be5-dcbd-a81ebc442455"
      },
      "source": [
        "model.compile(optimizer=opt, loss='categorical_crossentropy', metrics=['accuracy'])\n",
        "model.save('/content/drive/MyDrive/fragile/Classification/0712up_fragile_resnet.h5')"
      ],
      "execution_count": 16,
      "outputs": [
        {
          "output_type": "stream",
          "text": [
            "/usr/local/lib/python3.7/dist-packages/tensorflow/python/keras/utils/generic_utils.py:497: CustomMaskWarning: Custom mask layers require a config and must override get_config. When loading, the custom mask layer must be passed to the custom_objects argument.\n",
            "  category=CustomMaskWarning)\n"
          ],
          "name": "stderr"
        }
      ]
    },
    {
      "cell_type": "code",
      "metadata": {
        "id": "vcP6UIZaphgc",
        "colab": {
          "base_uri": "https://localhost:8080/"
        },
        "outputId": "199ac259-74b9-4447-b59b-177fa3a84813"
      },
      "source": [
        "%cd  '/content/drive/MyDrive/fragile/test_result'\n",
        "\n",
        "video_path = '/content/drive/MyDrive/fragile/test_result/fragile_test_video.mp4'\n",
        "predict ( trained_model, video_path, 'fragile_test_video.mp4',  label_dict) "
      ],
      "execution_count": null,
      "outputs": [
        {
          "output_type": "stream",
          "text": [
            "/content/drive/MyDrive/fragile/test_result\n",
            "pred_vec\n",
            "[[1.]]\n",
            "0\n",
            "1.0\n",
            "최종txtFragile[1.0]\n",
            "pred_vec\n",
            "[[1.]]\n",
            "0\n",
            "1.0\n",
            "최종txtFragile[1.0]\n",
            "pred_vec\n",
            "[[1.]]\n",
            "0\n",
            "1.0\n",
            "최종txtFragile[1.0]\n",
            "pred_vec\n",
            "[[1.]]\n",
            "0\n",
            "1.0\n",
            "최종txtFragile[1.0]\n",
            "pred_vec\n",
            "[[1.]]\n",
            "0\n",
            "1.0\n",
            "최종txtFragile[1.0]\n",
            "pred_vec\n",
            "[[1.]]\n",
            "0\n",
            "1.0\n",
            "최종txtFragile[1.0]\n",
            "pred_vec\n",
            "[[1.]]\n",
            "0\n",
            "1.0\n",
            "최종txtFragile[1.0]\n",
            "pred_vec\n",
            "[[1.]]\n",
            "0\n",
            "1.0\n",
            "최종txtFragile[1.0]\n",
            "pred_vec\n",
            "[[1.]]\n",
            "0\n",
            "1.0\n",
            "최종txtFragile[1.0]\n"
          ],
          "name": "stdout"
        }
      ]
    },
    {
      "cell_type": "markdown",
      "metadata": {
        "id": "v2A165WappoN"
      },
      "source": [
        "#test\n"
      ]
    },
    {
      "cell_type": "code",
      "metadata": {
        "id": "vR1cZ6dYh34C"
      },
      "source": [
        "import keras\n",
        "from tensorflow import keras\n",
        "from tensorflow.keras import layers\n",
        "from tensorflow.keras.models import Sequential\n",
        "import pathlib"
      ],
      "execution_count": 17,
      "outputs": []
    },
    {
      "cell_type": "code",
      "metadata": {
        "colab": {
          "base_uri": "https://localhost:8080/"
        },
        "id": "c5PeeSyEi-9a",
        "outputId": "b23e1005-a23e-43ed-ce22-00986ef113ad"
      },
      "source": [
        "%cd /content/drive/MyDrive/fragile/Classification/Fragile_test/fragile_test"
      ],
      "execution_count": 29,
      "outputs": [
        {
          "output_type": "stream",
          "text": [
            "/content/drive/MyDrive/fragile/Classification/Fragile_test/fragile_test\n"
          ],
          "name": "stdout"
        }
      ]
    },
    {
      "cell_type": "code",
      "metadata": {
        "colab": {
          "base_uri": "https://localhost:8080/"
        },
        "id": "l4TyVKGsi5Dr",
        "outputId": "9229c17e-7308-40fa-8615-357094ae2de4"
      },
      "source": [
        "import os\n",
        "test_img_path = '/content/drive/MyDrive/fragile/Classification/Fragile_test/test_2(single)/'\n",
        "file_list = os.listdir(test_img_path)\n",
        "file_list.sort\n",
        "print(len(file_list))\n",
        "list_file=[]\n",
        "for i in file_list:\n",
        "    list_file.append(test_img_path+i)\n",
        "list_file.sort()\n",
        "len(list_file)"
      ],
      "execution_count": 42,
      "outputs": [
        {
          "output_type": "stream",
          "text": [
            "18\n"
          ],
          "name": "stdout"
        },
        {
          "output_type": "execute_result",
          "data": {
            "text/plain": [
              "18"
            ]
          },
          "metadata": {
            "tags": []
          },
          "execution_count": 42
        }
      ]
    },
    {
      "cell_type": "code",
      "metadata": {
        "colab": {
          "base_uri": "https://localhost:8080/"
        },
        "id": "mnQojEm7jrgi",
        "outputId": "e40e127b-3b26-4c1a-c7a4-615da6ec80e2"
      },
      "source": [
        "file_name=[]\n",
        "for i in list_file:\n",
        "    name = i.split(\"/\")[-1]\n",
        "    file_name.append(name)\n",
        "file_name"
      ],
      "execution_count": 43,
      "outputs": [
        {
          "output_type": "execute_result",
          "data": {
            "text/plain": [
              "['dry_1.png',\n",
              " 'fragile_1.png',\n",
              " 'fragile_10.png',\n",
              " 'fragile_2.png',\n",
              " 'fragile_3.png',\n",
              " 'fragile_4.png',\n",
              " 'fragile_5.png',\n",
              " 'fragile_6.png',\n",
              " 'fragile_7.png',\n",
              " 'fragile_8.png',\n",
              " 'fragile_9.png',\n",
              " 'fragile_up_1.png',\n",
              " 'fragile_up_2.png',\n",
              " 'multi_1.png',\n",
              " 'up_1.png',\n",
              " 'up_2.png',\n",
              " 'up_3.png',\n",
              " 'up_4.png']"
            ]
          },
          "metadata": {
            "tags": []
          },
          "execution_count": 43
        }
      ]
    },
    {
      "cell_type": "code",
      "metadata": {
        "id": "IZiT2w4mp1FO"
      },
      "source": [
        "test_df = pd.DataFrame({'file_name':file_name})\n",
        "nbsamples=test_df.shape[0]"
      ],
      "execution_count": 44,
      "outputs": []
    },
    {
      "cell_type": "code",
      "metadata": {
        "colab": {
          "base_uri": "https://localhost:8080/"
        },
        "id": "tGBn5Qp5qBYI",
        "outputId": "6de56ba2-a959-43a8-96db-9cab63317d11"
      },
      "source": [
        "nbsamples"
      ],
      "execution_count": 45,
      "outputs": [
        {
          "output_type": "execute_result",
          "data": {
            "text/plain": [
              "18"
            ]
          },
          "metadata": {
            "tags": []
          },
          "execution_count": 45
        }
      ]
    },
    {
      "cell_type": "code",
      "metadata": {
        "id": "x40BbZSTq0m2"
      },
      "source": [
        "batch_size=15"
      ],
      "execution_count": 46,
      "outputs": []
    },
    {
      "cell_type": "code",
      "metadata": {
        "id": "LFHp78lfrQWI"
      },
      "source": [
        "data_generator_with_aug = ImageDataGenerator(preprocessing_function=preprocess_input,\n",
        "                                width_shift_range=0.1,\n",
        "                                height_shift_range=0.1,\n",
        "                                #sear_range=0.01,\n",
        "                                zoom_range=[0.9, 1.25],\n",
        "                                horizontal_flip=False,\n",
        "                                vertical_flip=False,\n",
        "                                data_format='channels_last',\n",
        "                                brightness_range=[0.5, 1.5])\n",
        "                               "
      ],
      "execution_count": 47,
      "outputs": []
    },
    {
      "cell_type": "code",
      "metadata": {
        "colab": {
          "base_uri": "https://localhost:8080/"
        },
        "id": "u08BA7x_rCuo",
        "outputId": "44abb6d0-b1bc-44ef-d0a0-938e8c7af6aa"
      },
      "source": [
        "test_generator = data_generator_with_aug.flow_from_directory(\n",
        "            '/content/drive/MyDrive/fragile/Classification/Fragile_test/test_2(single)/',\n",
        "            target_size=(IMG_SIZE, IMG_SIZE),\n",
        "            batch_size=TRAIN_BATCH_SIZE,\n",
        "            class_mode='categorical')"
      ],
      "execution_count": 50,
      "outputs": [
        {
          "output_type": "stream",
          "text": [
            "Found 18 images belonging to 1 classes.\n"
          ],
          "name": "stdout"
        }
      ]
    },
    {
      "cell_type": "code",
      "metadata": {
        "id": "epc_vI1csqXv"
      },
      "source": [
        "from keras.callbacks import EarlyStopping, ReduceLROnPlateau\n",
        "\n",
        "earlystop = EarlyStopping(patience=10)\n",
        "learning_rate_reduction=ReduceLROnPlateau(\n",
        "                        monitor= \"val_accuracy\", \n",
        "                        patience = 2, \n",
        "                        factor = 0.5, \n",
        "                        min_lr=0.0001,\n",
        "                        verbose=1)\n",
        "                        \n",
        "callbacks = [earlystop, learning_rate_reduction]"
      ],
      "execution_count": 51,
      "outputs": []
    },
    {
      "cell_type": "code",
      "metadata": {
        "colab": {
          "base_uri": "https://localhost:8080/"
        },
        "id": "Ph2Cb7O6kP-5",
        "outputId": "1f0f4784-9169-4e68-b4fd-978ee04d5ef5"
      },
      "source": [
        "predict=model.predict_generator(test_generator, \n",
        "                                steps=nbsamples/TEST_BATCH_SIZE, \n",
        "                                callbacks=callbacks)\n",
        "                                \n",
        "test_df['category']=np.argmax(predict, axis=1)"
      ],
      "execution_count": 52,
      "outputs": [
        {
          "output_type": "stream",
          "text": [
            "/usr/local/lib/python3.7/dist-packages/tensorflow/python/keras/engine/training.py:2001: UserWarning: `Model.predict_generator` is deprecated and will be removed in a future version. Please use `Model.predict`, which supports generators.\n",
            "  warnings.warn('`Model.predict_generator` is deprecated and '\n"
          ],
          "name": "stderr"
        },
        {
          "output_type": "stream",
          "text": [
            "WARNING:tensorflow:Your input ran out of data; interrupting training. Make sure that your dataset or generator can generate at least `steps_per_epoch * epochs` batches (in this case, 18.0 batches). You may need to use the repeat() function when building your dataset.\n"
          ],
          "name": "stdout"
        }
      ]
    },
    {
      "cell_type": "code",
      "metadata": {
        "colab": {
          "base_uri": "https://localhost:8080/",
          "height": 80
        },
        "id": "JZP5zbbakLBB",
        "outputId": "e0514d75-9982-4b6c-b438-c118826a6e86"
      },
      "source": [
        "test_df['category']=test_df['category'].replace({0:'fragile',1:\"up\"})\n",
        "ex_df=test_df.sample(n=1).reset_index(drop=True)\n",
        "ex_df"
      ],
      "execution_count": 53,
      "outputs": [
        {
          "output_type": "execute_result",
          "data": {
            "text/html": [
              "<div>\n",
              "<style scoped>\n",
              "    .dataframe tbody tr th:only-of-type {\n",
              "        vertical-align: middle;\n",
              "    }\n",
              "\n",
              "    .dataframe tbody tr th {\n",
              "        vertical-align: top;\n",
              "    }\n",
              "\n",
              "    .dataframe thead th {\n",
              "        text-align: right;\n",
              "    }\n",
              "</style>\n",
              "<table border=\"1\" class=\"dataframe\">\n",
              "  <thead>\n",
              "    <tr style=\"text-align: right;\">\n",
              "      <th></th>\n",
              "      <th>file_name</th>\n",
              "      <th>category</th>\n",
              "    </tr>\n",
              "  </thead>\n",
              "  <tbody>\n",
              "    <tr>\n",
              "      <th>0</th>\n",
              "      <td>fragile_7.png</td>\n",
              "      <td>up</td>\n",
              "    </tr>\n",
              "  </tbody>\n",
              "</table>\n",
              "</div>"
            ],
            "text/plain": [
              "       file_name category\n",
              "0  fragile_7.png       up"
            ]
          },
          "metadata": {
            "tags": []
          },
          "execution_count": 53
        }
      ]
    },
    {
      "cell_type": "code",
      "metadata": {
        "colab": {
          "base_uri": "https://localhost:8080/",
          "height": 607
        },
        "id": "kKaTI7d9QSgA",
        "outputId": "436e57b4-b3db-46c0-aa67-f120bd822ece"
      },
      "source": [
        "test_df"
      ],
      "execution_count": 54,
      "outputs": [
        {
          "output_type": "execute_result",
          "data": {
            "text/html": [
              "<div>\n",
              "<style scoped>\n",
              "    .dataframe tbody tr th:only-of-type {\n",
              "        vertical-align: middle;\n",
              "    }\n",
              "\n",
              "    .dataframe tbody tr th {\n",
              "        vertical-align: top;\n",
              "    }\n",
              "\n",
              "    .dataframe thead th {\n",
              "        text-align: right;\n",
              "    }\n",
              "</style>\n",
              "<table border=\"1\" class=\"dataframe\">\n",
              "  <thead>\n",
              "    <tr style=\"text-align: right;\">\n",
              "      <th></th>\n",
              "      <th>file_name</th>\n",
              "      <th>category</th>\n",
              "    </tr>\n",
              "  </thead>\n",
              "  <tbody>\n",
              "    <tr>\n",
              "      <th>0</th>\n",
              "      <td>dry_1.png</td>\n",
              "      <td>up</td>\n",
              "    </tr>\n",
              "    <tr>\n",
              "      <th>1</th>\n",
              "      <td>fragile_1.png</td>\n",
              "      <td>fragile</td>\n",
              "    </tr>\n",
              "    <tr>\n",
              "      <th>2</th>\n",
              "      <td>fragile_10.png</td>\n",
              "      <td>fragile</td>\n",
              "    </tr>\n",
              "    <tr>\n",
              "      <th>3</th>\n",
              "      <td>fragile_2.png</td>\n",
              "      <td>fragile</td>\n",
              "    </tr>\n",
              "    <tr>\n",
              "      <th>4</th>\n",
              "      <td>fragile_3.png</td>\n",
              "      <td>fragile</td>\n",
              "    </tr>\n",
              "    <tr>\n",
              "      <th>5</th>\n",
              "      <td>fragile_4.png</td>\n",
              "      <td>fragile</td>\n",
              "    </tr>\n",
              "    <tr>\n",
              "      <th>6</th>\n",
              "      <td>fragile_5.png</td>\n",
              "      <td>fragile</td>\n",
              "    </tr>\n",
              "    <tr>\n",
              "      <th>7</th>\n",
              "      <td>fragile_6.png</td>\n",
              "      <td>up</td>\n",
              "    </tr>\n",
              "    <tr>\n",
              "      <th>8</th>\n",
              "      <td>fragile_7.png</td>\n",
              "      <td>up</td>\n",
              "    </tr>\n",
              "    <tr>\n",
              "      <th>9</th>\n",
              "      <td>fragile_8.png</td>\n",
              "      <td>up</td>\n",
              "    </tr>\n",
              "    <tr>\n",
              "      <th>10</th>\n",
              "      <td>fragile_9.png</td>\n",
              "      <td>up</td>\n",
              "    </tr>\n",
              "    <tr>\n",
              "      <th>11</th>\n",
              "      <td>fragile_up_1.png</td>\n",
              "      <td>fragile</td>\n",
              "    </tr>\n",
              "    <tr>\n",
              "      <th>12</th>\n",
              "      <td>fragile_up_2.png</td>\n",
              "      <td>up</td>\n",
              "    </tr>\n",
              "    <tr>\n",
              "      <th>13</th>\n",
              "      <td>multi_1.png</td>\n",
              "      <td>fragile</td>\n",
              "    </tr>\n",
              "    <tr>\n",
              "      <th>14</th>\n",
              "      <td>up_1.png</td>\n",
              "      <td>up</td>\n",
              "    </tr>\n",
              "    <tr>\n",
              "      <th>15</th>\n",
              "      <td>up_2.png</td>\n",
              "      <td>fragile</td>\n",
              "    </tr>\n",
              "    <tr>\n",
              "      <th>16</th>\n",
              "      <td>up_3.png</td>\n",
              "      <td>fragile</td>\n",
              "    </tr>\n",
              "    <tr>\n",
              "      <th>17</th>\n",
              "      <td>up_4.png</td>\n",
              "      <td>fragile</td>\n",
              "    </tr>\n",
              "  </tbody>\n",
              "</table>\n",
              "</div>"
            ],
            "text/plain": [
              "           file_name category\n",
              "0          dry_1.png       up\n",
              "1      fragile_1.png  fragile\n",
              "2     fragile_10.png  fragile\n",
              "3      fragile_2.png  fragile\n",
              "4      fragile_3.png  fragile\n",
              "5      fragile_4.png  fragile\n",
              "6      fragile_5.png  fragile\n",
              "7      fragile_6.png       up\n",
              "8      fragile_7.png       up\n",
              "9      fragile_8.png       up\n",
              "10     fragile_9.png       up\n",
              "11  fragile_up_1.png  fragile\n",
              "12  fragile_up_2.png       up\n",
              "13       multi_1.png  fragile\n",
              "14          up_1.png       up\n",
              "15          up_2.png  fragile\n",
              "16          up_3.png  fragile\n",
              "17          up_4.png  fragile"
            ]
          },
          "metadata": {
            "tags": []
          },
          "execution_count": 54
        }
      ]
    },
    {
      "cell_type": "code",
      "metadata": {
        "colab": {
          "base_uri": "https://localhost:8080/"
        },
        "id": "izA1mT2Oka6B",
        "outputId": "7d15b229-b759-40a0-adc7-30556efc9346"
      },
      "source": [
        "test_df.category.value_counts()"
      ],
      "execution_count": 55,
      "outputs": [
        {
          "output_type": "execute_result",
          "data": {
            "text/plain": [
              "fragile    11\n",
              "up          7\n",
              "Name: category, dtype: int64"
            ]
          },
          "metadata": {
            "tags": []
          },
          "execution_count": 55
        }
      ]
    }
  ]
}