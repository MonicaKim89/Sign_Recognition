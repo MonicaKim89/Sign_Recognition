{
 "cells": [
  {
   "cell_type": "code",
   "execution_count": 11,
   "id": "0b337e8d",
   "metadata": {},
   "outputs": [
    {
     "name": "stdout",
     "output_type": "stream",
     "text": [
      "C:\\Users\\yukir\\Documents\\GitHub\\sign_detection\\py\n"
     ]
    }
   ],
   "source": [
    "%cd C:\\Users\\yukir\\Documents\\GitHub\\sign_detection\\py"
   ]
  },
  {
   "cell_type": "code",
   "execution_count": 12,
   "id": "788a4849",
   "metadata": {},
   "outputs": [
    {
     "name": "stdout",
     "output_type": "stream",
     "text": [
      "[name: \"/device:CPU:0\"\n",
      "device_type: \"CPU\"\n",
      "memory_limit: 268435456\n",
      "locality {\n",
      "}\n",
      "incarnation: 17889051713916325472\n",
      ", name: \"/device:XLA_CPU:0\"\n",
      "device_type: \"XLA_CPU\"\n",
      "memory_limit: 17179869184\n",
      "locality {\n",
      "}\n",
      "incarnation: 9050893924874223095\n",
      "physical_device_desc: \"device: XLA_CPU device\"\n",
      ", name: \"/device:GPU:0\"\n",
      "device_type: \"GPU\"\n",
      "memory_limit: 9883535296\n",
      "locality {\n",
      "  bus_id: 1\n",
      "  links {\n",
      "  }\n",
      "}\n",
      "incarnation: 5729652249830952565\n",
      "physical_device_desc: \"device: 0, name: NVIDIA GeForce RTX 2080 Ti, pci bus id: 0000:01:00.0, compute capability: 7.5\"\n",
      ", name: \"/device:XLA_GPU:0\"\n",
      "device_type: \"XLA_GPU\"\n",
      "memory_limit: 17179869184\n",
      "locality {\n",
      "}\n",
      "incarnation: 1525131871410354934\n",
      "physical_device_desc: \"device: XLA_GPU device\"\n",
      "]\n"
     ]
    }
   ],
   "source": [
    "from basic_preprocessing import *\n",
    "from deeplearning_check import *\n",
    "\n",
    "gpu_check()"
   ]
  },
  {
   "cell_type": "markdown",
   "id": "0b8b7d8c",
   "metadata": {},
   "source": [
    "#### basic model"
   ]
  },
  {
   "cell_type": "code",
   "execution_count": 13,
   "id": "53f3f0de",
   "metadata": {},
   "outputs": [
    {
     "name": "stdout",
     "output_type": "stream",
     "text": [
      "C:\\Users\\yukir\\Documents\\Monicas_workspace\\Datasets\\0804\\SIGN\\output\\output\n"
     ]
    }
   ],
   "source": [
    "%cd C:\\Users\\yukir\\Documents\\Monicas_workspace\\Datasets\\0804\\SIGN\\output\\output"
   ]
  },
  {
   "cell_type": "code",
   "execution_count": 14,
   "id": "c298db29",
   "metadata": {},
   "outputs": [],
   "source": [
    "train_dir = \"train\"\n",
    "test_dir = \"test\"\n",
    "val_dir = \"val\""
   ]
  },
  {
   "cell_type": "code",
   "execution_count": 15,
   "id": "b9b05c8f",
   "metadata": {},
   "outputs": [],
   "source": [
    "train_datagen = ImageDataGenerator(rescale=1./255)\n",
    "val_datagen = ImageDataGenerator(rescale=1./255)\n",
    "test_datagen = ImageDataGenerator(rescale=1./255)"
   ]
  },
  {
   "cell_type": "code",
   "execution_count": 16,
   "id": "59e896ca",
   "metadata": {},
   "outputs": [
    {
     "name": "stdout",
     "output_type": "stream",
     "text": [
      "Found 110 images belonging to 2 classes.\n",
      "Found 13 images belonging to 2 classes.\n",
      "Found 16 images belonging to 2 classes.\n"
     ]
    }
   ],
   "source": [
    "from keras import Input\n",
    "train_generator = train_datagen.flow_from_directory(train_dir, batch_size=16, target_size=(100,100), color_mode='rgb')\n",
    "val_generator = val_datagen.flow_from_directory(val_dir, batch_size=16, target_size=(100, 100), color_mode='rgb')\n",
    "test_generator = test_datagen.flow_from_directory(test_dir,batch_size=16, target_size=(100, 100), color_mode='rgb')\n",
    "\n",
    "input_tensor = Input(shape=(100, 100, 3), dtype='float32', name='input')"
   ]
  },
  {
   "cell_type": "raw",
   "id": "dfa7585c",
   "metadata": {},
   "source": [
    "https://eremo2002.tistory.com/57"
   ]
  },
  {
   "cell_type": "code",
   "execution_count": 17,
   "id": "53aeabd3",
   "metadata": {},
   "outputs": [],
   "source": [
    "def create_model():\n",
    "    pre_trained_vgg = VGG16(weights='imagenet', include_top=False, input_shape=(100, 100, 3))\n",
    "    #include_top FC 레이어 포함유무 결정\n",
    "    #feature extraction 파라미터들은 이미지넷으로 학습된 값들을 그대로 사용할 것이기 때문에 trainable의 속성을 False\n",
    "    pre_trained_vgg.trainable = False\n",
    "    additional_model = models.Sequential()\n",
    "    additional_model.add(pre_trained_vgg)\n",
    "    additional_model.add(layers.Flatten())\n",
    "    additional_model.add(layers.Dense(4096, activation='relu'))\n",
    "    additional_model.add(layers.Dense(2048, activation='relu'))\n",
    "    additional_model.add(layers.Dense(1024, activation='relu'))\n",
    "    additional_model.add(layers.Dense(2, activation='softmax'))\n",
    "\n",
    "    additional_model.compile(loss='categorical_crossentropy', optimizer=optimizers.RMSprop(lr=2e-5), metrics=['acc'])\n",
    "\n",
    "    \n",
    "    return additional_model"
   ]
  },
  {
   "cell_type": "code",
   "execution_count": 18,
   "id": "997308d2",
   "metadata": {},
   "outputs": [
    {
     "name": "stdout",
     "output_type": "stream",
     "text": [
      "Model: \"sequential_1\"\n",
      "_________________________________________________________________\n",
      "Layer (type)                 Output Shape              Param #   \n",
      "=================================================================\n",
      "vgg16 (Model)                (None, 3, 3, 512)         14714688  \n",
      "_________________________________________________________________\n",
      "flatten_1 (Flatten)          (None, 4608)              0         \n",
      "_________________________________________________________________\n",
      "dense_4 (Dense)              (None, 4096)              18878464  \n",
      "_________________________________________________________________\n",
      "dense_5 (Dense)              (None, 2048)              8390656   \n",
      "_________________________________________________________________\n",
      "dense_6 (Dense)              (None, 1024)              2098176   \n",
      "_________________________________________________________________\n",
      "dense_7 (Dense)              (None, 2)                 2050      \n",
      "=================================================================\n",
      "Total params: 44,084,034\n",
      "Trainable params: 29,369,346\n",
      "Non-trainable params: 14,714,688\n",
      "_________________________________________________________________\n"
     ]
    }
   ],
   "source": [
    "# 모델 실행 옵션 \n",
    "model = create_model()\n",
    "model.summary()"
   ]
  },
  {
   "cell_type": "raw",
   "id": "0b18e0d5",
   "metadata": {},
   "source": [
    "콜백 checkpoint를 사용하여 모델과 파라미터를 저장한다.\n",
    "나는 save_best_only를 통해 가장 최선의 결과가 나온 웨이트 값만 over write되어 저장할 수 있게 하였다.\n",
    "best 값의 판단 기준은 monitor와 mode를 통해 이전보다 loss가 가장 적을 때만 저장하도록 하였다.\n",
    "또한 steps_per_epoch, validation_steps은 train, validation data의 개수와 batch_size에 따라 설정되도록 수정하였다."
   ]
  },
  {
   "cell_type": "code",
   "execution_count": 19,
   "id": "0bd35716",
   "metadata": {},
   "outputs": [],
   "source": [
    "checkpoint_path = \"training_2/cp.ckpt\"\n",
    "checkpoint_dir = os.path.dirname(checkpoint_path)"
   ]
  },
  {
   "cell_type": "code",
   "execution_count": 20,
   "id": "2cc6c346",
   "metadata": {},
   "outputs": [
    {
     "name": "stdout",
     "output_type": "stream",
     "text": [
      "WARNING:tensorflow:From C:\\Users\\yukir\\AppData\\Local\\Temp/ipykernel_18036/3975870180.py:10: Model.fit_generator (from tensorflow.python.keras.engine.training) is deprecated and will be removed in a future version.\n",
      "Instructions for updating:\n",
      "Please use Model.fit, which supports generators.\n",
      "Epoch 1/10\n",
      "7/7 [==============================] - ETA: 0s - loss: 0.7764 - acc: 0.5455\n",
      "Epoch 00001: loss improved from inf to 0.77644, saving model to training_2/cp.ckpt\n",
      "7/7 [==============================] - 2s 300ms/step - loss: 0.7764 - acc: 0.5455 - val_loss: 0.5772 - val_acc: 0.7692\n",
      "Epoch 2/10\n",
      "5/7 [====================>.........] - ETA: 0s - loss: 0.4674 - acc: 0.7625\n",
      "Epoch 00002: loss improved from 0.77644 to 0.46544, saving model to training_2/cp.ckpt\n",
      "7/7 [==============================] - 1s 193ms/step - loss: 0.4654 - acc: 0.7909 - val_loss: 0.4894 - val_acc: 0.8462\n",
      "Epoch 3/10\n",
      "5/7 [====================>.........] - ETA: 0s - loss: 0.3475 - acc: 0.9125\n",
      "Epoch 00003: loss improved from 0.46544 to 0.36625, saving model to training_2/cp.ckpt\n",
      "7/7 [==============================] - 1s 194ms/step - loss: 0.3663 - acc: 0.8818 - val_loss: 0.4729 - val_acc: 0.8462\n",
      "Epoch 4/10\n",
      "5/7 [====================>.........] - ETA: 0s - loss: 0.2948 - acc: 0.9250\n",
      "Epoch 00004: loss improved from 0.36625 to 0.30161, saving model to training_2/cp.ckpt\n",
      "7/7 [==============================] - 1s 199ms/step - loss: 0.3016 - acc: 0.9273 - val_loss: 0.4220 - val_acc: 0.8462\n",
      "Epoch 5/10\n",
      "5/7 [====================>.........] - ETA: 0s - loss: 0.2328 - acc: 0.9625\n",
      "Epoch 00005: loss improved from 0.30161 to 0.24347, saving model to training_2/cp.ckpt\n",
      "7/7 [==============================] - 1s 196ms/step - loss: 0.2435 - acc: 0.9455 - val_loss: 0.4896 - val_acc: 0.6923\n",
      "Epoch 6/10\n",
      "5/7 [====================>.........] - ETA: 0s - loss: 0.1915 - acc: 0.9875\n",
      "Epoch 00006: loss improved from 0.24347 to 0.19295, saving model to training_2/cp.ckpt\n",
      "7/7 [==============================] - 1s 196ms/step - loss: 0.1930 - acc: 0.9818 - val_loss: 0.4688 - val_acc: 0.6923\n",
      "Epoch 7/10\n",
      "5/7 [====================>.........] - ETA: 0s - loss: 0.1647 - acc: 0.9625\n",
      "Epoch 00007: loss improved from 0.19295 to 0.15743, saving model to training_2/cp.ckpt\n",
      "7/7 [==============================] - 1s 193ms/step - loss: 0.1574 - acc: 0.9636 - val_loss: 0.3791 - val_acc: 0.9231\n",
      "Epoch 8/10\n",
      "5/7 [====================>.........] - ETA: 0s - loss: 0.1277 - acc: 0.9875\n",
      "Epoch 00008: loss improved from 0.15743 to 0.11958, saving model to training_2/cp.ckpt\n",
      "7/7 [==============================] - 1s 192ms/step - loss: 0.1196 - acc: 0.9909 - val_loss: 0.3816 - val_acc: 0.7692\n",
      "Epoch 9/10\n",
      "6/7 [========================>.....] - ETA: 0s - loss: 0.0977 - acc: 0.9896\n",
      "Epoch 00009: loss improved from 0.11958 to 0.11525, saving model to training_2/cp.ckpt\n",
      "7/7 [==============================] - 1s 192ms/step - loss: 0.1153 - acc: 0.9818 - val_loss: 0.5413 - val_acc: 0.6923\n",
      "Epoch 10/10\n",
      "6/7 [========================>.....] - ETA: 0s - loss: 0.1125 - acc: 0.9896\n",
      "Epoch 00010: loss improved from 0.11525 to 0.10814, saving model to training_2/cp.ckpt\n",
      "7/7 [==============================] - 1s 202ms/step - loss: 0.1081 - acc: 0.9909 - val_loss: 0.3137 - val_acc: 0.9231\n"
     ]
    }
   ],
   "source": [
    "#모델의 가중치 저장\n",
    "checkpoint = ModelCheckpoint(filepath=checkpoint_path,\n",
    "            monitor='loss', \n",
    "            mode='min',\n",
    "            save_best_only=True,\n",
    "            save_weights_only=True,\n",
    "            verbose=1)\n",
    "\n",
    "#새로운 콜백으로 모델 훈련하기\n",
    "history = model.fit_generator(train_generator, \n",
    "            steps_per_epoch=math.ceil(train_generator.n / train_generator.batch_size), \n",
    "            epochs=10, \n",
    "            validation_data=val_generator, \n",
    "            validation_steps=math.ceil(val_generator.n / val_generator.batch_size), \n",
    "            callbacks=[checkpoint],\n",
    "            shuffle=False)"
   ]
  },
  {
   "cell_type": "code",
   "execution_count": 21,
   "id": "f96fc22e",
   "metadata": {},
   "outputs": [
    {
     "data": {
      "image/png": "[encoded data removed]",
      "text/plain": [
       "<Figure size 1080x360 with 2 Axes>"
      ]
     },
     "metadata": {},
     "output_type": "display_data"
    }
   ],
   "source": [
    "acc = history.history['acc']\n",
    "val_acc = history.history['val_acc']\n",
    "\n",
    "loss = history.history['loss']\n",
    "val_loss = history.history['val_loss']\n",
    "\n",
    "epochs = range(1, len(acc) +1)\n",
    "    \n",
    "    \n",
    "\n",
    "fig = plt.figure()\n",
    "fig.set_size_inches(15, 5)\n",
    "\n",
    "fig.add_subplot(1, 2, 1)\n",
    "plt.plot(epochs, acc, 'b', label ='Training acc')\n",
    "plt.plot(epochs, val_acc, 'r', label = 'Validation acc')\n",
    "plt.title('Training and validation accuracy')\n",
    "plt.legend()\n",
    "\n",
    "# plt.figure()\n",
    "fig.add_subplot(1, 2, 2) \n",
    "plt.plot(epochs, loss, 'b', label = \"Training loss\")\n",
    "plt.plot(epochs, val_loss, 'r', label ='Validation loss')\n",
    "plt.title('Training and validation lose')\n",
    "plt.legend()\n",
    "\n",
    "plt.show()"
   ]
  },
  {
   "cell_type": "code",
   "execution_count": 22,
   "id": "0d4d72df",
   "metadata": {},
   "outputs": [
    {
     "name": "stdout",
     "output_type": "stream",
     "text": [
      " C 드라이브의 볼륨에는 이름이 없습니다.\n",
      " 볼륨 일련 번호: 5848-7E5C\n",
      "\n",
      " C:\\Users\\yukir\\Documents\\Monicas_workspace\\Datasets\\0804\\SIGN\\output\\output\\training_2 디렉터리\n",
      "\n",
      "2021-08-06  오전 03:51    <DIR>          .\n",
      "2021-08-06  오전 03:51    <DIR>          ..\n",
      "2021-08-06  오전 03:51                71 checkpoint\n",
      "2021-08-06  오전 03:51             6,681 cp.ckpt.data-00000-of-00002\n",
      "2021-08-06  오전 03:51       293,813,544 cp.ckpt.data-00001-of-00002\n",
      "2021-08-06  오전 03:51             3,476 cp.ckpt.index\n",
      "               4개 파일         293,823,772 바이트\n",
      "               2개 디렉터리  312,108,593,152 바이트 남음\n"
     ]
    }
   ],
   "source": [
    "#맥에서는 !ls\n",
    "#저장된 checkpoint확인하기\n",
    "!dir {checkpoint_dir}"
   ]
  },
  {
   "cell_type": "code",
   "execution_count": 23,
   "id": "c0245056",
   "metadata": {},
   "outputs": [
    {
     "data": {
      "text/plain": [
       "'training_2\\\\cp.ckpt'"
      ]
     },
     "execution_count": 23,
     "metadata": {},
     "output_type": "execute_result"
    }
   ],
   "source": [
    "#가장 마지막에 만들어진 체크포인트 확인\n",
    "latest = tf.train.latest_checkpoint(checkpoint_dir)\n",
    "latest"
   ]
  },
  {
   "cell_type": "code",
   "execution_count": 24,
   "id": "e3f4b7a5",
   "metadata": {},
   "outputs": [
    {
     "name": "stdout",
     "output_type": "stream",
     "text": [
      "1/1 - 0s - loss: 0.7329 - acc: 0.4375\n",
      "훈련되지 않은 모델의 정확도: 43.75%\n"
     ]
    }
   ],
   "source": [
    "# 기본 모델 객체를 만듭니다\n",
    "model = create_model()\n",
    "\n",
    "# 모델을 평가합니다\n",
    "loss, acc = model.evaluate(test_generator, verbose=2)\n",
    "print(\"훈련되지 않은 모델의 정확도: {:5.2f}%\".format(100*acc))"
   ]
  },
  {
   "cell_type": "code",
   "execution_count": 25,
   "id": "5c20d1f8",
   "metadata": {},
   "outputs": [
    {
     "name": "stdout",
     "output_type": "stream",
     "text": [
      "1/1 [==============================] - 0s 1ms/step - loss: 0.3841 - acc: 0.8125\n",
      "복원된 모델의 정확도: 81.25%\n"
     ]
    }
   ],
   "source": [
    "# 가중치 로드\n",
    "model.load_weights(latest)\n",
    "\n",
    "# 모델 재평가\n",
    "loss,acc = model.evaluate(test_generator)\n",
    "print(\"복원된 모델의 정확도: {:5.2f}%\".format(100*acc))"
   ]
  },
  {
   "cell_type": "markdown",
   "id": "71d27f34",
   "metadata": {},
   "source": [
    "#### final model save"
   ]
  },
  {
   "cell_type": "code",
   "execution_count": 28,
   "id": "92134e42",
   "metadata": {},
   "outputs": [
    {
     "name": "stdout",
     "output_type": "stream",
     "text": [
      "Saved model to disk\n"
     ]
    }
   ],
   "source": [
    "model_json = model.to_json()\n",
    "with open(\"[0805](0.812)vgg_new_cb.json\", \"w\") as json_file : \n",
    "    json_file.write(model_json)\n",
    "\n",
    "model.save_weights(\"[0805](0.812)vgg_new_cb.h5\")\n",
    "print(\"Saved model to disk\")"
   ]
  },
  {
   "cell_type": "markdown",
   "id": "ba4bc097",
   "metadata": {},
   "source": [
    "#### confusion matrix"
   ]
  },
  {
   "cell_type": "raw",
   "id": "9335a260",
   "metadata": {},
   "source": [
    "https://datascienceschool.net/03%20machine%20learning/09.04%20%EB%B6%84%EB%A5%98%20%EC%84%B1%EB%8A%A5%ED%8F%89%EA%B0%80.html"
   ]
  },
  {
   "cell_type": "raw",
   "id": "3435a547",
   "metadata": {},
   "source": [
    "https://gist.github.com/RyanAkilos/3808c17f79e77c4117de35aa68447045\n",
    "https://stackoverflow.com/questions/50825936/confusion-matrix-on-images-in-cnn-keras"
   ]
  },
  {
   "cell_type": "raw",
   "id": "f61a9995",
   "metadata": {},
   "source": [
    "keras 에서 predict와 predict_generator가 다른 값을 내는 경우\n",
    "Image data generator는 pil library로 이미지를 불러오는데 이때는 RGB, opencv 는 BGR로 불러옴, opencv로 불러오는 경우는 색상변형필요\n",
    "test_generator.reset()꼭 해줘야함"
   ]
  },
  {
   "cell_type": "code",
   "execution_count": 151,
   "id": "9df25986",
   "metadata": {},
   "outputs": [
    {
     "name": "stdout",
     "output_type": "stream",
     "text": [
      "                 precision    recall  f1-score   support\n",
      "\n",
      "fragile_resized       0.67      0.60      0.63        10\n",
      "     up_resized       0.43      0.50      0.46         6\n",
      "\n",
      "       accuracy                           0.56        16\n",
      "      macro avg       0.55      0.55      0.55        16\n",
      "   weighted avg       0.58      0.56      0.57        16\n",
      "\n",
      "Confusion Matrix\n",
      "[[6 4]\n",
      " [3 3]]\n"
     ]
    }
   ],
   "source": [
    "#confusion matrix\n",
    "\n",
    "print('Confusion Matrix')\n",
    "print(confusion_matrix(test_generator.classes, predicted_classes))\n",
    "\n",
    "\n",
    "\n",
    "# 1.Predict classes\n",
    "test_steps_per_epoch = np.math.ceil(test_generator.samples / test_generator.batch_size)\n",
    "\n",
    "predictions = model.predict_generator(test_generator, steps=test_steps_per_epoch)\n",
    "# Get most likely class\n",
    "predicted_classes = np.argmax(predictions, axis=1)\n",
    "\n",
    "# 2.Get ground-truth classes and class-labels\n",
    "true_classes = test_generator.classes\n",
    "class_labels = list(test_generator.class_indices.keys())   \n",
    "# 3. Use scikit-learn to get statistics\n",
    "report = sklearn.metrics.classification_report(true_classes, predicted_classes, target_names=class_labels)\n",
    "print(report)    "
   ]
  }
 ],
 "metadata": {
  "kernelspec": {
   "display_name": "Python 3 (ipykernel)",
   "language": "python",
   "name": "python3"
  },
  "language_info": {
   "codemirror_mode": {
    "name": "ipython",
    "version": 3
   },
   "file_extension": ".py",
   "mimetype": "text/x-python",
   "name": "python",
   "nbconvert_exporter": "python",
   "pygments_lexer": "ipython3",
   "version": "3.7.0"
  },
  "toc": {
   "base_numbering": 1,
   "nav_menu": {},
   "number_sections": true,
   "sideBar": true,
   "skip_h1_title": false,
   "title_cell": "Table of Contents",
   "title_sidebar": "Contents",
   "toc_cell": false,
   "toc_position": {},
   "toc_section_display": true,
   "toc_window_display": false
  },
  "varInspector": {
   "cols": {
    "lenName": 16,
    "lenType": 16,
    "lenVar": 40
   },
   "kernels_config": {
    "python": {
     "delete_cmd_postfix": "",
     "delete_cmd_prefix": "del ",
     "library": "var_list.py",
     "varRefreshCmd": "print(var_dic_list())"
    },
    "r": {
     "delete_cmd_postfix": ") ",
     "delete_cmd_prefix": "rm(",
     "library": "var_list.r",
     "varRefreshCmd": "cat(var_dic_list()) "
    }
   },
   "types_to_exclude": [
    "module",
    "function",
    "builtin_function_or_method",
    "instance",
    "_Feature"
   ],
   "window_display": false
  }
 },
 "nbformat": 4,
 "nbformat_minor": 5
}
